{
 "cells": [
  {
   "cell_type": "markdown",
   "id": "7fe10be0",
   "metadata": {
    "toc": true
   },
   "source": [
    "<h1>Table of Contents<span class=\"tocSkip\"></span></h1>\n",
    "<div class=\"toc\"><ul class=\"toc-item\"><li><span><a href=\"#Data-load\" data-toc-modified-id=\"Data-load-1\"><span class=\"toc-item-num\">1&nbsp;&nbsp;</span>Data load</a></span><ul class=\"toc-item\"><li><span><a href=\"#data-preprocessing\" data-toc-modified-id=\"data-preprocessing-1.1\"><span class=\"toc-item-num\">1.1&nbsp;&nbsp;</span>data preprocessing</a></span></li></ul></li><li><span><a href=\"#단어장(vocabulary)만들기\" data-toc-modified-id=\"단어장(vocabulary)만들기-2\"><span class=\"toc-item-num\">2&nbsp;&nbsp;</span>단어장(vocabulary)만들기</a></span><ul class=\"toc-item\"><li><span><a href=\"#tokenizing(eng)---input_text\" data-toc-modified-id=\"tokenizing(eng)---input_text-2.1\"><span class=\"toc-item-num\">2.1&nbsp;&nbsp;</span>tokenizing(eng) - input_text</a></span></li><li><span><a href=\"#tokenizing(fra)-target_text\" data-toc-modified-id=\"tokenizing(fra)-target_text-2.2\"><span class=\"toc-item-num\">2.2&nbsp;&nbsp;</span>tokenizing(fra)-target_text</a></span></li><li><span><a href=\"#단어장의-크기를-변수로-저장\" data-toc-modified-id=\"단어장의-크기를-변수로-저장-2.3\"><span class=\"toc-item-num\">2.3&nbsp;&nbsp;</span>단어장의 크기를 변수로 저장</a></span></li><li><span><a href=\"#데이터의-최대-길이\" data-toc-modified-id=\"데이터의-최대-길이-2.4\"><span class=\"toc-item-num\">2.4&nbsp;&nbsp;</span>데이터의 최대 길이</a></span></li><li><span><a href=\"#encoder_input-/-decoder_input-&amp;-_target-:-Teaching-force\" data-toc-modified-id=\"encoder_input-/-decoder_input-&amp;-_target-:-Teaching-force-2.5\"><span class=\"toc-item-num\">2.5&nbsp;&nbsp;</span>encoder_input / decoder_input &amp; _target : Teaching force</a></span></li><li><span><a href=\"#padding-진행\" data-toc-modified-id=\"padding-진행-2.6\"><span class=\"toc-item-num\">2.6&nbsp;&nbsp;</span>padding 진행</a></span></li></ul></li><li><span><a href=\"#Validation-set\" data-toc-modified-id=\"Validation-set-3\"><span class=\"toc-item-num\">3&nbsp;&nbsp;</span>Validation set</a></span></li><li><span><a href=\"#번역기-모델-훈련\" data-toc-modified-id=\"번역기-모델-훈련-4\"><span class=\"toc-item-num\">4&nbsp;&nbsp;</span>번역기 모델 훈련</a></span><ul class=\"toc-item\"><li><span><a href=\"#함수형-API모델-설계\" data-toc-modified-id=\"함수형-API모델-설계-4.1\"><span class=\"toc-item-num\">4.1&nbsp;&nbsp;</span>함수형 API모델 설계</a></span><ul class=\"toc-item\"><li><span><a href=\"#인코더-설계\" data-toc-modified-id=\"인코더-설계-4.1.1\"><span class=\"toc-item-num\">4.1.1&nbsp;&nbsp;</span>인코더 설계</a></span></li><li><span><a href=\"#디코더-입력층-설계\" data-toc-modified-id=\"디코더-입력층-설계-4.1.2\"><span class=\"toc-item-num\">4.1.2&nbsp;&nbsp;</span>디코더 입력층 설계</a></span></li><li><span><a href=\"#디코더-출력층-설계\" data-toc-modified-id=\"디코더-출력층-설계-4.1.3\"><span class=\"toc-item-num\">4.1.3&nbsp;&nbsp;</span>디코더 출력층 설계</a></span></li></ul></li><li><span><a href=\"#모델생성\" data-toc-modified-id=\"모델생성-4.2\"><span class=\"toc-item-num\">4.2&nbsp;&nbsp;</span>모델생성</a></span></li><li><span><a href=\"#모델-훈련\" data-toc-modified-id=\"모델-훈련-4.3\"><span class=\"toc-item-num\">4.3&nbsp;&nbsp;</span>모델 훈련</a></span></li></ul></li><li><span><a href=\"#번역기-테스트\" data-toc-modified-id=\"번역기-테스트-5\"><span class=\"toc-item-num\">5&nbsp;&nbsp;</span>번역기 테스트</a></span><ul class=\"toc-item\"><li><span><a href=\"#디코더-입력층-설계\" data-toc-modified-id=\"디코더-입력층-설계-5.1\"><span class=\"toc-item-num\">5.1&nbsp;&nbsp;</span>디코더 입력층 설계</a></span></li><li><span><a href=\"#디코더-출력층-재설계\" data-toc-modified-id=\"디코더-출력층-재설계-5.2\"><span class=\"toc-item-num\">5.2&nbsp;&nbsp;</span>디코더 출력층 재설계</a></span></li><li><span><a href=\"#디코더의결과를-넣을-사전-생성\" data-toc-modified-id=\"디코더의결과를-넣을-사전-생성-5.3\"><span class=\"toc-item-num\">5.3&nbsp;&nbsp;</span>디코더의결과를 넣을 사전 생성</a></span></li><li><span><a href=\"#예측-과정을-위한-함수-decode_sequence()를-구현\" data-toc-modified-id=\"예측-과정을-위한-함수-decode_sequence()를-구현-5.4\"><span class=\"toc-item-num\">5.4&nbsp;&nbsp;</span>예측 과정을 위한 함수 decode_sequence()를 구현</a></span></li><li><span><a href=\"#출력결과-테스트\" data-toc-modified-id=\"출력결과-테스트-5.5\"><span class=\"toc-item-num\">5.5&nbsp;&nbsp;</span>출력결과 테스트</a></span></li></ul></li><li><span><a href=\"#회고\" data-toc-modified-id=\"회고-6\"><span class=\"toc-item-num\">6&nbsp;&nbsp;</span>회고</a></span></li></ul></div>"
   ]
  },
  {
   "cell_type": "code",
   "execution_count": 1,
   "id": "1de07db1",
   "metadata": {},
   "outputs": [],
   "source": [
    "import re\n",
    "import os\n",
    "import pandas as pd\n",
    "import numpy as np\n",
    "\n",
    "\n",
    "from tensorflow.keras.preprocessing.text import Tokenizer\n",
    "from tensorflow.keras.preprocessing.sequence import pad_sequences\n",
    "from tensorflow.keras.utils import to_categorical\n"
   ]
  },
  {
   "cell_type": "markdown",
   "id": "636efbbf",
   "metadata": {},
   "source": [
    "# Data load"
   ]
  },
  {
   "cell_type": "code",
   "execution_count": 2,
   "id": "e1b70ba8",
   "metadata": {},
   "outputs": [
    {
     "name": "stdout",
     "output_type": "stream",
     "text": [
      "전체 샘플의 수 : 197463\n"
     ]
    },
    {
     "data": {
      "text/html": [
       "<div>\n",
       "<style scoped>\n",
       "    .dataframe tbody tr th:only-of-type {\n",
       "        vertical-align: middle;\n",
       "    }\n",
       "\n",
       "    .dataframe tbody tr th {\n",
       "        vertical-align: top;\n",
       "    }\n",
       "\n",
       "    .dataframe thead th {\n",
       "        text-align: right;\n",
       "    }\n",
       "</style>\n",
       "<table border=\"1\" class=\"dataframe\">\n",
       "  <thead>\n",
       "    <tr style=\"text-align: right;\">\n",
       "      <th></th>\n",
       "      <th>eng</th>\n",
       "      <th>fra</th>\n",
       "      <th>cc</th>\n",
       "    </tr>\n",
       "  </thead>\n",
       "  <tbody>\n",
       "    <tr>\n",
       "      <th>4462</th>\n",
       "      <td>Are you hurt?</td>\n",
       "      <td>Vous êtes-vous blessées ?</td>\n",
       "      <td>CC-BY 2.0 (France) Attribution: tatoeba.org #1...</td>\n",
       "    </tr>\n",
       "    <tr>\n",
       "      <th>13778</th>\n",
       "      <td>He's a freshman.</td>\n",
       "      <td>C'est un bizuth.</td>\n",
       "      <td>CC-BY 2.0 (France) Attribution: tatoeba.org #1...</td>\n",
       "    </tr>\n",
       "    <tr>\n",
       "      <th>16901</th>\n",
       "      <td>What's it about?</td>\n",
       "      <td>De quoi s'agit-il ?</td>\n",
       "      <td>CC-BY 2.0 (France) Attribution: tatoeba.org #1...</td>\n",
       "    </tr>\n",
       "    <tr>\n",
       "      <th>123043</th>\n",
       "      <td>I always wanted to go to Boston.</td>\n",
       "      <td>J'ai toujours voulu aller à Boston.</td>\n",
       "      <td>CC-BY 2.0 (France) Attribution: tatoeba.org #5...</td>\n",
       "    </tr>\n",
       "    <tr>\n",
       "      <th>35466</th>\n",
       "      <td>How are you feeling?</td>\n",
       "      <td>Comment vous sentez-vous ?</td>\n",
       "      <td>CC-BY 2.0 (France) Attribution: tatoeba.org #1...</td>\n",
       "    </tr>\n",
       "  </tbody>\n",
       "</table>\n",
       "</div>"
      ],
      "text/plain": [
       "                                     eng                                  fra  \\\n",
       "4462                       Are you hurt?            Vous êtes-vous blessées ?   \n",
       "13778                   He's a freshman.                     C'est un bizuth.   \n",
       "16901                   What's it about?                  De quoi s'agit-il ?   \n",
       "123043  I always wanted to go to Boston.  J'ai toujours voulu aller à Boston.   \n",
       "35466               How are you feeling?           Comment vous sentez-vous ?   \n",
       "\n",
       "                                                       cc  \n",
       "4462    CC-BY 2.0 (France) Attribution: tatoeba.org #1...  \n",
       "13778   CC-BY 2.0 (France) Attribution: tatoeba.org #1...  \n",
       "16901   CC-BY 2.0 (France) Attribution: tatoeba.org #1...  \n",
       "123043  CC-BY 2.0 (France) Attribution: tatoeba.org #5...  \n",
       "35466   CC-BY 2.0 (France) Attribution: tatoeba.org #1...  "
      ]
     },
     "execution_count": 2,
     "metadata": {},
     "output_type": "execute_result"
    }
   ],
   "source": [
    "import os\n",
    "file_path = os.getenv('HOME')+'/aiffel/translator_seq2seq/data/fra.txt'\n",
    "lines = pd.read_csv(file_path, names=['eng', 'fra', 'cc'], sep='\\t')\n",
    "print('전체 샘플의 수 :',len(lines))\n",
    "lines.sample(5) #샘플 5개 출력"
   ]
  },
  {
   "cell_type": "code",
   "execution_count": 3,
   "id": "8508501b",
   "metadata": {},
   "outputs": [
    {
     "data": {
      "text/html": [
       "<div>\n",
       "<style scoped>\n",
       "    .dataframe tbody tr th:only-of-type {\n",
       "        vertical-align: middle;\n",
       "    }\n",
       "\n",
       "    .dataframe tbody tr th {\n",
       "        vertical-align: top;\n",
       "    }\n",
       "\n",
       "    .dataframe thead th {\n",
       "        text-align: right;\n",
       "    }\n",
       "</style>\n",
       "<table border=\"1\" class=\"dataframe\">\n",
       "  <thead>\n",
       "    <tr style=\"text-align: right;\">\n",
       "      <th></th>\n",
       "      <th>eng</th>\n",
       "      <th>fra</th>\n",
       "    </tr>\n",
       "  </thead>\n",
       "  <tbody>\n",
       "    <tr>\n",
       "      <th>1411</th>\n",
       "      <td>Seriously?</td>\n",
       "      <td>Sans blague ?</td>\n",
       "    </tr>\n",
       "    <tr>\n",
       "      <th>2310</th>\n",
       "      <td>Let's move.</td>\n",
       "      <td>Partons !</td>\n",
       "    </tr>\n",
       "    <tr>\n",
       "      <th>7944</th>\n",
       "      <td>Is it my turn?</td>\n",
       "      <td>C'est mon tour ?</td>\n",
       "    </tr>\n",
       "    <tr>\n",
       "      <th>12837</th>\n",
       "      <td>You seem upset.</td>\n",
       "      <td>Vous semblez contrariée.</td>\n",
       "    </tr>\n",
       "    <tr>\n",
       "      <th>8091</th>\n",
       "      <td>It's not fair.</td>\n",
       "      <td>Ce n'est pas équitable.</td>\n",
       "    </tr>\n",
       "  </tbody>\n",
       "</table>\n",
       "</div>"
      ],
      "text/plain": [
       "                   eng                       fra\n",
       "1411        Seriously?             Sans blague ?\n",
       "2310       Let's move.                 Partons !\n",
       "7944    Is it my turn?          C'est mon tour ?\n",
       "12837  You seem upset.  Vous semblez contrariée.\n",
       "8091    It's not fair.   Ce n'est pas équitable."
      ]
     },
     "execution_count": 3,
     "metadata": {},
     "output_type": "execute_result"
    }
   ],
   "source": [
    "#세번째 열은 불필요하므로 제거하고, 훈련 데이터는 3,3만개의 샘플로 줄이기\n",
    "lines = lines[['eng', 'fra']][:33000] # 3만개 샘플 사용\n",
    "lines.sample(5)"
   ]
  },
  {
   "cell_type": "code",
   "execution_count": 4,
   "id": "402562e5",
   "metadata": {},
   "outputs": [
    {
     "name": "stdout",
     "output_type": "stream",
     "text": [
      "<class 'pandas.core.frame.DataFrame'>\n",
      "(33000, 2)\n"
     ]
    },
    {
     "data": {
      "text/html": [
       "<div>\n",
       "<style scoped>\n",
       "    .dataframe tbody tr th:only-of-type {\n",
       "        vertical-align: middle;\n",
       "    }\n",
       "\n",
       "    .dataframe tbody tr th {\n",
       "        vertical-align: top;\n",
       "    }\n",
       "\n",
       "    .dataframe thead th {\n",
       "        text-align: right;\n",
       "    }\n",
       "</style>\n",
       "<table border=\"1\" class=\"dataframe\">\n",
       "  <thead>\n",
       "    <tr style=\"text-align: right;\">\n",
       "      <th></th>\n",
       "      <th>eng</th>\n",
       "      <th>fra</th>\n",
       "    </tr>\n",
       "  </thead>\n",
       "  <tbody>\n",
       "    <tr>\n",
       "      <th>0</th>\n",
       "      <td>Go.</td>\n",
       "      <td>Va !</td>\n",
       "    </tr>\n",
       "    <tr>\n",
       "      <th>1</th>\n",
       "      <td>Go.</td>\n",
       "      <td>Marche.</td>\n",
       "    </tr>\n",
       "    <tr>\n",
       "      <th>2</th>\n",
       "      <td>Go.</td>\n",
       "      <td>En route !</td>\n",
       "    </tr>\n",
       "    <tr>\n",
       "      <th>3</th>\n",
       "      <td>Go.</td>\n",
       "      <td>Bouge !</td>\n",
       "    </tr>\n",
       "    <tr>\n",
       "      <th>4</th>\n",
       "      <td>Hi.</td>\n",
       "      <td>Salut !</td>\n",
       "    </tr>\n",
       "    <tr>\n",
       "      <th>5</th>\n",
       "      <td>Hi.</td>\n",
       "      <td>Salut.</td>\n",
       "    </tr>\n",
       "    <tr>\n",
       "      <th>6</th>\n",
       "      <td>Run!</td>\n",
       "      <td>Cours !</td>\n",
       "    </tr>\n",
       "    <tr>\n",
       "      <th>7</th>\n",
       "      <td>Run!</td>\n",
       "      <td>Courez !</td>\n",
       "    </tr>\n",
       "    <tr>\n",
       "      <th>8</th>\n",
       "      <td>Run!</td>\n",
       "      <td>Prenez vos jambes à vos cous !</td>\n",
       "    </tr>\n",
       "    <tr>\n",
       "      <th>9</th>\n",
       "      <td>Run!</td>\n",
       "      <td>File !</td>\n",
       "    </tr>\n",
       "  </tbody>\n",
       "</table>\n",
       "</div>"
      ],
      "text/plain": [
       "    eng                             fra\n",
       "0   Go.                            Va !\n",
       "1   Go.                         Marche.\n",
       "2   Go.                      En route !\n",
       "3   Go.                         Bouge !\n",
       "4   Hi.                         Salut !\n",
       "5   Hi.                          Salut.\n",
       "6  Run!                         Cours !\n",
       "7  Run!                        Courez !\n",
       "8  Run!  Prenez vos jambes à vos cous !\n",
       "9  Run!                          File !"
      ]
     },
     "execution_count": 4,
     "metadata": {},
     "output_type": "execute_result"
    }
   ],
   "source": [
    "print(type(lines))\n",
    "print(lines.shape)\n",
    "lines.iloc[:10]"
   ]
  },
  {
   "cell_type": "markdown",
   "id": "7e26f48d",
   "metadata": {},
   "source": [
    "## data preprocessing"
   ]
  },
  {
   "cell_type": "code",
   "execution_count": 5,
   "id": "6af471e7",
   "metadata": {},
   "outputs": [
    {
     "name": "stdout",
     "output_type": "stream",
     "text": [
      "['this', 'is', 'sample', 'sentence', '.']\n"
     ]
    }
   ],
   "source": [
    "#re.sub(pattern[정규식], repl[치환할문자열], string[src문자열], count=0, flags=0)\n",
    "# pattern 문자열에서 \\ 문자를 사용하는 경우에는 혹시 모를 오류를 방지하기 위해 pattern을 raw string으로 변경\n",
    "\n",
    "# 입력된 문장을\n",
    "#     1. 소문자로 바꾸고, 양쪽 공백을 지웁니다\n",
    "#     2. 특수문자 양쪽에 공백을 넣고\n",
    "#     3. 여러개의 공백은 하나의 공백으로 바꿉니다\n",
    "#     4. a-zA-Z?.!,¿가 아닌 모든 문자를 하나의 공백으로 바꿉니다\n",
    "#     5. 다시 양쪽 공백을 지웁니다\n",
    "#     6. 문장 시작에는 <sos>, 끝에는 <eos>를 추가합니다\n",
    "#     7. 띄어쓰기 단위로 문장을 분리\n",
    "\n",
    "def preprocess_sentence(sentence):\n",
    "    sentence = sentence.lower().strip() #1\n",
    "    sentence = re.sub(r\"([?.!,¿])\", r\" \\1 \", sentence) #2 \n",
    "    sentence = re.sub(r'[\" \"]+', \" \", sentence) #3\n",
    "    sentence = re.sub(r\"[^a-zA-Z?.!]+\", \" \", sentence) #4\n",
    "    \n",
    "    sentence = sentence.strip() #5\n",
    "    sentence = sentence.split(\" \") # 7\n",
    "    \n",
    "    return sentence\n",
    "\n",
    "print(preprocess_sentence(\"This @_is ;;;sample        sentence.\"))"
   ]
  },
  {
   "cell_type": "code",
   "execution_count": 6,
   "id": "d5c420cf",
   "metadata": {},
   "outputs": [
    {
     "name": "stdout",
     "output_type": "stream",
     "text": [
      "['<sos>', 'this', 'is', 'sample', 'sentence', '.', '<eos>']\n"
     ]
    }
   ],
   "source": [
    "def preprocess_sentence_decoder(sentence):\n",
    "    sentence = sentence.lower().strip() # 1\n",
    "    sentence = re.sub(r\"([?.!,¿])\", r\" \\1 \", sentence) # 2\n",
    "    sentence = re.sub(r'[\" \"]+', \" \", sentence) # 3\n",
    "    sentence = re.sub(r\"[^a-zA-Z?.!,¿]+\", \" \", sentence) # 4\n",
    "    sentence = sentence.strip() # 5\n",
    "    sentence = '<sos>' +' '+ sentence +' '+ '<eos>' # 6\n",
    "    sentence = sentence.split(\" \") #7\n",
    "    return sentence\n",
    "\n",
    "# 필터링체크\n",
    "print(preprocess_sentence_decoder(\"This @_is ;;;sample        sentence.\"))\n"
   ]
  },
  {
   "cell_type": "code",
   "execution_count": 7,
   "id": "9c40fb42",
   "metadata": {},
   "outputs": [],
   "source": [
    "lines.eng = lines.eng.apply(lambda x : preprocess_sentence(x))\n",
    "lines.fra = lines.fra.apply(lambda x : preprocess_sentence_decoder(x))"
   ]
  },
  {
   "cell_type": "code",
   "execution_count": 8,
   "id": "b5b38b82",
   "metadata": {},
   "outputs": [
    {
     "data": {
      "text/plain": [
       "0     [go, .]\n",
       "1     [go, .]\n",
       "2     [go, .]\n",
       "3     [go, .]\n",
       "4     [hi, .]\n",
       "5     [hi, .]\n",
       "6    [run, !]\n",
       "7    [run, !]\n",
       "8    [run, !]\n",
       "9    [run, !]\n",
       "Name: eng, dtype: object"
      ]
     },
     "execution_count": 8,
     "metadata": {},
     "output_type": "execute_result"
    }
   ],
   "source": [
    "lines.eng.iloc[:10]"
   ]
  },
  {
   "cell_type": "code",
   "execution_count": 9,
   "id": "8a2af37a",
   "metadata": {},
   "outputs": [
    {
     "data": {
      "text/plain": [
       "19200     [i, was, sure, of, it, .]\n",
       "5677             [nobody, knows, .]\n",
       "25401    [may, i, put, it, here, ?]\n",
       "4207             [we, re, saved, .]\n",
       "19569      [is, tom, an, artist, ?]\n",
       "Name: eng, dtype: object"
      ]
     },
     "execution_count": 9,
     "metadata": {},
     "output_type": "execute_result"
    }
   ],
   "source": [
    "lines.eng.sample(5)"
   ]
  },
  {
   "cell_type": "code",
   "execution_count": 10,
   "id": "97e02828",
   "metadata": {},
   "outputs": [
    {
     "data": {
      "text/plain": [
       "24047    [<sos>, j, ai, continu, chanter, ., <eos>]\n",
       "31241          [<sos>, allons, en, ville, !, <eos>]\n",
       "21915     [<sos>, o, puis, je, me, garer, ?, <eos>]\n",
       "9453         [<sos>, tu, travailles, dur, ., <eos>]\n",
       "31560       [<sos>, elle, la, lui, donna, ., <eos>]\n",
       "Name: fra, dtype: object"
      ]
     },
     "execution_count": 10,
     "metadata": {},
     "output_type": "execute_result"
    }
   ],
   "source": [
    "lines.fra.sample(5)"
   ]
  },
  {
   "cell_type": "code",
   "execution_count": 11,
   "id": "15f99b4e",
   "metadata": {},
   "outputs": [
    {
     "data": {
      "text/html": [
       "<div>\n",
       "<style scoped>\n",
       "    .dataframe tbody tr th:only-of-type {\n",
       "        vertical-align: middle;\n",
       "    }\n",
       "\n",
       "    .dataframe tbody tr th {\n",
       "        vertical-align: top;\n",
       "    }\n",
       "\n",
       "    .dataframe thead th {\n",
       "        text-align: right;\n",
       "    }\n",
       "</style>\n",
       "<table border=\"1\" class=\"dataframe\">\n",
       "  <thead>\n",
       "    <tr style=\"text-align: right;\">\n",
       "      <th></th>\n",
       "      <th>eng</th>\n",
       "      <th>fra</th>\n",
       "    </tr>\n",
       "  </thead>\n",
       "  <tbody>\n",
       "    <tr>\n",
       "      <th>0</th>\n",
       "      <td>[go, .]</td>\n",
       "      <td>[&lt;sos&gt;, va, !, &lt;eos&gt;]</td>\n",
       "    </tr>\n",
       "    <tr>\n",
       "      <th>1</th>\n",
       "      <td>[go, .]</td>\n",
       "      <td>[&lt;sos&gt;, marche, ., &lt;eos&gt;]</td>\n",
       "    </tr>\n",
       "    <tr>\n",
       "      <th>2</th>\n",
       "      <td>[go, .]</td>\n",
       "      <td>[&lt;sos&gt;, en, route, !, &lt;eos&gt;]</td>\n",
       "    </tr>\n",
       "    <tr>\n",
       "      <th>3</th>\n",
       "      <td>[go, .]</td>\n",
       "      <td>[&lt;sos&gt;, bouge, !, &lt;eos&gt;]</td>\n",
       "    </tr>\n",
       "    <tr>\n",
       "      <th>4</th>\n",
       "      <td>[hi, .]</td>\n",
       "      <td>[&lt;sos&gt;, salut, !, &lt;eos&gt;]</td>\n",
       "    </tr>\n",
       "    <tr>\n",
       "      <th>...</th>\n",
       "      <td>...</td>\n",
       "      <td>...</td>\n",
       "    </tr>\n",
       "    <tr>\n",
       "      <th>32995</th>\n",
       "      <td>[we, all, cried, a, lot, .]</td>\n",
       "      <td>[&lt;sos&gt;, nous, avons, toutes, beaucoup, pleur, ...</td>\n",
       "    </tr>\n",
       "    <tr>\n",
       "      <th>32996</th>\n",
       "      <td>[we, all, felt, hungry, .]</td>\n",
       "      <td>[&lt;sos&gt;, nous, avions, tous, faim, ., &lt;eos&gt;]</td>\n",
       "    </tr>\n",
       "    <tr>\n",
       "      <th>32997</th>\n",
       "      <td>[we, also, found, this, .]</td>\n",
       "      <td>[&lt;sos&gt;, nous, avons, aussi, trouv, ceci, ., &lt;e...</td>\n",
       "    </tr>\n",
       "    <tr>\n",
       "      <th>32998</th>\n",
       "      <td>[we, are, busy, people, .]</td>\n",
       "      <td>[&lt;sos&gt;, nous, sommes, des, gens, occup, s, ., ...</td>\n",
       "    </tr>\n",
       "    <tr>\n",
       "      <th>32999</th>\n",
       "      <td>[we, are, watching, tv, .]</td>\n",
       "      <td>[&lt;sos&gt;, nous, regardons, la, t, l, vision, ., ...</td>\n",
       "    </tr>\n",
       "  </tbody>\n",
       "</table>\n",
       "<p>33000 rows × 2 columns</p>\n",
       "</div>"
      ],
      "text/plain": [
       "                               eng  \\\n",
       "0                          [go, .]   \n",
       "1                          [go, .]   \n",
       "2                          [go, .]   \n",
       "3                          [go, .]   \n",
       "4                          [hi, .]   \n",
       "...                            ...   \n",
       "32995  [we, all, cried, a, lot, .]   \n",
       "32996   [we, all, felt, hungry, .]   \n",
       "32997   [we, also, found, this, .]   \n",
       "32998   [we, are, busy, people, .]   \n",
       "32999   [we, are, watching, tv, .]   \n",
       "\n",
       "                                                     fra  \n",
       "0                                  [<sos>, va, !, <eos>]  \n",
       "1                              [<sos>, marche, ., <eos>]  \n",
       "2                           [<sos>, en, route, !, <eos>]  \n",
       "3                               [<sos>, bouge, !, <eos>]  \n",
       "4                               [<sos>, salut, !, <eos>]  \n",
       "...                                                  ...  \n",
       "32995  [<sos>, nous, avons, toutes, beaucoup, pleur, ...  \n",
       "32996        [<sos>, nous, avions, tous, faim, ., <eos>]  \n",
       "32997  [<sos>, nous, avons, aussi, trouv, ceci, ., <e...  \n",
       "32998  [<sos>, nous, sommes, des, gens, occup, s, ., ...  \n",
       "32999  [<sos>, nous, regardons, la, t, l, vision, ., ...  \n",
       "\n",
       "[33000 rows x 2 columns]"
      ]
     },
     "execution_count": 11,
     "metadata": {},
     "output_type": "execute_result"
    }
   ],
   "source": [
    "type(lines.fra)\n",
    "lines"
   ]
  },
  {
   "cell_type": "code",
   "execution_count": 12,
   "id": "e988f0a4",
   "metadata": {},
   "outputs": [
    {
     "name": "stdout",
     "output_type": "stream",
     "text": [
      "<class 'pandas.core.series.Series'>\n"
     ]
    },
    {
     "data": {
      "text/plain": [
       "0                            [go, .]\n",
       "1                            [go, .]\n",
       "2                            [go, .]\n",
       "3                            [go, .]\n",
       "4                            [hi, .]\n",
       "                    ...             \n",
       "32995    [we, all, cried, a, lot, .]\n",
       "32996     [we, all, felt, hungry, .]\n",
       "32997     [we, also, found, this, .]\n",
       "32998     [we, are, busy, people, .]\n",
       "32999     [we, are, watching, tv, .]\n",
       "Name: eng, Length: 33000, dtype: object"
      ]
     },
     "execution_count": 12,
     "metadata": {},
     "output_type": "execute_result"
    }
   ],
   "source": [
    "print(type(lines.eng))\n",
    "lines.eng"
   ]
  },
  {
   "cell_type": "code",
   "execution_count": 13,
   "id": "2a0f6ee9",
   "metadata": {},
   "outputs": [
    {
     "name": "stdout",
     "output_type": "stream",
     "text": [
      "<class 'pandas.core.series.Series'>\n"
     ]
    },
    {
     "data": {
      "text/plain": [
       "0                                    [<sos>, va, !, <eos>]\n",
       "1                                [<sos>, marche, ., <eos>]\n",
       "2                             [<sos>, en, route, !, <eos>]\n",
       "3                                 [<sos>, bouge, !, <eos>]\n",
       "4                                 [<sos>, salut, !, <eos>]\n",
       "                               ...                        \n",
       "32995    [<sos>, nous, avons, toutes, beaucoup, pleur, ...\n",
       "32996          [<sos>, nous, avions, tous, faim, ., <eos>]\n",
       "32997    [<sos>, nous, avons, aussi, trouv, ceci, ., <e...\n",
       "32998    [<sos>, nous, sommes, des, gens, occup, s, ., ...\n",
       "32999    [<sos>, nous, regardons, la, t, l, vision, ., ...\n",
       "Name: fra, Length: 33000, dtype: object"
      ]
     },
     "execution_count": 13,
     "metadata": {},
     "output_type": "execute_result"
    }
   ],
   "source": [
    "print(type(lines.fra))\n",
    "lines.fra"
   ]
  },
  {
   "cell_type": "markdown",
   "id": "295d22c4",
   "metadata": {},
   "source": [
    "# 단어장(vocabulary)만들기"
   ]
  },
  {
   "cell_type": "markdown",
   "id": "459476d6",
   "metadata": {},
   "source": [
    "## tokenizing(eng) - input_text"
   ]
  },
  {
   "cell_type": "code",
   "execution_count": 14,
   "id": "a29d3b42",
   "metadata": {},
   "outputs": [
    {
     "data": {
      "text/plain": [
       "[[28, 1], [28, 1], [28, 1]]"
      ]
     },
     "execution_count": 14,
     "metadata": {},
     "output_type": "execute_result"
    }
   ],
   "source": [
    "eng_tokenizer = Tokenizer()   # 단어단위로 Tokenizer를 생성합니다. \n",
    "# tokenizer.fit_on_texts(texts): 문자 데이터를 입력받아 리스트의 형태로 변환하는 메서드, 50000개의 행을 가진 eng의 각 행에 토큰화를 수행\n",
    "eng_tokenizer.fit_on_texts(lines.eng)               \n",
    "# tokenizer.texts_to_sequences(texts): 텍스트 안의 단어들을 숫자의 시퀀스 형태로 변환하는 메서드\n",
    "input_text = eng_tokenizer.texts_to_sequences(lines.eng)   \n",
    "input_text[:3]"
   ]
  },
  {
   "cell_type": "code",
   "execution_count": 15,
   "id": "2fed0770",
   "metadata": {},
   "outputs": [
    {
     "name": "stdout",
     "output_type": "stream",
     "text": [
      "{'.': 1, 'i': 2, 'you': 3, '?': 4, 'tom': 5, 'it': 6, 'is': 7, 's': 8, 'a': 9, 're': 10, 'm': 11, 'we': 12, 't': 13, 'the': 14, 'that': 15, 'he': 16, 'was': 17, 'me': 18, 'this': 19, 'they': 20, 'are': 21, 'to': 22, '!': 23, 'do': 24, 'can': 25, 'my': 26, 'your': 27, 'go': 28, 'have': 29, 'not': 30, 'don': 31, 'll': 32, 'be': 33, 'she': 34, 'no': 35, 'did': 36, 'what': 37, 'all': 38, 'let': 39, 'here': 40, 'like': 41, 'in': 42, 'get': 43, 'up': 44, 'how': 45, 'very': 46, 'on': 47, 'need': 48, 'one': 49, 'want': 50, 'him': 51, 'out': 52, 'love': 53, 'come': 54, 'who': 55, 'please': 56, 'us': 57, 'there': 58, 'just': 59, 'know': 60, 'now': 61, 'stop': 62, 'so': 63, 'of': 64, 'got': 65, 'too': 66, 'help': 67, 'look': 68, 'take': 69, 'good': 70, 'for': 71, 'has': 72, 'at': 73, 'see': 74, 'will': 75, 'were': 76, 've': 77, 'keep': 78, 'had': 79, 'am': 80, 'back': 81, 'give': 82, 'feel': 83, 'saw': 84, 'try': 85, 'stay': 86, 'must': 87, 'happy': 88, 'where': 89, 'home': 90, 'alone': 91, 'didn': 92, 'car': 93, 'leave': 94, 'her': 95, 'work': 96, 'hate': 97, 'won': 98, 'everyone': 99, 'busy': 100, 'his': 101, 'again': 102, 'why': 103, 'an': 104, 'right': 105, 'made': 106, 'isn': 107, 'lost': 108, 'them': 109, 'mary': 110, 'looks': 111, 'dog': 112, 'eat': 113, 'never': 114, 'went': 115, 'felt': 116, 'may': 117, 'time': 118, 'down': 119, 'big': 120, 'job': 121, 'away': 122, 'still': 123, 'well': 124, 'nice': 125, 'wait': 126, 'going': 127, 'ready': 128, 'with': 129, 'bad': 130, 'off': 131, 'tell': 132, 'does': 133, 'drink': 134, 'say': 135, 'fun': 136, 'make': 137, 'think': 138, 'done': 139, 'book': 140, 'tired': 141, 'could': 142, 'left': 143, 'safe': 144, 'over': 145, 'about': 146, 'call': 147, 'kept': 148, 'really': 149, 'some': 150, 'old': 151, 'mine': 152, 'should': 153, 'french': 154, 'hurt': 155, 'lot': 156, 'late': 157, 'came': 158, 'enough': 159, 'money': 160, 'wasn': 161, 'open': 162, 'cold': 163, 'talk': 164, 'room': 165, 'new': 166, 'easy': 167, 'our': 168, 'way': 169, 'careful': 170, 'likes': 171, 'today': 172, 'live': 173, 'hard': 174, 'water': 175, 'read': 176, 'ok': 177, 'died': 178, 'watch': 179, 'broke': 180, 'loves': 181, 'gave': 182, 'd': 183, 'hurry': 184, 'said': 185, 'idea': 186, 'much': 187, 'house': 188, 'wrong': 189, 'more': 190, 'seems': 191, 'find': 192, 'bed': 193, 'funny': 194, 'day': 195, 'run': 196, 'dead': 197, 'door': 198, 'sure': 199, 'sit': 200, 'better': 201, 'everybody': 202, 'nobody': 203, 'found': 204, 'miss': 205, 'nothing': 206, 'cat': 207, 'man': 208, 'sleep': 209, 'upset': 210, 'both': 211, 'everything': 212, 'ask': 213, 'trust': 214, 'crazy': 215, 'turn': 216, 'hope': 217, 'hear': 218, 'sick': 219, 'yours': 220, 'true': 221, 'by': 222, 'show': 223, 'hungry': 224, 'free': 225, 'anyone': 226, 'life': 227, 'play': 228, 'pay': 229, 'die': 230, 'angry': 231, 'sad': 232, 'win': 233, 'these': 234, 'early': 235, 'mad': 236, 'school': 237, 'bring': 238, 'called': 239, 'stupid': 240, 'put': 241, 'sing': 242, 'check': 243, 'buy': 244, 'quit': 245, 'swim': 246, 'sat': 247, 'gone': 248, 'eyes': 249, 'took': 250, 'friends': 251, 'lucky': 252, 'quiet': 253, 'fine': 254, 'tall': 255, 'knew': 256, 'coming': 257, 'boy': 258, 'yourself': 259, 'forget': 260, 'mean': 261, 'fast': 262, 'walk': 263, 'drunk': 264, 'serious': 265, 'close': 266, 'working': 267, 'and': 268, 'name': 269, 'looked': 270, 'heard': 271, 'cool': 272, 'move': 273, 'care': 274, 'speak': 275, 'shot': 276, 'wine': 277, 'beer': 278, 'hand': 279, 'sorry': 280, 'calm': 281, 'perfect': 282, 'first': 283, 'knows': 284, 'kidding': 285, 'bit': 286, 'being': 287, 'fat': 288, 'stand': 289, 'outside': 290, 'remember': 291, 'problem': 292, 'friend': 293, 'almost': 294, 'thanks': 295, 'answer': 296, 'been': 297, 'loved': 298, 'great': 299, 'handle': 300, 'fell': 301, 'hold': 302, 'cry': 303, 'start': 304, 'anybody': 305, 'needs': 306, 'something': 307, 'hair': 308, 'doing': 309, 'only': 310, 'listen': 311, 'ahead': 312, 'hat': 313, 'aren': 314, 'yet': 315, 'from': 316, 'fired': 317, 'use': 318, 'follow': 319, 'liked': 320, 'met': 321, 'bus': 322, 'naive': 323, 'ate': 324, 'wants': 325, 'running': 326, 'coffee': 327, 'shut': 328, 'wake': 329, 'inside': 330, 'once': 331, 'best': 332, 'key': 333, 'finished': 334, 'plan': 335, 'kind': 336, 'tried': 337, 'long': 338, 'rich': 339, 'hot': 340, 'seat': 341, 'someone': 342, 'already': 343, 'quite': 344, 'touch': 345, 'write': 346, 'food': 347, 'son': 348, 'kids': 349, 'married': 350, 'nervous': 351, 'myself': 352, 'enjoy': 353, 'wanted': 354, 'as': 355, 'doesn': 356, 'began': 357, 'drive': 358, 'works': 359, 'red': 360, 'caught': 361, 'needed': 362, 'those': 363, 'stopped': 364, 'sign': 365, 'clean': 366, 'around': 367, 'scared': 368, 'fish': 369, 'change': 370, 'quickly': 371, 'gun': 372, 'music': 373, 'bag': 374, 'confused': 375, 'hates': 376, 'drop': 377, 'hit': 378, 'lie': 379, 'dogs': 380, 'two': 381, 'told': 382, 'sweet': 383, 'break': 384, 'girls': 385, 'believe': 386, 'wife': 387, 'word': 388, 'sounds': 389, 'beat': 390, 'ran': 391, 'fix': 392, 'lazy': 393, 'hurts': 394, 'lying': 395, 'changed': 396, 'nuts': 397, 'invited': 398, 'seen': 399, 'boston': 400, 'teacher': 401, 'tomorrow': 402, 'paid': 403, 'soon': 404, 'weird': 405, 'tv': 406, 'normal': 407, 'talking': 408, 'lunch': 409, 'crying': 410, 'laughed': 411, 'joke': 412, 'doctor': 413, 'owe': 414, 'when': 415, 'somebody': 416, 'awesome': 417, 'spoke': 418, 'catch': 419, 'luck': 420, 'waited': 421, 'missed': 422, 'child': 423, 'choice': 424, 'grab': 425, 'cute': 426, 'game': 427, 'strong': 428, 'smart': 429, 'prepared': 430, 'excited': 431, 'lose': 432, 'pretty': 433, 'would': 434, 'arrived': 435, 'if': 436, 'mother': 437, 'brave': 438, 'forgot': 439, 'after': 440, 'wonderful': 441, 'deal': 442, 'fight': 443, 'young': 444, 'milk': 445, 'song': 446, 'arm': 447, 'empty': 448, 'father': 449, 'boss': 450, 'important': 451, 'tie': 452, 'seem': 453, 'cried': 454, 'lock': 455, 'helped': 456, 'rest': 457, 'tea': 458, 'joking': 459, 'lonely': 460, 'study': 461, 'started': 462, 'bought': 463, 'light': 464, 'lied': 465, 'agree': 466, 'smoke': 467, 'shy': 468, 'rude': 469, 'awful': 470, 'worked': 471, 'cut': 472, 'guess': 473, 'asked': 474, 'small': 475, 'dream': 476, 'became': 477, 'horse': 478, 'amazing': 479, 'guy': 480, 'trouble': 481, 'getting': 482, 'sound': 483, 'terrific': 484, 'hands': 485, 'head': 486, 'alive': 487, 'walked': 488, 'saved': 489, 'slowly': 490, 'next': 491, 'upstairs': 492, 'slept': 493, 'afraid': 494, 'killed': 495, 'dinner': 496, 'oldest': 497, 'fair': 498, 'timid': 499, 'smell': 500, 'moving': 501, 'last': 502, 'drank': 503, 'leaving': 504, 'winning': 505, 'whose': 506, 'pen': 507, 'books': 508, 'which': 509, 'betrayed': 510, 'fault': 511, 'couldn': 512, 'phone': 513, 'slow': 514, 'real': 515, 'smiled': 516, 'honest': 517, 'cheated': 518, 'sleepy': 519, 'trying': 520, 'count': 521, 'often': 522, 'reading': 523, 'send': 524, 'pain': 525, 'trusted': 526, 'minute': 527, 'story': 528, 'relax': 529, 'hang': 530, 'fit': 531, 'kill': 532, 'wise': 533, 'full': 534, 'weak': 535, 'short': 536, 'dark': 537, 'step': 538, 'yes': 539, 'eating': 540, 'town': 541, 'mind': 542, 'laugh': 543, 'age': 544, 'cats': 545, 'unlucky': 546, 'happened': 547, 'always': 548, 'together': 549, 'place': 550, 'relaxed': 551, 'retired': 552, 'tough': 553, 'skinny': 554, 'ignore': 555, 'vote': 556, 'asleep': 557, 'correct': 558, 'heart': 559, 'might': 560, 'shoes': 561, 'warned': 562, 'sent': 563, 'own': 564, 'student': 565, 'turned': 566, 'join': 567, 'kiss': 568, 'push': 569, 'warm': 570, 'bored': 571, 'wish': 572, 'singing': 573, 'exhausted': 574, 'little': 575, 'family': 576, 'end': 577, 'bike': 578, 'into': 579, 'woke': 580, 'cook': 581, 'awake': 582, 'tight': 583, 'hired': 584, 'girl': 585, 'famous': 586, 'box': 587, 'trapped': 588, 'maybe': 589, 'smiling': 590, 'coat': 591, 'beautiful': 592, 'mom': 593, 'surprised': 594, 'behind': 595, 'continue': 596, 'wet': 597, 'failed': 598, 'save': 599, 'obey': 600, 'blind': 601, 'dying': 602, 'ours': 603, 'duty': 604, 'face': 605, 'liar': 606, 'night': 607, 'cake': 608, 'set': 609, 'thirsty': 610, 'broken': 611, 'silent': 612, 'closer': 613, 'many': 614, 'refused': 615, 'kid': 616, 'shopping': 617, 'blame': 618, 'black': 619, 'cops': 620, 'followed': 621, 'guilty': 622, 'point': 623, 'used': 624, 'doors': 625, 'bill': 626, 'every': 627, 'born': 628, 'choose': 629, 'naked': 630, 'far': 631, 'pardon': 632, 'thank': 633, 'blue': 634, 'curious': 635, 'news': 636, 'jealous': 637, 'shocked': 638, 'worried': 639, 'fake': 640, 'party': 641, 'bite': 642, 'kissed': 643, 'mess': 644, 'anything': 645, 'understand': 646, 'explain': 647, 'innocent': 648, 'involved': 649, 'law': 650, 'cruel': 651, 'god': 652, 'japanese': 653, 'listening': 654, 'throw': 655, 'trip': 656, 'movie': 657, 'fire': 658, 'smile': 659, 'wash': 660, 'refuse': 661, 'ugly': 662, 'helps': 663, 'warn': 664, 'patient': 665, 'men': 666, 'war': 667, 'creative': 668, 'finish': 669, 'bet': 670, 'driving': 671, 'shall': 672, 'meet': 673, 'meat': 674, 'feet': 675, 'things': 676, 'meant': 677, 'downstairs': 678, 'foolish': 679, 'or': 680, 'nose': 681, 'believed': 682, 'satisfied': 683, 'boring': 684, 'terrible': 685, 'boat': 686, 'ball': 687, 'lives': 688, 'watching': 689, 'dangerous': 690, 'desk': 691, 'side': 692, 'jump': 693, 'hello': 694, 'hug': 695, 'low': 696, 'welcome': 697, 'fly': 698, 'clear': 699, 'hero': 700, 'pick': 701, 'dance': 702, 'cash': 703, 'cooking': 704, 'fool': 705, 'useless': 706, 'rain': 707, 'team': 708, 'another': 709, 'map': 710, 'pizza': 711, 'writing': 712, 'yelling': 713, 'control': 714, 'ride': 715, 'raise': 716, 'danger': 717, 'camera': 718, 'keys': 719, 'carefully': 720, 'sister': 721, 'three': 722, 'ill': 723, 'guys': 724, 'taste': 725, 'excuse': 726, 'dirty': 727, 'agreed': 728, 'idiot': 729, 'along': 730, 'forgive': 731, 'worry': 732, 'sharp': 733, 'merciful': 734, 'snow': 735, 'list': 736, 'remain': 737, 'dress': 738, 'positive': 739, 'nearby': 740, 'happen': 741, 'shame': 742, 'looking': 743, 'polite': 744, 'survive': 745, 'week': 746, 'ambitious': 747, 'motivated': 748, 'raining': 749, 'laughing': 750, 'cup': 751, 'seemed': 752, 'second': 753, 'rid': 754, 'park': 755, 'disgusting': 756, 'baby': 757, 'brother': 758, 'feeling': 759, 'opened': 760, 'hi': 761, 'attack': 762, 'stood': 763, 'cover': 764, 'talked': 765, 'bald': 766, 'seated': 767, 'armed': 768, 'dizzy': 769, 'clever': 770, 'wrote': 771, 'shoot': 772, 'direct': 773, 'drives': 774, 'even': 775, 'friendly': 776, 'fear': 777, 'dancing': 778, 'stunned': 779, 'touched': 780, 'simple': 781, 'date': 782, 'bath': 783, 'hey': 784, 'silly': 785, 'proof': 786, 'risk': 787, 'decided': 788, 'jobs': 789, 'dry': 790, 'feels': 791, 'comes': 792, 'pleased': 793, 'impressed': 794, 'resilient': 795, 'helping': 796, 'bell': 797, 'chance': 798, 'tree': 799, 'rules': 800, 'brought': 801, 'knife': 802, 'mistake': 803, 'truth': 804, 'train': 805, 'same': 806, 'children': 807, 'enemy': 808, 'bicycle': 809, 'speaks': 810, 'begin': 811, 'high': 812, 'deep': 813, 'stayed': 814, 'glad': 815, 'okay': 816, 'beg': 817, 'stuck': 818, 'content': 819, 'lovely': 820, 'losing': 821, 'punctual': 822, 'hated': 823, 'scream': 824, 'starved': 825, 'secret': 826, 'escaped': 827, 'objective': 828, 'fearless': 829, 'cancer': 830, 'special': 831, 'focused': 832, 'while': 833, 'unbelievable': 834, 'matter': 835, 'favor': 836, 'tricked': 837, 'finally': 838, 'nearly': 839, 'different': 840, 'sense': 841, 'trusts': 842, 'makes': 843, 'rather': 844, 'having': 845, 'order': 846, 'escape': 847, 'relieved': 848, 'ordered': 849, 'productive': 850, 'oh': 851, 'deaf': 852, 'fantastic': 853, 'giggled': 854, 'burned': 855, 'loosen': 856, 'air': 857, 'green': 858, 'aside': 859, 'discreet': 860, 'also': 861, 'dumb': 862, 'baffled': 863, 'sincere': 864, 'unhappy': 865, 'loud': 866, 'teach': 867, 'resist': 868, 'deserve': 869, 'powerful': 870, 'strange': 871, 'sang': 872, 'tense': 873, 'closed': 874, 'woman': 875, 'any': 876, 'clock': 877, 'smells': 878, 'studying': 879, 'fed': 880, 'badly': 881, 'people': 882, 'skiing': 883, 'horses': 884, 'prefer': 885, 'concerned': 886, 'depressed': 887, 'leak': 888, 'window': 889, 'moment': 890, 'insane': 891, 'nonsense': 892, 'yourselves': 893, 'plays': 894, 'lit': 895, 'travel': 896, 'interested': 897, 'expensive': 898, 'apple': 899, 'tonight': 900, 'fate': 901, 'sore': 902, 'proud': 903, 'person': 904, 'pull': 905, 'birds': 906, 'rush': 907, 'poor': 908, 'promised': 909, 'loaded': 910, 'happens': 911, 'drinks': 912, 'decide': 913, 'dressed': 914, 'grew': 915, 'chose': 916, 'fined': 917, 'certain': 918, 'monday': 919, 'talks': 920, 'says': 921, 'confident': 922, 'dumped': 923, 'horrible': 924, 'pathetic': 925, 'paint': 926, 'lawyer': 927, 'singer': 928, 'divorced': 929, 'fighting': 930, 'pregnant': 931, 'sleeping': 932, 'stubborn': 933, 'white': 934, 'closely': 935, 'ended': 936, 'crime': 937, 'part': 938, 'fever': 939, 'summer': 940, 'rescued': 941, 'convinced': 942, 'forgetful': 943, 'screaming': 944, 'terrified': 945, 'later': 946, 'table': 947, 'near': 948, 'injured': 949, 'charge': 950, 'fishing': 951, 'panting': 952, 'chair': 953, 'christmas': 954, 'road': 955, 'store': 956, 'bank': 957, 'message': 958, 'drinking': 959, 'yesterday': 960, 'headache': 961, 'eye': 962, 'protect': 963, 'fortunate': 964, 'shirt': 965, 'hide': 966, 'pass': 967, 'faster': 968, 'ski': 969, 'cheered': 970, 'noticed': 971, 'promise': 972, 'fussy': 973, 'stinks': 974, 'hers': 975, 'then': 976, 'built': 977, 'amused': 978, 'buying': 979, 'ruined': 980, 'single': 981, 'sneaky': 982, 'matters': 983, 'cheap': 984, 'bother': 985, 'apologize': 986, 'soup': 987, 'messed': 988, 'eggs': 989, 'manage': 990, 'ashamed': 991, 'chicken': 992, 'staying': 993, 'memorize': 994, 'grow': 995, 'hugged': 996, 'drowned': 997, 'watched': 998, 'act': 999, 'twins': 1000, 'half': 1001, 'apples': 1002, 'plans': 1003, 'saint': 1004, 'speaking': 1005, 'missing': 1006, 'walking': 1007, 'goes': 1008, 'arguing': 1009, 'dreaming': 1010, 'bird': 1011, 'gear': 1012, 'few': 1013, 'line': 1014, 'baked': 1015, 'soccer': 1016, 'note': 1017, 'advice': 1018, 'played': 1019, 'surrendered': 1020, 'volunteered': 1021, 'available': 1022, 'powerless': 1023, 'worth': 1024, 'breath': 1025, 'shoe': 1026, 'six': 1027, 'floor': 1028, 'bright': 1029, 'crafty': 1030, 'animals': 1031, 'attacked': 1032, 'reply': 1033, 'goal': 1034, 'charming': 1035, 'stalling': 1036, 'alike': 1037, 'students': 1038, 'envious': 1039, 'death': 1040, 'swimming': 1041, 'truly': 1042, 'sounded': 1043, 'fabulous': 1044, 'himself': 1045, 'frightened': 1046, 'briefly': 1047, 'power': 1048, 'flight': 1049, 'example': 1050, 'goodbye': 1051, 'runs': 1052, 'brief': 1053, 'phoned': 1054, 'crashed': 1055, 'fainted': 1056, 'hurried': 1057, 'seriously': 1058, 'voted': 1059, 'prudent': 1060, 'breathe': 1061, 'quick': 1062, 'facts': 1063, 'doubt': 1064, 'ice': 1065, 'panicked': 1066, 'screamed': 1067, 'thirty': 1068, 'pray': 1069, 'boys': 1070, 'cheerful': 1071, 'ruthless': 1072, 'bread': 1073, 'moved': 1074, 'healthy': 1075, 'psychic': 1076, 'doll': 1077, 'locked': 1078, 'surprise': 1079, 'coughed': 1080, 'rifle': 1081, 'admire': 1082, 'sugar': 1083, 'hopeless': 1084, 'thrilled': 1085, 'digging': 1086, 'quietly': 1087, 'forward': 1088, 'smoking': 1089, 'stole': 1090, 'stoned': 1091, 'uneasy': 1092, 'else': 1093, 'fooled': 1094, 'demented': 1095, 'blood': 1096, 'wore': 1097, 'prove': 1098, 'artist': 1099, 'impatient': 1100, 'gets': 1101, 'foot': 1102, 'peace': 1103, 'suit': 1104, 'shower': 1105, 'tastes': 1106, 'cousins': 1107, 'enemies': 1108, 'cows': 1109, 'complain': 1110, 'year': 1111, 'eaten': 1112, 'spot': 1113, 'cookies': 1114, 'harm': 1115, 'holiday': 1116, 'overworked': 1117, 'large': 1118, 'prices': 1119, 'blew': 1120, 'afford': 1121, 'glass': 1122, 'dad': 1123, 'noise': 1124, 'match': 1125, 'kidnapped': 1126, 'alarmed': 1127, 'sour': 1128, 'decision': 1129, 'believes': 1130, 'daughter': 1131, 'threatened': 1132, 'fingers': 1133, 'surrounded': 1134, 'knees': 1135, 'thing': 1136, 'parents': 1137, 'burn': 1138, 'jumped': 1139, 'thin': 1140, 'odd': 1141, 'bless': 1142, 'pack': 1143, 'destroy': 1144, 'fill': 1145, 'canceled': 1146, 'envy': 1147, 'flinched': 1148, 'greedy': 1149, 'shaken': 1150, 'strict': 1151, 'generous': 1152, 'thorough': 1153, 'class': 1154, 'disagreed': 1155, 'golf': 1156, 'sell': 1157, 'struggled': 1158, 'attend': 1159, 'finicky': 1160, 'wealthy': 1161, 'paper': 1162, 'dope': 1163, 'safely': 1164, 'annoying': 1165, 'arrogant': 1166, 'romantic': 1167, 'doubts': 1168, 'cab': 1169, 'star': 1170, 'thought': 1171, 'learn': 1172, 'sue': 1173, 'canadian': 1174, 'ears': 1175, 'mistaken': 1176, 'offended': 1177, 'obvious': 1178, 'snowing': 1179, 'staring': 1180, 'gold': 1181, 'pale': 1182, 'words': 1183, 'talented': 1184, 'beware': 1185, 'deny': 1186, 'feed': 1187, 'flowers': 1188, 'maid': 1189, 'thief': 1190, 'deserved': 1191, 'winter': 1192, 'ring': 1193, 'copy': 1194, 'taxi': 1195, 'outrank': 1196, 'delighted': 1197, 'intrigued': 1198, 'coach': 1199, 'weapon': 1200, 'number': 1201, 'gambling': 1202, 'doctors': 1203, 'grass': 1204, 'scolded': 1205, 'truck': 1206, 'astonished': 1207, 'contagious': 1208, 'making': 1209, 'vegetarian': 1210, 'picture': 1211, 'their': 1212, 'harmless': 1213, 'escaping': 1214, 'congratulations': 1215, 'hour': 1216, 'pencil': 1217, 'learned': 1218, 'rang': 1219, 'embarrassed': 1220, 'fresh': 1221, 'ridiculous': 1222, 'smaller': 1223, 'mouth': 1224, 'answered': 1225, 'straight': 1226, 'sale': 1227, 'forgiven': 1228, 'remained': 1229, 'overreacting': 1230, 'conceited': 1231, 'murdered': 1232, 'unique': 1233, 'weapons': 1234, 'loudly': 1235, 'familiar': 1236, 'overwhelmed': 1237, 'unconscious': 1238, 'sort': 1239, 'rained': 1240, 'courageous': 1241, 'knocked': 1242, 'leader': 1243, 'master': 1244, 'banged': 1245, 'drove': 1246, 'obeyed': 1247, 'rested': 1248, 'snowed': 1249, 'course': 1250, 'walks': 1251, 'admit': 1252, 'chuckled': 1253, 'exercise': 1254, 'twin': 1255, 'humble': 1256, 'comment': 1257, 'nap': 1258, 'cheat': 1259, 'yelled': 1260, 'harder': 1261, 'cancel': 1262, 'argue': 1263, 'resigned': 1264, 'share': 1265, 'fruit': 1266, 'rice': 1267, 'gas': 1268, 'smashed': 1269, 'teasing': 1270, 'through': 1271, 'split': 1272, 'shake': 1273, 'leg': 1274, 'guessed': 1275, 'huge': 1276, 'evil': 1277, 'fall': 1278, 'denied': 1279, 'kicked': 1280, 'exciting': 1281, 'apologized': 1282, 'draw': 1283, 'chess': 1284, 'jokes': 1285, 'robbed': 1286, 'twice': 1287, 'genius': 1288, 'bluffing': 1289, 'grateful': 1290, 'obedient': 1291, 'reliable': 1292, 'checked': 1293, 'waste': 1294, 'diary': 1295, 'command': 1296, 'scary': 1297, 'translate': 1298, 'pitch': 1299, 'ignored': 1300, 'english': 1301, 'adorable': 1302, 'despise': 1303, 'tempted': 1304, 'allow': 1305, 'fan': 1306, 'treat': 1307, 'personal': 1308, 'possible': 1309, 'standing': 1310, 'bragging': 1311, 'adores': 1312, 'misled': 1313, 'remembers': 1314, 'succeed': 1315, 'judge': 1316, 'disappeared': 1317, 'outgoing': 1318, 'slapped': 1319, 'wide': 1320, 'spiders': 1321, 'painted': 1322, 'glasses': 1323, 'speechless': 1324, 'successful': 1325, 'roses': 1326, 'counting': 1327, 'whistling': 1328, 'helpful': 1329, 'similar': 1330, 'remembered': 1331, 'troubled': 1332, 'earlier': 1333, 'cleaned': 1334, 'excused': 1335, 'expect': 1336, 'towel': 1337, 'partner': 1338, 'tongue': 1339, 'sons': 1340, 'haven': 1341, 'tennis': 1342, 'unusual': 1343, 'city': 1344, 'incredible': 1345, 'its': 1346, 'office': 1347, 'gray': 1348, 'remove': 1349, 'repeat': 1350, 'separated': 1351, 'startled': 1352, 'fuse': 1353, 'blown': 1354, 'flexible': 1355, 'cap': 1356, 'candle': 1357, 'breakfast': 1358, 'rarely': 1359, 'criminal': 1360, 'weight': 1361, 'ever': 1362, 'showed': 1363, 'tire': 1364, 'promoted': 1365, 'hilarious': 1366, 'talkative': 1367, 'skipped': 1368, 'pants': 1369, 'weather': 1370, 'candles': 1371, 'downtown': 1372, 'forced': 1373, 'volume': 1374, 'stink': 1375, 'cop': 1376, 'cooks': 1377, 'unlock': 1378, 'cares': 1379, 'disagree': 1380, 'fixed': 1381, 'art': 1382, 'survived': 1383, 'accept': 1384, 'alert': 1385, 'replace': 1386, 'sec': 1387, 'fail': 1388, 'eight': 1389, 'jerk': 1390, 'confessed': 1391, 'cars': 1392, 'washed': 1393, 'dieting': 1394, 'popular': 1395, 'puzzled': 1396, 'selfish': 1397, 'legal': 1398, 'flat': 1399, 'trap': 1400, 'spring': 1401, 'numb': 1402, 'easily': 1403, 'games': 1404, 'understood': 1405, 'addicted': 1406, 'bleeding': 1407, 'faithful': 1408, 'freezing': 1409, 'grounded': 1410, 'outraged': 1411, 'reserved': 1412, 'starving': 1413, 'unfair': 1414, 'hideous': 1415, 'legs': 1416, 'recess': 1417, 'dreams': 1418, 'approved': 1419, 'overslept': 1420, 'mature': 1421, 'years': 1422, 'type': 1423, 'rope': 1424, 'fought': 1425, 'clue': 1426, 'nature': 1427, 'ought': 1428, 'stabbed': 1429, 'disgusted': 1430, 'expecting': 1431, 'impulsive': 1432, 'uninsured': 1433, 'apart': 1434, 'unlocked': 1435, 'climbing': 1436, 'proceed': 1437, 'attention': 1438, 'clearly': 1439, 'stuff': 1440, 'creepy': 1441, 'crept': 1442, 'vulgar': 1443, 'remarried': 1444, 'scares': 1445, 'violent': 1446, 'wounded': 1447, 'till': 1448, 'waiting': 1449, 'grumpy': 1450, 'annoy': 1451, 'guns': 1452, 'form': 1453, 'van': 1454, 'keeps': 1455, 'arrested': 1456, 'playing': 1457, 'sun': 1458, 'welcomed': 1459, 'devastated': 1460, 'bargain': 1461, 'prepare': 1462, 'meter': 1463, 'awkward': 1464, 'price': 1465, 'radio': 1466, 'complained': 1467, 'precise': 1468, 'prude': 1469, 'interrupt': 1470, 'mercy': 1471, 'dreamer': 1472, 'mentioned': 1473, 'notice': 1474, 'evidence': 1475, 'homework': 1476, 'lay': 1477, 'misjudged': 1478, 'tissue': 1479, 'mayor': 1480, 'totally': 1481, 'horrified': 1482, 'wouldn': 1483, 'volunteer': 1484, 'able': 1485, 'training': 1486, 'such': 1487, 'handsome': 1488, 'windy': 1489, 'niece': 1490, 'leaves': 1491, 'alarm': 1492, 'church': 1493, 'sky': 1494, 'held': 1495, 'deranged': 1496, 'repulsive': 1497, 'punched': 1498, 'cannot': 1499, 'disloyal': 1500, 'cross': 1501, 'juice': 1502, 'debt': 1503, 'embarrassing': 1504, 'sweat': 1505, 'bowed': 1506, 'politely': 1507, 'traveling': 1508, 'bar': 1509, 'search': 1510, 'entered': 1511, 'abandoned': 1512, 'courteous': 1513, 'weren': 1514, 'heavy': 1515, 'screw': 1516, 'advance': 1517, 'but': 1518, 'arms': 1519, 'days': 1520, 'brainer': 1521, 'bothering': 1522, 'letting': 1523, 'wow': 1524, 'bury': 1525, 'fold': 1526, 'waved': 1527, 'aim': 1528, 'tries': 1529, 'nodded': 1530, 'east': 1531, 'west': 1532, 'hung': 1533, 'north': 1534, 'biased': 1535, 'fad': 1536, 'cooked': 1537, 'sensible': 1538, 'watchful': 1539, 'panic': 1540, 'mice': 1541, 'rock': 1542, 'taxes': 1543, 'recovered': 1544, 'succeeded': 1545, 'jittery': 1546, 'sloshed': 1547, 'unarmed': 1548, 'fact': 1549, 'pipe': 1550, 'cloudy': 1551, 'ironic': 1552, 'timing': 1553, 'card': 1554, 'plants': 1555, 'return': 1556, 'caution': 1557, 'guest': 1558, 'beef': 1559, 'snack': 1560, 'poet': 1561, 'enjoyed': 1562, 'faint': 1563, 'giddy': 1564, 'handled': 1565, 'honey': 1566, 'women': 1567, 'rose': 1568, 'smelled': 1569, 'farmer': 1570, 'member': 1571, 'drowning': 1572, 'rumor': 1573, 'garbage': 1574, 'genuine': 1575, 'stir': 1576, 'pushing': 1577, 'trash': 1578, 'bores': 1579, 'focus': 1580, 'dating': 1581, 'shock': 1582, 'respectful': 1583, 'blow': 1584, 'kite': 1585, 'dropped': 1586, 'sells': 1587, 'american': 1588, 'contributed': 1589, 'movies': 1590, 'salmon': 1591, 'hiking': 1592, 'insist': 1593, 'object': 1594, 'respect': 1595, 'plane': 1596, 'pool': 1597, 'contented': 1598, 'flattered': 1599, 'miserable': 1600, 'observant': 1601, 'saying': 1602, 'worse': 1603, 'takes': 1604, 'test': 1605, 'business': 1606, 'differ': 1607, 'anyway': 1608, 'suits': 1609, 'texted': 1610, 'growing': 1611, 'related': 1612, 'add': 1613, 'racist': 1614, 'mug': 1615, 'video': 1616, 'uncle': 1617, 'borrow': 1618, 'corrected': 1619, 'secrets': 1620, 'dessert': 1621, 'protest': 1622, 'punished': 1623, 'details': 1624, 'revenge': 1625, 'insulted': 1626, 'wear': 1627, 'testify': 1628, 'survivor': 1629, 'optimistic': 1630, 'untalented': 1631, 'miracle': 1632, 'peel': 1633, 'teased': 1634, 'beauty': 1635, 'appeared': 1636, 'snap': 1637, 'calmly': 1638, 'brothers': 1639, 'helpless': 1640, 'country': 1641, 'causes': 1642, 'wind': 1643, 'capsized': 1644, 'police': 1645, 'trunk': 1646, 'signed': 1647, 'dawn': 1648, 'hardly': 1649, 'stared': 1650, 'cheating': 1651, 'writes': 1652, 'husband': 1653, 'photogenic': 1654, 'interesting': 1655, 'appreciate': 1656, 'violence': 1657, 'hammer': 1658, 'color': 1659, 'introverted': 1660, 'minded': 1661, 'modest': 1662, 'happening': 1663, 'allowed': 1664, 'irrelevant': 1665, 'negotiate': 1666, 'bottle': 1667, 'tied': 1668, 'lake': 1669, 'moon': 1670, 'exit': 1671, 'times': 1672, 'immature': 1673, 'sipped': 1674, 'dishes': 1675, 'visit': 1676, 'organized': 1677, 'prisoners': 1678, 'stolen': 1679, 'prize': 1680, 'teaches': 1681, 'crack': 1682, 'blushing': 1683, 'top': 1684, 'drawer': 1685, 'concentrate': 1686, 'umbrella': 1687, 'dumbfounded': 1688, 'knee': 1689, 'coughing': 1690, 'led': 1691, 'chocolate': 1692, 'beach': 1693, 'computer': 1694, 'retire': 1695, 'aggressive': 1696, 'humiliated': 1697, 'sunday': 1698, 'letter': 1699, 'belongs': 1700, 'difficult': 1701, 'rainy': 1702, 'sunny': 1703, 'gain': 1704, 'elaborate': 1705, 'complaining': 1706, 'studies': 1707, 'sports': 1708, 'released': 1709, 'mistakes': 1710, 'taking': 1711, 'five': 1712, 'hobby': 1713, 'traitor': 1714, 'obnoxious': 1715, 'question': 1716, 'pet': 1717, 'brown': 1718, 'raised': 1719, 'shook': 1720, 'raking': 1721, 'graduate': 1722, 'style': 1723, 'photo': 1724, 'garden': 1725, 'wild': 1726, 'lights': 1727, 'driver': 1728, 'responsible': 1729, 'prisoner': 1730, 'registered': 1731, 'using': 1732, 'comic': 1733, 'log': 1734, 'gotten': 1735, 'strive': 1736, 'unreliable': 1737, 'duck': 1738, 'cheers': 1739, 'knit': 1740, 'dozed': 1741, 'snore': 1742, 'skip': 1743, 'marry': 1744, 'cringed': 1745, 'exhaled': 1746, 'loyal': 1747, 'sand': 1748, 'seize': 1749, 'swam': 1750, 'aboard': 1751, 'carry': 1752, 'fret': 1753, 'south': 1754, 'tragic': 1755, 'listened': 1756, 'squinted': 1757, 'baking': 1758, 'chubby': 1759, 'paying': 1760, 'safer': 1761, 'wept': 1762, 'lighten': 1763, 'notes': 1764, 'flies': 1765, 'winced': 1766, 'comfort': 1767, 'guts': 1768, 'beans': 1769, 'hesitated': 1770, 'math': 1771, 'third': 1772, 'baker': 1773, 'medic': 1774, 'blessed': 1775, 'engaged': 1776, 'falling': 1777, 'furious': 1778, 'stuffed': 1779, 'rule': 1780, 'scam': 1781, 'poison': 1782, 'urgent': 1783, 'means': 1784, 'blushed': 1785, 'stick': 1786, 'grim': 1787, 'pity': 1788, 'attentive': 1789, 'realistic': 1790, 'evening': 1791, 'donut': 1792, 'bigot': 1793, 'lousy': 1794, 'opera': 1795, 'sushi': 1796, 'risks': 1797, 'coward': 1798, 'homeless': 1799, 'homesick': 1800, 'angel': 1801, 'rational': 1802, 'truthful': 1803, 'deer': 1804, 'wolf': 1805, 'bedtime': 1806, 'pigs': 1807, 'plug': 1808, 'sued': 1809, 'louder': 1810, 'pig': 1811, 'loser': 1812, 'ink': 1813, 'bossy': 1814, 'ain': 1815, 'included': 1816, 'supportive': 1817, 'skate': 1818, 'gamble': 1819, 'wins': 1820, 'deeply': 1821, 'hole': 1822, 'pinched': 1823, 'admired': 1824, 'muslim': 1825, 'caused': 1826, 'cough': 1827, 'dislike': 1828, 'bananas': 1829, 'freaked': 1830, 'elected': 1831, 'orders': 1832, 'tenure': 1833, 'cheese': 1834, 'rescheduled': 1835, 'ghost': 1836, 'behave': 1837, 'budge': 1838, 'plumber': 1839, 'tourist': 1840, 'committed': 1841, 'dedicated': 1842, 'desperate': 1843, 'expert': 1844, 'shivering': 1845, 'skeptical': 1846, 'gift': 1847, 'saturday': 1848, 'relief': 1849, 'outdated': 1850, 'seal': 1851, 'model': 1852, 'shouting': 1853, 'sweep': 1854, 'cow': 1855, 'oven': 1856, 'japan': 1857, 'joined': 1858, 'adopted': 1859, 'annoyed': 1860, 'packing': 1861, 'page': 1862, 'before': 1863, 'respond': 1864, 'thinks': 1865, 'mail': 1866, 'wicked': 1867, 'qualified': 1868, 'hiring': 1869, 'flew': 1870, 'beard': 1871, 'sold': 1872, 'gambler': 1873, 'prison': 1874, 'flunk': 1875, 'honored': 1876, 'nauseous': 1877, 'vision': 1878, 'carrots': 1879, 'parties': 1880, 'sisters': 1881, 'flu': 1882, 'college': 1883, 'plead': 1884, 'puppy': 1885, 'captured': 1886, 'careless': 1887, 'cooperate': 1888, 'guide': 1889, 'against': 1890, 'diplomatic': 1891, 'exercising': 1892, 'fascinated': 1893, 'undressing': 1894, 'redundant': 1895, 'risky': 1896, 'larger': 1897, 'biting': 1898, 'bunch': 1899, 'hogwash': 1900, 'illegal': 1901, 'rubbish': 1902, 'barked': 1903, 'leaks': 1904, 'annoys': 1905, 'fork': 1906, 'intervened': 1907, 'unmoved': 1908, 'volunteers': 1909, 'sweating': 1910, 'retiring': 1911, 'tragedy': 1912, 'taken': 1913, 'wipe': 1914, 'present': 1915, 'bees': 1916, 'brush': 1917, 'dismissed': 1918, 'insult': 1919, 'overdo': 1920, 'solution': 1921, 'studied': 1922, 'adventurous': 1923, 'abhor': 1924, 'seizure': 1925, 'resign': 1926, 'football': 1927, 'leukemia': 1928, 'returned': 1929, 'showered': 1930, 'baseball': 1931, 'seldom': 1932, 'witness': 1933, 'solve': 1934, 'detective': 1935, 'calling': 1936, 'celebrating': 1937, 'comfortable': 1938, 'cracking': 1939, 'defenseless': 1940, 'extroverted': 1941, 'interfering': 1942, 'handed': 1943, 'persevering': 1944, 'resourceful': 1945, 'trustworthy': 1946, 'breathing': 1947, 'natural': 1948, 'moldy': 1949, 'ago': 1950, 'impossible': 1951, 'impressive': 1952, 'terrifying': 1953, 'neither': 1954, 'seeing': 1955, 'orange': 1956, 'assertive': 1957, 'sea': 1958, 'feared': 1959, 'rabbits': 1960, 'dejected': 1961, 'wears': 1962, 'suffer': 1963, 'panicking': 1964, 'suffered': 1965, 'ideas': 1966, 'giving': 1967, 'disaster': 1968, 'cost': 1969, 'naughty': 1970, 'barking': 1971, 'apply': 1972, 'teeth': 1973, 'street': 1974, 'mention': 1975, 'reason': 1976, 'suddenly': 1977, 'distracted': 1978, 'arabic': 1979, 'blanket': 1980, 'ticket': 1981, 'sneezed': 1982, 'hybrid': 1983, 'empowered': 1984, 'egg': 1985, 'month': 1986, 'cousin': 1987, 'between': 1988, 'fairly': 1989, 'shape': 1990, 'company': 1991, 'washing': 1992, 'necessary': 1993, 'size': 1994, 'sofa': 1995, 'informed': 1996, 'repair': 1997, 'cards': 1998, 'planet': 1999, 'socks': 2000, 'rejected': 2001, 'wisely': 2002, 'showing': 2003, 'ludicrous': 2004, 'limit': 2005, 'guard': 2006, 'monster': 2007, 'sarcastic': 2008, 'texting': 2009, 'soldiers': 2010, 'dozing': 2011, 'whatever': 2012, 'mirror': 2013, 'younger': 2014, 'others': 2015, 'thieves': 2016, 'earth': 2017, 'goodnight': 2018, 'ballistic': 2019, 'barely': 2020, 'grade': 2021, 'lightly': 2022, 'accident': 2023, 'pulled': 2024, 'discouraged': 2025, 'heavily': 2026, 'world': 2027, 'rage': 2028, 'emergency': 2029, 'sight': 2030, 'rats': 2031, 'rising': 2032, 'bitterly': 2033, 'harassing': 2034, 'wall': 2035, 'worst': 2036, 'handcuffed': 2037, 'suspicious': 2038, 'changing': 2039, 'jacket': 2040, 'terms': 2041, 'european': 2042, 'robots': 2043, 'gloves': 2044, 'offend': 2045, 'address': 2046, 'confirm': 2047, 'jail': 2048, 'lived': 2049, 'offense': 2050, 'kissing': 2051, 'scout': 2052, 'sighed': 2053, 'tidy': 2054, 'speed': 2055, 'lies': 2056, 'bark': 2057, 'film': 2058, 'grinned': 2059, 'groaned': 2060, 'sober': 2061, 'aah': 2062, 'dig': 2063, 'calls': 2064, 'absurd': 2065, 'cpr': 2066, 'relented': 2067, 'hiding': 2068, 'pooped': 2069, 'fox': 2070, 'cd': 2071, 'phony': 2072, 'jesus': 2073, 'scoot': 2074, 'agrees': 2075, 'snores': 2076, 'cds': 2077, 'gloat': 2078, 'coin': 2079, 'nerd': 2080, 'adore': 2081, 'exercised': 2082, 'jazz': 2083, 'nailed': 2084, 'protested': 2085, 'lips': 2086, 'widow': 2087, 'fasting': 2088, 'humming': 2089, 'psyched': 2090, 'fatal': 2091, 'lift': 2092, 'burns': 2093, 'clap': 2094, 'press': 2095, 'enter': 2096, 'release': 2097, 'lame': 2098, 'glum': 2099, 'neat': 2100, 'slim': 2101, 'sweated': 2102, 'bore': 2103, 'owns': 2104, 'describe': 2105, 'ghosts': 2106, 'exist': 2107, 'morning': 2108, 'cranky': 2109, 'driven': 2110, 'barbaric': 2111, 'liars': 2112, 'piano': 2113, 'lion': 2114, 'beaten': 2115, 'wonder': 2116, 'gullible': 2117, 'reformed': 2118, 'restless': 2119, 'shooting': 2120, 'thinking': 2121, 'ticklish': 2122, 'unbiased': 2123, 'identify': 2124, 'vague': 2125, 'robot': 2126, 'archaic': 2127, 'complex': 2128, 'ladies': 2129, 'lead': 2130, 'spy': 2131, 'heroes': 2132, 'minors': 2133, 'nerve': 2134, 'vanished': 2135, 'passed': 2136, 'scare': 2137, 'slipping': 2138, 'questions': 2139, 'reasonable': 2140, 'body': 2141, 'security': 2142, 'circle': 2143, 'exhale': 2144, 'cookie': 2145, 'eats': 2146, 'toys': 2147, 'senior': 2148, 'insecure': 2149, 'diabetic': 2150, 'pie': 2151, 'belong': 2152, 'steal': 2153, 'queasy': 2154, 'visa': 2155, 'garlic': 2156, 'yellow': 2157, 'hockey': 2158, 'violin': 2159, 'funds': 2160, 'rat': 2161, 'bacon': 2162, 'mask': 2163, 'dentist': 2164, 'easygoing': 2165, 'diet': 2166, 'plastered': 2167, 'sensitive': 2168, 'unmarried': 2169, 'voting': 2170, 'painful': 2171, 'wig': 2172, 'flaw': 2173, 'viral': 2174, 'gorgeous': 2175, 'stealing': 2176, 'offer': 2177, 'beside': 2178, 'worrying': 2179, 'symptoms': 2180, 'vary': 2181, 'dvd': 2182, 'sheep': 2183, 'touchy': 2184, 'sinking': 2185, 'responded': 2186, 'hypocrite': 2187, 'idiots': 2188, 'morons': 2189, 'crude': 2190, 'hint': 2191, 'wheel': 2192, 'counts': 2193, 'author': 2194, 'brakes': 2195, 'spinach': 2196, 'picnics': 2197, 'turtles': 2198, 'answers': 2199, 'data': 2200, 'usually': 2201, 'cleaning': 2202, 'detained': 2203, 'outdoors': 2204, 'unharmed': 2205, 'freshman': 2206, 'dehydrated': 2207, 'illiterate': 2208, 'methodical': 2209, 'quitter': 2210, 'overweight': 2211, 'winner': 2212, 'unemployed': 2213, 'forgotten': 2214, 'bear': 2215, 'likely': 2216, 'planned': 2217, 'wednesday': 2218, 'snowman': 2219, 'beyond': 2220, 'brand': 2221, 'undamaged': 2222, 'ache': 2223, 'choked': 2224, 'alright': 2225, 'evident': 2226, 'logical': 2227, 'roof': 2228, 'ford': 2229, 'callous': 2230, 'immoral': 2231, 'nodding': 2232, 'sobbing': 2233, 'recover': 2234, 'brain': 2235, 'refugees': 2236, 'paris': 2237, 'adjust': 2238, 'defend': 2239, 'rub': 2240, 'meal': 2241, 'prayed': 2242, 'acts': 2243, 'painter': 2244, 'gloomy': 2245, 'surfing': 2246, 'lad': 2247, 'southpaw': 2248, 'id': 2249, 'unfortunate': 2250, 'salad': 2251, 'disobeyed': 2252, 'expected': 2253, 'sunburned': 2254, 'voice': 2255, 'screams': 2256, 'teaching': 2257, 'tokyo': 2258, 'misunderstood': 2259, 'helmet': 2260, 'sword': 2261, 'land': 2262, 'biking': 2263, 'shifted': 2264, 'gears': 2265, 'taught': 2266, 'refund': 2267, 'acquitted': 2268, 'rent': 2269, 'tipsy': 2270, 'attorney': 2271, 'daydreaming': 2272, 'experienced': 2273, 'heartbroken': 2274, 'vacation': 2275, 'sympathetic': 2276, 'manager': 2277, 'unambitious': 2278, 'river': 2279, 'soft': 2280, 'disgrace': 2281, 'shortcut': 2282, 'acceptable': 2283, 'inadequate': 2284, 'sweltering': 2285, 'season': 2286, 'practice': 2287, 'jeans': 2288, 'sticky': 2289, 'changes': 2290, 'forgave': 2291, 'reads': 2292, 'roll': 2293, 'silence': 2294, 'steady': 2295, 'engine': 2296, 'breather': 2297, 'peculiar': 2298, 'salt': 2299, 'blocked': 2300, 'greeted': 2301, 'visited': 2302, 'reality': 2303, 'friday': 2304, 'agitated': 2305, 'dyslexic': 2306, 'resolute': 2307, 'skittish': 2308, 'tactless': 2309, 'wavering': 2310, 'mouse': 2311, 'understands': 2312, 'front': 2313, 'toes': 2314, 'teachers': 2315, 'freedom': 2316, 'lack': 2317, 'realize': 2318, 'rented': 2319, 'canadians': 2320, 'impartial': 2321, 'pleasure': 2322, 'comb': 2323, 'loo': 2324, 'picky': 2325, 'less': 2326, 'catholic': 2327, 'cane': 2328, 'immediately': 2329, 'consider': 2330, 'dial': 2331, 'deceive': 2332, 'garage': 2333, 'joy': 2334, 'picasso': 2335, 'hunt': 2336, 'biologist': 2337, 'grown': 2338, 'struck': 2339, 'pork': 2340, 'ripped': 2341, 'halloween': 2342, 'surprises': 2343, 'receipt': 2344, 'allergies': 2345, 'hay': 2346, 'standards': 2347, 'toothache': 2348, 'drill': 2349, 'ropes': 2350, 'wallet': 2351, 'yolks': 2352, 'soul': 2353, 'tires': 2354, 'frustrated': 2355, 'gladly': 2356, 'disappointed': 2357, 'america': 2358, 'heading': 2359, 'killing': 2360, 'living': 2361, 'riddle': 2362, 'threat': 2363, 'valuable': 2364, 'effective': 2365, 'race': 2366, 'habit': 2367, 'settled': 2368, 'complicated': 2369, 'compromise': 2370, 'mars': 2371, 'smokes': 2372, 'tiny': 2373, 'stomach': 2374, 'parrots': 2375, 'article': 2376, 'defeated': 2377, 'tb': 2378, 'disliked': 2379, 'spit': 2380, 'upsetting': 2381, 'tank': 2382, 'ambushed': 2383, 'deceived': 2384, 'glanced': 2385, 'problems': 2386, 'mystery': 2387, 'excellent': 2388, 'guitar': 2389, 'silently': 2390, 'deported': 2391, 'goggles': 2392, 'headed': 2393, 'considered': 2394, 'visitors': 2395, 'owners': 2396, 'eater': 2397, 'nightmare': 2398, 'build': 2399, 'copies': 2400, 'rely': 2401, 'pens': 2402, 'gentleman': 2403, 'scientist': 2404, 'twisted': 2405, 'bathe': 2406, 'brushed': 2407, 'verify': 2408, 'intervene': 2409, 'scarf': 2410, 'soaking': 2411, 'schedule': 2412, 'privacy': 2413, 'regrets': 2414, 'everywhere': 2415, 'colors': 2416, 'ignorance': 2417, 'gym': 2418, 'guessing': 2419, 'persuaded': 2420, 'dubious': 2421, 'neighbor': 2422, 'inflation': 2423, 'pure': 2424, 'depends': 2425, 'cumbersome': 2426, 'depressing': 2427, 'destiny': 2428, 'greasy': 2429, 'moot': 2430, 'reconsider': 2431, 'pretend': 2432, 'teen': 2433, 'aspirin': 2434, 'market': 2435, 'foxes': 2436, 'articulate': 2437, 'recovering': 2438, 'remarkable': 2439, 'hopeful': 2440, 'suffocating': 2441, 'meeting': 2442, 'cowards': 2443, 'stain': 2444, 'future': 2445, 'applause': 2446, 'invite': 2447, 'murder': 2448, 'snails': 2449, 'choosy': 2450, 'king': 2451, 'hospital': 2452, 'unimpressed': 2453, 'position': 2454, 'information': 2455, 'religion': 2456, 'somewhere': 2457, 'custom': 2458, 'challenge': 2459, 'candlelight': 2460, 'outfit': 2461, 'spilled': 2462, 'boyfriend': 2463, 'hire': 2464, 'chef': 2465, 'learning': 2466, 'handcrafted': 2467, 'unavoidable': 2468, 'corner': 2469, 'crowded': 2470, 'battery': 2471, 'frozen': 2472, 'template': 2473, 'shoelaces': 2474, 'comforted': 2475, 'downhearted': 2476, 'frazzled': 2477, 'hop': 2478, 'froze': 2479, 'swore': 2480, 'kick': 2481, 'goofed': 2482, 'moaned': 2483, 'chill': 2484, 'dj': 2485, 'sexy': 2486, 'humor': 2487, 'blinked': 2488, 'inhaled': 2489, 'tripped': 2490, 'leo': 2491, 'cured': 2492, 'above': 2493, 'below': 2494, 'higher': 2495, 'bottoms': 2496, 'swiss': 2497, 'human': 2498, 'b': 2499, 'objected': 2500, 'shrugged': 2501, 'threw': 2502, 'whistled': 2503, 'immune': 2504, 'soaked': 2505, 'wasted': 2506, 'bogus': 2507, 'magic': 2508, 'chat': 2509, 'mama': 2510, 'braked': 2511, 'gasped': 2512, 'unscrew': 2513, 'sunk': 2514, 'specific': 2515, 'bowl': 2516, 'shout': 2517, 'stare': 2518, 'flip': 2519, 'hunk': 2520, 'slob': 2521, 'monk': 2522, 'buried': 2523, 'oppose': 2524, 'snickered': 2525, 'surrender': 2526, 'frantic': 2527, 'neutral': 2528, 'stumped': 2529, 'foggy': 2530, 'yen': 2531, 'futile': 2532, 'warmer': 2533, 'across': 2534, 'record': 2535, 'settle': 2536, 'icky': 2537, 'wary': 2538, 'listens': 2539, 'older': 2540, 'drag': 2541, 'loss': 2542, 'ship': 2543, 'ramble': 2544, 'slouch': 2545, 'examine': 2546, 'avoids': 2547, 'heroic': 2548, 'dare': 2549, 'chased': 2550, 'jogging': 2551, 'honor': 2552, 'trips': 2553, 'space': 2554, 'rewrote': 2555, 'wimped': 2556, 'gemini': 2557, 'taurus': 2558, 'barber': 2559, 'dancer': 2560, 'surfer': 2561, 'adult': 2562, 'autistic': 2563, 'cultured': 2564, 'eighteen': 2565, 'managing': 2566, 'iron': 2567, 'amazed': 2568, 'curse': 2569, 'review': 2570, 'itch': 2571, 'shrieked': 2572, 'pouting': 2573, 'whining': 2574, 'yawning': 2575, 'approve': 2576, 'enlisted': 2577, 'grumbled': 2578, 'obese': 2579, 'stoic': 2580, 'vegan': 2581, 'adults': 2582, 'doomed': 2583, 'imbecile': 2584, 'moody': 2585, 'futon': 2586, 'blindfold': 2587, 'despair': 2588, 'peas': 2589, 'dies': 2590, 'haircut': 2591, 'ham': 2592, 'cracked': 2593, 'braces': 2594, 'skating': 2595, 'bled': 2596, 'honk': 2597, 'horn': 2598, 'delicious': 2599, 'thrilling': 2600, 'runner': 2601, 'borrowed': 2602, 'bribed': 2603, 'designed': 2604, 'reborn': 2605, 'scammed': 2606, 'asthma': 2607, 'rights': 2608, 'camels': 2609, 'cities': 2610, 'grapes': 2611, 'poetry': 2612, 'trains': 2613, 'sock': 2614, 'autumn': 2615, 'crew': 2616, 'lamp': 2617, 'support': 2618, 'crushed': 2619, 'dazzled': 2620, 'drugged': 2621, 'poems': 2622, 'songs': 2623, 'scorpio': 2624, 'soldier': 2625, 'surgeon': 2626, 'adaptable': 2627, 'orphan': 2628, 'bilingual': 2629, 'efficient': 2630, 'strike': 2631, 'surviving': 2632, 'bat': 2633, 'gag': 2634, 'superb': 2635, 'rental': 2636, 'homemade': 2637, 'midnight': 2638, 'occupied': 2639, 'suicidal': 2640, 'unlikely': 2641, 'hustling': 2642, 'aloud': 2643, 'russia': 2644, 'clapping': 2645, 'spitting': 2646, 'straighten': 2647, 'saturn': 2648, 'myth': 2649, 'doable': 2650, 'untrue': 2651, 'asian': 2652, 'spies': 2653, 'false': 2654, 'online': 2655, 'unhurt': 2656, 'upbeat': 2657, 'winded': 2658, 'rushed': 2659, 'staggered': 2660, 'frank': 2661, 'choking': 2662, 'elderly': 2663, 'snoring': 2664, 'wax': 2665, 'prevail': 2666, 'group': 2667, 'sync': 2668, 'lawyers': 2669, 'stalled': 2670, 'bummer': 2671, 'fiasco': 2672, 'legibly': 2673, 'charlatan': 2674, 'hoot': 2675, 'snob': 2676, 'unkind': 2677, 'avoid': 2678, 'clich': 2679, 'juggle': 2680, 'gate': 2681, 'recycle': 2682, 'force': 2683, 'struggle': 2684, 'tease': 2685, 'tempt': 2686, 'dude': 2687, 'afternoon': 2688, 'lip': 2689, 'dislikes': 2690, 'actor': 2691, 'respects': 2692, 'ex': 2693, 'banana': 2694, 'decorated': 2695, 'gossip': 2696, 'suntan': 2697, 'expelled': 2698, 'stroke': 2699, 'sundays': 2700, 'hiccups': 2701, 'voices': 2702, 'hiccup': 2703, 'bowling': 2704, 'history': 2705, 'lobster': 2706, 'mahjong': 2707, 'puzzles': 2708, 'stories': 2709, 'stamp': 2710, 'file': 2711, 'korean': 2712, 'justice': 2713, 'barefoot': 2714, 'hammered': 2715, 'impolite': 2716, 'agony': 2717, 'pardoned': 2718, 'prosper': 2719, 'musician': 2720, 'dependable': 2721, 'firing': 2722, 'meditating': 2723, 'bitter': 2724, 'prejudiced': 2725, 'revolting': 2726, 'searching': 2727, 'tooth': 2728, 'tune': 2729, 'science': 2730, 'nurse': 2731, 'bach': 2732, 'sings': 2733, 'gossiping': 2734, 'grumbling': 2735, 'quibbling': 2736, 'sniffling': 2737, 'tower': 2738, 'flag': 2739, 'melted': 2740, 'siren': 2741, 'snag': 2742, 'muddy': 2743, 'bites': 2744, 'theirs': 2745, 'tricky': 2746, 'dice': 2747, 'pear': 2748, 'crook': 2749, 'moron': 2750, 'sitting': 2751, 'smarter': 2752, 'unfazed': 2753, 'retaliated': 2754, 'improve': 2755, 'clueless': 2756, 'crash': 2757, 'blast': 2758, 'guests': 2759, 'action': 2760, 'partners': 2761, 'quitting': 2762, 'stronger': 2763, 'rip': 2764, 'disgust': 2765, 'screwed': 2766, 'amusing': 2767, 'elusive': 2768, 'obscene': 2769, 'pro': 2770, 'insured': 2771, 'round': 2772, 'hibernate': 2773, 'bullet': 2774, 'boil': 2775, 'whistle': 2776, 'boxes': 2777, 'nails': 2778, 'hatch': 2779, 'jam': 2780, 'stingy': 2781, 'interfere': 2782, 'remind': 2783, 'popcorn': 2784, 'bottom': 2785, 'ambition': 2786, 'ten': 2787, 'slowpoke': 2788, 'humiliating': 2789, 'bachelor': 2790, 'compete': 2791, 'chickened': 2792, 'downloaded': 2793, 'dried': 2794, 'feverish': 2795, 'isolated': 2796, 'tomatoes': 2797, 'fanatics': 2798, 'weddings': 2799, 'bruise': 2800, 'laptop': 2801, 'epilepsy': 2802, 'area': 2803, 'army': 2804, 'supper': 2805, 'outwitted': 2806, 'scored': 2807, 'vitamins': 2808, 'parrot': 2809, 'assaulted': 2810, 'convicted': 2811, 'wondering': 2812, 'zoo': 2813, 'arrange': 2814, 'assist': 2815, 'double': 2816, 'capricorn': 2817, 'addict': 2818, 'carpenter': 2819, 'foreigner': 2820, 'geologist': 2821, 'engineer': 2822, 'begging': 2823, 'catching': 2824, 'cooperating': 2825, 'hardworking': 2826, 'ammo': 2827, 'spontaneous': 2828, 'unconvinced': 2829, 'tasted': 2830, 'handmade': 2831, 'outrage': 2832, 'improbable': 2833, 'inevitable': 2834, 'misleading': 2835, 'refreshing': 2836, 'typical': 2837, 'sufficient': 2838, 'humid': 2839, 'paging': 2840, 'covered': 2841, 'lemons': 2842, 'improvise': 2843, 'merry': 2844, 'shift': 2845, 'squeak': 2846, 'pour': 2847, 'lid': 2848, 'rejection': 2849, 'calmed': 2850, 'graceful': 2851, 'nosy': 2852, 'chances': 2853, 'frankly': 2854, 'puzzle': 2855, 'doubtful': 2856, 'damp': 2857, 'net': 2858, 'cure': 2859, 'pilots': 2860, 'gifts': 2861, 'wasting': 2862, 'acted': 2863, 'tailor': 2864, 'giggling': 2865, 'knocking': 2866, 'perverse': 2867, 'pleasant': 2868, 'spirited': 2869, 'unafraid': 2870, 'unnerved': 2871, 'stops': 2872, 'sees': 2873, 'sleeps': 2874, 'slowed': 2875, 'fools': 2876, 'retreat': 2877, 'sailing': 2878, 'fixing': 2879, 'newcomers': 2880, 'newlyweds': 2881, 'resigning': 2882, 'survivors': 2883, 'unrelated': 2884, 'treasure': 2885, 'oar': 2886, 'devil': 2887, 'menace': 2888, 'than': 2889, 'wings': 2890, 'accidents': 2891, 'invisible': 2892, 'golfer': 2893, 'maniac': 2894, 'typist': 2895, 'wizard': 2896, 'boxing': 2897, 'brace': 2898, 'normally': 2899, 'spell': 2900, 'blinds': 2901, 'supply': 2902, 'bridge': 2903, 'wire': 2904, 'delicately': 2905, 'faces': 2906, 'yell': 2907, 'meals': 2908, 'veggies': 2909, 'hamster': 2910, 'costs': 2911, 'gardening': 2912, 'without': 2913, 'stairs': 2914, 'flow': 2915, 'croissant': 2916, 'recently': 2917, 'backward': 2918, 'pajamas': 2919, 'hunting': 2920, 'oranges': 2921, 'moves': 2922, 'ratted': 2923, 'france': 2924, 'bartender': 2925, 'senile': 2926, 'intelligent': 2927, 'heaven': 2928, 'professor': 2929, 'brazil': 2930, 'reschedule': 2931, 'trout': 2932, 'confiscated': 2933, 'protected': 2934, 'chemistry': 2935, 'computers': 2936, 'hypocrisy': 2937, 'paperwork': 2938, 'website': 2939, 'gunshots': 2940, 'lifted': 2941, 'ocean': 2942, 'temper': 2943, 'adventure': 2944, 'hedgehogs': 2945, 'band': 2946, 'view': 2947, 'kleenex': 2948, 'escort': 2949, 'pointed': 2950, 'recommend': 2951, 'rematch': 2952, 'vengeance': 2953, 'unprepared': 2954, 'victorious': 2955, 'farm': 2956, 'demonstrate': 2957, 'clerk': 2958, 'alcoholic': 2959, 'conservative': 2960, 'disorganized': 2961, 'dissatisfied': 2962, 'homeschooled': 2963, 'ignoring': 2964, 'stressed': 2965, 'super': 2966, 'volunteering': 2967, 'trick': 2968, 'freaks': 2969, 'virus': 2970, 'hype': 2971, 'mandatory': 2972, 'tradition': 2973, 'frightening': 2974, 'drug': 2975, 'lower': 2976, 'itchy': 2977, 'pulse': 2978, 'windows': 2979, 'button': 2980, 'bellyaching': 2981, 'hassling': 2982, 'italy': 2983, 'despises': 2984, 'obstinate': 2985, 'rode': 2986, 'camel': 2987, 'worships': 2988, 'shots': 2989, 'nit': 2990, 'picking': 2991, 'million': 2992, 'brilliant': 2993, 'curtain': 2994, 'rough': 2995, 'switch': 2996, 'icy': 2997, 'scoffed': 2998, 'artists': 2999, 'accurate': 3000, 'required': 3001, 'bounced': 3002, 'forgives': 3003, 'rabbit': 3004, 'chickens': 3005, 'delirious': 3006, 'indignant': 3007, 'merciless': 3008, 'observing': 3009, 'sighing': 3010, 'tulips': 3011, 'smiles': 3012, 'overheard': 3013, 'stepped': 3014, 'tickled': 3015, 'appalled': 3016, 'watches': 3017, 'innovative': 3018, 'instead': 3019, 'slower': 3020, 'competed': 3021, 'demand': 3022, 'depend': 3023, 'warning': 3024, 'pictures': 3025, 'classmates': 3026, 'seek': 3027, 'score': 3028, 'belt': 3029, 'wherever': 3030, 'cheaper': 3031, 'developed': 3032, 'lady': 3033, 'notified': 3034, 'nicely': 3035, 'x': 3036, 'marks': 3037, 'seventh': 3038, 'unethical': 3039, 'zip': 3040, 'steps': 3041, 'bachelors': 3042, 'religious': 3043, 'policeman': 3044, 'ambulance': 3045, 'link': 3046, 'cocaine': 3047, 'startle': 3048, 'disable': 3049, 'kratom': 3050, 'fuss': 3051, 'threaten': 3052, 'haste': 3053, 'employs': 3054, 'gives': 3055, 'grabbed': 3056, 'blond': 3057, 'physicist': 3058, 'forty': 3059, 'incompetent': 3060, 'influential': 3061, 'unrealistic': 3062, 'frugally': 3063, 'requested': 3064, 'sailor': 3065, 'russian': 3066, 'travels': 3067, 'rapidly': 3068, 'imprisoned': 3069, 'journalist': 3070, 'pink': 3071, 'handrail': 3072, 'spelled': 3073, 'bolted': 3074, 'clothes': 3075, 'bags': 3076, 'tutor': 3077, 'other': 3078, 'mosquitoes': 3079, 'hangover': 3080, 'passport': 3081, 'proposal': 3082, 'chest': 3083, 'skirt': 3084, 'hats': 3085, 'outlive': 3086, 'picked': 3087, 'muscle': 3088, 'jest': 3089, 'inchworm': 3090, 'victory': 3091, 'shouldn': 3092, 'sometimes': 3093, 'plate': 3094, 'notebook': 3095, 'apology': 3096, 'passenger': 3097, 'discredited': 3098, 'total': 3099, 'wreck': 3100, 'aware': 3101, 'awfully': 3102, 'concentrating': 3103, 'flabbergasted': 3104, 'lab': 3105, 'insure': 3106, 'nonstop': 3107, 'deliberate': 3108, 'horrendous': 3109, 'unexpected': 3110, 'flimsy': 3111, 'conspiracy': 3112, 'knock': 3113, 'investigate': 3114, 'enjoyable': 3115, 'prediction': 3116, 'mosquitos': 3117, 'aching': 3118, 'shoulder': 3119, 'misses': 3120, 'none': 3121, 'toy': 3122, 'beginner': 3123, 'attractive': 3124, 'unsociable': 3125, 'fashionable': 3126, 'hyperactive': 3127, 'turning': 3128, 'flower': 3129, 'somehow': 3130, 'badgering': 3131, 'exaggerating': 3132, 'following': 3133, 'interrupting': 3134, 'wood': 3135, 'rings': 3136, 'classified': 3137, 'disturbing': 3138, 'opinion': 3139, 'bland': 3140, 'dull': 3141, 'lovers': 3142, 'shop': 3143, 'thick': 3144, 'system': 3145, 'damage': 3146, 'hunted': 3147, 'tortured': 3148, 'identical': 3149, 'appalling': 3150, 'offensive': 3151, 'permanent': 3152, 'sickening': 3153, 'fishy': 3154, 'praying': 3155, 'claims': 3156, 'deserves': 3157, 'freed': 3158, 'imitated': 3159, 'despondent': 3160, 'protective': 3161, 'crawling': 3162, 'peeked': 3163, 'peered': 3164, 'recognized': 3165, 'patiently': 3166, 'sensed': 3167, 'strangled': 3168, 'hose': 3169, 'beers': 3170, 'flaws': 3171, 'p': 3172, 'due': 3173, 'handling': 3174, 'killers': 3175, 'pessimistic': 3176, 'revelation': 3177, 'happiness': 3178, 'major': 3179, 'stitches': 3180, 'murderer': 3181, 'hurting': 3182, 'mocking': 3183, 'fascinate': 3184, 'flute': 3185, 'advised': 3186, 'subject': 3187, 'pockets': 3188, 'tells': 3189, 'blog': 3190, 'stones': 3191, 'weekend': 3192, 'applauded': 3193, 'blanks': 3194, 'desire': 3195, 'traffic': 3196, 'breathed': 3197, 'cartwheel': 3198, 'gripped': 3199, 'alzheimer': 3200, 'classmate': 3201, 'colleague': 3202, 'memory': 3203, 'chinese': 3204, 'filthy': 3205, 'aristocrat': 3206, 'print': 3207, 'completely': 3208, 'sin': 3209, 'chilly': 3210, 'loads': 3211, 'roommate': 3212, 'carpet': 3213, 'spare': 3214, 'patience': 3215, 'explosions': 3216, 'emailed': 3217, 'mission': 3218, 'mathematics': 3219, 'pot': 3220, 'roast': 3221, 'blamed': 3222, 'oiled': 3223, 'report': 3224, 'repeated': 3225, 'sliced': 3226, 'suggest': 3227, 'disqualified': 3228, 'consulted': 3229, 'learner': 3230, 'beginning': 3231, 'laying': 3232, 'supporting': 3233, 'supposed': 3234, 'board': 3235, 'compliment': 3236, 'boggles': 3237, 'astonishing': 3238, 'mesmerizing': 3239, 'concern': 3240, 'recipe': 3241, 'fridge': 3242, 'knowledge': 3243, 'rephrase': 3244, 'moons': 3245, 'goals': 3246, 'lofty': 3247, 'suitcase': 3248, 'cucumbers': 3249, 'bandage': 3250, 'schools': 3251, 'manners': 3252, 'charity': 3253, 'slip': 3254, 'correcting': 3255, 'tickles': 3256, 'sip': 3257, 'unimportant': 3258, 'attempt': 3259, 'buzzer': 3260, 'melting': 3261, 'rallied': 3262, 'path': 3263, 'wandered': 3264, 'wrestlers': 3265, 'th': 3266, 'families': 3267, 'hostages': 3268, 'tents': 3269, 'peaceful': 3270, 'disposable': 3271, 'foreigners': 3272, 'bigger': 3273, 'follows': 3274, 'chosen': 3275, 'launders': 3276, 'blankly': 3277, 'persistent': 3278, 'tuck': 3279, 'fled': 3280, 'pair': 3281, 'cheer': 3282, 'cuff': 3283, 'cursed': 3284, 'frowned': 3285, 'gloated': 3286, 'grunted': 3287, 'prepaid': 3288, 'shouted': 3289, 'needy': 3290, 'poured': 3291, 'dived': 3292, 'knits': 3293, 'limps': 3294, 'rocks': 3295, 'r': 3296, 'shivered': 3297, 'flabby': 3298, 'begun': 3299, 'bulky': 3300, 'taboo': 3301, 'lasts': 3302, 'cheats': 3303, 'cusses': 3304, 'farted': 3305, 'sobbed': 3306, 'yawned': 3307, 'blink': 3308, 'nasty': 3309, 'faking': 3310, 'taller': 3311, 'assume': 3312, 'tapes': 3313, 'glue': 3314, 'curt': 3315, 'gambles': 3316, 'gargled': 3317, 'meek': 3318, 'vain': 3319, 'reacted': 3320, 'sneered': 3321, 'sniffed': 3322, 'snorted': 3323, 'hell': 3324, 'dump': 3325, 'heel': 3326, 'drew': 3327, 'abandon': 3328, 'backup': 3329, 'litter': 3330, 'warmly': 3331, 'spoon': 3332, 'mocked': 3333, 'caviar': 3334, 'carded': 3335, 'ax': 3336, 'hives': 3337, 'improvised': 3338, 'rugby': 3339, 'suppose': 3340, 'sympathize': 3341, 'canned': 3342, 'framed': 3343, 'weighed': 3344, 'priest': 3345, 'purist': 3346, 'agent': 3347, 'famished': 3348, 'hungover': 3349, 'rebel': 3350, 'worn': 3351, 'solid': 3352, 'elk': 3353, 'noisy': 3354, 'heal': 3355, 'plant': 3356, 'setup': 3357, 'hearsay': 3358, 'suicide': 3359, 'bounce': 3360, 'mull': 3361, 'hip': 3362, 'cared': 3363, 'filming': 3364, 'gawking': 3365, 'whiff': 3366, 'rare': 3367, 'spam': 3368, 'approves': 3369, 'insisted': 3370, 'pudgy': 3371, 'sniffled': 3372, 'stutters': 3373, 'arabs': 3374, 'starve': 3375, 'ufo': 3376, 'amuse': 3377, 'gross': 3378, 'drown': 3379, 'mock': 3380, 'sass': 3381, 'healthily': 3382, 'bloom': 3383, 'riddance': 3384, 'advises': 3385, 'dug': 3386, 'british': 3387, 'grouch': 3388, 'jesuit': 3389, 'tycoon': 3390, 'acquired': 3391, 'added': 3392, 'classes': 3393, 'poker': 3394, 'exaggerated': 3395, 'drowsy': 3396, 'unwell': 3397, 'forbid': 3398, 'bonus': 3399, 'fleeced': 3400, 'crowds': 3401, 'flying': 3402, 'sirens': 3403, 'clocks': 3404, 'prunes': 3405, 'yacht': 3406, 'squash': 3407, 'resent': 3408, 'queen': 3409, 'firefox': 3410, 'pony': 3411, 'nights': 3412, 'trainee': 3413, 'parole': 3414, 'resentful': 3415, 'damaged': 3416, 'sickens': 3417, 'bomb': 3418, 'hoax': 3419, 'parody': 3420, 'sequel': 3421, 'indecent': 3422, 'instinct': 3423, 'obsolete': 3424, 'paddling': 3425, 'mortal': 3426, 'motion': 3427, 'aches': 3428, 'lungs': 3429, 'cage': 3430, 'active': 3431, 'obeys': 3432, 'livid': 3433, 'cutie': 3434, 'ease': 3435, 'frowning': 3436, 'scowling': 3437, 'heap': 3438, 'rad': 3439, 'mooed': 3440, 'embraced': 3441, 'pun': 3442, 'basic': 3443, 'exercises': 3444, 'graduated': 3445, 'goats': 3446, 'sexist': 3447, 'somber': 3448, 'stable': 3449, 'overdosed': 3450, 'shuddered': 3451, 'stiffened': 3452, 'tensed': 3453, 'testified': 3454, 'untie': 3455, 'assumed': 3456, 'trees': 3457, 'tools': 3458, 'opposed': 3459, 'candy': 3460, 'rebuild': 3461, 'anxious': 3462, 'winners': 3463, 'matured': 3464, 'hassle': 3465, 'disagrees': 3466, 'absent': 3467, 'coke': 3468, 'intruding': 3469, 'boats': 3470, 'sink': 3471, 'shovel': 3472, 'contact': 3473, 'tigers': 3474, 'purr': 3475, 'farts': 3476, 'gasps': 3477, 'lines': 3478, 'birthday': 3479, 'holidays': 3480, 'tan': 3481, 'gazed': 3482, 'writer': 3483, 'bankrupt': 3484, 'jelly': 3485, 'owes': 3486, 'hungarian': 3487, 'con': 3488, 'outlaw': 3489, 'henpecked': 3490, 'ached': 3491, 'perceptive': 3492, 'nail': 3493, 'draft': 3494, 'seasick': 3495, 'snubbed': 3496, 'guarantee': 3497, 'mishap': 3498, 'hailed': 3499, 'mondays': 3500, 'insects': 3501, 'ironing': 3502, 'karaoke': 3503, 'zealots': 3504, 'amnesia': 3505, 'thud': 3506, 'almonds': 3507, 'castles': 3508, 'oysters': 3509, 'sashimi': 3510, 'seafood': 3511, 'upstate': 3512, 'lasagna': 3513, 'sunsets': 3514, 'muffins': 3515, 'decline': 3516, 'insulin': 3517, 'asap': 3518, 'surgery': 3519, 'predicted': 3520, 'cattle': 3521, 'serve': 3522, 'sneeze': 3523, 'urge': 3524, 'memo': 3525, 'scold': 3526, 'merchant': 3527, 'minister': 3528, 'salesman': 3529, 'thumbs': 3530, 'farsighted': 3531, 'remodeling': 3532, 'killer': 3533, 'credible': 3534, 'common': 3535, 'fluke': 3536, 'magical': 3537, 'classic': 3538, 'firefly': 3539, 'ambush': 3540, 'dishonest': 3541, 'forbidden': 3542, 'cream': 3543, 'inspiring': 3544, 'vibrating': 3545, 'worthless': 3546, 'lend': 3547, 'clues': 3548, 'mum': 3549, 'joints': 3550, 'itches': 3551, 'tummy': 3552, 'ow': 3553, 'ditched': 3554, 'brains': 3555, 'prudish': 3556, 'swims': 3557, 'types': 3558, 'hottie': 3559, 'looker': 3560, 'poking': 3561, 'resisting': 3562, 'sir': 3563, 'plastic': 3564, 'honked': 3565, 'quarreled': 3566, 'babies': 3567, 'unsafe': 3568, 'hectic': 3569, 'draws': 3570, 'issues': 3571, 'scurvy': 3572, 'talent': 3573, 'felon': 3574, 'giant': 3575, 'lefty': 3576, 'mason': 3577, 'pilot': 3578, 'cynical': 3579, 'devoted': 3580, 'pompous': 3581, 'radical': 3582, 'shaving': 3583, 'slender': 3584, 'spoiled': 3585, 'unkempt': 3586, 'tofu': 3587, 'maps': 3588, 'stranded': 3589, 'unstable': 3590, 'sauce': 3591, 'rear': 3592, 'landed': 3593, 'couple': 3594, 'butchers': 3595, 'letdown': 3596, 'atm': 3597, 'reinstated': 3598, 'suggestions': 3599, 'purple': 3600, 'balls': 3601, 'bears': 3602, 'anytime': 3603, 'clip': 3604, 'crows': 3605, 'rap': 3606, 'freak': 3607, 'danced': 3608, 'fasten': 3609, 'fetch': 3610, 'whirl': 3611, 'onto': 3612, 'daddy': 3613, 'toyota': 3614, 'racket': 3615, 'intrigues': 3616, 'ethiopian': 3617, 'sweets': 3618, 'puts': 3619, 'airs': 3620, 'whisky': 3621, 'shouts': 3622, 'swindled': 3623, 'comedian': 3624, 'frat': 3625, 'gardener': 3626, 'newcomer': 3627, 'mud': 3628, 'hoist': 3629, 'sails': 3630, 'hypnotism': 3631, 'egypt': 3632, 'booked': 3633, 'carp': 3634, 'dealt': 3635, 'funerals': 3636, 'politics': 3637, 'raccoons': 3638, 'reptiles': 3639, 'heat': 3640, 'rug': 3641, 'alibi': 3642, 'dandruff': 3643, 'diabetes': 3644, 'immunity': 3645, 'thump': 3646, 'rains': 3647, 'elbow': 3648, 'imagined': 3649, 'lent': 3650, 'cartoons': 3651, 'westerns': 3652, 'interest': 3653, 'barbecue': 3654, 'comedies': 3655, 'eggplant': 3656, 'brownies': 3657, 'internet': 3658, 'caffeine': 3659, 'guidance': 3660, 'tape': 3661, 'shave': 3662, 'bills': 3663, 'orchids': 3664, 'relied': 3665, 'respected': 3666, 'pattern': 3667, 'coma': 3668, 'patrol': 3669, 'petrified': 3670, 'cameraman': 3671, 'chauffeur': 3672, 'housewife': 3673, 'lifeguard': 3674, 'masochist': 3675, 'owl': 3676, 'stutterer': 3677, 'frying': 3678, 'nearsighted': 3679, 'deck': 3680, 'replaceable': 3681, 'captain': 3682, 'hazardous': 3683, 'poisonous': 3684, 'zebra': 3685, 'ethical': 3686, 'poorly': 3687, 'option': 3688, 'burnt': 3689, 'ages': 3690, 'enticing': 3691, 'mushroom': 3692, 'travesty': 3693, 'artificial': 3694, 'dirt': 3695, 'loan': 3696, 'secure': 3697, 'tax': 3698, 'narrow': 3699, 'scarce': 3700, 'knead': 3701, 'dough': 3702, 'koalas': 3703, 'celebrate': 3704, 'kites': 3705, 'shrank': 3706, 'natto': 3707, 'october': 3708, 'wonders': 3709, 'planning': 3710, 'rake': 3711, 'saddle': 3712, 'sharks': 3713, 'brazilian': 3714, 'silk': 3715, 'spanish': 3716, 'nagging': 3717, 'squabbling': 3718, 'whimpering': 3719, 'pagoda': 3720, 'shadow': 3721, 'cast': 3722, 'growled': 3723, 'stank': 3724, 'tub': 3725, 'howled': 3726, 'actors': 3727, 'melons': 3728, 'interns': 3729, 'farce': 3730, 'private': 3731, 'pleases': 3732, 'each': 3733, 'burps': 3734, 'dances': 3735, 'exaggerates': 3736, 'ipad': 3737, 'client': 3738, 'jockey': 3739, 'player': 3740, 'welder': 3741, 'adapting': 3742, 'anorexic': 3743, 'athletic': 3744, 'cautious': 3745, 'childish': 3746, 'depraved': 3747, 'drenched': 3748, 'eloquent': 3749, 'immobile': 3750, 'insolent': 3751, 'likeable': 3752, 'reckless': 3753, 'sneezing': 3754, 'studious': 3755, 'tireless': 3756, 'tolerant': 3757, 'learns': 3758, 'dazed': 3759, 'falls': 3760, 'moose': 3761, 'photos': 3762, 'evasive': 3763, 'moaning': 3764, 'paralyzed': 3765, 'earned': 3766, 'yawn': 3767, 'walls': 3768, 'declared': 3769, 'raw': 3770, 'ponchos': 3771, 'waffles': 3772, 'experts': 3773, 'shared': 3774, 'farmers': 3775, 'camp': 3776, 'attorneys': 3777, 'comedians': 3778, 'gardeners': 3779, 'gentlemen': 3780, 'incorrect': 3781, 'neighbors': 3782, 'past': 3783, 'relatives': 3784, 'soulmates': 3785, 'blessing': 3786, 'prospect': 3787, 'weakling': 3788, 'stake': 3789, 'gpa': 3790, 'jello': 3791, 'unsure': 3792, 'mustn': 3793, 'rut': 3794, 'atlantis': 3795, 'snakes': 3796, 'beaks': 3797, 'climb': 3798, 'consult': 3799, 'pasta': 3800, 'rashly': 3801, 'disturb': 3802, 'exaggerate': 3803, 'groans': 3804, 'gossips': 3805, 'floating': 3806, 'purpose': 3807, 'useful': 3808, 'hobo': 3809, 'noon': 3810, 'speech': 3811, 'joker': 3812, 'acrobat': 3813, 'shares': 3814, 'soundly': 3815, 'tenacious': 3816, 'winked': 3817, 'lover': 3818, 'historian': 3819, 'nonsmoker': 3820, 'sophomore': 3821, 'hone': 3822, 'skills': 3823, 'melodramatic': 3824, 'norway': 3825, 'witch': 3826, 'weekly': 3827, 'appreciated': 3828, 'bumped': 3829, 'reach': 3830, 'deliver': 3831, 'pizzas': 3832, 'disregarded': 3833, 'drugs': 3834, 'dilemma': 3835, 'refreshed': 3836, 'drift': 3837, 'goosebumps': 3838, 'texts': 3839, 'reasons': 3840, 'fireworks': 3841, 'diploma': 3842, 'grenade': 3843, 'request': 3844, 'heartburn': 3845, 'insurance': 3846, 'pneumonia': 3847, 'wavy': 3848, 'journal': 3849, 'astrology': 3850, 'elephants': 3851, 'novel': 3852, 'mushrooms': 3853, 'uncles': 3854, 'mysteries': 3855, 'pop': 3856, 'papers': 3857, 'australia': 3858, 'astronomy': 3859, 'libraries': 3860, 'fortune': 3861, 'spaghetti': 3862, 'envelopes': 3863, 'soap': 3864, 'subtitles': 3865, 'planted': 3866, 'regret': 3867, 'require': 3868, 'rubbed': 3869, 'umbrellas': 3870, 'lease': 3871, 'strongly': 3872, 'divorce': 3873, 'martini': 3874, 'pal': 3875, 'raccoon': 3876, 'scooter': 3877, 'dumbstruck': 3878, 'raffle': 3879, 'bookkeeper': 3880, 'riser': 3881, 'programmer': 3882, 'shutterbug': 3883, 'ambidextrous': 3884, 'enthusiastic': 3885, 'freaking': 3886, 'fbi': 3887, 'housesitting': 3888, 'attic': 3889, 'inviting': 3890, 'beggar': 3891, 'paranoid': 3892, 'row': 3893, 'youngest': 3894, 'drawn': 3895, 'conscious': 3896, 'accessible': 3897, 'euros': 3898, 'perks': 3899, 'excessive': 3900, 'april': 3901, 'snowstorm': 3902, 'sunflower': 3903, 'balmy': 3904, 'conceivable': 3905, 'cooler': 3906, 'fetched': 3907, 'regrettable': 3908, 'transparent': 3909, 'unnecessary': 3910, 'asia': 3911, 'camping': 3912, 'darts': 3913, 'fleas': 3914, 'inbox': 3915, 'sunburn': 3916, 'beats': 3917, 'stung': 3918, 'oil': 3919, 'pets': 3920, 'pump': 3921, 'ending': 3922, 'rome': 3923, 'idolized': 3924, 'scene': 3925, 'repulses': 3926, 'bench': 3927, 'pitied': 3928, 'apologizing': 3929, 'taunting': 3930, 'touching': 3931, 'precautions': 3932, 'kindly': 3933, 'explains': 3934, 'avoidable': 3935, 'blackmail': 3936, 'idle': 3937, 'affair': 3938, 'issue': 3939, 'troubling': 3940, 'ticked': 3941, 'creaked': 3942, 'bucked': 3943, 'jury': 3944, 'mass': 3945, 'noes': 3946, 'limits': 3947, 'singers': 3948, 'plenty': 3949, 'amateurs': 3950, 'traitors': 3951, 'insanity': 3952, 'official': 3953, 'puzzling': 3954, 'relaxing': 3955, 'sabotage': 3956, 'shameful': 3957, 'shocking': 3958, 'norm': 3959, 'precious': 3960, 'admires': 3961, 'avoided': 3962, 'raft': 3963, 'coughs': 3964, 'fried': 3965, 'charisma': 3966, 'onions': 3967, 'drummer': 3968, 'gourmet': 3969, 'gymnast': 3970, 'hipster': 3971, 'pianist': 3972, 'realtor': 3973, 'trucker': 3974, 'intern': 3975, 'competent': 3976, 'deceitful': 3977, 'emotional': 3978, 'improving': 3979, 'inventive': 3980, 'legendary': 3981, 'oblivious': 3982, 'campus': 3983, 'overjoyed': 3984, 'perplexed': 3985, 'regretful': 3986, 'reluctant': 3987, 'shameless': 3988, 'suspended': 3989, 'owner': 3990, 'ponies': 3991, 'steals': 3992, 'suggested': 3993, 'swears': 3994, 'abducted': 3995, 'babbling': 3996, 'cremated': 3997, 'ecstatic': 3998, 'executed': 3999, 'selected': 4000, 'unshaven': 4001, 'berserk': 4002, 'bonkers': 4003, 'headstrong': 4004, 'undefeated': 4005, 'robbery': 4006, 'swordfish': 4007, 'crisis': 4008, 'theory': 4009, 'injuries': 4010, 'evacuate': 4011, 'withdraw': 4012, 'supplies': 4013, 'downsizing': 4014, 'historians': 4015, 'lifeguards': 4016, 'mates': 4017, 'fails': 4018, 'razor': 4019, 'uses': 4020, 'hamlet': 4021, 'wool': 4022, 'dyes': 4023, 'quote': 4024, 'distant': 4025, 'failure': 4026, 'lunatic': 4027, 'practical': 4028, 'leaf': 4029, 'under': 4030, 'arrest': 4031, 'nests': 4032, 'champagne': 4033, 'chuck': 4034, 'click': 4035, 'compare': 4036, 'imminent': 4037, 'ants': 4038, 'lager': 4039, 'latin': 4040, 'wanna': 4041, 'ignorant': 4042, 'crass': 4043, 'petty': 4044, 'pushy': 4045, 'fry': 4046, 'rung': 4047, 'blackmailed': 4048, 'carried': 4049, 'chewed': 4050, 'gum': 4051, 'deals': 4052, 'grain': 4053, 'roughly': 4054, 'vase': 4055, 'earns': 4056, 'fills': 4057, 'hanged': 4058, 'ego': 4059, 'daredevil': 4060, 'osaka': 4061, 'miles': 4062, 'wakes': 4063, 'raging': 4064, 'scripts': 4065, 'buff': 4066, 'timer': 4067, 'undergrad': 4068, 'georgia': 4069, 'trusting': 4070, 'heed': 4071, 'warnings': 4072, 'darkened': 4073, 'hamburger': 4074, 'sandwich': 4075, 'baited': 4076, 'hook': 4077, 'bid': 4078, 'cactus': 4079, 'webcam': 4080, 'shelter': 4081, 'upfront': 4082, 'chopin': 4083, 'register': 4084, 'vulnerable': 4085, 'grades': 4086, 'bee': 4087, 'sting': 4088, 'ground': 4089, 'breakdown': 4090, 'hypocrites': 4091, 'interviews': 4092, 'desert': 4093, 'backache': 4094, 'migraine': 4095, 'sailboat': 4096, 'earache': 4097, 'discs': 4098, 'savings': 4099, 'sleeve': 4100, 'jackpot': 4101, 'intend': 4102, 'navy': 4103, 'bitten': 4104, 'practicing': 4105, 'confidence': 4106, 'adventures': 4107, 'challenges': 4108, 'folk': 4109, 'sauerkraut': 4110, 'spicy': 4111, 'odds': 4112, 'watermelon': 4113, 'hotel': 4114, 'dam': 4115, 'earring': 4116, 'balance': 4117, 'hamburgers': 4118, 'performing': 4119, 'album': 4120, 'minutes': 4121, 'keyboard': 4122, 'protection': 4123, 'toothpaste': 4124, 'oversleep': 4125, 'abroad': 4126, 'hood': 4127, 'paused': 4128, 'tambourine': 4129, 'volleyball': 4130, 'pruned': 4131, 'jaw': 4132, 'pushed': 4133, 'recommended': 4134, 'airplane': 4135, 'sunrise': 4136, 'known': 4137, 'swallowed': 4138, 'bug': 4139, 'swept': 4140, 'geography': 4141, 'otherwise': 4142, 'highway': 4143, 'plates': 4144, 'confess': 4145, 'workout': 4146, 'sympathy': 4147, 'mugged': 4148, 'misinformed': 4149, 'outnumbered': 4150, 'trespassing': 4151, 'flirting': 4152, 'harvard': 4153, 'shotgun': 4154, 'sagittarius': 4155, 'trainer': 4156, 'worker': 4157, 'salesperson': 4158, 'accountant': 4159, 'astronomer': 4160, 'boiling': 4161, 'bringing': 4162, 'extremely': 4163, 'irreplaceable': 4164, 'materialistic': 4165, 'strongest': 4166, 'uncomfortable': 4167, 'evicted': 4168, 'diarrhea': 4169, 'pride': 4170, 'rumors': 4171, 'smoked': 4172, 'notarized': 4173, 'warranted': 4174, 'curfew': 4175, 'remedy': 4176, 'reward': 4177, 'stunning': 4178, 'pieces': 4179, 'ways': 4180, 'cooled': 4181, 'optional': 4182, 'massacre': 4183, 'convenient': 4184, 'disastrous': 4185, 'wobbly': 4186, 'club': 4187, 'dictionary': 4188, 'confidential': 4189, 'questionable': 4190, 'imprecise': 4191, 'starting': 4192, 'unauthorized': 4193, 'onerous': 4194, 'chin': 4195, 'wrestle': 4196, 'hut': 4197, 'straws': 4198, 'peek': 4199, 'ephemeral': 4200, 'conquers': 4201, 'transient': 4202, 'vivacious': 4203, 'opposites': 4204, 'attract': 4205, 'production': 4206, 'thorns': 4207, 'appeals': 4208, 'figure': 4209, 'turner': 4210, 'golden': 4211, 'lullaby': 4212, 'sloths': 4213, 'scale': 4214, 'mimicking': 4215, 'termites': 4216, 'essential': 4217, 'fir': 4218, 'exactly': 4219, 'defense': 4220, 'undeniable': 4221, 'handy': 4222, 'cable': 4223, 'snapped': 4224, 'crowd': 4225, 'donkey': 4226, 'brayed': 4227, 'squeaked': 4228, 'ajar': 4229, 'rotates': 4230, 'jammed': 4231, 'lemon': 4232, 'motor': 4233, 'meager': 4234, 'tactic': 4235, 'verdict': 4236, 'gods': 4237, 'cannibals': 4238, 'murderers': 4239, 'bucket': 4240, 'coconut': 4241, 'extortion': 4242, 'gibberish': 4243, 'insulting': 4244, 'irregular': 4245, 'justified': 4246, 'pointless': 4247, 'priceless': 4248, 'skim': 4249, 'tasteless': 4250, 'temporary': 4251, 'worrisome': 4252, 'silver': 4253, 'thursday': 4254, 'arrives': 4255, 'behaved': 4256, 'despised': 4257, 'appear': 4258, 'flinch': 4259, 'expects': 4260, 'iq': 4261, 'iphone': 4262, 'arthritis': 4263, 'skin': 4264, 'frostbite': 4265, 'seniority': 4266, 'hasn': 4267, 'juan': 4268, 'bookworm': 4269, 'jeweller': 4270, 'pushover': 4271, 'teenager': 4272, 'werewolf': 4273, 'believable': 4274, 'determined': 4275, 'custody': 4276, 'therapy': 4277, 'indecisive': 4278, 'insightful': 4279, 'intolerant': 4280, 'passionate': 4281, 'perspiring': 4282, 'possessive': 4283, 'stuttering': 4284, 'unfaithful': 4285, 'minor': 4286, 'trained': 4287, 'mumbles': 4288, 'outlived': 4289, 'poisoned': 4290, 'served': 4291, 'humbly': 4292, 'sneezes': 4293, 'bait': 4294, 'vomited': 4295, 'updates': 4296, 'fanatic': 4297, 'fireman': 4298, 'negligent': 4299, 'imaginative': 4300, 'acrylic': 4301, 'longer': 4302, 'liquid': 4303, 'vaccine': 4304, 'warrant': 4305, 'suppliers': 4306, 'witnesses': 4307, 'parks': 4308, 'canoe': 4309, 'battle': 4310, 'mothers': 4311, 'journalists': 4312, 'pulling': 4313, 'collection': 4314, 'tacky': 4315, 'delay': 4316, 'achieved': 4317, 'asking': 4318, 'target': 4319, 'arrive': 4320, 'melon': 4321, 'confucius': 4322, 'drama': 4323, 'c': 4324, 'woods': 4325, 'wriggle': 4326, 'actresses': 4327, 'error': 4328, 'bugging': 4329, 'particular': 4330, 'scaring': 4331, 'telling': 4332, 'unfriendly': 4333, 'scratched': 4334, 'comma': 4335, 'revolt': 4336, 'storm': 4337, 'brewing': 4338, 'admission': 4339, 'demanding': 4340, 'buddhist': 4341, 'believer': 4342, 'attendance': 4343, 'contains': 4344, 'hops': 4345, 'chirping': 4346, 'pillow': 4347, 'rackets': 4348, 'menu': 4349, 'caption': 4350, 'divide': 4351, 'conquer': 4352, 'mozart': 4353, 'copycat': 4354, 'patronize': 4355, 'relaxes': 4356, 'dust': 4357, 'shelf': 4358, 'endorse': 4359, 'dollar': 4360, 'tore': 4361, 'portion': 4362, 'breakable': 4363, 'broom': 4364, 'remote': 4365, 'wrench': 4366, 'thanksgiving': 4367, 'od': 4368, 'foolishly': 4369, 'mile': 4370, 'cycling': 4371, 'footsteps': 4372, 'daydreamer': 4373, 'fishmonger': 4374, 'heartless': 4375, 'lacks': 4376, 'judgement': 4377, 'retaliate': 4378, 'rolled': 4379, 'thrust': 4380, 'weighs': 4381, 'kilos': 4382, 'lottery': 4383, 'walker': 4384, 'critic': 4385, 'ghostwriter': 4386, 'keeper': 4387, 'meth': 4388, 'englishman': 4389, 'overconfident': 4390, 'fifty': 4391, 'scapegoat': 4392, 'torn': 4393, 'sooty': 4394, 'baggage': 4395, 'eludes': 4396, 'pace': 4397, 'quickened': 4398, 'untidy': 4399, 'refill': 4400, 'economy': 4401, 'museum': 4402, 'cope': 4403, 'absolutely': 4404, 'advise': 4405, 'customers': 4406, 'fond': 4407, 'prophet': 4408, 'fries': 4409, 'potato': 4410, 'chips': 4411, 'peanuts': 4412, 'clutch': 4413, 'exclude': 4414, 'imagine': 4415, 'clicked': 4416, 'detest': 4417, 'vodka': 4418, 'miserably': 4419, 'tests': 4420, 'fractured': 4421, 'bureaucracy': 4422, 'goat': 4423, 'most': 4424, 'complaint': 4425, 'nosebleed': 4426, 'telescope': 4427, 'blonde': 4428, 'frizzy': 4429, 'appetite': 4430, 'siblings': 4431, 'invoice': 4432, 'rehearse': 4433, 'cameras': 4434, 'nephews': 4435, 'tickets': 4436, 'hid': 4437, 'pans': 4438, 'jog': 4439, 'redecorated': 4440, 'imagination': 4441, 'irish': 4442, 'places': 4443, 'disco': 4444, 'photography': 4445, 'raspberries': 4446, 'translating': 4447, 'windsurfing': 4448, 'poverty': 4449, 'bearded': 4450, 'butterflies': 4451, 'fairy': 4452, 'tales': 4453, 'melody': 4454, 'promises': 4455, 'photocopies': 4456, 'mopped': 4457, 'pad': 4458, 'secretary': 4459, 'envelope': 4460, 'lotion': 4461, 'inspiration': 4462, 'nutmeg': 4463, 'doubted': 4464, 'trumpet': 4465, 'couch': 4466, 'explosion': 4467, 'slammed': 4468, 'nine': 4469, 'hours': 4470, 'cigarettes': 4471, 'psychology': 4472, 'ankle': 4473, 'unloaded': 4474, 'unplugged': 4475, 'fooling': 4476, 'paraphrasing': 4477, 'stiff': 4478, 'television': 4479, 'nagasaki': 4480, 'election': 4481, 'introduce': 4482, 'fianc': 4483, 'e': 4484, 'rusty': 4485, 'photographer': 4486, 'bats': 4487, 'harassed': 4488, 'claustrophobic': 4489, 'singapore': 4490, 'gaining': 4491, 'poorer': 4492, 'mood': 4493, 'health': 4494, 'bathtub': 4495, 'deadbeat': 4496, 'gangster': 4497, 'magician': 4498, 'pacifist': 4499, 'delusional': 4500, 'denying': 4501, 'invincible': 4502, 'slave': 4503, 'balcony': 4504, 'selling': 4505, 'somewhat': 4506, 'terribly': 4507, 'unenthusiastic': 4508, 'laid': 4509, 'gained': 4510, 'bliss': 4511, 'christian': 4512, 'satisfactory': 4513, 'chained': 4514, 'milkman': 4515, 'recyclable': 4516, 'breaks': 4517, 'improved': 4518, 'deadly': 4519, 'parallel': 4520, 'frustrating': 4521, 'preventable': 4522, 'relevant': 4523, 'extreme': 4524, 'coincidence': 4525, 'distraction': 4526, 'possibility': 4527, 'proven': 4528, 'effort': 4529, 'typo': 4530, 'seven': 4531, 'experiment': 4532, 'investment': 4533, 'booby': 4534, 'bound': 4535, 'disappointing': 4536, 'disconcerting': 4537, 'heartbreaking': 4538, 'plague': 4539, 'brass': 4540, 'merely': 4541, 'disease': 4542, 'pertinent': 4543, 'unforgettable': 4544, 'greece': 4545, 'anywhere': 4546, 'profile': 4547, 'lesson': 4548, 'trade': 4549, 'squabble': 4550, 'luckily': 4551, 'monopolies': 4552, 'universal': 4553, 'final': 4554, 'budget': 4555, 'meows': 4556, 'fuel': 4557, 'hunch': 4558, 'mailbox': 4559, 'zipper': 4560, 'immortal': 4561, 'forever': 4562, 'restored': 4563, 'owls': 4564, 'breed': 4565, 'strength': 4566, 'postcard': 4567, 'aid': 4568, 'pigeon': 4569, 'toed': 4570, 'ghostly': 4571, 'lonesome': 4572, 'antiques': 4573, 'happily': 4574, 'teaser': 4575, 'supermodel': 4576, 'losers': 4577, 'phoning': 4578, 'destroyed': 4579, 'intent': 4580, 'promising': 4581, 'sloppy': 4582, 'biggest': 4583, 'maximum': 4584, 'packed': 4585, 'stale': 4586, 'case': 4587, 'coast': 4588, 'concert': 4589, 'crow': 4590, 'doorknob': 4591, 'flame': 4592, 'wilted': 4593, 'fog': 4594, 'caved': 4595, 'waxing': 4596, 'drying': 4597, 'backfired': 4598, 'pond': 4599, 'server': 4600, 'shops': 4601, 'brightened': 4602, 'cleared': 4603, 'stars': 4604, 'telephone': 4605, 'squealed': 4606, 'waves': 4607, 'urgency': 4608, 'christians': 4609, 'carnations': 4610, 'fits': 4611, 'shaggy': 4612, 'painting': 4613, 'triangle': 4614, 'apricot': 4615, 'octagon': 4616, 'astounding': 4617, 'project': 4618, 'outlandish': 4619, 'outrageous': 4620, 'plagiarism': 4621, 'surprising': 4622, 'unbearable': 4623, 'unheard': 4624, 'rag': 4625, 'tighten': 4626, 'sniff': 4627, 'contacted': 4628, 'instantly': 4629, 'lemonade': 4630, 'enjoys': 4631, 'unwanted': 4632, 'headaches': 4633, 'mustache': 4634, 'ponytail': 4635, 'narcolepsy': 4636, 'john': 4637, 'candidate': 4638, 'librarian': 4639, 'machinist': 4640, 'activist': 4641, 'imposter': 4642, 'fart': 4643, 'bars': 4644, 'competitive': 4645, 'independent': 4646, 'inefficient': 4647, 'insensitive': 4648, 'intoxicated': 4649, 'stark': 4650, 'supervising': 4651, 'parent': 4652, 'names': 4653, 'partying': 4654, 'potatoes': 4655, 'pays': 4656, 'drum': 4657, 'refuses': 4658, 'remains': 4659, 'pacing': 4660, 'traveled': 4661, 'crusader': 4662, 'distraught': 4663, 'distressed': 4664, 'hysterical': 4665, 'irrational': 4666, 'subpoenaed': 4667, 'unbeatable': 4668, 'payday': 4669, 'affects': 4670}\n"
     ]
    }
   ],
   "source": [
    "print(eng_tokenizer.word_index)"
   ]
  },
  {
   "cell_type": "markdown",
   "id": "9ce2eeed",
   "metadata": {},
   "source": [
    "## tokenizing(fra)-target_text"
   ]
  },
  {
   "cell_type": "code",
   "execution_count": 16,
   "id": "28808086",
   "metadata": {},
   "outputs": [
    {
     "data": {
      "text/plain": [
       "[[1, 76, 8, 2], [1, 366, 3, 2], [1, 28, 513, 8, 2]]"
      ]
     },
     "execution_count": 16,
     "metadata": {},
     "output_type": "execute_result"
    }
   ],
   "source": [
    "fra_tokenizer = Tokenizer()\n",
    "# tokenizer.fit_on_texts(texts): 단어 데이터를 입력받아 리스트의 형태로 변환하는 메서드\n",
    "fra_tokenizer.fit_on_texts(lines.fra)\n",
    "# tokenizer.texts_to_sequences(texts): 텍스트 안의 단어들을 숫자의 시퀀스 형태로 변환하는 메서드\n",
    "target_text = fra_tokenizer.texts_to_sequences(lines.fra)\n",
    "target_text[:3]"
   ]
  },
  {
   "cell_type": "code",
   "execution_count": 17,
   "id": "15807484",
   "metadata": {},
   "outputs": [
    {
     "name": "stdout",
     "output_type": "stream",
     "text": [
      "{'<sos>': 1, '<eos>': 2, '.': 3, 'je': 4, 'est': 5, '?': 6, 'tom': 7, '!': 8, 'a': 9, 'vous': 10, 'j': 11, 'pas': 12, 'il': 13, 'le': 14, 'ai': 15, 'de': 16, 'nous': 17, 'l': 18, 'c': 19, 'ne': 20, 'suis': 21, 'tu': 22, 'd': 23, 's': 24, 'un': 25, 't': 26, 'la': 27, 'en': 28, 'n': 29, 'ce': 30, 'me': 31, 'tes': 32, 'es': 33, 'une': 34, 'que': 35, 'les': 36, 'm': 37, 'e': 38, 'moi': 39, 'te': 40, 'elle': 41, ',': 42, 'tait': 43, 'sont': 44, 'ils': 45, 'y': 46, 'sommes': 47, 'fait': 48, 'r': 49, 'tout': 50, 'elles': 51, 'qui': 52, 'des': 53, 'mon': 54, 'aime': 55, 're': 56, 'toi': 57, 'bien': 58, 'as': 59, 'ici': 60, 'tr': 61, 'pr': 62, 'se': 63, 'arr': 64, 'du': 65, 'on': 66, 'besoin': 67, 'air': 68, 'faire': 69, 'avez': 70, 'peux': 71, 'avons': 72, 'ont': 73, 'cela': 74, 'personne': 75, 'va': 76, 'veux': 77, 'votre': 78, 'qu': 79, 'tais': 80, 'fais': 81, 'tre': 82, 'ma': 83, 'ton': 84, 'faut': 85, 'comment': 86, 'tous': 87, 'aller': 88, 'trop': 89, 'monde': 90, 'adore': 91, 'au': 92, 'maintenant': 93, 'pour': 94, 'train': 95, 'si': 96, 'bon': 97, 'o': 98, 'soyez': 99, 'mal': 100, 'cette': 101, 'dans': 102, 'lui': 103, 'ceci': 104, 'peut': 105, 'maison': 106, 'puis': 107, 'partir': 108, 'sois': 109, 'sens': 110, 'toutes': 111, 'voiture': 112, 'occup': 113, 'teste': 114, 'pla': 115, 'mes': 116, 'vu': 117, 'dois': 118, 'faites': 119, 'plus': 120, 'p': 121, 'avec': 122, 'v': 123, 'comme': 124, 'vais': 125, 'g': 126, 'jamais': 127, 'dit': 128, 'ta': 129, 'pourquoi': 130, 'laisse': 131, 'chien': 132, 'sur': 133, 'fort': 134, 'sais': 135, 'vraiment': 136, 'quelle': 137, 'encore': 138, 'aider': 139, 'quel': 140, 'voir': 141, 'juste': 142, 'beaucoup': 143, 'chez': 144, 'temps': 145, 'rien': 146, 'laissez': 147, 'viens': 148, 'deux': 149, 'seul': 150, 'aide': 151, 'reste': 152, 'son': 153, 'travail': 154, 'tez': 155, 'prends': 156, 'avait': 157, 'f': 158, 'porte': 159, 'bonne': 160, 'allez': 161, 'nouveau': 162, 'ais': 163, 'perdu': 164, 'prie': 165, 'par': 166, 'restez': 167, 'quelqu': 168, 'marie': 169, 'fran': 170, 'fatigu': 171, 'livre': 172, 'appr': 173, 'tellement': 174, 'heureux': 175, 'pouvez': 176, 'argent': 177, 'dis': 178, 'prenez': 179, 'semble': 180, 'peu': 181, 'eu': 182, 'agit': 183, 'quoi': 184, 'regarde': 185, 'id': 186, 'coup': 187, 'confiance': 188, 'assez': 189, 'pris': 190, 'all': 191, 'termin': 192, 'chose': 193, 'aujourd': 194, 'hui': 195, 'donne': 196, 'non': 197, 'pouvons': 198, 'allons': 199, 'grand': 200, 'b': 201, 'eau': 202, 've': 203, 'mort': 204, 'accord': 205, 'vie': 206, 'ci': 207, 'connais': 208, 'notre': 209, 'manger': 210, 'parle': 211, 'quelque': 212, 'fini': 213, 'bless': 214, 'vrai': 215, 'faim': 216, 'calme': 217, 'heure': 218, 'vite': 219, 'yeux': 220, 'trouv': 221, 'pense': 222, 'voici': 223, 'mieux': 224, 'malade': 225, 'lit': 226, 'parler': 227, 'arrive': 228, 'laiss': 229, 'h': 230, 'veuillez': 231, 'fut': 232, 'sait': 233, 'homme': 234, 'simplement': 235, 'sans': 236, 'gros': 237, 'curit': 238, 'avoir': 239, 'pi': 240, 'attention': 241, 'raison': 242, 'mauvais': 243, 'avais': 244, 'essaie': 245, 'entendu': 246, 'toujours': 247, 'froid': 248, 'ter': 249, 'boulot': 250, 'veill': 251, 'nager': 252, 'ge': 253, 'chercher': 254, 'aussi': 255, 'main': 256, 'essayer': 257, 'regardez': 258, 'cass': 259, 'senti': 260, 'cole': 261, 'tard': 262, 'ch': 263, 'col': 264, 'probl': 265, 'dire': 266, 'cie': 267, 'vos': 268, 'tranquille': 269, 'passe': 270, 'rieur': 271, 'triste': 272, 'go': 273, 'venir': 274, 'mary': 275, 'devrais': 276, 'pourrait': 277, 'gagn': 278, 'sol': 279, 'chat': 280, 'int': 281, 'peur': 282, 'tions': 283, 'tomber': 284, 'dites': 285, 'retard': 286, 'chance': 287, 'gar': 288, 'sa': 289, 'chambre': 290, 'vois': 291, 'et': 292, 'travaille': 293, 'cl': 294, 'dehors': 295, 'presque': 296, 'parti': 297, 'rent': 298, 'esp': 299, 'bi': 300, 'merci': 301, 'vas': 302, 'venez': 303, 'donnez': 304, 'trouve': 305, 'che': 306, 'venu': 307, 'mis': 308, 'seule': 309, 'fou': 310, 'chanter': 311, 'appel': 312, 'aux': 313, 'prendre': 314, 'facile': 315, 'vue': 316, 'mourir': 317, 'vin': 318, 'cr': 319, 'vient': 320, 'aimes': 321, 'vieux': 322, 'pass': 323, 'pleurer': 324, 'enfants': 325, 'entrer': 326, 'travailler': 327, 'idiot': 328, 'heureuse': 329, 'contrari': 330, 'dispose': 331, 'arriv': 332, 'veut': 333, 'arme': 334, 'femme': 335, 'mange': 336, 'aucun': 337, 'grande': 338, 'courir': 339, 'vis': 340, 'assis': 341, 'lire': 342, 'journ': 343, 'fils': 344, 'mang': 345, 'doit': 346, 'donn': 347, 'verre': 348, 'dormir': 349, 'rieux': 350, 'petit': 351, 'enfant': 352, 'gentil': 353, 'dessus': 354, 'place': 355, 'rester': 356, 'bus': 357, 'cheveux': 358, 'br': 359, 'chaud': 360, 'plan': 361, 'amour': 362, 'bas': 363, 'caf': 364, 'taient': 365, 'marche': 366, 'debout': 367, 'bras': 368, 'garde': 369, 'bizarre': 370, 'dr': 371, 'invit': 372, 'aucune': 373, 'irai': 374, 'continue': 375, 'chapeau': 376, 'ob': 377, 'dur': 378, 'tort': 379, 'marcher': 380, 'mari': 381, 'bois': 382, 'amis': 383, 'attends': 384, 'continuez': 385, 'tomb': 386, 'demande': 387, 'montre': 388, 'attendre': 389, 'serai': 390, 'ur': 391, 'res': 392, 'cher': 393, 'choix': 394, 'plut': 395, 'appelle': 396, 'joue': 397, 'aim': 398, 'ville': 399, 'sortir': 400, 'pourrais': 401, 'peuvent': 402, 'crois': 403, 'essayez': 404, 'riche': 405, 'voil': 406, 'sac': 407, 'difficile': 408, 'plein': 409, 'quiconque': 410, 'devenu': 411, 'rencontr': 412, 'nom': 413, 'fois': 414, 'rit': 415, 'filles': 416, 'demain': 417, 'continu': 418, 'libre': 419, 'chiens': 420, 'soit': 421, 'prudent': 422, 'gagner': 423, 'na': 424, 'jeuner': 425, 'ami': 426, 'quand': 427, 'partie': 428, 'sors': 429, 'essay': 430, 'ferme': 431, 'content': 432, 'apr': 433, 'crit': 434, 'payer': 435, 'musique': 436, 'boston': 437, 'voulez': 438, 'attendez': 439, 'avance': 440, 'carte': 441, 'oubli': 442, 'th': 443, 'davantage': 444, 'voulons': 445, 'sauv': 446, 'faisons': 447, 'tir': 448, 'importe': 449, 'rest': 450, 'prudente': 451, 'super': 452, 'ment': 453, 'mets': 454, 'heures': 455, 'compte': 456, 'ts': 457, 'achet': 458, 'sympa': 459, 'chemin': 460, 'cheval': 461, 'sera': 462, 'tiens': 463, 'autre': 464, 'parl': 465, 'amus': 466, 'march': 467, 'fille': 468, 'amusant': 469, 'devons': 470, 'galement': 471, 'chanson': 472, 'am': 473, 'point': 474, 'espoir': 475, 'manque': 476, 'ses': 477, 'trouver': 478, 'veulent': 479, 'ons': 480, 'pars': 481, 'timide': 482, 'pied': 483, 'parfait': 484, 'marrant': 485, 'blague': 486, 'nuit': 487, 'jeune': 488, 'savoir': 489, 'rire': 490, 'feu': 491, 'honn': 492, 'leur': 493, 'arriver': 494, 'mauvaise': 495, 'lentement': 496, 'decin': 497, 'ceux': 498, 'dormi': 499, 'tiez': 500, 'celui': 501, 'cet': 502, 'sormais': 503, 'menti': 504, 'sortez': 505, 'plait': 506, 'sent': 507, 'mien': 508, 'lait': 509, 'faute': 510, 'histoire': 511, 'lo': 512, 'route': 513, 'pay': 514, 'court': 515, 'ouvre': 516, 'bient': 517, 'regard': 518, 'rouge': 519, 'premier': 520, 'souvent': 521, 'chang': 522, 'coute': 523, 'asseoir': 524, 'vide': 525, 'aimez': 526, 'tenez': 527, 'avis': 528, 'haut': 529, 'ri': 530, 'nourriture': 531, 'lis': 532, 'chante': 533, 'plaisir': 534, 'faux': 535, 'seconde': 536, 'poisson': 537, 'chats': 538, 'commen': 539, 'tour': 540, 'moment': 541, 'parer': 542, 'manqu': 543, 'vol': 544, 'envoy': 545, 'entre': 546, 'signe': 547, 'beau': 548, 'parole': 549, 'ferai': 550, 'lev': 551, 'entra': 552, 'rendu': 553, 'nez': 554, 'ces': 555, 'stylo': 556, 'effray': 557, 'ner': 558, 'rapidement': 559, 'toute': 560, 'famille': 561, 'voyage': 562, 'fr': 563, 'bureau': 564, 'tendu': 565, 'rendre': 566, 'ainsi': 567, 'derri': 568, 'seuls': 569, 'vieille': 570, 'oui': 571, 'danger': 572, 'savez': 573, 'bo': 574, 'demand': 575, 'attrap': 576, 'faisait': 577, 'conna': 578, 'stupide': 579, 'ou': 580, 'regarder': 581, 'incroyable': 582, 'ensemble': 583, 'part': 584, 'vit': 585, 'photo': 586, 'ponse': 587, 'suffit': 588, 'gardez': 589, 'horrible': 590, 'folle': 591, 'seules': 592, 'normal': 593, 'danser': 594, 'honte': 595, 'nerveux': 596, 'entendre': 597, 'combien': 598, 'jouer': 599, 'prix': 600, 'jour': 601, 'mains': 602, 'terre': 603, 'essaye': 604, 'gentille': 605, 'fous': 606, 'touch': 607, 'mettez': 608, 'rapide': 609, 'paresseux': 610, 'parlez': 611, 'reviens': 612, 'oubliez': 613, 'emploi': 614, 'abandonn': 615, 'mienne': 616, 'ouvert': 617, 'rends': 618, 'envie': 619, 'sentis': 620, 'souviens': 621, 'commenc': 622, 'mit': 623, 'fl': 624, 'celles': 625, 'erreur': 626, 'boire': 627, 'aimerais': 628, 'note': 629, 'jusqu': 630, 'rer': 631, 'celle': 632, 'phone': 633, 'ans': 634, 'sinc': 635, 'ext': 636, 'aidez': 637, 'ouvrez': 638, 'belle': 639, 'fi': 640, 'faible': 641, 'nial': 642, 'oublie': 643, 'savais': 644, 'retraite': 645, 'vus': 646, 'arm': 647, 'sentie': 648, 'sommeil': 649, 'chant': 650, 'aimons': 651, 'horreur': 652, 'fis': 653, 'neige': 654, 'fit': 655, 'devrions': 656, 'sentait': 657, 'battre': 658, 'aise': 659, 'devez': 660, 'fermez': 661, 'dieu': 662, 'voulais': 663, 'cours': 664, 'vers': 665, 'venue': 666, 'tromp': 667, 'entends': 668, 'fus': 669, 'type': 670, 'pouvais': 671, 'livres': 672, 'patron': 673, 'cesse': 674, 'morts': 675, 'manteau': 676, 'appeler': 677, 'bonjour': 678, 'comprends': 679, 'entrez': 680, 'avant': 681, 'forme': 682, 'mignon': 683, 'aid': 684, 'morte': 685, 'touche': 686, 'nouvelle': 687, 'nerv': 688, 'propre': 689, 'saoul': 690, 'mentir': 691, 'nu': 692, 'petite': 693, 'rentrer': 694, 'cuisine': 695, 'ussi': 696, 'satisfait': 697, 'apporte': 698, 'intelligent': 699, 'important': 700, 'droite': 701, 'soif': 702, 'contente': 703, 'thomas': 704, 'courant': 705, 'chaussures': 706, 'impliqu': 707, 'flics': 708, 'poss': 709, 'bateau': 710, 'lumi': 711, 'surpris': 712, 'minute': 713, 'prenons': 714, 'portes': 715, 'continuait': 716, 'bouge': 717, 'commence': 718, 'appelez': 719, 'grosse': 720, 'assieds': 721, 'asseyez': 722, 'sombre': 723, 'simple': 724, 'rendez': 725, 'cuisiner': 726, 'confectionn': 727, 'ros': 728, 'perdre': 729, 'tudie': 730, 'guerre': 731, 'conduire': 732, 'service': 733, 'bourr': 734, 'embrass': 735, 'viande': 736, 'bonnes': 737, 'meilleur': 738, 'affaire': 739, 'noir': 740, 'sourire': 741, 'pieds': 742, 'vont': 743, 'teau': 744, 'addition': 745, 'impressionn': 746, 'motiv': 747, 'co': 748, 'bruit': 749, 'film': 750, 'salut': 751, 'sant': 752, 'monte': 753, 'camp': 754, 'pleur': 755, 'mouill': 756, 'quipe': 757, 'attrape': 758, 'sortie': 759, 'souri': 760, 'neuf': 761, 'cris': 762, 'frapp': 763, 'vues': 764, 'serais': 765, 'trois': 766, 'soin': 767, 'hommes': 768, 'quitt': 769, 'retour': 770, 'loup': 771, 'sp': 772, 'fil': 773, 'curieux': 774, 'vir': 775, 'ferais': 776, 'buvez': 777, 'taxi': 778, 'pizza': 779, 'loi': 780, 'contr': 781, 'lib': 782, 'disparu': 783, 'bu': 784, 'semaine': 785, 'voix': 786, 'paix': 787, 'devrait': 788, 'semblez': 789, 'cool': 790, 'ach': 791, 'mangez': 792, 'compris': 793, 'mani': 794, 'montrez': 795, 'veille': 796, 'demandez': 797, 'sentez': 798, 'cessez': 799, 'aveugle': 800, 'sale': 801, 'tourne': 802, 'chanceux': 803, 'loin': 804, 'ira': 805, 'command': 806, 'souci': 807, 'hais': 808, 'rappelle': 809, 'silencieux': 810, 'inqui': 811, 'emporter': 812, 'heureuses': 813, 'compter': 814, 'gagne': 815, 'choqu': 816, 'verrouill': 817, 'liste': 818, 'mille': 819, 'entr': 820, 'bain': 821, 'dingue': 822, 'imm': 823, 'diatement': 824, 'droit': 825, 'tage': 826, 'chatte': 827, 'amie': 828, 'cid': 829, 'crire': 830, 'attentivement': 831, 'nos': 832, 'hurler': 833, 'choses': 834, 'chef': 835, 'mesure': 836, 'tudiant': 837, 'diff': 838, 'prot': 839, 'cloche': 840, 'tasse': 841, 'gles': 842, 'trahi': 843, 'emport': 844, 'souris': 845, 'gage': 846, 'rentre': 847, 'conduis': 848, 'promis': 849, 'verrouille': 850, 'grave': 851, 'chou': 852, 'paie': 853, 'magnifique': 854, 'savait': 855, 'pleure': 856, 'suivez': 857, 'fonctionn': 858, 'trente': 859, 'arri': 860, 'idiote': 861, 'rieuse': 862, 'changer': 863, 'parviens': 864, 'nouvelles': 865, 'confus': 866, 'amoureux': 867, 'gal': 868, 'secret': 869, 'pommes': 870, 'refus': 871, 'ferm': 872, 'grossier': 873, 'actuellement': 874, 'tant': 875, 'drogu': 876, 'coupable': 877, 'avions': 878, 'but': 879, 'rhume': 880, 'pleut': 881, 'fen': 882, 'lequel': 883, 'embrasser': 884, 'endroit': 885, 'vision': 886, 'tres': 887, 'intention': 888, 'couteau': 889, 'dangereux': 890, 'attraper': 891, 'jours': 892, 'ouverte': 893, 'alors': 894, 'montez': 895, 'hors': 896, 'question': 897, 'fantastique': 898, 'quitte': 899, 'pue': 900, 'tent': 901, 'malheureux': 902, 'courageux': 903, 'chouette': 904, 'sorti': 905, 'clair': 906, 'fonctionne': 907, 'formidable': 908, 'choisis': 909, 'rentr': 910, 'cri': 911, 'ivre': 912, 'dure': 913, 'vot': 914, 'attendu': 915, 'engag': 916, 'doute': 917, 'u': 918, 'crev': 919, 'forte': 920, 'tien': 921, 'partons': 922, 'taille': 923, 'jetez': 924, 'liquide': 925, 'habite': 926, 'eux': 927, 'parie': 928, 'perplexe': 929, 'excit': 930, 'risque': 931, 'allum': 932, 'ro': 933, 'demander': 934, 'preuve': 935, 'bris': 936, 'cancer': 937, 'concentr': 938, 'lisez': 939, 'continuer': 940, 'douleur': 941, 'fumer': 942, 'aiment': 943, 'ver': 944, 'mortes': 945, 'lu': 946, 'professeur': 947, 'compl': 948, 'tement': 949, 'peine': 950, 'table': 951, 'douche': 952, 'arbre': 953, 'folles': 954, 'jeu': 955, 'amies': 956, 'sembles': 957, 'pleine': 958, 'balle': 959, 'apport': 960, 'soleil': 961, 'assit': 962, 'magasin': 963, 'soulag': 964, 'press': 965, 'froide': 966, 'ra': 967, 'coutez': 968, 'fiche': 969, 'doucement': 970, 'fume': 971, 'faits': 972, 'partez': 973, 'grossi': 974, 'repos': 975, 'utilise': 976, 'rez': 977, 'skier': 978, 'huit': 979, 'bouger': 980, 'sang': 981, 'prudents': 982, 'partis': 983, 'dedans': 984, 'patient': 985, 'apportez': 986, 'sentais': 987, 'sujet': 988, 'proximit': 989, 'conduit': 990, 'devint': 991, 'mec': 992, 'endormi': 993, 'prim': 994, 'ufs': 995, 'licenci': 996, 'lav': 997, 'nie': 998, 'plaisante': 999, 'malchanceux': 1000, 'mettre': 1001, 'mercis': 1002, 'instant': 1003, 'exact': 1004, 'libres': 1005, 'reposer': 1006, 'tient': 1007, 'bons': 1008, 'tudier': 1009, 'suite': 1010, 'font': 1011, 'bre': 1012, 'soir': 1013, 'souhaite': 1014, 'profond': 1015, 'acheter': 1016, 'vre': 1017, 'fallait': 1018, 'gens': 1019, 'port': 1020, 'dirai': 1021, 'para': 1022, 'suffisant': 1023, 'excus': 1024, 'pondu': 1025, 'appareil': 1026, 'changement': 1027, 'connaissez': 1028, 'bicyclette': 1029, 'venus': 1030, 'chaise': 1031, 'seulement': 1032, 'ress': 1033, 'pomme': 1034, 'travaillent': 1035, 'cravate': 1036, 'enseignant': 1037, 'classe': 1038, 'rement': 1039, 'ennemi': 1040, 'vraie': 1041, 'destin': 1042, 'pu': 1043, 'jambes': 1044, 'possible': 1045, 'verrouillez': 1046, 'pousse': 1047, 'savons': 1048, 'pare': 1049, 'jou': 1050, 'attrapez': 1051, 'amuse': 1052, 'able': 1053, 'phon': 1054, 'refuse': 1055, 'certain': 1056, 'donc': 1057, 'marr': 1058, 'oiseaux': 1059, 'mens': 1060, 'abandonne': 1061, 'remarqu': 1062, 'fauch': 1063, 'approche': 1064, 'prudentes': 1065, 'miennes': 1066, 'bord': 1067, 'rifie': 1068, 'dernier': 1069, 'alit': 1070, 'terrible': 1071, 'proc': 1072, 'maman': 1073, 'sourit': 1074, 'grands': 1075, 'dingues': 1076, 'donner': 1077, 'nerveuse': 1078, 'lundi': 1079, 'largu': 1080, 'rencontrer': 1081, 'ambitieux': 1082, 'aimait': 1083, 'souffre': 1084, 'excuses': 1085, 'facilement': 1086, 'avocat': 1087, 'courses': 1088, 'meilleure': 1089, 'essayons': 1090, 'mangent': 1091, 'pause': 1092, 'trange': 1093, 'suivi': 1094, 'stup': 1095, 'mots': 1096, 'emm': 1097, 'oiseau': 1098, 'fallu': 1099, 'volontaire': 1100, 'prendrai': 1101, 'vivre': 1102, 'coffre': 1103, 'silence': 1104, 'arrivent': 1105, 'coupe': 1106, 'semblait': 1107, 'retourne': 1108, 'cong': 1109, 'mer': 1110, 'suffisamment': 1111, 'jaloux': 1112, 'dort': 1113, 'no': 1114, 'soyons': 1115, 'montrer': 1116, 'rarement': 1117, 'aurais': 1118, 'banque': 1119, 'message': 1120, 'croit': 1121, 'disposons': 1122, 'hier': 1123, 'voyager': 1124, 'bri': 1125, 'chemise': 1126, 'unique': 1127, 'commencez': 1128, 'tends': 1129, 'pardon': 1130, 'quittez': 1131, 'tenu': 1132, 'gras': 1133, 'passez': 1134, 'poussez': 1135, 'ves': 1136, 'courage': 1137, 'descends': 1138, 'amusez': 1139, 'chauve': 1140, 'tendue': 1141, 'disponible': 1142, 'langue': 1143, 'mise': 1144, 'terai': 1145, 'coinc': 1146, 'pleura': 1147, 'chaude': 1148, 'assise': 1149, 'miens': 1150, 'devoir': 1151, 'pardonne': 1152, 'pauvre': 1153, 'malin': 1154, 'derni': 1155, 'menteur': 1156, 'libataire': 1157, 'ignore': 1158, 'tons': 1159, 'riches': 1160, 'grandes': 1161, 'cingl': 1162, 'commencer': 1163, 'crie': 1164, 'rifier': 1165, 'dix': 1166, 'furieux': 1167, 'amoureuse': 1168, 'appartient': 1169, 'pleuvoir': 1170, 'papier': 1171, 'dors': 1172, 'utile': 1173, 'rouges': 1174, 'lent': 1175, 'ennuie': 1176, 'aie': 1177, 'boisson': 1178, 'donna': 1179, 'emb': 1180, 'ador': 1181, 'perds': 1182, 'nage': 1183, 'enseigne': 1184, 'fin': 1185, 'choc': 1186, 'ann': 1187, 'vent': 1188, 'affaires': 1189, 'piti': 1190, 'japonais': 1191, 'exag': 1192, 'football': 1193, 'convaincu': 1194, 'surprise': 1195, 'douloureux': 1196, 'fuite': 1197, 'tourn': 1198, 'marre': 1199, 'crier': 1200, 'voulait': 1201, 'surveille': 1202, 'venues': 1203, 'sorient': 1204, 'lunettes': 1205, 'voudrais': 1206, 'an': 1207, 'continua': 1208, 'chapper': 1209, 'garder': 1210, 'portait': 1211, 'partout': 1212, 'ennuis': 1213, 'responsable': 1214, 'parfaite': 1215, 'ridicule': 1216, 'visite': 1217, 'vement': 1218, 'exemple': 1219, 'oh': 1220, 'cas': 1221, 'ah': 1222, 'calmes': 1223, 'tire': 1224, 'campe': 1225, 'cassez': 1226, 'recule': 1227, 'bougez': 1228, 'reculez': 1229, 'trouvez': 1230, 'descendez': 1231, 'agr': 1232, 'i': 1233, 'paierai': 1234, 'sourd': 1235, 'mince': 1236, 'partit': 1237, 'crivez': 1238, 'revenez': 1239, 'cinq': 1240, 'voler': 1241, 'trich': 1242, 'viendrai': 1243, 'vivant': 1244, 'chanceuse': 1245, 'correct': 1246, 'rel': 1247, 'ponds': 1248, 'satisfaits': 1249, 'choisissez': 1250, 'exercice': 1251, 'suppose': 1252, 'cu': 1253, 'bleu': 1254, 'ler': 1255, 'vote': 1256, 'reux': 1257, 'ski': 1258, 'inutile': 1259, 'jette': 1260, 'pain': 1261, 'prise': 1262, 'fie': 1263, 'ni': 1264, 'pondre': 1265, 'sid': 1266, 'autour': 1267, 'chis': 1268, 'penses': 1269, 'viendra': 1270, 'missionner': 1271, 'chapp': 1272, 'travaillez': 1273, 'joindre': 1274, 'pourrions': 1275, 'ayez': 1276, 'moiti': 1277, 'tique': 1278, 'sucre': 1279, 'preuves': 1280, 'divorc': 1281, 'sesp': 1282, 'enceinte': 1283, 'ravi': 1284, 'injuste': 1285, 'blanc': 1286, 'lieu': 1287, 'abord': 1288, 'finie': 1289, 'or': 1290, 'abattu': 1291, 'horloge': 1292, 'cru': 1293, 'cess': 1294, 'obtenu': 1295, 'cesser': 1296, 'fallut': 1297, 'mot': 1298, 'coin': 1299, 'conclu': 1300, 'sous': 1301, 'artiste': 1302, 'neur': 1303, 'contact': 1304, 'restons': 1305, 'inquiet': 1306, 'vaches': 1307, 'utiliser': 1308, 'animaux': 1309, 'chir': 1310, 'occuper': 1311, 'bouche': 1312, 'nul': 1313, 'siffler': 1314, 'truc': 1315, 'cis': 1316, 'allume': 1317, 'visage': 1318, 'chaque': 1319, 'ordinateur': 1320, 'frais': 1321, 'prit': 1322, 'cision': 1323, 'pardonn': 1324, 'posez': 1325, 'dirigeons': 1326, 'fier': 1327, 'appelles': 1328, 'doigts': 1329, 'parents': 1330, 'baisse': 1331, 'attaque': 1332, 'casse': 1333, 'guerpissez': 1334, 'lin': 1335, 'ronfle': 1336, 'veillez': 1337, 'devant': 1338, 'mignonne': 1339, 'revenu': 1340, 'laid': 1341, 'sienne': 1342, 'pouse': 1343, 'pondez': 1344, 'excuse': 1345, 'cras': 1346, 'glouss': 1347, 'aille': 1348, 'aiderai': 1349, 'courageuse': 1350, 'brave': 1351, 'nue': 1352, 'cart': 1353, 'retrait': 1354, 'allong': 1355, 'immobile': 1356, 'mais': 1357, 'voyez': 1358, 'merveilleux': 1359, 'imb': 1360, 'vigilant': 1361, 'satisfaites': 1362, 'face': 1363, 'ruin': 1364, 'ressenti': 1365, 'devenue': 1366, 'cout': 1367, 'partirai': 1368, 'resterai': 1369, 'abri': 1370, 'accept': 1371, 'mordu': 1372, 'boit': 1373, 'cria': 1374, 'discr': 1375, 'arrives': 1376, 'range': 1377, 'discuter': 1378, 'rendue': 1379, 'golf': 1380, 'soupe': 1381, 'pari': 1382, 'battu': 1383, 'gime': 1384, 'jalouse': 1385, 'long': 1386, 'couvert': 1387, 'moins': 1388, 'attendons': 1389, 'pensez': 1390, 'noy': 1391, 'devin': 1392, 'gueule': 1393, 'connaissons': 1394, 'manques': 1395, 'manquez': 1396, 'agir': 1397, 'jumeaux': 1398, 'dommage': 1399, 'objectif': 1400, 'po': 1401, 'moque': 1402, 'endormie': 1403, 'justice': 1404, 'papa': 1405, 'affam': 1406, 'intr': 1407, 'gel': 1408, 'pays': 1409, 'offens': 1410, 'rifi': 1411, 'mensonge': 1412, 'hideux': 1413, 'journal': 1414, 'creuser': 1415, 'leva': 1416, 'fera': 1417, 'cruel': 1418, 'effrayant': 1419, 'bl': 1420, 'tirer': 1421, 'apeur': 1422, 'poli': 1423, 'vivons': 1424, 'jug': 1425, 'sortons': 1426, 'missionn': 1427, 'idiots': 1428, 'talent': 1429, 'gard': 1430, 'fleurs': 1431, 'anglais': 1432, 'adorable': 1433, 'poids': 1434, 'poste': 1435, 'hiver': 1436, 'clef': 1437, 'chevaux': 1438, 'refuser': 1439, 'hicul': 1440, 'armes': 1441, 'pouvoir': 1442, 'intrigu': 1443, 'terrifi': 1444, 'assur': 1445, 'pourvu': 1446, 'sucr': 1447, 'rend': 1448, 'vaut': 1449, 'voit': 1450, 'num': 1451, 'lacet': 1452, 'six': 1453, 'decins': 1454, 'recrut': 1455, 'travailles': 1456, 'match': 1457, 'grimpe': 1458, 'camionnette': 1459, 'vacances': 1460, 'prison': 1461, 'trahie': 1462, 'peint': 1463, 'laisser': 1464, 'attaqu': 1465, 'coop': 1466, 'contre': 1467, 'convient': 1468, 'commande': 1469, 'sympathique': 1470, 'esprit': 1471, 'habill': 1472, 'dents': 1473, 'tudiante': 1474, 'devient': 1475, 'crayon': 1476, 'crime': 1477, 'amuser': 1478, 'ciel': 1479, 'urgence': 1480, 'firent': 1481, 'cessaire': 1482, 'bar': 1483, 'menac': 1484, 'sport': 1485, 'pantalon': 1486, 'robe': 1487, 'file': 1488, 'saute': 1489, 'cam': 1490, 'serre': 1491, 'serrez': 1492, 'disparais': 1493, 'campez': 1494, 'tenue': 1495, 'perd': 1496, 'bienvenue': 1497, 'avancez': 1498, 'parez': 1499, 'aliste': 1500, 'mecs': 1501, 'joli': 1502, 'saut': 1503, 'perdue': 1504, 'sien': 1505, 'meurs': 1506, 'rican': 1507, 'attendrai': 1508, 'veinard': 1509, 'pleurait': 1510, 'attend': 1511, 'satisfaite': 1512, 'ing': 1513, 'art': 1514, 'glace': 1515, 'surv': 1516, 'direct': 1517, 'normale': 1518, 'produit': 1519, 'tranquilles': 1520, 'cherche': 1521, 'tudiez': 1522, 'couvrez': 1523, 'souffle': 1524, 'rat': 1525, 'vieilles': 1526, 'atif': 1527, 'raisonnable': 1528, 'arrivez': 1529, 'nettoyez': 1530, 'finis': 1531, 'lance': 1532, 'saccord': 1533, 'piqu': 1534, 'fruits': 1535, 'riz': 1536, 'aimais': 1537, 'vends': 1538, 'dule': 1539, 'tombe': 1540, 'ste': 1541, 'poup': 1542, 'arnaque': 1543, 'avancer': 1544, 'vint': 1545, 'pose': 1546, 'frappa': 1547, 'mauvaises': 1548, 'refusa': 1549, 'saura': 1550, 'rang': 1551, 'agissait': 1552, 'dessin': 1553, 'irez': 1554, 'contract': 1555, 'givr': 1556, 'rs': 1557, 'uf': 1558, 'terminer': 1559, 'sign': 1560, 'levez': 1561, 'fusil': 1562, 'laissa': 1563, 'eut': 1564, 'romantique': 1565, 'rite': 1566, 'plans': 1567, 'checs': 1568, 'compatis': 1569, 'fid': 1570, 'innocent': 1571, 'fiable': 1572, 'serv': 1573, 'cial': 1574, 'apprends': 1575, 'devriez': 1576, 'perturb': 1577, 'connaissent': 1578, 'travaill': 1579, 'renvoy': 1580, 'fiez': 1581, 'concentrer': 1582, 'mentez': 1583, 'plant': 1584, 'jeunes': 1585, 'chic': 1586, 'capable': 1587, 'faveur': 1588, 'savent': 1589, 'petits': 1590, 'quelques': 1591, 'accorde': 1592, 'nisse': 1593, 'genre': 1594, 'acquisition': 1595, 'failli': 1596, 'expliquer': 1597, 'ue': 1598, 'chienne': 1599, 'nature': 1600, 'sister': 1601, 'mont': 1602, 'prend': 1603, 'personnel': 1604, 'oublions': 1605, 'dos': 1606, 'perdit': 1607, 'sonne': 1608, 'positif': 1609, 'chacun': 1610, 'mangea': 1611, 'ennuyeux': 1612, 'ligne': 1613, 'agac': 1614, 'aviez': 1615, 'plaisantes': 1616, 'amenez': 1617, 'toucher': 1618, 'promenade': 1619, 'prouver': 1620, 'dimanche': 1621, 'araign': 1622, 'lourd': 1623, 'urs': 1624, 'ger': 1625, 'prisonnier': 1626, 'rerai': 1627, 'roses': 1628, 'absurde': 1629, 'adorent': 1630, 'choisi': 1631, 'gaucher': 1632, 'plaisanter': 1633, 'serviette': 1634, 'gars': 1635, 'mourut': 1636, 'charg': 1637, 'appris': 1638, 'enseigner': 1639, 'tennis': 1640, 'exp': 1641, 'rience': 1642, 'alarme': 1643, 'dont': 1644, 'suivre': 1645, 'ordre': 1646, 'lac': 1647, 'attendait': 1648, 'autres': 1649, 'restait': 1650, 'feriez': 1651, 'enfin': 1652, 'alarm': 1653, 'entendit': 1654, 'promesse': 1655, 'emplettes': 1656, 'plaindre': 1657, 'parles': 1658, 'pire': 1659, 'casquette': 1660, 'inform': 1661, 'jouons': 1662, 'pneu': 1663, 'tra': 1664, 'envoyer': 1665, 'cern': 1666, 'genoux': 1667, 'plu': 1668, 'rendrai': 1669, 'sorte': 1670, 'pouvait': 1671, 'harceler': 1672, 'cache': 1673, 'poursuis': 1674, 'fa': 1675, 'remercie': 1676, 'gentils': 1677, 'gentilles': 1678, 'revoir': 1679, 'tue': 1680, 'prochaine': 1681, 'bienvenu': 1682, 'rouler': 1683, 'bravo': 1684, 'gaffe': 1685, 'paresseuse': 1686, 'sauve': 1687, 'touchez': 1688, 'utilisez': 1689, 'coucher': 1690, 'humeur': 1691, 'cipit': 1692, 'gratuit': 1693, 'mangeons': 1694, 'rieusement': 1695, 'baiss': 1696, 'parties': 1697, 'cile': 1698, 'passer': 1699, 'rifiez': 1700, 'nord': 1701, 'admets': 1702, 'sauter': 1703, 'annul': 1704, 'paniqu': 1705, 'humble': 1706, 'rigole': 1707, 'remu': 1708, 'maigrichon': 1709, 'maigrichonne': 1710, 'fonctionnera': 1711, 'met': 1712, 'commentaire': 1713, 'it': 1714, 'voyait': 1715, 'cions': 1716, 'perdus': 1717, 'perdues': 1718, 'faibles': 1719, 'bizarres': 1720, 'ative': 1721, 'nettoie': 1722, 'change': 1723, 'missionna': 1724, 'puissant': 1725, 'cuisinier': 1726, 'ennuyer': 1727, 'devais': 1728, 'testais': 1729, 'emporte': 1730, 'paye': 1731, 'voitures': 1732, 'neiger': 1733, 'sert': 1734, 'printemps': 1735, 'minable': 1736, 'souhait': 1737, 'chauffeur': 1738, 'sage': 1739, 'mordre': 1740, 'fonc': 1741, 'norme': 1742, 'aimable': 1743, 'clat': 1744, 'bordel': 1745, 'iras': 1746, 'ailles': 1747, 'rappelez': 1748, 'finir': 1749, 'fant': 1750, 'path': 1751, 'admire': 1752, 'identit': 1753, 'op': 1754, 'femmes': 1755, 'jeux': 1756, 'toile': 1757, 'sieste': 1758, 'esseul': 1759, 'reviendrai': 1760, 'membre': 1761, 'saint': 1762, 'indign': 1763, 'environs': 1764, 'vident': 1765, 'disputer': 1766, 'pousser': 1767, 'commandes': 1768, 'ind': 1769, 'test': 1770, 'rendons': 1771, 'poissons': 1772, 'manges': 1773, 'ignor': 1774, 'corde': 1775, 'nourri': 1776, 'sir': 1777, 'raconte': 1778, 'avion': 1779, 'fum': 1780, 'malchanceuse': 1781, 'allais': 1782, 'manquer': 1783, 'mie': 1784, 'tendre': 1785, 'rejet': 1786, 'noue': 1787, 'chaussure': 1788, 'dipl': 1789, 'optimiste': 1790, 'remari': 1791, 'violent': 1792, 'tache': 1793, 'ennemis': 1794, 'nerveuses': 1795, 'laquelle': 1796, 'volant': 1797, 'rus': 1798, 'plaisantez': 1799, 'revenir': 1800, 'ballon': 1801, 'pourriez': 1802, 'plaira': 1803, 'importance': 1804, 'reproche': 1805, 'grimpez': 1806, 'barrassez': 1807, 'parc': 1808, 'pourvue': 1809, 'biscuits': 1810, 'faite': 1811, 'essence': 1812, 'habitu': 1813, 'couter': 1814, 'parlons': 1815, 'cherchez': 1816, 'repas': 1817, 'compteur': 1818, 'envoie': 1819, 'fondu': 1820, 'radio': 1821, 'difficult': 1822, 'allumez': 1823, 'manquerez': 1824, 'tudiants': 1825, 'grosses': 1826, 'police': 1827, 'moyens': 1828, 'taire': 1829, 'allait': 1830, 'devoirs': 1831, 'pluie': 1832, 'chocolat': 1833, 'travers': 1834, 'mouchoir': 1835, 'gl': 1836, 'enti': 1837, 'horrifi': 1838, 'longtemps': 1839, 'joie': 1840, 'corriger': 1841, 'rant': 1842, 'japonaise': 1843, 'vitable': 1844, 'pondit': 1845, 'rob': 1846, 'tourna': 1847, 'emmenez': 1848, 'glise': 1849, 'lune': 1850, 'avaient': 1851, 'vivent': 1852, 'retourn': 1853, 'embarrass': 1854, 'surprises': 1855, 'apparent': 1856, 'retourner': 1857, 'fusible': 1858, 'sauver': 1859, 'vivez': 1860, 'jus': 1861, 'conseil': 1862, 'longs': 1863, 'transpirer': 1864, 'poliment': 1865, 'nouvel': 1866, 'panne': 1867, 'montr': 1868, 'salle': 1869, 'garer': 1870, 'tresse': 1871, 'gare': 1872, 'animal': 1873, 'demanda': 1874, 'bougies': 1875, 'fusill': 1876, 'surmen': 1877, 'forc': 1878, 'lior': 1879, 'courez': 1880, 'tendez': 1881, 'relaxe': 1882, 'calmez': 1883, 'souriez': 1884, 'impossible': 1885, 'lez': 1886, 'fichez': 1887, 'tuez': 1888, 'lave': 1889, 'lavez': 1890, 'battus': 1891, 'retire': 1892, 'bref': 1893, 'couvre': 1894, 'ailleurs': 1895, 'usage': 1896, 'sers': 1897, 'rigolo': 1898, 'poil': 1899, 'irons': 1900, 'ouest': 1901, 'supplie': 1902, 'eus': 1903, 'promets': 1904, 'lion': 1905, 'flic': 1906, 'ok': 1907, 'dessous': 1908, 'signez': 1909, 'nag': 1910, 'coul': 1911, 'gauche': 1912, 'timides': 1913, 'occupe': 1914, 'soucie': 1915, 'conduisez': 1916, 'trompe': 1917, 'sec': 1918, 'chantez': 1919, 'charmant': 1920, 'trag': 1921, 'die': 1922, 'construit': 1923, 'couru': 1924, 'connu': 1925, 'sournois': 1926, 'strict': 1927, 'ignorez': 1928, 'inoffensif': 1929, 'mode': 1930, 'vert': 1931, 'tienne': 1932, 'recommence': 1933, 'notes': 1934, 'regarda': 1935, 'parlait': 1936, 'hurlait': 1937, 'joyeux': 1938, 'ferons': 1939, 'marrante': 1940, 'discret': 1941, 'ponctuel': 1942, 'impitoyable': 1943, 'jouez': 1944, 'panique': 1945, 'excuser': 1946, 'vertiges': 1947, 'coll': 1948, 'bol': 1949, 'foir': 1950, 'cacher': 1951, 'oppos': 1952, 'imp': 1953, 'trouvais': 1954, 'populaire': 1955, 'estomac': 1956, 'gav': 1957, 'gle': 1958, 'ironique': 1959, 'morise': 1960, 'plantes': 1961, 'devenait': 1962, 'eue': 1963, 'enlac': 1964, 'nouveaux': 1965, 'chaussettes': 1966, 'paralys': 1967, 'insensible': 1968, 'mourant': 1969, 'demi': 1970, 'teins': 1971, 'marchez': 1972, 'sauf': 1973, 'confiant': 1974, 'objectifs': 1975, 'enseignante': 1976, 'crainte': 1977, 'hicule': 1978, 'soutiens': 1979, 'excitant': 1980, 'impatient': 1981, 'affreusement': 1982, 'blagues': 1983, 'peinture': 1984, 'risques': 1985, 'secou': 1986, 'joindrai': 1987, 'chanteur': 1988, 'chanteuse': 1989, 'pide': 1990, 'bats': 1991, 'rue': 1992, 'obstin': 1993, 'patronne': 1994, 'vague': 1995, 'diction': 1996, 'rumeur': 1997, 'compliqu': 1998, 'devinez': 1999, 'interrompre': 2000, 'jambe': 2001, 'ation': 2002, 'fixer': 2003, 'tendus': 2004, 'tendues': 2005, 'porc': 2006, 'emplois': 2007, 'venons': 2008, 'encre': 2009, 'permission': 2010, 'cruelle': 2011, 'renvers': 2012, 'contents': 2013, 'contentes': 2014, 'danse': 2015, 'nourris': 2016, 'mat': 2017, 'voleur': 2018, 'vend': 2019, 'caus': 2020, 'naus': 2021, 'lever': 2022, 'cin': 2023, 'saumon': 2024, 'perdis': 2025, 'objection': 2026, 'conseils': 2027, 'respecte': 2028, 'piscine': 2029, 'appartement': 2030, 'ambitieuse': 2031, 'vou': 2032, 'efficace': 2033, 'flatt': 2034, 'distrait': 2035, 'malheureuse': 2036, 'leurs': 2037, 'fuit': 2038, 'cadeau': 2039, 'grimper': 2040, 'folie': 2041, 'vanter': 2042, 'mannequin': 2043, 'certains': 2044, 'basse': 2045, 'nettoyer': 2046, 'vache': 2047, 'four': 2048, 'attache': 2049, 'sentit': 2050, 'crise': 2051, 'maigre': 2052, 'souvient': 2053, 'touffe': 2054, 'bagages': 2055, 'proches': 2056, 'cousins': 2057, 'amoureuses': 2058, 'inutiles': 2059, 'partage': 2060, 'menteuse': 2061, 'jolie': 2062, 'raciste': 2063, 'herbe': 2064, 'spectacle': 2065, 'retournez': 2066, 'veiller': 2067, 'jeta': 2068, 'barbe': 2069, 'vid': 2070, 'oncle': 2071, 'extraverti': 2072, 'alla': 2073, 'compagnie': 2074, 'trin': 2075, 'expuls': 2076, 'secrets': 2077, 'prudence': 2078, 'vire': 2079, 'ras': 2080, 'succ': 2081, 'miracle': 2082, 'pend': 2083, 'charger': 2084, 'ouvrir': 2085, 'poulet': 2086, 'projet': 2087, 'teinte': 2088, 'viennent': 2089, 'aimaient': 2090, 'mord': 2091, 'lacets': 2092, 'plaint': 2093, 'mine': 2094, 'cartes': 2095, 'calmement': 2096, 'docteur': 2097, 'tudions': 2098, 'volontaires': 2099, 'pension': 2100, 'regardons': 2101, 'dirait': 2102, 'terrifiant': 2103, 'app': 2104, 'aube': 2105, 'veur': 2106, 'mentionn': 2107, 'partenaire': 2108, 'photog': 2109, 'nique': 2110, 'dirais': 2111, 'ressant': 2112, 'supporter': 2113, 'ressens': 2114, 'admettre': 2115, 'violence': 2116, 'connaissais': 2117, 'allumette': 2118, 'marteau': 2119, 'vitesse': 2120, 'kidnapp': 2121, 'quasiment': 2122, 'pers': 2123, 'modeste': 2124, 'impressionnant': 2125, 'bouteille': 2126, 'gris': 2127, 'alentours': 2128, 'croyez': 2129, 'feuilles': 2130, 'nigme': 2131, 'particulier': 2132, 'bleue': 2133, 'issue': 2134, 'ches': 2135, 'tueront': 2136, 'semblables': 2137, 'immature': 2138, 'organis': 2139, 'menace': 2140, 'flexible': 2141, 'tiroir': 2142, 'applaudi': 2143, 'expliquez': 2144, 'parapluie': 2145, 'ouvrage': 2146, 'genou': 2147, 'tousser': 2148, 'obtenir': 2149, 'plage': 2150, 'patience': 2151, 'jaunes': 2152, 'humili': 2153, 'rique': 2154, 'vendre': 2155, 'lettre': 2156, 'course': 2157, 'canap': 2158, 'bleus': 2159, 'finalement': 2160, 'propri': 2161, 'pratique': 2162, 'trouvera': 2163, 'pourvus': 2164, 'erreurs': 2165, 'camion': 2166, 'parfaits': 2167, 'parfaites': 2168, 'importante': 2169, 'religion': 2170, 'remplissez': 2171, 'formulaire': 2172, 'monnaie': 2173, 'style': 2174, 'manquent': 2175, 'longue': 2176, 'faisais': 2177, 'jardin': 2178, 'productif': 2179, 'serez': 2180, 'veste': 2181, 'croire': 2182, 'filez': 2183, 'achetez': 2184, 'capt': 2185, 'sensass': 2186, 'enterre': 2187, 'gagez': 2188, 'rentrez': 2189, 'ciao': 2190, 'retirez': 2191, 'sourde': 2192, 'fain': 2193, 'ant': 2194, 'paum': 2195, 'ordonn': 2196, 'fense': 2197, 'emploie': 2198, 'puissante': 2199, 'aboient': 2200, 'excusez': 2201, 'placez': 2202, 'saisis': 2203, 'saisissez': 2204, 'dirige': 2205, 'affreux': 2206, 'mouvement': 2207, 'connaissance': 2208, 'passerai': 2209, 'gu': 2210, 'loyal': 2211, 'veinarde': 2212, 'sobre': 2213, 'cuire': 2214, 'sable': 2215, 'repose': 2216, 'relais': 2217, 'nageaient': 2218, 'premi': 2219, 'rieuses': 2220, 'cul': 2221, 'insiste': 2222, 'sud': 2223, 'astucieux': 2224, 'imagine': 2225, 'plais': 2226, 'jumeau': 2227, 'directe': 2228, 'tremp': 2229, 'proche': 2230, 'cd': 2231, 'sus': 2232, 'discutons': 2233, 'travaillons': 2234, 'cou': 2235, 'recommencez': 2236, 'application': 2237, 'sauta': 2238, 'ponctuelle': 2239, 'bowling': 2240, 'joues': 2241, 'battez': 2242, 'fumez': 2243, 'finissez': 2244, 'trouva': 2245, 'gosse': 2246, 'confess': 2247, 'haricots': 2248, 'maths': 2249, 'rock': 2250, 'merd': 2251, 'pagaille': 2252, 'ir': 2253, 'colle': 2254, 'vres': 2255, 'parvenu': 2256, 'troisi': 2257, 'tenterai': 2258, 'foies': 2259, 'curieuse': 2260, 'fianc': 2261, 'pensionn': 2262, 'taquine': 2263, 'plat': 2264, 'pipe': 2265, 'urgent': 2266, 'chons': 2267, 'morisez': 2268, 'roi': 2269, 'applaudir': 2270, 'remets': 2271, 'souvenez': 2272, 'monter': 2273, 'sinistre': 2274, 'bruyant': 2275, 'impoli': 2276, 'fiant': 2277, 'propres': 2278, 'comporte': 2279, 'prudemment': 2280, 'videz': 2281, 'crains': 2282, 'beignet': 2283, 'attendra': 2284, 'brouiller': 2285, 'incapable': 2286, 'impatiente': 2287, 'poursuivi': 2288, 'doutes': 2289, 'su': 2290, 'moyen': 2291, 'espace': 2292, 'poursuivrai': 2293, 'accro': 2294, 'adulte': 2295, 'innocente': 2296, 'ange': 2297, 'sainte': 2298, 'certaine': 2299, 'affair': 2300, 'impartial': 2301, 'cerf': 2302, 'serait': 2303, 'ritable': 2304, 'deviner': 2305, 'devine': 2306, 'hypoth': 2307, 'fout': 2308, 'parla': 2309, 'cia': 2310, 'demeure': 2311, 'beaux': 2312, 'aidera': 2313, 'ordures': 2314, 'viendront': 2315, 'meurt': 2316, 'der': 2317, 'savions': 2318, 'condamn': 2319, 'matinal': 2320, 'matinale': 2321, 'heurt': 2322, 'solidaire': 2323, 'corps': 2324, 'deviens': 2325, 'bouchon': 2326, 'cercle': 2327, 'essuie': 2328, 'assiette': 2329, 'riel': 2330, 'accrochez': 2331, 'accroche': 2332, 'trou': 2333, 'servante': 2334, 'tua': 2335, 'arnaqu': 2336, 'efforce': 2337, 'ricain': 2338, 'diab': 2339, 'rir': 2340, 'sentir': 2341, 'con': 2342, 'bananes': 2343, 'coups': 2344, 'trouille': 2345, 'prime': 2346, 'moindre': 2347, 'atteint': 2348, 'ordres': 2349, 'fromage': 2350, 'copie': 2351, 'courus': 2352, 'abandonner': 2353, 'odeur': 2354, 'poignard': 2355, 'domicile': 2356, 'travaillais': 2357, 'tuer': 2358, 'plombier': 2359, 'touriste': 2360, 'nement': 2361, 'impulsif': 2362, 'gamin': 2363, 'libert': 2364, 'prouve': 2365, 'tenace': 2366, 'sceptique': 2367, 'sente': 2368, 'logique': 2369, 'samedi': 2370, 'soulagement': 2371, 'superbe': 2372, 'cent': 2373, 'atroce': 2374, 'improbable': 2375, 'courte': 2376, 'offre': 2377, 'mortel': 2378, 'sentent': 2379, 'changent': 2380, 'haute': 2381, 'embauch': 2382, 'clairement': 2383, 'trucs': 2384, 'bagnole': 2385, 'doivent': 2386, 'courageuses': 2387, 'verts': 2388, 'mentent': 2389, 'japon': 2390, 'aidait': 2391, 'mature': 2392, 'indemne': 2393, 'sms': 2394, 'adopt': 2395, 'page': 2396, 'tournez': 2397, 'admirons': 2398, 'auparavant': 2399, 'rons': 2400, 'comprenons': 2401, 'groupe': 2402, 'cousines': 2403, 'jalouses': 2404, 'brillant': 2405, 'fric': 2406, 'vilaine': 2407, 'agis': 2408, 'agace': 2409, 'entendez': 2410, 'connait': 2411, 'is': 2412, 'gifl': 2413, 'joueur': 2414, 'auteur': 2415, 'gueulasse': 2416, 'cause': 2417, 'corrig': 2418, 'cor': 2419, 'capte': 2420, 'honor': 2421, 'accident': 2422, 'carottes': 2423, 'hoquet': 2424, 'toit': 2425, 'grippe': 2426, 'entendis': 2427, 'tromper': 2428, 'augmentation': 2429, 'tails': 2430, 'vengeance': 2431, 'ventilateur': 2432, 'rerais': 2433, 'aurai': 2434, 'maladroit': 2435, 'contagieux': 2436, 'tarienne': 2437, 'embuscade': 2438, 'placement': 2439, 'risqu': 2440, 'ignorer': 2441, 'cider': 2442, 'continuons': 2443, 'amusons': 2444, 'nombreux': 2445, 'rirent': 2446, 'charmante': 2447, 'serve': 2448, 'appela': 2449, 'canon': 2450, 'ill': 2451, 'partaient': 2452, 'truit': 2453, 'fourchette': 2454, 'immoral': 2455, 'remettra': 2456, 'survivra': 2457, 'transpire': 2458, 'acclam': 2459, 'adorons': 2460, 'serons': 2461, 'ouverts': 2462, 'ouvertes': 2463, 'fiables': 2464, 'eh': 2465, 'quelles': 2466, 'nettoy': 2467, 'intelligente': 2468, 'seras': 2469, 'incroyables': 2470, 'chanceuses': 2471, 'abeilles': 2472, 'licitations': 2473, 'cardiaque': 2474, 'attendit': 2475, 'solution': 2476, 'envoya': 2477, 'ambition': 2478, 'foot': 2479, 'diriez': 2480, 'enfreint': 2481, 'respirer': 2482, 'attendais': 2483, 'impuissant': 2484, 'leuc': 2485, 'baseball': 2486, 'pensais': 2487, 'rende': 2488, 'sonner': 2489, 'moin': 2490, 'suivrai': 2491, 'double': 2492, 'conducteur': 2493, 'ressources': 2494, 'tel': 2495, 'compassion': 2496, 'inhabituel': 2497, 'fra': 2498, 'moisi': 2499, 'in': 2500, 'rafra': 2501, 'humide': 2502, 'emprunter': 2503, 'costume': 2504, 'comprend': 2505, 'orange': 2506, 'calm': 2507, 'moteur': 2508, 'sort': 2509, 'arriva': 2510, 'puits': 2511, 'sourient': 2512, 'ritent': 2513, 'devenus': 2514, 'trouveront': 2515, 'difficiles': 2516, 'lapins': 2517, 'frappe': 2518, 'form': 2519, 'pouvantable': 2520, 'oreilles': 2521, 'souffert': 2522, 'prisonniers': 2523, 'enneig': 2524, 'serr': 2525, 'sastre': 2526, 'ressemble': 2527, 'retenu': 2528, 'terme': 2529, 'terriblement': 2530, 'paraissez': 2531, 'rougis': 2532, 'crack': 2533, 'tudies': 2534, 'consid': 2535, 'coupez': 2536, 'habitez': 2537, 'explique': 2538, 'loigne': 2539, 'loignez': 2540, 'escaliers': 2541, 'aimer': 2542, 'ferma': 2543, 'arabe': 2544, 'couverture': 2545, 'remettre': 2546, 'rappeler': 2547, 'tenir': 2548, 'accepte': 2549, 'hybride': 2550, 'myst': 2551, 'quitter': 2552, 'mois': 2553, 'criminel': 2554, 'tonn': 2555, 'gerai': 2556, 'pendant': 2557, 'laver': 2558, 'cousin': 2559, 'enthousiaste': 2560, 'habitude': 2561, 'ensoleill': 2562, 'article': 2563, 'verrai': 2564, 'promue': 2565, 'limite': 2566, 'prisent': 2567, 'approch': 2568, 'jouent': 2569, 'faisaient': 2570, 'assassin': 2571, 'monstre': 2572, 'inconscient': 2573, 'sarcastique': 2574, 'gosses': 2575, 'soldats': 2576, 'libataires': 2577, 'cies': 2578, 'miroir': 2579, 'resplendissant': 2580, 'resplendissante': 2581, 'auras': 2582, 'aurez': 2583, 'comprendre': 2584, 'coutes': 2585, 'portez': 2586, 'saviez': 2587, 'longueur': 2588, 'pus': 2589, 'moustiques': 2590, 'voulu': 2591, 'inconsciente': 2592, 'choisirai': 2593, 'profonde': 2594, 'familier': 2595, 'cierges': 2596, 'bazar': 2597, 'rats': 2598, 'connaissait': 2599, 'mur': 2600, 'enlev': 2601, 'mangeront': 2602, 'menott': 2603, 'rapport': 2604, 'conditions': 2605, 'europ': 2606, 'productive': 2607, 'doyen': 2608, 'doyenne': 2609, 'craintif': 2610, 'craintive': 2611, 'robots': 2612, 'gants': 2613, 'inspiration': 2614, 'parvient': 2615, 'adresse': 2616, 'cuisis': 2617, 'bandes': 2618, 'offenser': 2619, 'tises': 2620, 'cous': 2621, 'fuyez': 2622, 'poursuivez': 2623, 'pig': 2624, 'tricote': 2625, 'exclu': 2626, 'quitable': 2627, 'foutre': 2628, 'oust': 2629, 'secoue': 2630, 'balai': 2631, 'joignez': 2632, 'embrasse': 2633, 'tirez': 2634, 'courait': 2635, 'visez': 2636, 'vise': 2637, 'exprim': 2638, 'sagesse': 2639, 'grouille': 2640, 'magne': 2641, 'magnez': 2642, 'essaierai': 2643, 'claire': 2644, 'teint': 2645, 'rassasi': 2646, 'laide': 2647, 'tentative': 2648, 'sauvez': 2649, 'acc': 2650, 'informez': 2651, 'excellent': 2652, 'essaies': 2653, 'avertis': 2654, 'missionne': 2655, 'volent': 2656, 'dirigez': 2657, 'appellerai': 2658, 'valise': 2659, 'abandonnerai': 2660, 'travaillerai': 2661, 'tatillon': 2662, 'tatillonne': 2663, 'loyale': 2664, 'distance': 2665, 'abandonnez': 2666, 'demandons': 2667, 'voyons': 2668, 'assises': 2669, 'assure': 2670, 'entretenus': 2671, 'entretenues': 2672, 'nmes': 2673, 'cuit': 2674, 'alentour': 2675, 'inspirez': 2676, 'creuse': 2677, 'da': 2678, 'tragique': 2679, 'adorais': 2680, 'vomi': 2681, 'cuis': 2682, 'grassouillet': 2683, 'connue': 2684, 'sournoise': 2685, 'parfois': 2686, 'ph': 2687, 'renard': 2688, 'pipeau': 2689, 'permettez': 2690, 'abandonnons': 2691, 'ramasse': 2692, 'remplace': 2693, 'geste': 2694, 'cartez': 2695, 'siens': 2696, 'triche': 2697, 'cuisin': 2698, 'aida': 2699, 'missait': 2700, 'hurla': 2701, 'augmente': 2702, 'virez': 2703, 'mourons': 2704, 'achetons': 2705, 'tenter': 2706, 'travaillerons': 2707, 'foutu': 2708, 'hurl': 2709, 'cide': 2710, 'vilain': 2711, 'discrets': 2712, 'amical': 2713, 'reuse': 2714, 'ricordieuse': 2715, 'ricordieux': 2716, 'raisonnables': 2717, 'minutieux': 2718, 'appellez': 2719, 'nombre': 2720, 'vaincu': 2721, 'discussion': 2722, 'habillez': 2723, 'ha': 2724, 'partager': 2725, 'marqu': 2726, 'teaux': 2727, 'jazz': 2728, 'clou': 2729, 'remis': 2730, 'mu': 2731, 'essayerai': 2732, 'boulanger': 2733, 'toubib': 2734, 'veuve': 2735, 'confuse': 2736, 'di': 2737, 'affol': 2738, 'frousse': 2739, 'patiente': 2740, 'remont': 2741, 'voyant': 2742, 'sarm': 2743, 'fortun': 2744, 'fatal': 2745, 'brouillard': 2746, 'casser': 2747, 'tier': 2748, 'mettons': 2749, 'parons': 2750, 'rapprochez': 2751, 'pile': 2752, 'date': 2753, 'voter': 2754, 'patienter': 2755, 'charme': 2756, 'bouch': 2757, 'collant': 2758, 'parvenus': 2759, 'chissez': 2760, 'glac': 2761, 'doux': 2762, 'agi': 2763, 'renifl': 2764, 'transpir': 2765, 'coriace': 2766, 'missionnons': 2767, 'rompu': 2768, 'aidons': 2769, 'ennuyons': 2770, 'intelligents': 2771, 'intelligentes': 2772, 'perte': 2773, 'passera': 2774, 'paresseuses': 2775, 'grossiers': 2776, 'confiante': 2777, 'envoyez': 2778, 'approchez': 2779, 'fumes': 2780, 'rangez': 2781, 'fatigue': 2782, 'oublier': 2783, 'bonsoir': 2784, 'meure': 2785, 'effectu': 2786, 'effet': 2787, 'veine': 2788, 'miel': 2789, 'projets': 2790, 'piano': 2791, 'rose': 2792, 'forces': 2793, 'perdrai': 2794, 'demanderai': 2795, 'ensuite': 2796, 'lirai': 2797, 'canadienne': 2798, 'canadien': 2799, 'avocate': 2800, 'tude': 2801, 'lange': 2802, 'noyer': 2803, 'reconnaissant': 2804, 'priv': 2805, 'issant': 2806, 'ravie': 2807, 'lan': 2808, 'nuageux': 2809, 'chiqu': 2810, 'net': 2811, 'arrivera': 2812, 'fruit': 2813, 'robot': 2814, 'archa': 2815, 'effarant': 2816, 'cha': 2817, 'roule': 2818, 'coutons': 2819, 'cochons': 2820, 'priez': 2821, 'tira': 2822, 'testent': 2823, 'aident': 2824, 'froides': 2825, 'mignons': 2826, 'courriel': 2827, 'approuv': 2828, 'cran': 2829, 'espion': 2830, 'tourdi': 2831, 'couta': 2832, 'adorait': 2833, 'sain': 2834, 'stone': 2835, 'veil': 2836, 'mangerons': 2837, 'rerons': 2838, 'plaisantons': 2839, 'mineurs': 2840, 'normaux': 2841, 'normales': 2842, 'forts': 2843, 'charlatan': 2844, 'ti': 2845, 'importants': 2846, 'amuses': 2847, 'cruels': 2848, 'saoule': 2849, 'fs': 2850, 'idiotes': 2851, 'durs': 2852, 'inclus': 2853, 'dot': 2854, 'questions': 2855, 'ennuyez': 2856, 'ennuies': 2857, 'respectueuse': 2858, 'respectueux': 2859, 'vendu': 2860, 'captes': 2861, 'captez': 2862, 'mesquin': 2863, 'impolie': 2864, 'impertinent': 2865, 'trace': 2866, 'chanta': 2867, 'nourrissez': 2868, 'couper': 2869, 'tablissement': 2870, 'uns': 2871, 'biscuit': 2872, 'jouets': 2873, 'pinc': 2874, 'lapid': 2875, 'fesses': 2876, 'saignait': 2877, 'licieux': 2878, 'musulman': 2879, 'survivre': 2880, 'contribu': 2881, 'vole': 2882, 'bague': 2883, 'jumelle': 2884, 'visa': 2885, 'droits': 2886, 'ail': 2887, 'sie': 2888, 'jogging': 2889, 'automne': 2890, 'contrat': 2891, 'lampe': 2892, 'hockey': 2893, 'violon': 2894, 'fonds': 2895, 'lue': 2896, 'masque': 2897, 'mangerai': 2898, 'dentiste': 2899, 'convaincue': 2900, 'fourbu': 2901, 'distraite': 2902, 'expert': 2903, 'gr': 2904, 'endurant': 2905, 'endurante': 2906, 'sensible': 2907, 'perruque': 2908, 'plaisanterie': 2909, 'location': 2910, 'laissons': 2911, 'descendons': 2912, 'hait': 2913, 'beaut': 2914, 'sympt': 2915, 'ram': 2916, 'savaient': 2917, 'ennuient': 2918, 'dvd': 2919, 'nouez': 2920, 'attachez': 2921, 'exerce': 2922, 'ressentait': 2923, 'bern': 2924, 'offensa': 2925, 'licat': 2926, 'rejoint': 2927, 'ciait': 2928, 'induit': 2929, 'dales': 2930, 'li': 2931, 'mangera': 2932, 'valises': 2933, 'changeons': 2934, 'suppos': 2935, 'voulions': 2936, 'survivrons': 2937, 'ennemies': 2938, 'avocats': 2939, 'couler': 2940, 'poisse': 2941, 'ception': 2942, 'hypocrite': 2943, 'adorerais': 2944, 'brillante': 2945, 'maline': 2946, 'malins': 2947, 'coca': 2948, 'ajoute': 2949, 'permets': 2950, 'qualifi': 2951, 'pleurez': 2952, 'pelle': 2953, 'annuler': 2954, 'donnent': 2955, 'sortis': 2956, 'sorties': 2957, 'gobe': 2958, 'jugez': 2959, 'juge': 2960, 'issez': 2961, 'frimer': 2962, 'tentez': 2963, 'barrasse': 2964, 'indice': 2965, 'bisou': 2966, 'admirait': 2967, 'marque': 2968, 'gronda': 2969, 'crue': 2970, 'disput': 2971, 'recal': 2972, 'pige': 2973, 'honteux': 2974, 'suivie': 2975, 'pinards': 2976, 'toux': 2977, 'cookies': 2978, 'pique': 2979, 'niques': 2980, 'causer': 2981, 'tortues': 2982, 'tat': 2983, 'dessert': 2984, 'ponses': 2985, 'puni': 2986, 'ternue': 2987, 'pens': 2988, 'chiot': 2989, 'chargerai': 2990, 'prierai': 2991, 'survivant': 2992, 'contagieuse': 2993, 'shydrat': 2994, 'anti': 2995, 'antie': 2996, 'fascin': 2997, 'analphab': 2998, 'surpoids': 2999, 'consommer': 3000, 'probable': 3001, 'fonctionnait': 3002, 'mercredi': 3003, 'bonhomme': 3004, 'valeur': 3005, 'rentrons': 3006, 'alistes': 3007, 'retournons': 3008, 'asseyons': 3009, 'force': 3010, 'nomme': 3011, 'gratte': 3012, 'dent': 3013, 'morceau': 3014, 'augment': 3015, 'trangl': 3016, 'embrassa': 3017, 'tape': 3018, 'bruyante': 3019, 'renifler': 3020, 'monsieur': 3021, 'aboyait': 3022, 'teignit': 3023, 'sonn': 3024, 'lant': 3025, 'hic': 3026, 'disposent': 3027, 'aidaient': 3028, 'plaisantent': 3029, 'efforts': 3030, 'curis': 3031, 'avenir': 3032, 'dira': 3033, 'soixante': 3034, 'ford': 3035, 'ripost': 3036, 'taisait': 3037, 'tut': 3038, 'liorera': 3039, 'mission': 3040, 'vacille': 3041, 'anges': 3042, 'cerveau': 3043, 'tabli': 3044, 'connaissions': 3045, 'stupides': 3046, 'manqueras': 3047, 'fugi': 3048, 'tues': 3049, 'massif': 3050, 'paris': 3051, 'plainte': 3052, 'pendule': 3053, 'parais': 3054, 'puritain': 3055, 'puritaine': 3056, 'voleuse': 3057, 'marrer': 3058, 'chantes': 3059, 'gagnes': 3060, 'boissons': 3061, 'bouillir': 3062, 'brosse': 3063, 'dez': 3064, 'perdez': 3065, 'tit': 3066, 'pop': 3067, 'acheta': 3068, 'peintre': 3069, 'tenait': 3070, 'surf': 3071, 'com': 3072, 'facture': 3073, 'midi': 3074, 'aventure': 3075, 'barr': 3076, 'salade': 3077, 'saurais': 3078, 'permettre': 3079, 'sob': 3080, 'pilepsie': 3081, 'tapis': 3082, 'portable': 3083, 'auto': 3084, 'actuelle': 3085, 'tokyo': 3086, 'alis': 3087, 'casque': 3088, 'clefs': 3089, 'maire': 3090, 'totalement': 3091, 'acquitt': 3092, 'apporterai': 3093, 'porter': 3094, 'semblant': 3095, 'tective': 3096, 'tranger': 3097, 'gue': 3098, 'introverti': 3099, 'ivrogne': 3100, 'pont': 3101, 'blaguer': 3102, 'bat': 3103, 'respire': 3104, 'autoris': 3105, 'rivi': 3106, 'naturel': 3107, 'neuve': 3108, 'fabuleux': 3109, 'finira': 3110, 'raccourci': 3111, 'acceptable': 3112, 'propos': 3113, 'cieux': 3114, 'acide': 3115, 'sushi': 3116, 'requis': 3117, 'tomba': 3118, 'toussait': 3119, 'toussa': 3120, 'fonctionner': 3121, 'jet': 3122, 'ouvrit': 3123, 'potage': 3124, 'rem': 3125, 'sel': 3126, 'devinrent': 3127, 'devenues': 3128, 'restent': 3129, 'parlent': 3130, 'lancez': 3131, 'vendredi': 3132, 'trahis': 3133, 'peindre': 3134, 'arrogant': 3135, 'courag': 3136, 'dyslexique': 3137, 'gravement': 3138, 'vif': 3139, 'ent': 3140, 'craint': 3141, 'troubl': 3142, 'resta': 3143, 'tranquillement': 3144, 'texto': 3145, 'emball': 3146, 'souffrir': 3147, 'pugnant': 3148, 'souvenir': 3149, 'vaisselle': 3150, 'orteils': 3151, 'canadiens': 3152, 'flexibles': 3153, 'trouvait': 3154, 'peigne': 3155, 'volat': 3156, 'comptez': 3157, 'chiant': 3158, 'pides': 3159, 'splendide': 3160, 'malades': 3161, 'talentueux': 3162, 'grasse': 3163, 'policier': 3164, 'tudiantes': 3165, 'canne': 3166, 'trisez': 3167, 'oblige': 3168, 'garage': 3169, 'soudainement': 3170, 'envol': 3171, 'tableau': 3172, 'picasso': 3173, 'utilis': 3174, 'biologiste': 3175, 'observe': 3176, 'comp': 3177, 'ressent': 3178, 'embarrassant': 3179, 'ternuer': 3180, 'inclin': 3181, 'cogn': 3182, 'aper': 3183, 'drogue': 3184, 'impuissante': 3185, 'poule': 3186, 'halloween': 3187, 'allergies': 3188, 'rage': 3189, 'sonnerie': 3190, 'tonations': 3191, 'manche': 3192, 'allumai': 3193, 'cierge': 3194, 'bougie': 3195, 'biblioth': 3196, 'commis': 3197, 'pneus': 3198, 'agressive': 3199, 'coller': 3200, 'solitaire': 3201, 'ferait': 3202, 'pluvieux': 3203, 'contentez': 3204, 'exactement': 3205, 'mars': 3206, 'rythme': 3207, 'perroquets': 3208, 'polie': 3209, 'garez': 3210, 'bouton': 3211, 'tuberculose': 3212, 'sursauter': 3213, 'hilarant': 3214, 'ass': 3215, 'dangereuses': 3216, 'avanc': 3217, 'courtois': 3218, 'regrets': 3219, 'guitare': 3220, 'sugg': 3221, 'marchait': 3222, 'mati': 3223, 'calmer': 3224, 'pourvues': 3225, 'visiteurs': 3226, 'gler': 3227, 'lons': 3228, 'coupables': 3229, 'taires': 3230, 'finit': 3231, 'bavard': 3232, 'sages': 3233, 'fermeture': 3234, 'copies': 3235, 'encombre': 3236, 'stylos': 3237, 'courts': 3238, 'irr': 3239, 'mouise': 3240, 'poches': 3241, 'tements': 3242, 'intervenir': 3243, 'ignorais': 3244, 'inscrit': 3245, 'descendu': 3246, 'couleur': 3247, 'proposition': 3248, 'intimit': 3249, 'couleurs': 3250, 'lectricit': 3251, 'serrure': 3252, 'ignorance': 3253, 'victoire': 3254, 'dissuad': 3255, 'boulevers': 3256, 'penser': 3257, 'abasourdi': 3258, 'maladie': 3259, 'inflation': 3260, 'fortement': 3261, 'primant': 3262, 'licieuse': 3263, 'chantons': 3264, 'pardonner': 3265, 'tourner': 3266, 'enfile': 3267, 'enfilez': 3268, 'aspirine': 3269, 'sonna': 3270, 'massifs': 3271, 'renards': 3272, 'suspect': 3273, 'blesser': 3274, 'tend': 3275, 'coutait': 3276, 'remarquable': 3277, 'concert': 3278, 'empoisonn': 3279, 'venger': 3280, 'union': 3281, 'bonheur': 3282, 'enne': 3283, 'vive': 3284, 'gratuite': 3285, 'criminelle': 3286, 'escargots': 3287, 'pital': 3288, 'remercier': 3289, 'position': 3290, 'confirmer': 3291, 'informations': 3292, 'avertir': 3293, 'coutume': 3294, 'promu': 3295, 'uvre': 3296, 'bond': 3297, 'profil': 3298, 'pelouse': 3299, 'furent': 3300, 'batterie': 3301, 'efforcez': 3302, 'bahi': 3303, 'insulte': 3304, 'fuyons': 3305, 'baissez': 3306, 'stop': 3307, 'aha': 3308, 'max': 3309, 'raoul': 3310, 'attaquez': 3311, 'tchin': 3312, 'justes': 3313, 'enterrez': 3314, 'secouez': 3315, 'pliez': 3316, 'plie': 3317, 'assoupi': 3318, 'assoupie': 3319, 'fig': 3320, 'jur': 3321, 'cafard': 3322, 'bibi': 3323, 'appuie': 3324, 'taisez': 3325, 'bouclez': 3326, 'battues': 3327, 'criss': 3328, 'barrez': 3329, 'barre': 3330, 'profondeur': 3331, 'ret': 3332, 'revoil': 3333, 'peau': 3334, 'nickel': 3335, 'payait': 3336, 'employez': 3337, 'mourez': 3338, 'dodo': 3339, 'dj': 3340, 'sexy': 3341, 'clign': 3342, 'recul': 3343, 'sourcils': 3344, 'rigol': 3345, 'grogn': 3346, 'voyais': 3347, 'marcherai': 3348, 'vivante': 3349, 'croch': 3350, 'rie': 3351, 'so': 3352, 'pleuvait': 3353, 'verse': 3354, 'neig': 3355, 'immobiles': 3356, 'tranquillisez': 3357, 'reposez': 3358, 'aaah': 3359, 'capturez': 3360, 'attirante': 3361, 'patientez': 3362, 'calmos': 3363, 'restes': 3364, 'plong': 3365, 'boite': 3366, 'discut': 3367, 'entret': 3368, 'emporterons': 3369, 'extra': 3370, 'merveille': 3371, 'pues': 3372, 'partant': 3373, 'chantent': 3374, 'inspire': 3375, 'jouis': 3376, 'truisez': 3377, 'truis': 3378, 'pleurent': 3379, 'tracasse': 3380, 'tracassez': 3381, 'sautez': 3382, 'cipitez': 3383, 'vidence': 3384, 'pardonnez': 3385, 'chauffer': 3386, 'raccroch': 3387, 'absurdit': 3388, 'construite': 3389, 'parai': 3390, 'tressailli': 3391, 'sursaut': 3392, 'rencontrai': 3393, 'protestais': 3394, 'enfuit': 3395, 'paules': 3396, 'pliss': 3397, 'rifierai': 3398, 'tirerai': 3399, 'cupide': 3400, 'immunis': 3401, 'stricte': 3402, 'sept': 3403, 'marchera': 3404, 'bidon': 3405, 'bougeons': 3406, 'voiles': 3407, 'renon': 3408, 'passons': 3409, 'votons': 3410, 'vigilants': 3411, 'blesse': 3412, 'remplacez': 3413, 'gardes': 3414, 'alerte': 3415, 'trichent': 3416, 'frein': 3417, 'jure': 3418, 'hocha': 3419, 'soupira': 3420, 'sanglotait': 3421, 'grimace': 3422, 'grimac': 3423, 'paiera': 3424, 'augmentez': 3425, 'visse': 3426, 'chouerons': 3427, 'ussirons': 3428, 'attendrons': 3429, 'galit': 3430, 'cidez': 3431, 'atives': 3432, 'atifs': 3433, 'amicale': 3434, 'mente': 3435, 'ponctuelles': 3436, 'ponctuels': 3437, 'impitoyables': 3438, 'cifique': 3439, 'minutieuse': 3440, 'rev': 3441, 'refais': 3442, 'refaites': 3443, 'trichez': 3444, 'ris': 3445, 'fixe': 3446, 'changez': 3447, 'endors': 3448, 'riait': 3449, 'tripes': 3450, 'binoclard': 3451, 'flemmard': 3452, 'thune': 3453, 'moine': 3454, 'enterr': 3455, 'parvenir': 3456, 'buvais': 3457, 'amende': 3458, 'prune': 3459, 'verbalis': 3460, 'contravention': 3461, 'contredanse': 3462, 'sit': 3463, 'plaisent': 3464, 'protest': 3465, 'remise': 3466, 'gaz': 3467, 'parvenue': 3468, 'sou': 3469, 'tournait': 3470, 'saqu': 3471, 'crierai': 3472, 'annulerai': 3473, 'changerai': 3474, 'ciderai': 3475, 'arriverai': 3476, 'chocottes': 3477, 'neutre': 3478, 'voyante': 3479, 'dalle': 3480, 'crocs': 3481, 'briser': 3482, 'poison': 3483, 'dansons': 3484, 'buvons': 3485, 'brons': 3486, 'amusante': 3487, 'calcul': 3488, 'croissent': 3489, 'votez': 3490, 'appuyez': 3491, 'rougi': 3492, 'trichait': 3493, 'noya': 3494, 'respirait': 3495, 'moral': 3496, 'z': 3497, 'vaniteux': 3498, 'salue': 3499, 'teignez': 3500, 'souvenons': 3501, 'combattrons': 3502, 'jumelles': 3503, 'naze': 3504, 'malheur': 3505, 'rendras': 3506, 'neufs': 3507, 'neuves': 3508, 'chauves': 3509, 'armez': 3510, 'attentif': 3511, 'attentive': 3512, 'objective': 3513, 'objectives': 3514, 'rejoindre': 3515, 'accompagne': 3516, 'vex': 3517, 'siste': 3518, 'carabine': 3519, 'existent': 3520, 'plaqu': 3521, 'moqu': 3522, 'fanatique': 3523, 'barbare': 3524, 'pitoyable': 3525, 'mords': 3526, 'vanouir': 3527, 'malaise': 3528, 'tremper': 3529, 'menteurs': 3530, 'plaisanteries': 3531, 'voyages': 3532, 'grouiller': 3533, 'crivis': 3534, 'initi': 3535, 'dout': 3536, 'cambriol': 3537, 'reprises': 3538, 'battrai': 3539, 'apprendrai': 3540, 'gonfl': 3541, 'expliquerai': 3542, 'mettrai': 3543, 'tuerai': 3544, 'signerai': 3545, 'meaux': 3546, 'taureau': 3547, 'barbier': 3548, 'fermier': 3549, 'agriculteur': 3550, 'assu': 3551, 'autiste': 3552, 'saigne': 3553, 'cultiv': 3554, 'reconnaissante': 3555, 'rationnel': 3556, 'amend': 3557, 'las': 3558, 'chatouilleux': 3559, 'identifiez': 3560, 'fer': 3561, 'aura': 3562, 'gaspillage': 3563, 'manquant': 3564, 'matin': 3565, 'coule': 3566, 'revue': 3567, 'hasarde': 3568, 'stes': 3569, 'boug': 3570, 'branche': 3571, 'aff': 3572, 'descendit': 3573, 'sortit': 3574, 'quereller': 3575, 'fredonner': 3576, 'bouder': 3577, 'geindre': 3578, 'bailler': 3579, 'bouff': 3580, 'commandement': 3581, 'conte': 3582, 'approuvent': 3583, 'connaissaient': 3584, 'dirent': 3585, 'appelleront': 3586, 'phoner': 3587, 'grandiront': 3588, 'sauront': 3589, 'froids': 3590, 'mignonnes': 3591, 'rare': 3592, 'bronch': 3593, 'sto': 3594, 'gan': 3595, 'rencontra': 3596, 'abattue': 3597, 'gaie': 3598, 'traduisez': 3599, 'traduis': 3600, 'entend': 3601, 'jeun': 3602, 'aimions': 3603, 'mourions': 3604, 'chair': 3605, 'suivrons': 3606, 'mourrons': 3607, 'adultes': 3608, 'directs': 3609, 'perdons': 3610, 'sournoises': 3611, 'fortes': 3612, 'souhaitez': 3613, 'cruelles': 3614, 'saouls': 3615, 'saoules': 3616, 'passes': 3617, 'marrants': 3618, 'marrantes': 3619, 'dures': 3620, 'passa': 3621, 'futon': 3622, 'bande': 3623, 'lancer': 3624, 'patiner': 3625, 'criminalit': 3626, 'pigez': 3627, 'mesquine': 3628, 'raccroche': 3629, 'raccrochez': 3630, 'pois': 3631, 'expirez': 3632, 'jambon': 3633, 'conseille': 3634, 'plombs': 3635, 'enla': 3636, 'patin': 3637, 'mentit': 3638, 'aima': 3639, 'flou': 3640, 'ancien': 3641, 'tarte': 3642, 'emprunt': 3643, 'soudoy': 3644, 'acqu': 3645, 'ressentir': 3646, 'tousse': 3647, 'rena': 3648, 'gratuitement': 3649, 'devenais': 3650, 'enrhum': 3651, 'galant': 3652, 'claque': 3653, 'craques': 3654, 'chameaux': 3655, 'villes': 3656, 'raisin': 3657, 'trains': 3658, 'films': 3659, 'insister': 3660, 'formuler': 3661, 'quipage': 3662, 'ance': 3663, 'priorit': 3664, 'cal': 3665, 'poulets': 3666, 'flingue': 3667, 'capitul': 3668, 'sci': 3669, 'excursion': 3670, 'tiendrai': 3671, 'derai': 3672, 'chansons': 3673, 'permettrai': 3674, 'trouverai': 3675, 'continuerai': 3676, 'sauverai': 3677, 'montrerai': 3678, 'regarderai': 3679, 'scorpion': 3680, 'soldat': 3681, 'chirurgien': 3682, 'adapte': 3683, 'orphelin': 3684, 'bilingue': 3685, 'rente': 3686, 'vann': 3687, 'tourdie': 3688, 'intrigue': 3689, 'admirateurs': 3690, 'licite': 3691, 'bombe': 3692, 'canular': 3693, 'examen': 3694, 'pid': 3695, 'parodie': 3696, 'passionnant': 3697, 'minuit': 3698, 'traite': 3699, 'mod': 3700, 'suicidaire': 3701, 'gez': 3702, 'lutter': 3703, 'mener': 3704, 'champ': 3705, 'gardons': 3706, 'douce': 3707, 'motion': 3708, 'sonnez': 3709, 'russie': 3710, 'scellez': 3711, 'scelle': 3712, 'descendre': 3713, 'renvoyez': 3714, 'renvoie': 3715, 'queue': 3716, 'cracher': 3717, 'varient': 3718, 'ramenez': 3719, 'saturne': 3720, 'mythe': 3721, 'faisable': 3722, 'prenait': 3723, 'asiatiques': 3724, 'niaux': 3725, 'niales': 3726, 'formidables': 3727, 'petites': 3728, 'trompent': 3729, 'ineptie': 3730, 'exerc': 3731, 'moutons': 3732, 'sita': 3733, 'entrain': 3734, 'vulgaire': 3735, 'quitta': 3736, 'overdose': 3737, 'effraie': 3738, 'perdait': 3739, 'travaillera': 3740, 'changera': 3741, 'chouer': 3742, 'pouvions': 3743, 'prendrons': 3744, 'acceptons': 3745, 'formons': 3746, 'perplexes': 3747, 'certaines': 3748, 'veinards': 3749, 'veinardes': 3750, 'synchronis': 3751, 'populaires': 3752, 'ciaux': 3753, 'malchanceuses': 3754, 'lisible': 3755, 'courrier': 3756, 'snob': 3757, 'brit': 3758, 'astucieuse': 3759, 'avide': 3760, 'bougon': 3761, 'bougonne': 3762, 'grognon': 3763, 'tins': 3764, 'maigrichonnes': 3765, 'maigrichons': 3766, 'endormis': 3767, 'endormies': 3768, 'ajoutez': 3769, 'els': 3770, 'clich': 3771, 'vivants': 3772, 'vivantes': 3773, 'payez': 3774, 'offrez': 3775, 'jongler': 3776, 'nourrissent': 3777, 'produisent': 3778, 'recyclage': 3779, 'salace': 3780, 'plains': 3781, 'assois': 3782, 'tente': 3783, 'gaspille': 3784, 'profite': 3785, 'haleine': 3786, 'baiser': 3787, 'disparut': 3788, 'testait': 3789, 'acteur': 3790, 'sociable': 3791, 'grond': 3792, 'tirait': 3793, 'haletait': 3794, 'maniez': 3795, 'banane': 3796, 'trer': 3797, 'aversion': 3798, 'chappe': 3799, 'cocufi': 3800, 'grandi': 3801, 'repasser': 3802, 'vreux': 3803, 'homard': 3804, 'nigmes': 3805, 'desserts': 3806, 'foyer': 3807, 'nostalgie': 3808, 'fac': 3809, 'soulever': 3810, 'protestation': 3811, 'timbre': 3812, 'ration': 3813, 'plaide': 3814, 'tail': 3815, 'fermer': 3816, 'reprends': 3817, 'nus': 3818, 'insouciant': 3819, 'incarc': 3820, 'agonie': 3821, 'graci': 3822, 'prosp': 3823, 'oublierai': 3824, 'senterai': 3825, 'guiderai': 3826, 'brouillerai': 3827, 'occuperai': 3828, 'pouserai': 3829, 'payerai': 3830, 'fierai': 3831, 'novice': 3832, 'marchand': 3833, 'vendeur': 3834, 'vieil': 3835, 'diplomate': 3836, 'diter': 3837, 'thodique': 3838, 'surcharg': 3839, 'vainqueur': 3840, 'mage': 3841, 'dible': 3842, 'ours': 3843, 'liore': 3844, 'el': 3845, 'magique': 3846, 'dor': 3847, 'navant': 3848, 'classique': 3849, 'interdit': 3850, 'immonde': 3851, 'finissons': 3852, 'accompagner': 3853, 'vad': 3854, 'remarqua': 3855, 'caution': 3856, 'poursuivre': 3857, 'fauteuil': 3858, 'redis': 3859, 'redites': 3860, 'science': 3861, 'infirmi': 3862, 'bach': 3863, 'taquina': 3864, 'taquin': 3865, 'esprits': 3866, 'bavarder': 3867, 'ergoter': 3868, 'visible': 3869, 'foutaises': 3870, 'tablit': 3871, 'poupon': 3872, 'chantaient': 3873, 'aboya': 3874, 'drapeau': 3875, 'burent': 3876, 'boueux': 3877, 'masqu': 3878, 'puent': 3879, 'morfl': 3880, 'attaquer': 3881, 'attaqueront': 3882, 'essaient': 3883, 'essayent': 3884, 'positivement': 3885, 'chouettes': 3886, 'poire': 3887, 'judicieux': 3888, 'buvait': 3889, 'dessine': 3890, 'effondr': 3891, 'escroc': 3892, 'pareil': 3893, 'impassible': 3894, 'bile': 3895, 'routi': 3896, 'roul': 3897, 'gardait': 3898, 'battra': 3899, 'ussira': 3900, 'bluffe': 3901, 'noie': 3902, 'surveillez': 3903, 'cautions': 3904, 'cessions': 3905, 'rendues': 3906, 'rendus': 3907, 'plaisantait': 3908, 'aiderons': 3909, 'manquera': 3910, 'impuissants': 3911, 'impuissantes': 3912, 'innocents': 3913, 'partenaires': 3914, 'puissants': 3915, 'puissantes': 3916, 'tus': 3917, 'causes': 3918, 'choue': 3919, 'fautif': 3920, 'feras': 3921, 'chandelle': 3922, 'niale': 3923, 'insaisissable': 3924, 'imprudent': 3925, 'imprudente': 3926, 'hideuse': 3927, 'obsc': 3928, 'professionnel': 3929, 'gagnez': 3930, 'inquiets': 3931, 'chavira': 3932, 'chavir': 3933, 'ajuste': 3934, 'inscrire': 3935, 'gratuites': 3936, 'envieux': 3937, 'envieuse': 3938, 'hibernent': 3939, 'parvenez': 3940, 'ongles': 3941, 'trappe': 3942, 'jusque': 3943, 'noirs': 3944, 'fendez': 3945, 'fends': 3946, 'barqu': 3947, 'massage': 3948, 'confiture': 3949, 'radin': 3950, 'interrompez': 3951, 'interromps': 3952, 'sistez': 3953, 'regardait': 3954, 'pri': 3955, 'corn': 3956, 'criteau': 3957, 'pancarte': 3958, 'recommenc': 3959, 'instituteur': 3960, 'mentionna': 3961, 'sauva': 3962, 'quarante': 3963, 'humiliation': 3964, 'mangeais': 3965, 'nier': 3966, 'prochain': 3967, 'ritais': 3968, 'ellement': 3969, 'vreuse': 3970, 'isol': 3971, 'exclue': 3972, 'barrass': 3973, 'cultive': 3974, 'tomates': 3975, 'correctement': 3976, 'fanatiques': 3977, 'bagarre': 3978, 'ques': 3979, 'chaleur': 3980, 'mariages': 3981, 'boulots': 3982, 'guide': 3983, 'nouba': 3984, 'souper': 3985, 'retentir': 3986, 'dormis': 3987, 'vitamines': 3988, 'enseign': 3989, 'promen': 3990, 'perroquet': 3991, 'remboursement': 3992, 'revenue': 3993, 'partiez': 3994, 'combat': 3995, 'risquer': 3996, 'tairai': 3997, 'zoo': 3998, 'arrangerai': 3999, 'choisir': 4000, 'truirai': 4001, 'commanderai': 4002, 'dormirai': 4003, 'soudre': 4004, 'capricorne': 4005, 'ologue': 4006, 'nieur': 4007, 'arrose': 4008, 'daltonien': 4009, 'extravertie': 4010, 'devenir': 4011, 'appliqu': 4012, 'munitions': 4013, 'spontan': 4014, 'aval': 4015, 'croyons': 4016, 'possibilit': 4017, 'glacial': 4018, 'valait': 4019, 'outrage': 4020, 'insuffisant': 4021, 'passag': 4022, 'balaise': 4023, 'chissant': 4024, 'anmoins': 4025, 'poque': 4026, 'souriante': 4027, 'souriant': 4028, 'biper': 4029, 'citron': 4030, 'taisons': 4031, 'cerfs': 4032, 'improvisons': 4033, 'reposons': 4034, 'songe': 4035, 'noire': 4036, 'enfui': 4037, 'jeans': 4038, 'furieuse': 4039, 'mensonges': 4040, 'pelez': 4041, 'enl': 4042, 'pous': 4043, 'pousa': 4044, 'gifla': 4045, 'attach': 4046, 'assurance': 4047, 'baraka': 4048, 'taquiner': 4049, 'apprenez': 4050, 'franchement': 4051, 'racontez': 4052, 'douteux': 4053, 'filet': 4054, 'lante': 4055, 'couch': 4056, 'baignoire': 4057, 'prirent': 4058, 'pilotes': 4059, 'bloqu': 4060, 'fichent': 4061, 'craignaient': 4062, 'tenaient': 4063, 'semblent': 4064, 'eurent': 4065, 'dules': 4066, 'rigolent': 4067, 'similaires': 4068, 'farce': 4069, 'balivernes': 4070, 'cadeaux': 4071, 'rappel': 4072, 'tailleur': 4073, 'loquent': 4074, 'incertain': 4075, 'lamentable': 4076, 'pervers': 4077, 'tact': 4078, 'tol': 4079, 'plac': 4080, 'dupe': 4081, 'moigner': 4082, 'moigne': 4083, 'trompait': 4084, 'sirot': 4085, 'photos': 4086, 'sirait': 4087, 'souffrira': 4088, 'souviendra': 4089, 'repoussant': 4090, 'secouru': 4091, 'testons': 4092, 'ciles': 4093, 'assister': 4094, 'comptons': 4095, 'parlions': 4096, 'conscience': 4097, 'lou': 4098, 'partag': 4099, 'cup': 4100, 'faisions': 4101, 'voile': 4102, 'camper': 4103, 'attraperons': 4104, 'viendrons': 4105, 'canadiennes': 4106, 'ambitieuses': 4107, 'rents': 4108, 'rentes': 4109, 'impatients': 4110, 'impatientes': 4111, 'chichis': 4112, 'endurants': 4113, 'endurantes': 4114, 'scores': 4115, 'sor': 4116, 'compense': 4117, 'cipitation': 4118, 'trousses': 4119, 'pauvres': 4120, 'joui': 4121, 'jouie': 4122, 'arrogante': 4123, 'gligent': 4124, 'incorrigible': 4125, 'trompez': 4126, 'autoritaire': 4127, 'talentueuse': 4128, 'responsables': 4129, 'lente': 4130, 'bout': 4131, 'ailes': 4132, 'accidents': 4133, 'surviennent': 4134, 'invisible': 4135, 'bienvenus': 4136, 'bienvenues': 4137, 'moururent': 4138, 'candidature': 4139, 'catholique': 4140, 'maniaque': 4141, 'dactylo': 4142, 'sorci': 4143, 'normalement': 4144, 'renseigner': 4145, 'peler': 4146, 'soigneusement': 4147, 'sommet': 4148, 'stores': 4149, 'traverse': 4150, 'licatement': 4151, 'cipitamment': 4152, 'obligez': 4153, 'ramassez': 4154, 'comprenez': 4155, 'verres': 4156, 'gumes': 4157, 'applaudit': 4158, 'triomphe': 4159, 'hamster': 4160, 'termine': 4161, 'jardiner': 4162, 'accordez': 4163, 'croissant': 4164, 'nettoya': 4165, 'cemment': 4166, 'pyjama': 4167, 'prof': 4168, 'tint': 4169, 'chasser': 4170, 'oranges': 4171, 'natation': 4172, 'pensait': 4173, 'endett': 4174, 'nonc': 4175, 'muet': 4176, 'dormait': 4177, 'france': 4178, 'parviendra': 4179, 'tenancier': 4180, 'deuxi': 4181, 'types': 4182, 'ticket': 4183, 'trouves': 4184, 'bonnard': 4185, 'ressentez': 4186, 'sil': 4187, 'remplacer': 4188, 'stopper': 4189, 'truite': 4190, 'chop': 4191, 'confisqu': 4192, 'entendue': 4193, 'investi': 4194, 'investie': 4195, 'pouvoirs': 4196, 'sentiment': 4197, 'chimie': 4198, 'ordinateurs': 4199, 'hypocrisie': 4200, 'paperasse': 4201, 'bouquin': 4202, 'site': 4203, 'web': 4204, 'men': 4205, 'oc': 4206, 'portefeuille': 4207, 'rissons': 4208, 'norm': 4209, 'kleenex': 4210, 'aides': 4211, 'ouvris': 4212, 'dette': 4213, 'restaurant': 4214, 'refusai': 4215, 'regrette': 4216, 'bail': 4217, 'tudi': 4218, 'revanche': 4219, 'affection': 4220, 'clo': 4221, 'victorieux': 4222, 'pardonnerai': 4223, 'employ': 4224, 'comptable': 4225, 'alcoolique': 4226, 'traditionaliste': 4227, 'sorganis': 4228, 'scolaris': 4229, 'stress': 4230, 'conscient': 4231, 'vente': 4232, 'virus': 4233, 'avouer': 4234, 'signifie': 4235, 'battage': 4236, 'obligatoire': 4237, 'temp': 4238, 'tradition': 4239, 'venteux': 4240, 'saison': 4241, 'drame': 4242, 'compromis': 4243, 'enchant': 4244, 'humour': 4245, 'effort': 4246, 'meurent': 4247, 'polis': 4248, 'polies': 4249, 'velopper': 4250, 'italie': 4251, 'fouillez': 4252, 'certainement': 4253, 'chevelure': 4254, 'insult': 4255, 'sc': 4256, 'chameau': 4257, 'fix': 4258, 'mordue': 4259, 'crache': 4260, 'interf': 4261, 'constitue': 4262, 'nible': 4263, 'rideau': 4264, 'aigre': 4265, 'gag': 4266, 'interrupteur': 4267, 'cds': 4268, 'raill': 4269, 'artistes': 4270, 'croient': 4271, 'boivent': 4272, 'cient': 4273, 'reviendra': 4274, 'souviendront': 4275, 'chappent': 4276, 'vadent': 4277, 'enfuient': 4278, 'craignent': 4279, 'rient': 4280, 'temporiser': 4281, 'choquant': 4282, 'tabass': 4283, 'changea': 4284, 'lapin': 4285, 'poules': 4286, 'ex': 4287, 'observer': 4288, 'soupirer': 4289, 'textos': 4290, 'tulipes': 4291, 'poing': 4292, 'constern': 4293, 'agresser': 4294, 'prendra': 4295, 'protection': 4296, 'innovateur': 4297, 'rigoler': 4298, 'paniquer': 4299, 'premiers': 4300, 'concouru': 4301, 'parvenons': 4302, 'pendons': 4303, 'avertissement': 4304, 'diviser': 4305, 'prises': 4306, 'captur': 4307, 'fiers': 4308, 'nons': 4309, 'mangeur': 4310, 'ceinture': 4311, 'velopp': 4312, 'apprendre': 4313, 'mentirait': 4314, 'aiderait': 4315, 'x': 4316, 'indique': 4317, 'rites': 4318, 'septi': 4319, 'veuse': 4320, 'belles': 4321, 'suffisante': 4322, 'courtoise': 4323, 'dangereuse': 4324, 'importantes': 4325, 'odieux': 4326, 'odieuse': 4327, 'bavarde': 4328, 'merveilleuse': 4329, 'merveilleuses': 4330, 'braguette': 4331, 'valis': 4332, 'abattit': 4333, 'compr': 4334, 'hensible': 4335, 'japonaises': 4336, 'valent': 4337, 'autrui': 4338, 'voleurs': 4339, 'voleuses': 4340, 'ambulance': 4341, 'directement': 4342, 'traduire': 4343, 'lien': 4344, 'rapproche': 4345, 'pouviez': 4346, 'domestique': 4347, 'kratom': 4348, 'cochonneries': 4349, 'ciez': 4350, 'pleins': 4351, 'foin': 4352, 'paraissait': 4353, 'bruyamment': 4354, 'saisit': 4355, 'saisi': 4356, 'blonds': 4357, 'marron': 4358, 'gentleman': 4359, 'physicien': 4360, 'scientifique': 4361, 'incomp': 4362, 'influent': 4363, 'marin': 4364, 'russe': 4365, 'tordu': 4366, 'emprisonn': 4367, 'excusera': 4368, 'journaliste': 4369, 'billet': 4370, 'rampe': 4371, 'courais': 4372, 'couraient': 4373, 'baigne': 4374, 'quotidiennement': 4375, 'verrouillai': 4376, 'coiff': 4377, 'tap': 4378, 'grinc': 4379, 'cauchemar': 4380, 'migraine': 4381, 'passeport': 4382, 'poitrine': 4383, 'fond': 4384, 'titularis': 4385, 'laissai': 4386, 'jupe': 4387, 'chapeaux': 4388, 'charpe': 4389, 'souliers': 4390, 'fabriqu': 4391, 'ciais': 4392, 'arpenteuse': 4393, 'planche': 4394, 'plates': 4395, 'passager': 4396, 'fenses': 4397, 'submerg': 4398, 'punie': 4399, 'remport': 4400, 'candidat': 4401, 'voterai': 4402, 'loque': 4403, 'extr': 4404, 'indisponible': 4405, 'persuad': 4406, 'sup': 4407, 'voisin': 4408, 'pur': 4409, 'survenu': 4410, 'vieillit': 4411, 'inattendu': 4412, 'discutable': 4413, 'dru': 4414, 'distances': 4415, 'refaisons': 4416, 'tirons': 4417, 'paille': 4418, 'enqu': 4419, 'jetons': 4420, 'sordre': 4421, 'aiguis': 4422, 'paule': 4423, 'vies': 4424, 'jouet': 4425, 'adolescent': 4426, 'fleur': 4427, 'excessive': 4428, 'dramatiser': 4429, 'risquez': 4430, 'foule': 4431, 'pouff': 4432, 'phares': 4433, 'crasa': 4434, 'syst': 4435, 'jugement': 4436, 'pure': 4437, 'chassaient': 4438, 'cessent': 4439, 'convenait': 4440, 'tortur': 4441, 'tiraient': 4442, 'haletaient': 4443, 'survivront': 4444, 'gocieront': 4445, 'essayeront': 4446, 'identiques': 4447, 'caisse': 4448, 'noix': 4449, 'permanent': 4450, 'urant': 4451, 'prier': 4452, 'comport': 4453, 'divor': 4454, 'agressif': 4455, 'protecteur': 4456, 'ramper': 4457, 'tricoter': 4458, 'reconnu': 4459, 'patiemment': 4460, 'servi': 4461, 'mises': 4462, 'imagination': 4463, 'alimentation': 4464, 'tuyau': 4465, 'fauts': 4466, 'arrivons': 4467, 'fermons': 4468, 'fourr': 4469, 'gerons': 4470, 'averties': 4471, 'issante': 4472, 'lation': 4473, 'cach': 4474, 'cialit': 4475, 'habites': 4476, 'satisfaisant': 4477, 'blanche': 4478, 'servir': 4479, 'waou': 4480, 'points': 4481, 'suture': 4482, 'tirera': 4483, 'meurtrier': 4484, 'survivante': 4485, 'tante': 4486, 'productifs': 4487, 'productives': 4488, 'braves': 4489, 'craintifs': 4490, 'craintives': 4491, 'peureux': 4492, 'peureuse': 4493, 'permis': 4494, 'applaudissements': 4495, 'moquez': 4496, 'inscrite': 4497, 'tarien': 4498, 'participation': 4499, 'traire': 4500, 'culpabilit': 4501, 'blog': 4502, 'exemplaire': 4503, 'conduise': 4504, 'offense': 4505, 'offusque': 4506, 'pierres': 4507, 'aussit': 4508, 'week': 4509, 'end': 4510, 'obtiens': 4511, 'obtenez': 4512, 'passage': 4513, 'enquis': 4514, 'roue': 4515, 'alzheimer': 4516, 'respiration': 4517, 'environ': 4518, 'camarade': 4519, 'rudit': 4520, 'effront': 4521, 'moire': 4522, 'pouill': 4523, 'aupr': 4524, 'montra': 4525, 'chinois': 4526, 'repouss': 4527, 'fausse': 4528, 'aristocrate': 4529, 'imprimer': 4530, 'grises': 4531, 'bruns': 4532, 'cuite': 4533, 'supporte': 4534, 'colocataire': 4535, 'sensation': 4536, 'truire': 4537, 'disqualifi': 4538, 'duqu': 4539, 'consult': 4540, 'laisserai': 4541, 'essai': 4542, 'jouerai': 4543, 'licencie': 4544, 'ennemie': 4545, 'chr': 4546, 'compliment': 4547, 'mena': 4548, 'pertinent': 4549, 'recette': 4550, 'apparue': 4551, 'reformuler': 4552, 'taillons': 4553, 'existe': 4554, 'lunes': 4555, 'commises': 4556, 'crut': 4557, 'suivit': 4558, 'occasion': 4559, 'concombres': 4560, 'ayant': 4561, 'pansement': 4562, 'coles': 4563, 'secours': 4564, 'apparition': 4565, 'chahuter': 4566, 'visager': 4567, 'chatouille': 4568, 'gorg': 4569, 'class': 4570, 'verte': 4571, 'gliss': 4572, 'rampant': 4573, 'familles': 4574, 'otages': 4575, 'tentes': 4576, 'allaient': 4577, 'paisibles': 4578, 'passeront': 4579, 'arriveront': 4580, 'parviendront': 4581, 'jetables': 4582, 'furieuses': 4583, 'retrouv': 4584, 'scout': 4585, 'claireur': 4586, 'digne': 4587, 'frappait': 4588, 'vivait': 4589, 'essaya': 4590, 'mouiller': 4591, 'waouh': 4592, 'wah': 4593, 'cachez': 4594, 'fui': 4595, 'payais': 4596, 'payai': 4597, 'quitables': 4598, 'foutez': 4599, 'adieu': 4600, 'revoyure': 4601, 'conduisis': 4602, 'essayai': 4603, 'embrassez': 4604, 'inscrivez': 4605, 'inscris': 4606, 'soucions': 4607, 'brefs': 4608, 'menottez': 4609, 'icit': 4610, 'diable': 4611, 'lires': 4612, 'pressez': 4613, 'phonai': 4614, 'soupir': 4615, 'repu': 4616, 'ante': 4617, 'moche': 4618, 'pousez': 4619, 'fuis': 4620, 'enfuyez': 4621, 'enfuis': 4622, 'stoppez': 4623, 'impeccable': 4624, 'chrome': 4625, 'souhaits': 4626, 'rattrape': 4627, 'filmez': 4628, 'filme': 4629, 'continuation': 4630, 'dollars': 4631, 'halte': 4632, 'conjure': 4633, 'acclamais': 4634, 'expir': 4635, 'syncope': 4636, 'fronc': 4637, 'jubil': 4638, 'mi': 4639, 'inspir': 4640, 'buch': 4641, 'partirais': 4642, 'cuisinerai': 4643, 'vivrai': 4644, 'plierai': 4645, 'gaules': 4646, 'chanterai': 4647, 'nagerai': 4648, 'parlerai': 4649, 'pot': 4650, 'loign': 4651, 'demie': 4652, 'romps': 4653, 'rompez': 4654, 'renonce': 4655, 'chauffe': 4656, 'chauffez': 4657, 'ouais': 4658, 'pardi': 4659, 'hein': 4660, 'ahhh': 4661, 'ralentis': 4662, 'ralentissez': 4663, 'choisissait': 4664, 'essayerons': 4665, 'tenterons': 4666, 'gagnerons': 4667, 'tristes': 4668, 'commences': 4669, 'creusez': 4670, 'insistez': 4671, 'cipite': 4672, 'raccrocha': 4673, 'suisse': 4674, 'helv': 4675, 'niosit': 4676, 'humain': 4677, 'tristesse': 4678, 'trouvai': 4679, 'gagnant': 4680, 'gagnante': 4681, 'rcp': 4682, 'plaisez': 4683, 'trembl': 4684, 'hauss': 4685, 'siffl': 4686, 'accepterais': 4687, 'conduirai': 4688, 'entrerai': 4689, 'cherai': 4690, 'commencerai': 4691, 'grassouillette': 4692, 'flasque': 4693, 'gourmand': 4694, 'gourmande': 4695, 'affaiblie': 4696, 'passade': 4697, 'tocade': 4698, 'encombrant': 4699, 'magie': 4700, 'tabou': 4701, 'embrassons': 4702, 'arrache': 4703, 'bouts': 4704, 'prions': 4705, 'dons': 4706, 'taillez': 4707, 'somme': 4708, 'envole': 4709, 'oublia': 4710, 'halet': 4711, 'reposait': 4712, 'reposa': 4713, 'grima': 4714, 'bailla': 4715, 'vissez': 4716, 'mentons': 4717, 'accompli': 4718, 'apporterons': 4719, 'nagerons': 4720, 'marcherons': 4721, 'quittes': 4722, 'antes': 4723, 'foutus': 4724, 'soucier': 4725, 'cides': 4726, 'vainqueurs': 4727, 'amicales': 4728, 'amicaux': 4729, 'ments': 4730, 'mentes': 4731, 'ricordieuses': 4732, 'rigoureux': 4733, 'annule': 4734, 'annulez': 4735, 'char': 4736, 'consolez': 4737, 'console': 4738, 'cuisinez': 4739, 'participe': 4740, 'camouflez': 4741, 'discute': 4742, 'discutez': 4743, 'cligne': 4744, 'jubilez': 4745, 'jubile': 4746, 'riez': 4747, 'paniquez': 4748, 'fixez': 4749, 'habille': 4750, 'endormez': 4751, 'gloussa': 4752, 'ricanait': 4753, 'loucha': 4754, 'louch': 4755, 'dressa': 4756, 'simule': 4757, 'blind': 4758, 'cassettes': 4759, 'verbaliser': 4760, 'gueulass': 4761, 'sali': 4762, 'souk': 4763, 'poche': 4764, 'skie': 4765, 'oppose': 4766, 'accises': 4767, 'lutt': 4768, 'battue': 4769, 'ennuyais': 4770, 'tenais': 4771, 'pleurerai': 4772, 'assisterai': 4773, 'verai': 4774, 'sortirai': 4775, 'boulang': 4776, 'ticuleux': 4777, 'ticuleuse': 4778, 'fredonne': 4779, 'fracass': 4780, 'talons': 4781, 'schcoumoune': 4782, 'poissard': 4783, 'plate': 4784, 'biser': 4785, 'rompre': 4786, 'yen': 4787, 'contrefa': 4788, 'querre': 4789, 'vain': 4790, 'futile': 4791, 'avise': 4792, 'divisons': 4793, 'attrist': 4794, 'pioche': 4795, 'piochez': 4796, 'poussent': 4797, 'applaudis': 4798, 'enregistrez': 4799, 'enregistre': 4800, 'riposte': 4801, 'ripostez': 4802, 'enfoir': 4803, 'dormez': 4804, 'surprenez': 4805, 'surprends': 4806, 'croque': 4807, 'croquez': 4808, 'gnangnan': 4809, 'repenses': 4810, 'toussota': 4811, 'expirait': 4812, 'gargaris': 4813, 'souriait': 4814, 'inspira': 4815, 'plane': 4816, 'immense': 4817, 'soign': 4818, 'engourdi': 4819, 'mental': 4820, 'tendait': 4821, 'appellera': 4822, 'enfer': 4823, 'mangions': 4824, 'prom': 4825, 'rifierons': 4826, 'danserons': 4827, 'conduirons': 4828, 'cherons': 4829, 'partagerons': 4830, 'partagera': 4831, 'tirerons': 4832, 'tiendrons': 4833, 'commencerons': 4834, 'emmerde': 4835, 'emmerdeur': 4836, 'emmerdeuse': 4837, 'andouille': 4838, 'couillon': 4839, 'boulet': 4840, 'taudis': 4841, 'malandrin': 4842, 'ordure': 4843, 'plaie': 4844, 'adaptera': 4845, 'rendrez': 4846, 'vanoui': 4847, 'vanouie': 4848, 'sympas': 4849, 'saufs': 4850, 'sauves': 4851, 'minces': 4852, 'navire': 4853, 'selon': 4854, 'comportez': 4855, 'gnait': 4856, 'confiants': 4857, 'confiantes': 4858, 'copine': 4859, 'renforts': 4860, 'alcool': 4861, 'enseignes': 4862, 'charrie': 4863, 'charriez': 4864, 'verser': 4865, 'immondices': 4866, 'radote': 4867, 'radotez': 4868, 'examinez': 4869, 'examine': 4870, 'craignez': 4871, 'cuill': 4872, 'remettez': 4873, 'nia': 4874, 'excentrique': 4875, 'bigot': 4876, 'sectaire': 4877, 'illumin': 4878, 'soutenez': 4879, 'encouragez': 4880, 'encourage': 4881, 'arrogance': 4882, 'barbarie': 4883, 'oses': 4884, 'osez': 4885, 'romantisme': 4886, 'caviar': 4887, 'dessiner': 4888, 'coupai': 4889, 'courtise': 4890, 'vertige': 4891, 'hache': 4892, 'mouches': 4893, 'urticaire': 4894, 'besoins': 4895, 'honore': 4896, 'treignis': 4897, 'improvis': 4898, 'mut': 4899, 'sushis': 4900, 'tripe': 4901, 'invent': 4902, 'labor': 4903, 'rugby': 4904, 'pes': 4905, 'terais': 4906, 'goberais': 4907, 'saisirai': 4908, 'attraperai': 4909, 'ouvrirai': 4910, 'couard': 4911, 'danseur': 4912, 'danseuse': 4913, 'puriste': 4914, 'surfeur': 4915, 'surfeuse': 4916, 'agent': 4917, 'saigner': 4918, 'flan': 4919, 'pinceaux': 4920, 'rebelle': 4921, 'abruti': 4922, 'abrutie': 4923, 'rationnelle': 4924, 'fringale': 4925, 'consciencieux': 4926, 'consciencieuse': 4927, 'chatouilleuse': 4928, 'impartiale': 4929, 'eues': 4930, 'solide': 4931, 'louve': 4932, 'imitation': 4933, 'simulation': 4934, 'pastiche': 4935, 'pat': 4936, 'rira': 4937, 'surviendra': 4938, 'plante': 4939, 'complexe': 4940, 'conneries': 4941, 'daube': 4942, 'tritus': 4943, 'patent': 4944, 'source': 4945, 'suicide': 4946, 'roulez': 4947, 'dames': 4948, 'informe': 4949, 'rebondissons': 4950, 'hanche': 4951, 'souciait': 4952, 'bougea': 4953, 'corrigez': 4954, 'disposer': 4955, 'chan': 4956, 'arde': 4957, 'tranchante': 4958, 'poursuivit': 4959, 'chantait': 4960, 'demeurez': 4961, 'langez': 4962, 'filmer': 4963, 'bayer': 4964, 'corneilles': 4965, 'faudra': 4966, 'rapides': 4967, 'laids': 4968, 'moches': 4969, 'cassent': 4970, 'siennes': 4971, 'sirable': 4972, 'chier': 4973, 'effraction': 4974, 'irruption': 4975, 'brouill': 4976, 'enr': 4977, 'tabasser': 4978, 'grogna': 4979, 'grognait': 4980, 'insist': 4981, 'haussa': 4982, 'chaleureux': 4983, 'siffla': 4984, 'inimaginable': 4985, 'inconcevable': 4986, 'croyable': 4987, 'buvant': 4988, 'sentons': 4989, 'arabes': 4990, 'entendons': 4991, 'discutions': 4992, 'attaquerons': 4993, 'assisterons': 4994, 'ciderons': 4995, 'arriverons': 4996, 'brouillerons': 4997, 'biais': 4998, 'cachons': 4999, 'matures': 5000, 'stricts': 5001, 'culot': 5002, 'toupet': 5003, 'insolence': 5004, 'ovni': 5005, 'tie': 5006, 'racont': 5007, 'clips': 5008, 'mourra': 5009, 'vivra': 5010, 'mourras': 5011, 'sales': 5012, 'assures': 5013, 'malpoli': 5014, 'lunatique': 5015, 'approuve': 5016, 'incluse': 5017, 'glisse': 5018, 'rape': 5019, 'glisser': 5020, 'quelconques': 5021, 'lasses': 5022, 'redemandez': 5023, 'redemande': 5024, 'interrogez': 5025, 'respectueuses': 5026, 'gamins': 5027, 'bandez': 5028, 'courent': 5029, 'unissez': 5030, 'cuisez': 5031, 'dansez': 5032, 'dorment': 5033, 'piges': 5034, 'niez': 5035, 'grossis': 5036, 'tracez': 5037, 'larmes': 5038, 'sainement': 5039, 'expire': 5040, 'closent': 5041, 'barras': 5042, 'disjonct': 5043, 'creus': 5044, 'dupa': 5045, 'bagues': 5046, 'dentaires': 5047, 'bretelles': 5048, 'ignora': 5049, 'britannique': 5050, 'patine': 5051, 'mue': 5052, 'rousp': 5053, 'teur': 5054, 'magnat': 5055, 'poursuit': 5056, 'servez': 5057, 'retiens': 5058, 'retenez': 5059, 'klaxonne': 5060, 'klaxonnez': 5061, 'palpitant': 5062, 'ajoutais': 5063, 'admirais': 5064, 'musulmane': 5065, 'coureur': 5066, 'devins': 5067, 'abstiens': 5068, 'poker': 5069, 'somnolent': 5070, 'interdis': 5071, 'flipp': 5072, 'toche': 5073, 'plumer': 5074, 'foules': 5075, 'rencard': 5076, 'asthmatique': 5077, 'asthme': 5078, 'atteinte': 5079, 'titulaire': 5080, 'nes': 5081, 'montres': 5082, 'pruneaux': 5083, 'jaune': 5084, 'baissai': 5085, 'chaussette': 5086, 'excursions': 5087, 'dress': 5088, 'dressai': 5089, 'plaisance': 5090, 'squash': 5091, 'collecte': 5092, 'recueille': 5093, 'quant': 5094, 'reine': 5095, 'anguille': 5096, 'roche': 5097, 'flaire': 5098, 'firefox': 5099, 'poney': 5100, 'bloui': 5101, 'blouie': 5102, 'blaguais': 5103, 'poignarder': 5104, 'nettoierai': 5105, 'obtiendrai': 5106, 'prouverai': 5107, 'stagiaire': 5108, 'pressif': 5109, 'pressive': 5110, 'impulsive': 5111, 'gamine': 5112, 'observateur': 5113, 'observatrice': 5114, 'conditionnelle': 5115, 'ressentiment': 5116, 'tremble': 5117, 'survis': 5118, 'parages': 5119, 'endommag': 5120, 'empire': 5121, 'aggrave': 5122, 'barbant': 5123, 'viral': 5124, 'vanouira': 5125, 'aga': 5126, 'grisant': 5127, 'instinct': 5128, 'vieillot': 5129, 'obsol': 5130, 'pagayer': 5131, 'poursuivons': 5132, 'rencontrez': 5133, 'poumons': 5134, 'cage': 5135, 'rejoue': 5136, 'rejouez': 5137, 'ssait': 5138, 'active': 5139, 'livide': 5140, 'distinctement': 5141, 'marrez': 5142, 'positive': 5143, 'touille': 5144, 'touillez': 5145, 'froncer': 5146, 'redresse': 5147, 'balayer': 5148, 'varier': 5149, 'variables': 5150, 'tonnes': 5151, 'signifiait': 5152, 'arrange': 5153, 'horripilant': 5154, 'flippant': 5155, 'ravissant': 5156, 'meuglait': 5157, 'vertes': 5158, 'silencieuses': 5159, 'espions': 5160, 'espionnes': 5161, 'basique': 5162, 'tise': 5163, 'incorrect': 5164, 'coulait': 5165, 'ramait': 5166, 'mangeait': 5167, 'avou': 5168, 'affaibli': 5169, 'dodu': 5170, 'sexiste': 5171, 'stable': 5172, 'susceptible': 5173, 'essouffl': 5174, 'joint': 5175, 'manquait': 5176, 'comptant': 5177, 'protestait': 5178, 'tablissait': 5179, 'empress': 5180, 'effraye': 5181, 'frissonn': 5182, 'chancela': 5183, 'vacilla': 5184, 'raidi': 5185, 'crisp': 5186, 'moign': 5187, 'pourri': 5188, 'chouera': 5189, 'missionnera': 5190, 'pleurerait': 5191, 'ronfler': 5192, 'cirez': 5193, 'plancher': 5194, 'cire': 5195, 'buvions': 5196, 'aidions': 5197, 'arbres': 5198, 'intentions': 5199, 'focaliser': 5200, 'outils': 5201, 'nageons': 5202, 'bonbons': 5203, 'ennuyions': 5204, 'expliquerons': 5205, 'reconstruirons': 5206, 'anxieux': 5207, 'grandissons': 5208, 'agrandissons': 5209, 'expansion': 5210, 'souffrons': 5211, 'patients': 5212, 'lisons': 5213, 'coulons': 5214, 'gagneurs': 5215, 'fiasco': 5216, 'chec': 5217, 'sirez': 5218, 'absent': 5219, 'hurle': 5220, 'accuser': 5221, 'reposes': 5222, 'partiale': 5223, 'partial': 5224, 'brillants': 5225, 'brillantes': 5226, 'malines': 5227, 'sinistres': 5228, 'connus': 5229, 'connues': 5230, 'avides': 5231, 'attard': 5232, 'mentaux': 5233, 'agissez': 5234, 'pleures': 5235, 'bres': 5236, 'embauches': 5237, 'embauchez': 5238, 'recrutes': 5239, 'recrutez': 5240, 'vitez': 5241, 'mouche': 5242, 'bateaux': 5243, 'fique': 5244, 'portail': 5245, 'objections': 5246, 'tigres': 5247, 'ronronnent': 5248, 'nies': 5249, 'testes': 5250, 'promettez': 5251, 'pratiques': 5252, 'pratiquez': 5253, 'reprochez': 5254, 'plaignez': 5255, 'tombez': 5256, 'forcez': 5257, 'assoyez': 5258, 'lutte': 5259, 'taquinez': 5260, 'formez': 5261, 'lignes': 5262, 'enfourche': 5263, 'enfourchez': 5264, 'mug': 5265, 'joyeuse': 5266, 'anniversaire': 5267, 'mordit': 5268, 'antipathie': 5269, 'bronze': 5270, 'crivain': 5271, 'faillite': 5272, 'vendus': 5273, 'vendues': 5274, 'souffrait': 5275, 'travailla': 5276, 'hongrois': 5277, 'harcel': 5278, 'freinez': 5279, 'freine': 5280, 'perspicacit': 5281, 'largeur': 5282, 'croyais': 5283, 'crus': 5284, 'crues': 5285, 'emprunte': 5286, 'ongle': 5287, 'transig': 5288, 'copi': 5289, 'ins': 5290, 'comm': 5291, 'ragote': 5292, 'honteuse': 5293, 'nit': 5294, 'nite': 5295, 'suivis': 5296, 'suivies': 5297, 'lang': 5298, 'garantis': 5299, 'saventure': 5300, 'vasculaire': 5301, 'bral': 5302, 'avc': 5303, 'muni': 5304, 'munie': 5305, 'lundis': 5306, 'gimes': 5307, 'insectes': 5308, 'karaok': 5309, 'pros': 5310, 'lytes': 5311, 'amn': 5312, 'filai': 5313, 'continuai': 5314, 'amandes': 5315, 'mah': 5316, 'jong': 5317, 'hu': 5318, 'sashimi': 5319, 'histoires': 5320, 'cits': 5321, 'side': 5322, 'lasagnes': 5323, 'couchers': 5324, 'muffins': 5325, 'lyc': 5326, 'cliner': 5327, 'protester': 5328, 'collation': 5329, 'insuline': 5330, 'soutien': 5331, 'quemment': 5332, 'avoue': 5333, 'revient': 5334, 'dossier': 5335, 'fichier': 5336, 'parlais': 5337, 'tournai': 5338, 'exhorte': 5339, 'habituellement': 5340, 'sire': 5341, 'ventail': 5342, 'bluffer': 5343, 'insouciante': 5344, 'crevais': 5345, 'accueilli': 5346, 'accueillie': 5347, 'survivrai': 5348, 'moignerai': 5349, 'dig': 5350, 'phonerai': 5351, 'gronderai': 5352, 'inviterai': 5353, 'ministre': 5354, 'musicien': 5355, 'musicienne': 5356, 'amer': 5357, 'grincheux': 5358, 'grincheuse': 5359, 'tueur': 5360, 'shabille': 5361, 'accoutum': 5362, 'froiss': 5363, 'neigeait': 5364, 'conclue': 5365, 'luisant': 5366, 'flambant': 5367, 'malhonn': 5368, 'exaltant': 5369, 'inexact': 5370, 'superflu': 5371, 'redondant': 5372, 'intact': 5373, 'vibre': 5374, 'clairs': 5375, 'francs': 5376, 'appelons': 5377, 'terminons': 5378, 'partageons': 5379, 'indices': 5380, 'agrandissez': 5381, 'agrandis': 5382, 'largissez': 5383, 'largis': 5384, 'simplifie': 5385, 'simples': 5386, 'motus': 5387, 'cousue': 5388, 'gobelet': 5389, 'articulations': 5390, 'bide': 5391, 'tricha': 5392, 'chappa': 5393, 'sut': 5394, 'emballe': 5395, 'emballez': 5396, 'pluche': 5397, 'relevez': 5398, 'trangla': 5399, 'berna': 5400, 'cultivait': 5401, 'jugeotte': 5402, 'maladroite': 5403, 'prude': 5404, 'exprimer': 5405, 'vienne': 5406, 'apparut': 5407, 'reprenez': 5408, 'ronchonner': 5409, 'asticoter': 5410, 'manifeste': 5411, 'plastique': 5412, 'telles': 5413, 'klaxonn': 5414, 'hiss': 5415, 'retenti': 5416, 'regards': 5417, 'ssaient': 5418, 'ennuyeuses': 5419, 'ab': 5420, 'bal': 5421, 'zes': 5422, 'gave': 5423, 'escroquerie': 5424, 'excusa': 5425, 'croul': 5426, 'larguer': 5427, 'fuir': 5428, 'scorbut': 5429, 'intervint': 5430, 'intervenait': 5431, 'lon': 5432, 'aviateur': 5433, 'cynique': 5434, 'sot': 5435, 'serviable': 5436, 'acquiesce': 5437, 'hoche': 5438, 'faction': 5439, 'hal': 5440, 'pompeux': 5441, 'radical': 5442, 'rase': 5443, 'similaire': 5444, 'sanglote': 5445, 'sanglots': 5446, 'assoiff': 5447, 'imperturbable': 5448, 'braill': 5449, 'indiff': 5450, 'flingues': 5451, 'tofu': 5452, 'allure': 5453, 'mentait': 5454, 'souvenait': 5455, 'rappelait': 5456, 'repr': 5457, 'sailles': 5458, 'tendit': 5459, 'faudrait': 5460, 'rifiera': 5461, 'conduira': 5462, 'commencera': 5463, 'rangera': 5464, 'gai': 5465, 'instable': 5466, 'sauce': 5467, 'cerveaux': 5468, 'craser': 5469, 'atterrir': 5470, 'action': 5471, 'partions': 5472, 'plaisantions': 5473, 'cuits': 5474, 'enterrerons': 5475, 'appellerons': 5476, 'continuerons': 5477, 'peindrons': 5478, 'sauverons': 5479, 'couple': 5480, 'bouchers': 5481, 'chappons': 5482, 'reconnaissants': 5483, 'reconnaissantes': 5484, 'sourds': 5485, 'issants': 5486, 'issantes': 5487, 'positifs': 5488, 'meilleurs': 5489, 'meilleures': 5490, 'derniers': 5491, 'pareils': 5492, 'pareilles': 5493, 'dab': 5494, 'bourse': 5495, 'assistait': 5496, 'intervenu': 5497, 'soucierait': 5498, 'poile': 5499, 'demandes': 5500, 'remonte': 5501, 'essuyez': 5502, 'goutez': 5503, 'mentis': 5504, 'fasses': 5505, 'aimeriez': 5506, 'tatillons': 5507, 'tatillonnes': 5508, 'imprudents': 5509, 'imprudentes': 5510, 'conviens': 5511, 'convenez': 5512, 'cise': 5513, 'chants': 5514, 'emportes': 5515, 'emportez': 5516, 'retourna': 5517, 'ajustez': 5518, 'sents': 5519, 'sentes': 5520, 'fonctions': 5521, 'suggestions': 5522, 'violets': 5523, 'tiennes': 5524, 'envieuses': 5525, 'regardes': 5526, 'balles': 5527, 'rondes': 5528, 'arranger': 5529, 'attrapent': 5530, 'licitation': 5531, 'ux': 5532, 'corbeaux': 5533, 'rap': 5534, 'rappelles': 5535, 'fies': 5536, 'pattes': 5537, 'flipe': 5538, 'insultez': 5539, 'serine': 5540, 'serinez': 5541, 'mouton': 5542, 'dansait': 5543, 'pria': 5544, 'servait': 5545, 'grille': 5546, 'repliez': 5547, 'bargeots': 5548, 'panneau': 5549, 'sied': 5550, 'trahissait': 5551, 'abandonna': 5552, 'toyota': 5553, 'raquette': 5554, 'thiopien': 5555, 'dium': 5556, 'sucreries': 5557, 'airs': 5558, 'whisky': 5559, 'fixa': 5560, 'tudiait': 5561, 'tudia': 5562, 'escroqu': 5563, 'tricher': 5564, 'outr': 5565, 'dien': 5566, 'fraternit': 5567, 'bizuth': 5568, 'jardinier': 5569, 'lambin': 5570, 'lourdaud': 5571, 'poux': 5572, 'associ': 5573, 'compagnon': 5574, 'falsifi': 5575, 'putation': 5576, 'hissez': 5577, 'quart': 5578, 'humiliant': 5579, 'grouillez': 5580, 'pressons': 5581, 'hypnose': 5582, 'gypte': 5583, 'mesurer': 5584, 'simuler': 5585, 'percevoir': 5586, 'per': 5587, 'ois': 5588, 'emp': 5589, 'carpe': 5590, 'contractai': 5591, 'toner': 5592, 'surmont': 5593, 'barrassai': 5594, 'flair': 5595, 'dus': 5596, 'obs': 5597, 'politique': 5598, 'ratons': 5599, 'laveurs': 5600, 'reptiles': 5601, 'ecchymose': 5602, 'alibi': 5603, 'pellicules': 5604, 'immunit': 5605, 'dorme': 5606, 'hurlements': 5607, 'gagnera': 5608, 'pleuvra': 5609, 'coude': 5610, 'imagin': 5611, 'recevoir': 5612, 'emporterions': 5613, 'gagnerions': 5614, 'dessins': 5615, 'anim': 5616, 'westerns': 5617, 'craquai': 5618, 'enflammai': 5619, 'craqu': 5620, 'enflamm': 5621, 'dissip': 5622, 'barbecues': 5623, 'dies': 5624, 'aubergines': 5625, 'java': 5626, 'moelleux': 5627, 'dise': 5628, 'internet': 5629, 'ine': 5630, 'scotch': 5631, 'raser': 5632, 'rencontre': 5633, 'terrain': 5634, 'factures': 5635, 'glais': 5636, 'jouais': 5637, 'orchid': 5638, 'mayeur': 5639, 'eur': 5640, 'bourgmestre': 5641, 'relu': 5642, 'souvenais': 5643, 'souvins': 5644, 'respectais': 5645, 'pressenti': 5646, 'motif': 5647, 'parlai': 5648, 'rembourser': 5649, 'combattre': 5650, 'revenus': 5651, 'revenues': 5652, 'coma': 5653, 'patrouille': 5654, 'trifi': 5655, 'demandais': 5656, 'posais': 5657, 'avertirai': 5658, 'effectue': 5659, 'ficherais': 5660, 'occuperais': 5661, 'referais': 5662, 'rechercherai': 5663, 'cesserai': 5664, 'louerai': 5665, 'raman': 5666, 'menuisier': 5667, 'sauveteur': 5668, 'masochiste': 5669, 'aventureuse': 5670, 'craque': 5671, 'frire': 5672, 'vieillis': 5673, 'vaincre': 5674, 'formation': 5675, 'introvertie': 5676, 'myope': 5677, 'dispute': 5678, 'rempla': 5679, 'capitaine': 5680, 'gob': 5681, 'support': 5682, 'rilleux': 5683, 'toxique': 5684, 'thique': 5685, 'explos': 5686, 'halluciner': 5687, 'sembler': 5688, 'stimulant': 5689, 'mou': 5690, 'repoussera': 5691, 'impasse': 5692, 'champignon': 5693, 'onze': 5694, 'artificiel': 5695, 'basses': 5696, 'uvres': 5697, 'inappropri': 5698, 'inadapt': 5699, 'trompeur': 5700, 'st': 5701, 'otyp': 5702, 'touffant': 5703, 'touffante': 5704, 'troit': 5705, 'maintenez': 5706, 'maintiens': 5707, 'souriants': 5708, 'souriantes': 5709, 'trissez': 5710, 'koalas': 5711, 'commentez': 5712, 'citrons': 5713, 'acides': 5714, 'collaborons': 5715, 'volants': 5716, 'enivrons': 5717, 'assurons': 5718, 'gocions': 5719, 'disputons': 5720, 'battons': 5721, 'jubilons': 5722, 'paniquons': 5723, 'ralentissons': 5724, 'devraient': 5725, 'viseur': 5726, 'grincent': 5727, 'couinent': 5728, 'natto': 5729, 'terrifiante': 5730, 'flancha': 5731, 'flanch': 5732, 'roba': 5733, 'loche': 5734, 'octobre': 5735, 'amusantes': 5736, 'planification': 5737, 'essentielle': 5738, 'presser': 5739, 'presse': 5740, 'versez': 5741, 'ratissez': 5742, 'sellez': 5743, 'requins': 5744, 'pardonna': 5745, 'disposait': 5746, 'coureuse': 5747, 'gracieuse': 5748, 'pin': 5749, 'sermonna': 5750, 'sermonn': 5751, 'poignarda': 5752, 'incita': 5753, 'incit': 5754, 'tenta': 5755, 'attacha': 5756, 'ligota': 5757, 'ligot': 5758, 'essayera': 5759, 'veilla': 5760, 'travaillait': 5761, 'silienne': 5762, 'poupe': 5763, 'soie': 5764, 'touss': 5765, 'espagnol': 5766, 'enquiquiner': 5767, 'chamailler': 5768, 'balaie': 5769, 'durer': 5770, 'pagode': 5771, 'ombre': 5772, 'branle': 5773, 'puait': 5774, 'rougit': 5775, 'mugissait': 5776, 'traitement': 5777, 'cipiter': 5778, 'acteurs': 5779, 'melons': 5780, 'soucient': 5781, 'partirent': 5782, 'stagiaires': 5783, 'partent': 5784, 'ciales': 5785, 'particuliers': 5786, 'particuli': 5787, 'grasses': 5788, 'attendent': 5789, 'produites': 5790, 'mahjong': 5791, 'promo': 5792, 'chet': 5793, 'singulier': 5794, 'insolite': 5795, 'agress': 5796, 'rote': 5797, 'rappela': 5798, 'poursuivait': 5799, 'contribua': 5800, 'suivait': 5801, 'pliqu': 5802, 'fendu': 5803, 'combattu': 5804, 'ipad': 5805, 'client': 5806, 'jockey': 5807, 'soudeur': 5808, 'anorexique': 5809, 'sportif': 5810, 'mence': 5811, 'prav': 5812, 'glousse': 5813, 'ricane': 5814, 'gant': 5815, 'avenant': 5816, 'solu': 5817, 'surexcit': 5818, 'studieux': 5819, 'infatigable': 5820, 'franc': 5821, 'venait': 5822, 'apprend': 5823, 'lisait': 5824, 'sirotait': 5825, 'ralenti': 5826, 'ralentit': 5827, 'bizarrement': 5828, 'durcit': 5829, 'provoqu': 5830, 'taquinait': 5831, 'rebroussa': 5832, 'porta': 5833, 'avertit': 5834, 'vasif': 5835, 'randonn': 5836, 'assistera': 5837, 'participera': 5838, 'cidera': 5839, 'corrigera': 5840, 'parera': 5841, 'partirait': 5842, 'acquiert': 5843, 'iller': 5844, 'papillon': 5845, 'murs': 5846, 'poses': 5847, 'enseignants': 5848, 'enseignantes': 5849, 'clar': 5850, 'disposions': 5851, 'ponchos': 5852, 'manquons': 5853, 'converser': 5854, 'gaufres': 5855, 'ussir': 5856, 'experts': 5857, 'conscients': 5858, 'alisons': 5859, 'respectons': 5860, 'courons': 5861, 'voyageons': 5862, 'agriculteurs': 5863, 'parviendrons': 5864, 'resterons': 5865, 'terons': 5866, 'rendrons': 5867, 'disponibles': 5868, 'diens': 5869, 'jardiniers': 5870, 'gentilshommes': 5871, 'impartiaux': 5872, 'impulsifs': 5873, 'charge': 5874, 'fautifs': 5875, 'voisins': 5876, 'prisonni': 5877, 'crions': 5878, 'sensibles': 5879, 'survivons': 5880, 'survivants': 5881, 'survivantes': 5882, 'pleurais': 5883, 'pleuriez': 5884, 'catastrophe': 5885, 'perspective': 5886, 'personnage': 5887, 'tera': 5888, 'moyenne': 5889, 'rale': 5890, 'toilettes': 5891, 'chiottes': 5892, 'wc': 5893, 'rame': 5894, 'aviron': 5895, 'particip': 5896, 'reprogramm': 5897, 'report': 5898, 'jouait': 5899, 'perdant': 5900, 'vons': 5901, 'notez': 5902, 'comptes': 5903, 'sacr': 5904, 'journer': 5905, 'alliez': 5906, 'gagneur': 5907, 'adorables': 5908, 'finies': 5909, 'chiante': 5910, 'arrogants': 5911, 'arrogantes': 5912, 'saignez': 5913, 'gligente': 5914, 'charmantes': 5915, 'charmants': 5916, 'triches': 5917, 'embrouilles': 5918, 'loyales': 5919, 'loyaux': 5920, 'hideuses': 5921, 'encro': 5922, 'innocentes': 5923, 'trompes': 5924, 'tiques': 5925, 'temporises': 5926, 'temporisez': 5927, 'talentueuses': 5928, 'bruyants': 5929, 'bruyantes': 5930, 'lents': 5931, 'lentes': 5932, 'aboie': 5933, 'aboyer': 5934, 'plomb': 5935, 'postulez': 5936, 'postule': 5937, 'catholiques': 5938, 'golfeur': 5939, 'golfeuse': 5940, 'sorcier': 5941, 'rougissez': 5942, 'existes': 5943, 'existez': 5944, 'atlantis': 5945, 'serpents': 5946, 'bec': 5947, 'mordez': 5948, 'boxe': 5949, 'ennuyante': 5950, 'boxer': 5951, 'ennuyant': 5952, 'respirez': 5953, 'brossez': 5954, 'avancent': 5955, 'concentre': 5956, 'concentrez': 5957, 'consulte': 5958, 'trise': 5959, 'traversez': 5960, 'phonez': 5961, 'aimiez': 5962, 'aurait': 5963, 'sides': 5964, 'soucies': 5965, 'souciez': 5966, 'connard': 5967, 'morose': 5968, 'couragez': 5969, 'grimaces': 5970, 'balancez': 5971, 'deviennent': 5972, 'can': 5973, 'jase': 5974, 'combattez': 5975, 'terminez': 5976, 'flotter': 5977, 'surfe': 5978, 'surfez': 5979, 'grandis': 5980, 'grandissez': 5981, 'reparti': 5982, 'din': 5983, 'vagabond': 5984, 'sabord': 5985, 'trompa': 5986, 'renverse': 5987, 'discours': 5988, 'longues': 5989, 'joker': 5990, 'acrobate': 5991, 'soucis': 5992, 'intime': 5993, 'meut': 5994, 'peignit': 5995, 'dormit': 5996, 'clin': 5997, 'historien': 5998, 'fumeur': 5999, 'nile': 6000, 'teux': 6001, 'foudre': 6002, 'resurgit': 6003, 'perfectionnez': 6004, 'tences': 6005, 'chope': 6006, 'portent': 6007, 'lodrame': 6008, 'mesures': 6009, 'norv': 6010, 'relativement': 6011, 'inclinai': 6012, 'atteindre': 6013, 'redresser': 6014, 'arriverais': 6015, 'livreur': 6016, 'pizzas': 6017, 'plaisait': 6018, 'expr': 6019, 'charles': 6020, 'noisettes': 6021, 'dilemme': 6022, 'revigor': 6023, 'merveilleusement': 6024, 'arnaquer': 6025, 'textes': 6026, 'vacciner': 6027, 'raisons': 6028, 'feux': 6029, 'artifice': 6030, 'administratives': 6031, 'bourgade': 6032, 'audace': 6033, 'grenade': 6034, 'quittance': 6035, 'requ': 6036, 'sujette': 6037, 'foins': 6038, 'lures': 6039, 'pneumonie': 6040, 'tendards': 6041, 'principes': 6042, 'ondul': 6043, 'souffrant': 6044, 'virer': 6045, 'ficelles': 6046, 'affranchi': 6047, 'soulev': 6048, 'astrologie': 6049, 'phants': 6050, 'roman': 6051, 'champignons': 6052, 'oncles': 6053, 'papiers': 6054, 'australie': 6055, 'astronomie': 6056, 'ouvrages': 6057, 'anciens': 6058, 'nourritures': 6059, 'coton': 6060, 'amass': 6061, 'fortune': 6062, 'spaghettis': 6063, 'mourus': 6064, 'escorte': 6065, 'tesse': 6066, 'enveloppes': 6067, 'savon': 6068, 'titres': 6069, 'envers': 6070, 'dettes': 6071, 'cipitai': 6072, 'tombai': 6073, 'kiffe': 6074, 'recommande': 6075, 'requiers': 6076, 'frott': 6077, 'us': 6078, 'parapluies': 6079, 'visit': 6080, 'attendis': 6081, 'marchant': 6082, 'divorcer': 6083, 'martini': 6084, 'correspondant': 6085, 'raton': 6086, 'laveur': 6087, 'trottinette': 6088, 'gagnions': 6089, 'treize': 6090, 'amusais': 6091, 'fourbue': 6092, 'quent': 6093, 'buter': 6094, 'flinguer': 6095, 'enseignerai': 6096, 'traduirai': 6097, 'tombola': 6098, 'plaindrais': 6099, 'cogner': 6100, 'manifesterai': 6101, 'volontiers': 6102, 'jeunerai': 6103, 'tudierai': 6104, 'plats': 6105, 'vingt': 6106, 'programmeur': 6107, 'ambidextre': 6108, 'postes': 6109, 'flippe': 6110, 'grenier': 6111, 'invite': 6112, 'mendiant': 6113, 'frime': 6114, 'parano': 6115, 'aque': 6116, 'couloir': 6117, 'glandes': 6118, 'relax': 6119, 'accessible': 6120, 'euros': 6121, 'flipper': 6122, 'avantages': 6123, 'homo': 6124, 'excessif': 6125, 'diatique': 6126, 'publicitaire': 6127, 'fonctionna': 6128, 'avril': 6129, 'riode': 6130, 'tournesol': 6131, 'confortant': 6132, 'radieux': 6133, 'concevable': 6134, 'regrettable': 6135, 'brille': 6136, 'transparent': 6137, 'asie': 6138, 'traversons': 6139, 'donnons': 6140, 'chettes': 6141, 'postez': 6142, 'gante': 6143, 'cannette': 6144, 'neigera': 6145, 'puces': 6146, 'minuscule': 6147, 'pouls': 6148, 'engourdis': 6149, 'exprima': 6150, 'souciera': 6151, 'parlera': 6152, 'trole': 6153, 'capables': 6154, 'parleront': 6155, 'copiez': 6156, 'cisez': 6157, 'ciser': 6158, 'veloppez': 6159, 'assurer': 6160, 'signer': 6161, 'gonflez': 6162, 'sourdine': 6163, 'respectez': 6164, 'rome': 6165, 'gaspiller': 6166, 'salive': 6167, 'fouille': 6168, 'verrons': 6169, 'trahies': 6170, 'prouvait': 6171, 'idol': 6172, 'trait': 6173, 'insulta': 6174, 'rejeta': 6175, 'repousse': 6176, 'ardemment': 6177, 'banc': 6178, 'rigola': 6179, 'criait': 6180, 'recrache': 6181, 'pinailler': 6182, 'moquer': 6183, 'viter': 6184, 'chantage': 6185, 'propice': 6186, 'paroles': 6187, 'sidence': 6188, 'plaisant': 6189, 'vexant': 6190, 'tic': 6191, 'tac': 6192, 'grin': 6193, 'ouvrirent': 6194, 'ru': 6195, 'dindons': 6196, 'jury': 6197, 'divis': 6198, 'messe': 6199, 'dite': 6200, 'enclanch': 6201, 'servoir': 6202, 'sourirent': 6203, 'tarit': 6204, 'limites': 6205, 'disputent': 6206, 'chanteurs': 6207, 'oblig': 6208, 'changeront': 6209, 'fausses': 6210, 'amateurs': 6211, 'battent': 6212, 'inoffensifs': 6213, 'inoffensives': 6214, 'immatures': 6215, 'correspond': 6216, 'costaud': 6217, 'cheux': 6218, 'officiel': 6219, 'saucisses': 6220, 'chauff': 6221, 'relaxant': 6222, 'sabotage': 6223, 'pistolet': 6224, 'rebondi': 6225, 'radeau': 6226, 'manifest': 6227, 'manifestement': 6228, 'embrouill': 6229, 'saluait': 6230, 'jean': 6231, 'charisme': 6232, 'roux': 6233, 'travails': 6234, 'oignons': 6235, 'ignorait': 6236, 'batteur': 6237, 'gastronome': 6238, 'gymnaste': 6239, 'hipster': 6240, 'pianiste': 6241, 'courtier': 6242, 'routier': 6243, 'interne': 6244, 'reprend': 6245, 'tentieux': 6246, 'fourbe': 6247, 'paradis': 6248, 'indigne': 6249, 'inventif': 6250, 'gendaire': 6251, 'campus': 6252, 'craquant': 6253, 'ticent': 6254, 'suspendu': 6255, 'ternu': 6256, 'poneys': 6257, 'primanda': 6258, 'toma': 6259, 'horriblement': 6260, 'chatouillait': 6261, 'redouble': 6262, 'attaqua': 6263, 'bafouillait': 6264, 'bluffait': 6265, 'vantait': 6266, 'incin': 6267, 'noyait': 6268, 'extase': 6269, 'cut': 6270, 'lectionn': 6271, 'mourait': 6272, 'tuera': 6273, 'aimera': 6274, 'pondra': 6275, 'agira': 6276, 'remporta': 6277, 'invaincu': 6278, 'duisant': 6279, 'bel': 6280, 'arrosez': 6281, 'espadon': 6282, 'song': 6283, 'exigeons': 6284, 'actes': 6285, 'rapproch': 6286, 'trouvons': 6287, 'orie': 6288, 'blessures': 6289, 'conserve': 6290, 'commettons': 6291, 'pensions': 6292, 'vacuer': 6293, 'dier': 6294, 'retirer': 6295, 'provisions': 6296, 'reviennes': 6297, 'redevables': 6298, 'trompions': 6299, 'parerons': 6300, 'corrigerons': 6301, 'souhaitons': 6302, 'ferions': 6303, 'reverrons': 6304, 'retrouve': 6305, 'saurons': 6306, 'payerons': 6307, 'discuterons': 6308, 'tantinet': 6309, 'uniques': 6310, 'exploite': 6311, 'copains': 6312, 'diplomates': 6313, 'duisons': 6314, 'voilure': 6315, 'assoupit': 6316, 'endort': 6317, 'assoupissons': 6318, 'endormons': 6319, 'pigeons': 6320, 'historiens': 6321, 'situation': 6322, 'sauveteurs': 6323, 'thodiques': 6324, 'fricotons': 6325, 'ussite': 6326, 'shabillons': 6327, 'shabiller': 6328, 'perdent': 6329, 'navet': 6330, 'tireur': 6331, 'pourrie': 6332, 'cherches': 6333, 'manigance': 6334, 'ferez': 6335, 'sultat': 6336, 'fouillis': 6337, 'voudrez': 6338, 'voudras': 6339, 'rasoir': 6340, 'toilette': 6341, 'remarquerait': 6342, 'hamlet': 6343, 'professeure': 6344, 'joindras': 6345, 'joindrez': 6346, 'joins': 6347, 'diras': 6348, 'direz': 6349, 'laine': 6350, 'joliment': 6351, 'fabuleuse': 6352, 'sitez': 6353, 'sites': 6354, 'activer': 6355, 'magner': 6356, 'ritez': 6357, 'effectivement': 6358, 'probablement': 6359, 'ignores': 6360, 'aies': 6361, 'autorisation': 6362, 'citer': 6363, 'sacrement': 6364, 'cesses': 6365, 'distant': 6366, 'utiles': 6367, 'survivrez': 6368, 'survivras': 6369, 'tocard': 6370, 'constitues': 6371, 'constituez': 6372, 'suffisants': 6373, 'suffisantes': 6374, 'courtoises': 6375, 'oublieux': 6376, 'oublieuse': 6377, 'odieuses': 6378, 'observation': 6379, 'tenaces': 6380, 'cries': 6381, 'frissonnes': 6382, 'trembles': 6383, 'tremblez': 6384, 'bavards': 6385, 'bavardes': 6386, 'immorale': 6387, 'feuille': 6388, 'freins': 6389, 'surr': 6390, 'arrestation': 6391, 'conviendra': 6392, 'parfaitement': 6393, 'sympathiques': 6394, 'bacheliers': 6395, 'respires': 6396, 'construisent': 6397, 'nids': 6398, 'composer': 6399, 'puisse': 6400, 'effectuer': 6401, 'aliser': 6402, 'rapprocher': 6403, 'champagne': 6404, 'rechargez': 6405, 'recharge': 6406, 'cliquez': 6407, 'admettez': 6408, 'compare': 6409, 'distribue': 6410, 'distribuez': 6411, 'imminente': 6412, 'lus': 6413, 'alimentaire': 6414, 'sactive': 6415, 'sactivez': 6416, 'fourmis': 6417, 'disposez': 6418, 'blonde': 6419, 'latin': 6420, 'sachet': 6421, 'nages': 6422, 'cornet': 6423, 'ignorant': 6424, 'insistant': 6425, 'supplier': 6426, 'foire': 6427, 'foirez': 6428, 'menacez': 6429, 'selle': 6430, 'agenouille': 6431, 'agenouillez': 6432, 'aboule': 6433, 'tats': 6434, 'unis': 6435, 'mesdames': 6436, 'clam': 6437, 'gomme': 6438, 'grains': 6439, 'protesta': 6440, 'clamec': 6441, 'cann': 6442, 'brutalement': 6443, 'vase': 6444, 'expira': 6445, 'transmis': 6446, 'enivra': 6447, 'enivr': 6448, 'remit': 6449, 'pendu': 6450, 'maux': 6451, 'ego': 6452, 'dimensionn': 6453, 'blond': 6454, 'taiseux': 6455, 'quarantaine': 6456, 'tv': 6457, 'cessa': 6458, 'suicid': 6459, 'frugale': 6460, 'chichement': 6461, 'osaka': 6462, 'honneur': 6463, 'confectionna': 6464, 'courut': 6465, 'miles': 6466, 'frotta': 6467, 'disait': 6468, 'rentra': 6469, 'narios': 6470, 'cycle': 6471, 'originaire': 6472, 'orgie': 6473, 'fourre': 6474, 'fouilles': 6475, 'oseille': 6476, 'avertissements': 6477, 'assombrirent': 6478, 'griller': 6479, 'penseriez': 6480, 'courions': 6481, 'couriez': 6482, 'rivaliser': 6483, 'stoppons': 6484, 'donnes': 6485, 'ussirait': 6486, 'trouverais': 6487, 'trouveriez': 6488, 'biteur': 6489, 'bitrice': 6490, 'hamburger': 6491, 'sandwich': 6492, 'hame': 6493, 'cactus': 6494, 'webcam': 6495, 'achetai': 6496, 'bross': 6497, 'consoler': 6498, 'difficilement': 6499, 'chopin': 6500, 'appuyer': 6501, 'ralentir': 6502, 'enregistr': 6503, 'envisag': 6504, 'gocie': 6505, 'vuln': 6506, 'rable': 6507, 'chappai': 6508, 'oubliais': 6509, 'got': 6510, 'abeille': 6511, 'chahut': 6512, 'hypocrites': 6513, 'entretiens': 6514, 'pluvieuses': 6515, 'coupure': 6516, 'voilier': 6517, 'otite': 6518, 'tains': 6519, 'disques': 6520, 'conomies': 6521, 'possession': 6522, 'lot': 6523, 'saine': 6524, 'marine': 6525, 'titre': 6526, 'continuais': 6527, 'viendrais': 6528, 'aventures': 6529, 'choucroute': 6530, 'pic': 6531, 'probabilit': 6532, 'past': 6533, 'confortablement': 6534, 'barrage': 6535, 'boucle': 6536, 'oreille': 6537, 'quilibre': 6538, 'hamburgers': 6539, 'public': 6540, 'album': 6541, 'raffole': 6542, 'marchander': 6543, 'appart': 6544, 'moquai': 6545, 'minutes': 6546, 'pit': 6547, 'clavier': 6548, 'dentifrice': 6549, 'hoch': 6550, 'capot': 6551, 'yens': 6552, 'crochet': 6553, 'tambourin': 6554, 'volley': 6555, 'invoque': 6556, 'lagu': 6557, 'muscle': 6558, 'distendu': 6559, 'entorse': 6560, 'choire': 6561, 'repoussai': 6562, 'embouti': 6563, 'recommand': 6564, 'plaisantant': 6565, 'chenille': 6566, 'assist': 6567, 'roulettes': 6568, 'bestiole': 6569, 'balay': 6570, 'ographie': 6571, 'autrement': 6572, 'autoroute': 6573, 'ordinaire': 6574, 'portatif': 6575, 'assiettes': 6576, 'confesser': 6577, 'mouriez': 6578, 'meures': 6579, 'souhaitais': 6580, 'averti': 6581, 'avertie': 6582, 'brais': 6583, 'dissuada': 6584, 'minorit': 6585, 'prouvais': 6586, 'bornes': 6587, 'draguais': 6588, 'poursuivis': 6589, 'lecture': 6590, 'harvard': 6591, 'journerai': 6592, 'reculerai': 6593, 'nierai': 6594, 'gocierai': 6595, 'cierais': 6596, 'senter': 6597, 'rentrerai': 6598, 'nourrir': 6599, 'nourrirai': 6600, 'garderai': 6601, 'recommanderai': 6602, 'enverrai': 6603, 'assoirai': 6604, 'crirai': 6605, 'sagittaire': 6606, 'ducateur': 6607, 'canin': 6608, 'bourreau': 6609, 'astronome': 6610, 'consciente': 6611, 'observ': 6612, 'concentration': 6613, 'mement': 6614, 'bondis': 6615, 'irrempla': 6616, 'supposer': 6617, 'maigris': 6618, 'rialiste': 6619, 'joueuse': 6620, 'cobaye': 6621, 'divination': 6622, 'pathe': 6623, 'institutrice': 6624, 'sauvage': 6625, 'courbatures': 6626, 'chiasse': 6627, 'fiert': 6628, 'rumeurs': 6629, 'identifie': 6630, 'diminu': 6631, 'assurez': 6632, 'notari': 6633, 'garanti': 6634, 'morceaux': 6635, 'chi': 6636, 'facultatif': 6637, 'massacre': 6638, 'fastidieux': 6639, 'amphigourique': 6640, 'sastreux': 6641, 'goutant': 6642, 'solde': 6643, 'convaincant': 6644, 'branlant': 6645, 'nuageuse': 6646, 'conspiration': 6647, 'complot': 6648, 'dictionnaire': 6649, 'controvers': 6650, 'enfance': 6651, 'siter': 6652, 'sitation': 6653, 'uds': 6654, 'chim': 6655, 'insens': 6656, 'confidentiel': 6657, 'nant': 6658, 'chit': 6659, 'assombrit': 6660, 'obscurcit': 6661, 'gentiment': 6662, 'humaine': 6663, 'arrang': 6664, 'impr': 6665, 'ressemblant': 6666, 'frappez': 6667, 'construisons': 6668, 'cabane': 6669, 'concentrons': 6670, 'marions': 6671, 'ignorons': 6672, 'disons': 6673, 'tentons': 6674, 'serrons': 6675, 'recommen': 6676, 'entrons': 6677, 'divertissante': 6678, 'vaudra': 6679, 'puissance': 6680, 'raffolent': 6681, 'ennuyeuse': 6682, 'admis': 6683, 'introduire': 6684, 'comprit': 6685, 'plaignait': 6686, 'terrifie': 6687, 'clochait': 6688, 'attirent': 6689, 'augmentent': 6690, 'hausse': 6691, 'production': 6692, 'pantalons': 6693, 'pines': 6694, 'inspecte': 6695, 'suites': 6696, 'fascinait': 6697, 'tentrice': 6698, 'silhouette': 6699, 'butante': 6700, 'asociale': 6701, 'adolescente': 6702, 'ado': 6703, 'turner': 6704, 'argument': 6705, 'hyperactive': 6706, 'berceuse': 6707, 'solvez': 6708, 'pondait': 6709, 'pourtant': 6710, 'droites': 6711, 'balance': 6712, 'imiter': 6713, 'termites': 6714, 'lourde': 6715, 'massive': 6716, 'essentiel': 6717, 'voque': 6718, 'sonnait': 6719, 'supposition': 6720, 'volera': 6721, 'sapin': 6722, 'rangeant': 6723, 'opinion': 6724, 'risible': 6725, 'niable': 6726, 'ble': 6727, 'provision': 6728, 'policiers': 6729, 'fila': 6730, 'brait': 6731, 'entrouverte': 6732, 'fade': 6733, 'insipide': 6734, 'vanouies': 6735, 'enray': 6736, 'mouss': 6737, 'couvercle': 6738, 'voyants': 6739, 'loyer': 6740, 'paisse': 6741, 'verglac': 6742, 'tactique': 6743, 'cuve': 6744, 'prononc': 6745, 'dieux': 6746, 'chappatoire': 6747, 'ritables': 6748, 'massives': 6749, 'regardent': 6750, 'nent': 6751, 'croyaient': 6752, 'ressemblent': 6753, 'parlaient': 6754, 'voyagent': 6755, 'aimeront': 6756, 'menteuses': 6757, 'cannibales': 6758, 'excellentes': 6759, 'excellents': 6760, 'reuses': 6761, 'coutent': 6762, 'meurtriers': 6763, 'chics': 6764, 'intacts': 6765, 'intactes': 6766, 'seau': 6767, 'coco': 6768, 'extorsion': 6769, 'charabia': 6770, 'tordant': 6771, 'plier': 6772, 'insultant': 6773, 'gulier': 6774, 'justifi': 6775, 'offensant': 6776, 'voltant': 6777, 'temporaire': 6778, 'louche': 6779, 'jeudi': 6780, 'gale': 6781, 'touffer': 6782, 'croyait': 6783, 'trahit': 6784, 'prisait': 6785, 'apparu': 6786, 'qi': 6787, 'iphone': 6788, 'arthrite': 6789, 'engelures': 6790, 'imita': 6791, 'imit': 6792, 'don': 6793, 'juan': 6794, 'bijoutier': 6795, 'chiffe': 6796, 'molle': 6797, 'garou': 6798, 'vieillard': 6799, 'frustr': 6800, 'garnit': 6801, 'grandir': 6802, 'grandit': 6803, 'universit': 6804, 'rapie': 6805, 'perspicace': 6806, 'intol': 6807, 'passionn': 6808, 'possessif': 6809, 'convalescence': 6810, 'remet': 6811, 'infid': 6812, 'insociable': 6813, 'mineur': 6814, 'country': 6815, 'marmonne': 6816, 'renonc': 6817, 'rassit': 6818, 'parait': 6819, 'serra': 6820, 'humblement': 6821, 'alignement': 6822, 'comprenait': 6823, 'fumait': 6824, 'autrefois': 6825, 'attendue': 6826, 'pompier': 6827, 'enthousiasm': 6828, 'lirait': 6829, 'plaindra': 6830, 'continuera': 6831, 'tarder': 6832, 'dera': 6833, 'approuverait': 6834, 'chira': 6835, 'comprendra': 6836, 'suffoquer': 6837, 'acrylique': 6838, 'langage': 6839, 'abhorrons': 6840, 'sentions': 6841, 'camarades': 6842, 'construire': 6843, 'vaccin': 6844, 'mandat': 6845, 'fournisseurs': 6846, 'famili': 6847, 'aspirons': 6848, 'occupons': 6849, 'cherch': 6850, 'parcs': 6851, 'alerter': 6852, 'mour': 6853, 'issons': 6854, 'cano': 6855, 'sceptiques': 6856, 'bataille': 6857, 'emploierons': 6858, 'aventureux': 6859, 'aventureuses': 6860, 'extravertis': 6861, 'devenons': 6862, 'introvertis': 6863, 'journalistes': 6864, 'tueurs': 6865, 'tueuses': 6866, 'clous': 6867, 'pessimistes': 6868, 'retirons': 6869, 'ascendant': 6870, 'rejouons': 6871, 'dignes': 6872, 'chauds': 6873, 'collection': 6874, 'excellente': 6875, 'judicieuse': 6876, 'portiez': 6877, 'lai': 6878, 'consiste': 6879, 'disais': 6880, 'passerait': 6881, 'arriverait': 6882, 'quels': 6883, 'cible': 6884, 'gares': 6885, 'livret': 6886, 'situe': 6887, 'loquet': 6888, 'piger': 6889, 'valid': 6890, 'melon': 6891, 'tourte': 6892, 'confucius': 6893, 'cuisiniers': 6894, 'sistes': 6895, 'encourir': 6896, 'rirais': 6897, 'payerez': 6898, 'payeras': 6899, 'remuez': 6900, 'actrices': 6901, 'louper': 6902, 'auriez': 6903, 'donnas': 6904, 'battes': 6905, 'resplendissants': 6906, 'resplendissantes': 6907, 'retenir': 6908, 'sueur': 6909, 'ussiras': 6910, 'ussirez': 6911, 'trouveras': 6912, 'disgr': 6913, 'exprimes': 6914, 'exprimez': 6915, 'contagieuses': 6916, 'diplomatie': 6917, 'tants': 6918, 'tantes': 6919, 'experte': 6920, 'maigres': 6921, 'hostile': 6922, 'vifs': 6923, 'vives': 6924, 'peureuses': 6925, 'griff': 6926, 'virgule': 6927, 'volte': 6928, 'clata': 6929, 'visions': 6930, 'exige': 6931, 'bouddhiste': 6932, 'croyant': 6933, 'divertissez': 6934, 'moques': 6935, 'inscrits': 6936, 'tariens': 6937, 'tariennes': 6938, 'contient': 6939, 'houblon': 6940, 'fascinent': 6941, 'passionnent': 6942, 'abattus': 6943, 'vendez': 6944, 'oreiller': 6945, 'caresser': 6946, 'louer': 6947, 'raquettes': 6948, 'menu': 6949, 'accomplir': 6950, 'gende': 6951, 'conseill': 6952, 'croisons': 6953, 'croise': 6954, 'mention': 6955, 'habit': 6956, 'habitaient': 6957, 'vivaient': 6958, 'gner': 6959, 'duplicata': 6960, 'mozart': 6961, 'kiffes': 6962, 'voyagez': 6963, 'sauvent': 6964, 'imitateur': 6965, 'lectif': 6966, 'lective': 6967, 'avare': 6968, 'pudique': 6969, 'autant': 6970, 'attirez': 6971, 'rate': 6972, 'condescendance': 6973, 'contez': 6974, 'remerciez': 6975, 'poubelle': 6976, 'poussi': 6977, 'tag': 6978, 'endosse': 6979, 'profitez': 6980, 'dollar': 6981, 'paniqua': 6982, 'affolait': 6983, 'applaudissait': 6984, 'ciale': 6985, 'changeait': 6986, 'blancs': 6987, 'espaces': 6988, 'remplis': 6989, 'commencement': 6990, 'lessive': 6991, 'fournis': 6992, 'fournissez': 6993, 'cassant': 6994, 'laboratoire': 6995, 'pendre': 6996, 'thanksgiving': 6997, 'haine': 6998, 'conseilla': 6999, 'mand': 7000, 'heurta': 7001, 'cogna': 7002, 'respir': 7003, 'enfreignit': 7004, 'termina': 7005, 'buta': 7006, 'mile': 7007, 'exprime': 7008, 'retint': 7009, 'poissonnier': 7010, 'born': 7011, 'soigneux': 7012, 'garda': 7013, 'tapa': 7014, 'alluma': 7015, 'venances': 7016, 'senta': 7017, 'riposter': 7018, 'roula': 7019, 'toucha': 7020, 'vieillissait': 7021, 'kilos': 7022, 'loterie': 7023, 'marcheur': 7024, 'critique': 7025, 'gastronomique': 7026, 'gre': 7027, 'gardien': 7028, 'thamph': 7029, 'tamines': 7030, 'concret': 7031, 'bougre': 7032, 'cinquante': 7033, 'bouc': 7034, 'missaire': 7035, 'suie': 7036, 'bagage': 7037, 'patant': 7038, 'rait': 7039, 'tabac': 7040, 'conomie': 7041, 'quantit': 7042, 'mus': 7043, 'recherche': 7044, 'clients': 7045, 'proph': 7046, 'pondis': 7047, 'frites': 7048, 'chips': 7049, 'cacahu': 7050, 'embrayage': 7051, 'amen': 7052, 'brul': 7053, 'procurer': 7054, 'autoriser': 7055, 'exclure': 7056, 'renoncer': 7057, 'imaginer': 7058, 'cliqu': 7059, 'crach': 7060, 'foi': 7061, 'transige': 7062, 'vodka': 7063, 'guigne': 7064, 'lamentablement': 7065, 'examens': 7066, 'craignis': 7067, 'procur': 7068, 'photographique': 7069, 'dispos': 7070, 'tardif': 7071, 'accepter': 7072, 'tendis': 7073, 'ennui': 7074, 'plupart': 7075, 'moquette': 7076, 'garni': 7077, 'beurre': 7078, 'aquarium': 7079, 'saignement': 7080, 'lescope': 7081, 'habiller': 7082, 'saper': 7083, 'exercer': 7084, 'avertisse': 7085, 'appareils': 7086, 'neveux': 7087, 'tickets': 7088, 'explosions': 7089, 'aidais': 7090, 'grerai': 7091, 'trouverons': 7092, 'viendras': 7093, 'viendrez': 7094, 'salaire': 7095, 'fiancer': 7096, 'marier': 7097, 'refaire': 7098, 'coration': 7099, 'lique': 7100, 'prenante': 7101, 'irlandaise': 7102, 'endroits': 7103, 'bordant': 7104, 'activit': 7105, 'disco': 7106, 'math': 7107, 'matiques': 7108, 'professeurs': 7109, 'photographie': 7110, 'framboises': 7111, 'traduction': 7112, 'pauvret': 7113, 'regardai': 7114, 'barbus': 7115, 'papillons': 7116, 'contes': 7117, 'lodie': 7118, 'appels': 7119, 'promesses': 7120, 'photocopies': 7121, 'mourrai': 7122, 'secr': 7123, 'enveloppe': 7124, 'lotion': 7125, 'muscade': 7126, 'lubrifi': 7127, 'huil': 7128, 'trompette': 7129, 'initialement': 7130, 'tai': 7131, 'explosion': 7132, 'images': 7133, 'claqu': 7134, 'baffe': 7135, 'souche': 7136, 'loir': 7137, 'masse': 7138, 'marmotte': 7139, 'tranch': 7140, 'cigarettes': 7141, 'psychologie': 7142, 'chions': 7143, 'gagnerais': 7144, 'retirai': 7145, 'foul': 7146, 'cheville': 7147, 'branch': 7148, 'marchai': 7149, 'allai': 7150, 'rendis': 7151, 'perde': 7152, 'copain': 7153, 'jules': 7154, 'nombreuses': 7155, 'rendes': 7156, 'rendiez': 7157, 'profiter': 7158, 'aidiez': 7159, 'chantiez': 7160, 'parliez': 7161, 'douze': 7162, 'percut': 7163, 'phonais': 7164, 'paraphrasais': 7165, 'dormais': 7166, 'bavardais': 7167, 'nagasaki': 7168, 'lection': 7169, 'ranger': 7170, 'confirmerai': 7171, 'pincer': 7172, 'engagerais': 7173, 'recruterais': 7174, 'embaucherais': 7175, 'rapporterai': 7176, 'cuistot': 7177, 'couvrir': 7178, 'plonge': 7179, 'barrasserai': 7180, 'saurai': 7181, 'souviendrai': 7182, 'rappellerai': 7183, 'reverrai': 7184, 'laverai': 7185, 'voisine': 7186, 'rouill': 7187, 'photographe': 7188, 'claustrophobe': 7189, 'singapour': 7190, 'appauvris': 7191, 'planter': 7192, 'gangster': 7193, 'magicien': 7194, 'pacifiste': 7195, 'lubies': 7196, 'invincible': 7197, 'esclave': 7198, 'gym': 7199, 'balcon': 7200, 'incontr': 7201, 'lable': 7202, 'diocre': 7203, 'cens': 7204, 'enthousiasme': 7205, 'licit': 7206, 'futur': 7207, 'encha': 7208, 'laitier': 7209, 'recyclable': 7210, 'brise': 7211, 'parall': 7212, 'quinze': 7213, 'pleuve': 7214, 'suffise': 7215, 'tonnant': 7216, 'frustrant': 7217, 'fascinant': 7218, 'hypnotique': 7219, 'durera': 7220, 'reproduire': 7221, 'occupation': 7222, 'ncidence': 7223, 'distraction': 7224, 'prouv': 7225, 'collectif': 7226, 'investissement': 7227, 'canard': 7228, 'cevant': 7229, 'concertant': 7230, 'frigo': 7231, 'frig': 7232, 'rateur': 7233, 'peste': 7234, 'laiton': 7235, 'salon': 7236, 'lumineux': 7237, 'inoubliable': 7238, 'juges': 7239, 'uniquement': 7240, 'interdite': 7241, 'tombent': 7242, 'kiki': 7243, 'marrons': 7244, 'cassons': 7245, 'apprenons': 7246, 'chamaillons': 7247, 'nervons': 7248, 'utilisons': 7249, 'heureusement': 7250, 'duisante': 7251, 'joigne': 7252, 'monopoles': 7253, 'nuisibles': 7254, 'universelle': 7255, 'finitive': 7256, 'budget': 7257, 'miaule': 7258, 'gestation': 7259, 'irrit': 7260, 'taciturne': 7261, 'jauge': 7262, 'nobles': 7263, 'engourdies': 7264, 'intuition': 7265, 'lettres': 7266, 'expos': 7267, 'transforme': 7268, 'immortel': 7269, 'verra': 7270, 'souscrit': 7271, 'remarquer': 7272, 'remarquera': 7273, 'ternellement': 7274, 'planifi': 7275, 'hiboux': 7276, 'chets': 7277, 'serrer': 7278, 'bondi': 7279, 'enfonce': 7280, 'enfoncez': 7281, 'reproduisent': 7282, 'vrais': 7283, 'conomise': 7284, 'construites': 7285, 'postale': 7286, 'agiter': 7287, 'utilisation': 7288, 'parut': 7289, 'parue': 7290, 'invita': 7291, 'vouloir': 7292, 'cuisini': 7293, 'ricaine': 7294, 'linge': 7295, 'antiquit': 7296, 'achats': 7297, 'expliqu': 7298, 'rendit': 7299, 'cuisit': 7300, 'concocta': 7301, 'cueilli': 7302, 'signa': 7303, 'charitable': 7304, 'charit': 7305, 'secoua': 7306, 'naissance': 7307, 'nouilles': 7308, 'lite': 7309, 'reprocher': 7310, 'placent': 7311, 'meuvent': 7312, 'stade': 7313, 'reculer': 7314, 'tocards': 7315, 'procure': 7316, 'importune': 7317, 'produire': 7318, 'prometteur': 7319, 'obtient': 7320, 'hasard': 7321, 'maximum': 7322, 'zone': 7323, 'choua': 7324, 'nourrisson': 7325, 'accu': 7326, 'serte': 7327, 'rassis': 7328, 'retentit': 7329, 'retentissait': 7330, 'corbeau': 7331, 'haleter': 7332, 'claqua': 7333, 'ronde': 7334, 'flamme': 7335, 'fan': 7336, 'avari': 7337, 'fondre': 7338, 'teintes': 7339, 'redress': 7340, 'repris': 7341, 'congel': 7342, 'rendent': 7343, 'clatante': 7344, 'croissante': 7345, 'tang': 7346, 'silencieuse': 7347, 'serveur': 7348, 'magasins': 7349, 'illumina': 7350, 'clairci': 7351, 'toiles': 7352, 'apparues': 7353, 'vi': 7354, 'viait': 7355, 'coucha': 7356, 'chut': 7357, 'vagues': 7358, 'hautes': 7359, 'soufflait': 7360, 'couille': 7361, 'additionnel': 7362, 'bienveillants': 7363, 'bienveillantes': 7364, 'lutteurs': 7365, 'catcheurs': 7366, 'aideront': 7367, 'comprendront': 7368, 'illets': 7369, 'trangers': 7370, 'trang': 7371, 'hirsute': 7372, 'gabarit': 7373, 'template': 7374, 'triangle': 7375, 'abricot': 7376, 'octogone': 7377, 'renversant': 7378, 'troublant': 7379, 'plagiat': 7380, 'surprenant': 7381, 'top': 7382, 'insupportable': 7383, 'perceuse': 7384, 'chiffon': 7385, 'resserre': 7386, 'inclina': 7387, 'inclinait': 7388, 'consol': 7389, 'consolait': 7390, 'consola': 7391, 'persuada': 7392, 'limonade': 7393, 'naviguer': 7394, 'suit': 7395, 'moustache': 7396, 'narcolepsie': 7397, 'courtes': 7398, 'brouillait': 7399, 'circuit': 7400, 'john': 7401, 'charpentier': 7402, 'inspecteur': 7403, 'caire': 7404, 'machiniste': 7405, 'nerd': 7406, 'chercheur': 7407, 'militant': 7408, 'imposteur': 7409, 'cro': 7410, 'barreaux': 7411, 'titif': 7412, 'vasser': 7413, 'hyperactif': 7414, 'inefficace': 7415, 'accabl': 7416, 'pessimiste': 7417, 'supervise': 7418, 'parent': 7419, 'kidnappa': 7420, 'noms': 7421, 'blanchit': 7422, 'blanchiment': 7423, 'dirig': 7424, 'offensive': 7425, 'habitait': 7426, 'reint': 7427, 'pertub': 7428, 'ait': 7429, 'acquies': 7430, 'fichu': 7431, 'chait': 7432, 'anneau': 7433, 'vedette': 7434, 'terroris': 7435, 'terrifiait': 7436, 'terrorisait': 7437, 'voyag': 7438, 'voudrait': 7439, 'sempar': 7440, 'hyst': 7441, 'irrationnel': 7442, 'persistant': 7443, 'cit': 7444, 'compara': 7445, 'entour': 7446, 'encercl': 7447, 'suspicieux': 7448, 'imbattable': 7449, 'agitait': 7450, 'rappellera': 7451, 'mordra': 7452, 'boira': 7453, 'affecte': 7454}\n"
     ]
    }
   ],
   "source": [
    "print(fra_tokenizer.word_index)"
   ]
  },
  {
   "cell_type": "markdown",
   "id": "b8d31eaa",
   "metadata": {},
   "source": [
    "## 단어장의 크기를 변수로 저장"
   ]
  },
  {
   "cell_type": "code",
   "execution_count": 18,
   "id": "3bdcec9c",
   "metadata": {},
   "outputs": [
    {
     "name": "stdout",
     "output_type": "stream",
     "text": [
      "영어 단어장의 크기 : 4671\n",
      "프랑스어 단어장의 크기 : 7455\n"
     ]
    }
   ],
   "source": [
    "eng_vocab_size = len(eng_tokenizer.word_index) + 1\n",
    "fra_vocab_size = len(fra_tokenizer.word_index) + 1\n",
    "print('영어 단어장의 크기 :', eng_vocab_size)\n",
    "print('프랑스어 단어장의 크기 :', fra_vocab_size)"
   ]
  },
  {
   "cell_type": "markdown",
   "id": "4870fb1e",
   "metadata": {},
   "source": [
    "    단어장의 크기가 문자대비 크게 늘어남"
   ]
  },
  {
   "cell_type": "markdown",
   "id": "c0ff7e34",
   "metadata": {},
   "source": [
    "## 데이터의 최대 길이\n",
    "    이는 패딩(<pad>)을 위함입니다. 모델에 입력될 영어, 프랑스어 시퀀스의 길이가 일정해야 하므로, 최대 길이로 맞추고 남는 시퀀스 뒷부분을 패딩으로 채움"
   ]
  },
  {
   "cell_type": "code",
   "execution_count": 19,
   "id": "15dd3ecd",
   "metadata": {},
   "outputs": [
    {
     "name": "stdout",
     "output_type": "stream",
     "text": [
      "영어 시퀀스의 최대 길이 8\n",
      "프랑스어 시퀀스의 최대 길이 17\n"
     ]
    }
   ],
   "source": [
    "max_eng_seq_len = max([len(line) for line in input_text])\n",
    "max_fra_seq_len = max([len(line) for line in target_text])\n",
    "print('영어 시퀀스의 최대 길이', max_eng_seq_len)\n",
    "print('프랑스어 시퀀스의 최대 길이', max_fra_seq_len)"
   ]
  },
  {
   "cell_type": "code",
   "execution_count": 20,
   "id": "182fd0cc",
   "metadata": {},
   "outputs": [
    {
     "name": "stdout",
     "output_type": "stream",
     "text": [
      "전체 샘플의 수 : 33000\n",
      "영어 단어장의 크기 : 4671\n",
      "프랑스어 단어장의 크기 : 7455\n",
      "영어 시퀀스의 최대 길이 8\n",
      "프랑스어 시퀀스의 최대 길이 17\n"
     ]
    }
   ],
   "source": [
    "print('전체 샘플의 수 :',len(lines))\n",
    "print('영어 단어장의 크기 :', eng_vocab_size)\n",
    "print('프랑스어 단어장의 크기 :', fra_vocab_size)\n",
    "print('영어 시퀀스의 최대 길이', max_eng_seq_len)\n",
    "print('프랑스어 시퀀스의 최대 길이', max_fra_seq_len)"
   ]
  },
  {
   "cell_type": "markdown",
   "id": "b934ecbd",
   "metadata": {},
   "source": [
    "## encoder_input / decoder_input & _target : Teaching force"
   ]
  },
  {
   "cell_type": "code",
   "execution_count": 21,
   "id": "4c76db64",
   "metadata": {},
   "outputs": [],
   "source": [
    "sos_token = '<sos>'\n",
    "eos_token = '<eos>'\n",
    "\n",
    "eos_token\n",
    "sos_token\n",
    "#eng.line의 token을 encoder_input에 넣기\n",
    "encoder_input = input_text\n",
    "\n",
    "# fra word_to_index의 '끝 'token이 나올때까지(제외한)  line의 단어를 decoder_input에 넣는다. \n",
    "decoder_input = [[ char for char in line if char != fra_tokenizer.word_index[eos_token] ] for line in target_text] \n",
    "# fra word_to_index의 '시작 'token이 나올때까지(제외한)  line의 단어를 decoder_target에 넣는다. \n",
    "decoder_target = [[ char for char in line if char != fra_tokenizer.word_index[sos_token] ] for line in target_text]"
   ]
  },
  {
   "cell_type": "code",
   "execution_count": 22,
   "id": "c4458cfb",
   "metadata": {},
   "outputs": [
    {
     "data": {
      "text/plain": [
       "33000"
      ]
     },
     "execution_count": 22,
     "metadata": {},
     "output_type": "execute_result"
    }
   ],
   "source": [
    "len(encoder_input)"
   ]
  },
  {
   "cell_type": "code",
   "execution_count": 23,
   "id": "53d860fc",
   "metadata": {},
   "outputs": [
    {
     "name": "stdout",
     "output_type": "stream",
     "text": [
      "[[1, 76, 8], [1, 366, 3], [1, 28, 513, 8]]\n",
      "[[76, 8, 2], [366, 3, 2], [28, 513, 8, 2]]\n"
     ]
    }
   ],
   "source": [
    "print(decoder_input[:3])\n",
    "print(decoder_target[:3])"
   ]
  },
  {
   "cell_type": "markdown",
   "id": "ba8d1011",
   "metadata": {},
   "source": [
    "## padding 진행\n",
    "    패딩을 진행하면 모든 샘플들의 길이가 정해준 길이로 동일하게 변환"
   ]
  },
  {
   "cell_type": "code",
   "execution_count": 24,
   "id": "1645bd0e",
   "metadata": {},
   "outputs": [
    {
     "name": "stdout",
     "output_type": "stream",
     "text": [
      "영어 데이터의 크기(shape) : (33000,)\n",
      "프랑스어 입력데이터의 크기(shape) : (33000,)\n",
      "프랑스어 출력데이터의 크기(shape) : (33000,)\n"
     ]
    },
    {
     "name": "stderr",
     "output_type": "stream",
     "text": [
      "/opt/conda/lib/python3.9/site-packages/numpy/core/fromnumeric.py:1970: VisibleDeprecationWarning: Creating an ndarray from ragged nested sequences (which is a list-or-tuple of lists-or-tuples-or ndarrays with different lengths or shapes) is deprecated. If you meant to do this, you must specify 'dtype=object' when creating the ndarray.\n",
      "  result = asarray(a).shape\n"
     ]
    }
   ],
   "source": [
    "#padding전\n",
    "print('영어 데이터의 크기(shape) :',np.shape(encoder_input))\n",
    "print('프랑스어 입력데이터의 크기(shape) :',np.shape(decoder_input))\n",
    "print('프랑스어 출력데이터의 크기(shape) :',np.shape(decoder_target))"
   ]
  },
  {
   "cell_type": "code",
   "execution_count": 25,
   "id": "b456dc09",
   "metadata": {},
   "outputs": [
    {
     "name": "stdout",
     "output_type": "stream",
     "text": [
      "영어 데이터의 크기(shape) : (33000, 8)\n",
      "프랑스어 입력데이터의 크기(shape) : (33000, 17)\n",
      "프랑스어 출력데이터의 크기(shape) : (33000, 17)\n"
     ]
    }
   ],
   "source": [
    "#padding후\n",
    "'''영어 시퀀스의 최대 길이 8\n",
    "프랑스어 시퀀스의 최대 길이 17'''\n",
    "encoder_input = pad_sequences(encoder_input, maxlen = max_eng_seq_len, padding='post')\n",
    "decoder_input = pad_sequences(decoder_input, maxlen = max_fra_seq_len, padding='post')\n",
    "decoder_target = pad_sequences(decoder_target, maxlen = max_fra_seq_len, padding='post')\n",
    "print('영어 데이터의 크기(shape) :',np.shape(encoder_input))\n",
    "print('프랑스어 입력데이터의 크기(shape) :',np.shape(decoder_input))\n",
    "print('프랑스어 출력데이터의 크기(shape) :',np.shape(decoder_target))"
   ]
  },
  {
   "cell_type": "code",
   "execution_count": 26,
   "id": "15d2f62e",
   "metadata": {},
   "outputs": [
    {
     "name": "stdout",
     "output_type": "stream",
     "text": [
      "[28  1  0  0  0  0  0  0]\n"
     ]
    }
   ],
   "source": [
    "print(encoder_input[0])"
   ]
  },
  {
   "cell_type": "markdown",
   "id": "529cbf77",
   "metadata": {},
   "source": [
    "# Validation set\n",
    "    validation을 위해 위에서 생성한 데이터 33000건 중 3000건만 검증데이터로 설정"
   ]
  },
  {
   "cell_type": "code",
   "execution_count": 27,
   "id": "f060a108",
   "metadata": {},
   "outputs": [
    {
     "name": "stdout",
     "output_type": "stream",
     "text": [
      "영어 train 데이터의 크기(shape) : (30000, 8)\n",
      "영어 test 데이터의 크기(shape) : (3000, 8)\n",
      "프랑스어 train 입력데이터의 크기(shape) : (30000, 17)\n",
      "프랑스어 test 입력데이터의 크기(shape) : (3000, 17)\n",
      "프랑스어 train 출력데이터의 크기(shape) : (30000, 17)\n",
      "프랑스어 test 출력데이터의 크기(shape) : (3000, 17)\n"
     ]
    }
   ],
   "source": [
    "n_of_val = 3000\n",
    "\n",
    "encoder_input_train = encoder_input[:-n_of_val]\n",
    "decoder_input_train = decoder_input[:-n_of_val]\n",
    "decoder_target_train = decoder_target[:-n_of_val]\n",
    "\n",
    "encoder_input_test = encoder_input[-n_of_val:]\n",
    "decoder_input_test = decoder_input[-n_of_val:]\n",
    "decoder_target_test = decoder_target[-n_of_val:]\n",
    "\n",
    "print('영어 train 데이터의 크기(shape) :',np.shape(encoder_input_train))\n",
    "print('영어 test 데이터의 크기(shape) :',np.shape(encoder_input_test))\n",
    "print('프랑스어 train 입력데이터의 크기(shape) :',np.shape(decoder_input_train))\n",
    "print('프랑스어 test 입력데이터의 크기(shape) :',np.shape(decoder_input_test))\n",
    "print('프랑스어 train 출력데이터의 크기(shape) :',np.shape(decoder_target_train))\n",
    "print('프랑스어 test 출력데이터의 크기(shape) :',np.shape(decoder_target_test))"
   ]
  },
  {
   "cell_type": "markdown",
   "id": "7478d4fc",
   "metadata": {},
   "source": [
    "- 지금까지는 텍스트에 담긴 언어의 의미와 대응되는 벡터가 아니라 임의로 부여된 단어의 순서에 불과"
   ]
  },
  {
   "cell_type": "markdown",
   "id": "d745df72",
   "metadata": {},
   "source": [
    "# 번역기 모델 훈련"
   ]
  },
  {
   "cell_type": "markdown",
   "id": "f6fae627",
   "metadata": {},
   "source": [
    "## 함수형 API모델 설계"
   ]
  },
  {
   "cell_type": "code",
   "execution_count": 28,
   "id": "76e7e030",
   "metadata": {},
   "outputs": [],
   "source": [
    "import tensorflow\n",
    "from tensorflow.keras.models import Model\n",
    "from tensorflow.keras.layers import Input, LSTM, Embedding, Dense, Masking\n",
    "from tensorflow.keras.models import Model"
   ]
  },
  {
   "cell_type": "markdown",
   "id": "16f7fc1f",
   "metadata": {},
   "source": [
    "### 인코더 설계"
   ]
  },
  {
   "cell_type": "code",
   "execution_count": 29,
   "id": "25a0b85b",
   "metadata": {},
   "outputs": [],
   "source": [
    "# Functional(함수형) API\n",
    "    # Sequential API보다 유연한 API로 다음의 기능을 사용할 수 있음\n",
    "    # 여러 개의 input을 받거나 여러 개의 output을 내야 하는 경우\n",
    "    # Layer을 공유하는 경우 (샴 네트워크 등....)\n",
    "    # Residual Network 구현\n",
    "# 1. 우선 LSTM의 입력 텐서를 정의, 입력 문장을 저장하게 될 변수 텐서\n",
    "# 2. Embedding layer를 적용한 vectorizing\n",
    "# 3. 256의 hidden_size를 가지는 LSTM 셀 \n",
    "# 4. 입력 텐서를 사용하여 마지막 time step의 hidden state와 cell state를 결과로 받습니다.\n",
    "# 디코더로 전달할 hidden state, cell state를 리턴. encoder_outputs은 여기서는 불필요.\n",
    "# 5. hidden state와 cell state를 다음 time step으로 전달하기 위해서 별도 저장.\n",
    "encoder_inputs = Input(shape=(None, )) #1\n",
    "enc_emb = Embedding(eng_vocab_size, 256, input_length=max_eng_seq_len)(encoder_inputs) #2\n",
    "enc_masking = Masking(mask_value=0.0)(enc_emb)\n",
    "encoder_lstm = LSTM(units = 256, return_state = True) #3\n",
    "encoder_outputs, state_h, state_c = encoder_lstm(enc_masking) #4\n",
    "encoder_states = [state_h, state_c] #5"
   ]
  },
  {
   "cell_type": "code",
   "execution_count": 30,
   "id": "e5537115",
   "metadata": {},
   "outputs": [
    {
     "data": {
      "text/plain": [
       "<KerasTensor: shape=(None, None) dtype=float32 (created by layer 'input_1')>"
      ]
     },
     "execution_count": 30,
     "metadata": {},
     "output_type": "execute_result"
    }
   ],
   "source": [
    "encoder_inputs"
   ]
  },
  {
   "cell_type": "code",
   "execution_count": 31,
   "id": "034d2225",
   "metadata": {},
   "outputs": [
    {
     "data": {
      "text/plain": [
       "<KerasTensor: shape=(None, 256) dtype=float32 (created by layer 'lstm')>"
      ]
     },
     "execution_count": 31,
     "metadata": {},
     "output_type": "execute_result"
    }
   ],
   "source": [
    "encoder_outputs"
   ]
  },
  {
   "cell_type": "code",
   "execution_count": 32,
   "id": "aa1f022e",
   "metadata": {},
   "outputs": [
    {
     "data": {
      "text/plain": [
       "[<KerasTensor: shape=(None, 256) dtype=float32 (created by layer 'lstm')>,\n",
       " <KerasTensor: shape=(None, 256) dtype=float32 (created by layer 'lstm')>]"
      ]
     },
     "execution_count": 32,
     "metadata": {},
     "output_type": "execute_result"
    }
   ],
   "source": [
    "encoder_states"
   ]
  },
  {
   "cell_type": "markdown",
   "id": "66429631",
   "metadata": {},
   "source": [
    "### 디코더 입력층 설계"
   ]
  },
  {
   "cell_type": "code",
   "execution_count": 33,
   "id": "b7d2b7be",
   "metadata": {},
   "outputs": [],
   "source": [
    "# 1.입력 텐서 생성.\n",
    "# 2. Embedding\n",
    "# 3. hidden size가 256인 인코더의 LSTM 셀 생성\n",
    "# 4. decoder_outputs는 모든 time step의 hidden state\n",
    "decoder_inputs = Input(shape=(None, )) #1\n",
    "dec_emb = Embedding(fra_vocab_size, 256)(decoder_inputs) #2\n",
    "dec_masking = Masking(mask_value=0.0)(dec_emb)\n",
    "decoder_lstm = LSTM(units = 256, return_sequences = True, return_state=True) #3\n",
    "decoder_outputs, _, _= decoder_lstm(dec_masking, initial_state = encoder_states) #4"
   ]
  },
  {
   "cell_type": "code",
   "execution_count": 34,
   "id": "4237a047",
   "metadata": {},
   "outputs": [
    {
     "data": {
      "text/plain": [
       "<KerasTensor: shape=(None, None) dtype=float32 (created by layer 'input_2')>"
      ]
     },
     "execution_count": 34,
     "metadata": {},
     "output_type": "execute_result"
    }
   ],
   "source": [
    "decoder_inputs"
   ]
  },
  {
   "cell_type": "code",
   "execution_count": 35,
   "id": "f60bbe8e",
   "metadata": {},
   "outputs": [
    {
     "data": {
      "text/plain": [
       "<KerasTensor: shape=(None, None, 256) dtype=float32 (created by layer 'lstm_1')>"
      ]
     },
     "execution_count": 35,
     "metadata": {},
     "output_type": "execute_result"
    }
   ],
   "source": [
    "decoder_outputs"
   ]
  },
  {
   "cell_type": "markdown",
   "id": "eee72c4c",
   "metadata": {},
   "source": [
    "### 디코더 출력층 설계"
   ]
  },
  {
   "cell_type": "code",
   "execution_count": 36,
   "id": "e8a95bf0",
   "metadata": {},
   "outputs": [],
   "source": [
    "decoder_softmax_layer = Dense(fra_vocab_size, activation='softmax')\n",
    "decoder_outputs = decoder_softmax_layer(decoder_outputs)"
   ]
  },
  {
   "cell_type": "markdown",
   "id": "3dcaca49",
   "metadata": {},
   "source": [
    "## 모델생성"
   ]
  },
  {
   "cell_type": "code",
   "execution_count": 37,
   "id": "ad0a4d59",
   "metadata": {},
   "outputs": [
    {
     "name": "stdout",
     "output_type": "stream",
     "text": [
      "Model: \"model\"\n",
      "__________________________________________________________________________________________________\n",
      "Layer (type)                    Output Shape         Param #     Connected to                     \n",
      "==================================================================================================\n",
      "input_1 (InputLayer)            [(None, None)]       0                                            \n",
      "__________________________________________________________________________________________________\n",
      "input_2 (InputLayer)            [(None, None)]       0                                            \n",
      "__________________________________________________________________________________________________\n",
      "embedding (Embedding)           (None, None, 256)    1195776     input_1[0][0]                    \n",
      "__________________________________________________________________________________________________\n",
      "embedding_1 (Embedding)         (None, None, 256)    1908480     input_2[0][0]                    \n",
      "__________________________________________________________________________________________________\n",
      "masking (Masking)               (None, None, 256)    0           embedding[0][0]                  \n",
      "__________________________________________________________________________________________________\n",
      "masking_1 (Masking)             (None, None, 256)    0           embedding_1[0][0]                \n",
      "__________________________________________________________________________________________________\n",
      "lstm (LSTM)                     [(None, 256), (None, 525312      masking[0][0]                    \n",
      "__________________________________________________________________________________________________\n",
      "lstm_1 (LSTM)                   [(None, None, 256),  525312      masking_1[0][0]                  \n",
      "                                                                 lstm[0][1]                       \n",
      "                                                                 lstm[0][2]                       \n",
      "__________________________________________________________________________________________________\n",
      "dense (Dense)                   (None, None, 7455)   1915935     lstm_1[0][0]                     \n",
      "==================================================================================================\n",
      "Total params: 6,070,815\n",
      "Trainable params: 6,070,815\n",
      "Non-trainable params: 0\n",
      "__________________________________________________________________________________________________\n"
     ]
    }
   ],
   "source": [
    "'''\n",
    "훈련 과정에서는 디코더에게 인코더가 보낸 컨텍스트 벡터와 실제 정답인 상황인 \n",
    "<sos> je suis étudiant를 입력 받았을 때, \n",
    "je suis étudiant <eos>가 나와야 된다고 정답을 알려주면서 훈련\n",
    "'''\n",
    "# 입력: [encoder_inputs, decoder_inputs]\n",
    "# 출력: decoder_outputs\n",
    "model = Model([encoder_inputs, decoder_inputs], decoder_outputs)\n",
    "model.summary()"
   ]
  },
  {
   "cell_type": "code",
   "execution_count": 38,
   "id": "de704c35",
   "metadata": {},
   "outputs": [],
   "source": [
    "model.compile(optimizer=\"rmsprop\", loss='sparse_categorical_crossentropy', metrics=['acc'])"
   ]
  },
  {
   "cell_type": "code",
   "execution_count": 39,
   "id": "df582108",
   "metadata": {},
   "outputs": [
    {
     "data": {
      "text/plain": [
       "<KerasTensor: shape=() dtype=float32 (created by layer 'tf.__operators__.getitem_1')>"
      ]
     },
     "execution_count": 39,
     "metadata": {},
     "output_type": "execute_result"
    }
   ],
   "source": [
    "encoder_inputs[1][0]"
   ]
  },
  {
   "cell_type": "markdown",
   "id": "713d5a79",
   "metadata": {},
   "source": [
    "## 모델 훈련"
   ]
  },
  {
   "cell_type": "code",
   "execution_count": 54,
   "id": "7cc32c94",
   "metadata": {},
   "outputs": [
    {
     "name": "stdout",
     "output_type": "stream",
     "text": [
      "Epoch 1/50\n",
      "59/59 [==============================] - 5s 80ms/step - loss: 0.3900 - acc: 0.9087 - val_loss: 1.0620 - val_acc: 0.8269\n",
      "Epoch 2/50\n",
      "59/59 [==============================] - 5s 80ms/step - loss: 0.3742 - acc: 0.9114 - val_loss: 1.0740 - val_acc: 0.8274\n",
      "Epoch 3/50\n",
      "59/59 [==============================] - 5s 81ms/step - loss: 0.3593 - acc: 0.9145 - val_loss: 1.0604 - val_acc: 0.8264\n",
      "Epoch 4/50\n",
      "59/59 [==============================] - 5s 82ms/step - loss: 0.3442 - acc: 0.9174 - val_loss: 1.0684 - val_acc: 0.8256\n",
      "Epoch 5/50\n",
      "59/59 [==============================] - 5s 82ms/step - loss: 0.3299 - acc: 0.9203 - val_loss: 1.0691 - val_acc: 0.8292\n",
      "Epoch 6/50\n",
      "59/59 [==============================] - 5s 83ms/step - loss: 0.3165 - acc: 0.9231 - val_loss: 1.0600 - val_acc: 0.8296\n",
      "Epoch 7/50\n",
      "59/59 [==============================] - 5s 84ms/step - loss: 0.3031 - acc: 0.9258 - val_loss: 1.0607 - val_acc: 0.8299\n",
      "Epoch 8/50\n",
      "59/59 [==============================] - 5s 84ms/step - loss: 0.2906 - acc: 0.9284 - val_loss: 1.0628 - val_acc: 0.8289\n",
      "Epoch 9/50\n",
      "59/59 [==============================] - 5s 84ms/step - loss: 0.2786 - acc: 0.9309 - val_loss: 1.0811 - val_acc: 0.8289\n",
      "Epoch 10/50\n",
      "59/59 [==============================] - 5s 83ms/step - loss: 0.2675 - acc: 0.9333 - val_loss: 1.0669 - val_acc: 0.8314\n",
      "Epoch 11/50\n",
      "59/59 [==============================] - 5s 82ms/step - loss: 0.2559 - acc: 0.9356 - val_loss: 1.0748 - val_acc: 0.8299\n",
      "Epoch 12/50\n",
      "59/59 [==============================] - 5s 82ms/step - loss: 0.2460 - acc: 0.9376 - val_loss: 1.0683 - val_acc: 0.8322\n",
      "Epoch 13/50\n",
      "59/59 [==============================] - 5s 81ms/step - loss: 0.2356 - acc: 0.9399 - val_loss: 1.0727 - val_acc: 0.8310\n",
      "Epoch 14/50\n",
      "59/59 [==============================] - 5s 81ms/step - loss: 0.2259 - acc: 0.9418 - val_loss: 1.0763 - val_acc: 0.8319\n",
      "Epoch 15/50\n",
      "59/59 [==============================] - 5s 81ms/step - loss: 0.2171 - acc: 0.9438 - val_loss: 1.0791 - val_acc: 0.8321\n",
      "Epoch 16/50\n",
      "59/59 [==============================] - 5s 81ms/step - loss: 0.2082 - acc: 0.9453 - val_loss: 1.0916 - val_acc: 0.8321\n",
      "Epoch 17/50\n",
      "59/59 [==============================] - 5s 81ms/step - loss: 0.2002 - acc: 0.9473 - val_loss: 1.0789 - val_acc: 0.8330\n",
      "Epoch 18/50\n",
      "59/59 [==============================] - 5s 81ms/step - loss: 0.1916 - acc: 0.9492 - val_loss: 1.0842 - val_acc: 0.8327\n",
      "Epoch 19/50\n",
      "59/59 [==============================] - 5s 81ms/step - loss: 0.1849 - acc: 0.9503 - val_loss: 1.0768 - val_acc: 0.8337\n",
      "Epoch 20/50\n",
      "59/59 [==============================] - 5s 82ms/step - loss: 0.1778 - acc: 0.9518 - val_loss: 1.0774 - val_acc: 0.8344\n",
      "Epoch 21/50\n",
      "59/59 [==============================] - 5s 82ms/step - loss: 0.1707 - acc: 0.9532 - val_loss: 1.0901 - val_acc: 0.8338\n",
      "Epoch 22/50\n",
      "59/59 [==============================] - 5s 82ms/step - loss: 0.1643 - acc: 0.9543 - val_loss: 1.0904 - val_acc: 0.8337\n",
      "Epoch 23/50\n",
      "59/59 [==============================] - 5s 82ms/step - loss: 0.1584 - acc: 0.9555 - val_loss: 1.0914 - val_acc: 0.8341\n",
      "Epoch 24/50\n",
      "59/59 [==============================] - 5s 82ms/step - loss: 0.1526 - acc: 0.9566 - val_loss: 1.1078 - val_acc: 0.8337\n",
      "Epoch 25/50\n",
      "59/59 [==============================] - 5s 83ms/step - loss: 0.1474 - acc: 0.9577 - val_loss: 1.1029 - val_acc: 0.8338\n",
      "Epoch 26/50\n",
      "59/59 [==============================] - 5s 82ms/step - loss: 0.1423 - acc: 0.9587 - val_loss: 1.1075 - val_acc: 0.8332\n",
      "Epoch 27/50\n",
      "59/59 [==============================] - 5s 82ms/step - loss: 0.1376 - acc: 0.9597 - val_loss: 1.1091 - val_acc: 0.8347\n",
      "Epoch 28/50\n",
      "59/59 [==============================] - 5s 82ms/step - loss: 0.1333 - acc: 0.9603 - val_loss: 1.1180 - val_acc: 0.8346\n",
      "Epoch 29/50\n",
      "59/59 [==============================] - 5s 82ms/step - loss: 0.1289 - acc: 0.9608 - val_loss: 1.1060 - val_acc: 0.8336\n",
      "Epoch 30/50\n",
      "59/59 [==============================] - 5s 82ms/step - loss: 0.1250 - acc: 0.9615 - val_loss: 1.1162 - val_acc: 0.8354\n",
      "Epoch 31/50\n",
      "59/59 [==============================] - 5s 82ms/step - loss: 0.1210 - acc: 0.9623 - val_loss: 1.1343 - val_acc: 0.8345\n",
      "Epoch 32/50\n",
      "59/59 [==============================] - 5s 81ms/step - loss: 0.1176 - acc: 0.9628 - val_loss: 1.1211 - val_acc: 0.8340\n",
      "Epoch 33/50\n",
      "59/59 [==============================] - 5s 82ms/step - loss: 0.1142 - acc: 0.9633 - val_loss: 1.1316 - val_acc: 0.8343\n",
      "Epoch 34/50\n",
      "59/59 [==============================] - 5s 81ms/step - loss: 0.1114 - acc: 0.9638 - val_loss: 1.1307 - val_acc: 0.8338\n",
      "Epoch 35/50\n",
      "59/59 [==============================] - 5s 82ms/step - loss: 0.1082 - acc: 0.9644 - val_loss: 1.1413 - val_acc: 0.8332\n",
      "Epoch 36/50\n",
      "59/59 [==============================] - 5s 81ms/step - loss: 0.1054 - acc: 0.9643 - val_loss: 1.1400 - val_acc: 0.8348\n",
      "Epoch 37/50\n",
      "59/59 [==============================] - 5s 82ms/step - loss: 0.1031 - acc: 0.9646 - val_loss: 1.1519 - val_acc: 0.8339\n",
      "Epoch 38/50\n",
      "59/59 [==============================] - 5s 82ms/step - loss: 0.1006 - acc: 0.9650 - val_loss: 1.1444 - val_acc: 0.8346\n",
      "Epoch 39/50\n",
      "59/59 [==============================] - 5s 82ms/step - loss: 0.0984 - acc: 0.9655 - val_loss: 1.1560 - val_acc: 0.8340\n",
      "Epoch 40/50\n",
      "59/59 [==============================] - 5s 82ms/step - loss: 0.0962 - acc: 0.9655 - val_loss: 1.1500 - val_acc: 0.8338\n",
      "Epoch 41/50\n",
      "59/59 [==============================] - 5s 82ms/step - loss: 0.0942 - acc: 0.9658 - val_loss: 1.1560 - val_acc: 0.8352\n",
      "Epoch 42/50\n",
      "59/59 [==============================] - 5s 82ms/step - loss: 0.0923 - acc: 0.9661 - val_loss: 1.1607 - val_acc: 0.8344\n",
      "Epoch 43/50\n",
      "59/59 [==============================] - 5s 82ms/step - loss: 0.0906 - acc: 0.9663 - val_loss: 1.1636 - val_acc: 0.8346\n",
      "Epoch 44/50\n",
      "59/59 [==============================] - 5s 82ms/step - loss: 0.0890 - acc: 0.9663 - val_loss: 1.1751 - val_acc: 0.8340\n",
      "Epoch 45/50\n",
      "59/59 [==============================] - 5s 82ms/step - loss: 0.0875 - acc: 0.9664 - val_loss: 1.1743 - val_acc: 0.8343\n",
      "Epoch 46/50\n",
      "59/59 [==============================] - 5s 82ms/step - loss: 0.0861 - acc: 0.9667 - val_loss: 1.1798 - val_acc: 0.8332\n",
      "Epoch 47/50\n",
      "59/59 [==============================] - 5s 82ms/step - loss: 0.0848 - acc: 0.9667 - val_loss: 1.1904 - val_acc: 0.8335\n",
      "Epoch 48/50\n",
      "59/59 [==============================] - 5s 82ms/step - loss: 0.0835 - acc: 0.9667 - val_loss: 1.1845 - val_acc: 0.8330\n",
      "Epoch 49/50\n",
      "59/59 [==============================] - 5s 82ms/step - loss: 0.0823 - acc: 0.9668 - val_loss: 1.1820 - val_acc: 0.8339\n",
      "Epoch 50/50\n",
      "59/59 [==============================] - 5s 82ms/step - loss: 0.0812 - acc: 0.9668 - val_loss: 1.1924 - val_acc: 0.8341\n"
     ]
    }
   ],
   "source": [
    "history = model.fit(x=[encoder_input_train, decoder_input_train], y=decoder_target_train, \\\n",
    "          validation_data = ([encoder_input_test, decoder_input_test], decoder_target_test),\n",
    "          batch_size=512, epochs=50)"
   ]
  },
  {
   "cell_type": "code",
   "execution_count": 55,
   "id": "c8bba351",
   "metadata": {},
   "outputs": [
    {
     "data": {
      "text/plain": [
       "{'loss': [0.39003026485443115,\n",
       "  0.3741711974143982,\n",
       "  0.3593493103981018,\n",
       "  0.34418511390686035,\n",
       "  0.32991823554039,\n",
       "  0.3164982199668884,\n",
       "  0.30310460925102234,\n",
       "  0.2905924618244171,\n",
       "  0.278600811958313,\n",
       "  0.26747044920921326,\n",
       "  0.2559230327606201,\n",
       "  0.2460310012102127,\n",
       "  0.23556450009346008,\n",
       "  0.22592732310295105,\n",
       "  0.21710219979286194,\n",
       "  0.2082410603761673,\n",
       "  0.20015457272529602,\n",
       "  0.19162136316299438,\n",
       "  0.18492168188095093,\n",
       "  0.1777542680501938,\n",
       "  0.17073844373226166,\n",
       "  0.1643267422914505,\n",
       "  0.15841640532016754,\n",
       "  0.15255892276763916,\n",
       "  0.14739802479743958,\n",
       "  0.14227209985256195,\n",
       "  0.13757053017616272,\n",
       "  0.13332422077655792,\n",
       "  0.12888649106025696,\n",
       "  0.12495765089988708,\n",
       "  0.12100014090538025,\n",
       "  0.11756027489900589,\n",
       "  0.11421653628349304,\n",
       "  0.11140041053295135,\n",
       "  0.10821663588285446,\n",
       "  0.1054125726222992,\n",
       "  0.10309955477714539,\n",
       "  0.10061699151992798,\n",
       "  0.09840613603591919,\n",
       "  0.096234992146492,\n",
       "  0.09422003477811813,\n",
       "  0.09229699522256851,\n",
       "  0.09061332046985626,\n",
       "  0.08898185193538666,\n",
       "  0.0875062420964241,\n",
       "  0.08614812046289444,\n",
       "  0.08478905260562897,\n",
       "  0.08346641808748245,\n",
       "  0.0822996124625206,\n",
       "  0.08121231943368912],\n",
       " 'acc': [0.9087098240852356,\n",
       "  0.9114431142807007,\n",
       "  0.914486289024353,\n",
       "  0.917405903339386,\n",
       "  0.920325517654419,\n",
       "  0.9230882525444031,\n",
       "  0.9258019328117371,\n",
       "  0.9284411668777466,\n",
       "  0.9309431314468384,\n",
       "  0.9332647323608398,\n",
       "  0.9356156587600708,\n",
       "  0.9376196265220642,\n",
       "  0.9399333596229553,\n",
       "  0.9417902231216431,\n",
       "  0.9437784552574158,\n",
       "  0.9452882409095764,\n",
       "  0.947272539138794,\n",
       "  0.9492157101631165,\n",
       "  0.950256884098053,\n",
       "  0.9518078565597534,\n",
       "  0.9531607627868652,\n",
       "  0.9543431401252747,\n",
       "  0.9554744958877563,\n",
       "  0.9566293954849243,\n",
       "  0.9577333331108093,\n",
       "  0.9586725234985352,\n",
       "  0.9596666693687439,\n",
       "  0.9602764844894409,\n",
       "  0.9607588052749634,\n",
       "  0.9614647030830383,\n",
       "  0.9622588157653809,\n",
       "  0.9627842903137207,\n",
       "  0.9633176326751709,\n",
       "  0.963750958442688,\n",
       "  0.9643882513046265,\n",
       "  0.9642607569694519,\n",
       "  0.964637279510498,\n",
       "  0.9650117754936218,\n",
       "  0.9655255079269409,\n",
       "  0.9655176401138306,\n",
       "  0.9657999873161316,\n",
       "  0.9661333560943604,\n",
       "  0.9662843346595764,\n",
       "  0.9663490056991577,\n",
       "  0.9663941264152527,\n",
       "  0.966670572757721,\n",
       "  0.9666725397109985,\n",
       "  0.9667431116104126,\n",
       "  0.9668372273445129,\n",
       "  0.9668391942977905],\n",
       " 'val_loss': [1.0619912147521973,\n",
       "  1.0739537477493286,\n",
       "  1.0603762865066528,\n",
       "  1.0684393644332886,\n",
       "  1.0691063404083252,\n",
       "  1.0599650144577026,\n",
       "  1.06068754196167,\n",
       "  1.0627518892288208,\n",
       "  1.0810860395431519,\n",
       "  1.066935420036316,\n",
       "  1.0748196840286255,\n",
       "  1.068257451057434,\n",
       "  1.0727022886276245,\n",
       "  1.0762763023376465,\n",
       "  1.0791289806365967,\n",
       "  1.091579556465149,\n",
       "  1.0788943767547607,\n",
       "  1.084154486656189,\n",
       "  1.0767734050750732,\n",
       "  1.0774346590042114,\n",
       "  1.090146780014038,\n",
       "  1.0904099941253662,\n",
       "  1.0914040803909302,\n",
       "  1.1077992916107178,\n",
       "  1.1028637886047363,\n",
       "  1.1074599027633667,\n",
       "  1.109050989151001,\n",
       "  1.1179651021957397,\n",
       "  1.1060235500335693,\n",
       "  1.116178035736084,\n",
       "  1.1343024969100952,\n",
       "  1.121113896369934,\n",
       "  1.1316413879394531,\n",
       "  1.1306580305099487,\n",
       "  1.1413278579711914,\n",
       "  1.1399550437927246,\n",
       "  1.1519044637680054,\n",
       "  1.144445776939392,\n",
       "  1.1560440063476562,\n",
       "  1.1500120162963867,\n",
       "  1.1559631824493408,\n",
       "  1.1607112884521484,\n",
       "  1.163608431816101,\n",
       "  1.1750577688217163,\n",
       "  1.1742613315582275,\n",
       "  1.1797735691070557,\n",
       "  1.1904069185256958,\n",
       "  1.1844615936279297,\n",
       "  1.1819583177566528,\n",
       "  1.1924370527267456],\n",
       " 'val_acc': [0.8269019722938538,\n",
       "  0.8274313807487488,\n",
       "  0.8263725638389587,\n",
       "  0.8256078362464905,\n",
       "  0.8291960954666138,\n",
       "  0.8296470642089844,\n",
       "  0.829901933670044,\n",
       "  0.8289019465446472,\n",
       "  0.8288823366165161,\n",
       "  0.831352949142456,\n",
       "  0.8298823237419128,\n",
       "  0.8322156667709351,\n",
       "  0.8309999704360962,\n",
       "  0.8319215774536133,\n",
       "  0.8321176767349243,\n",
       "  0.832058846950531,\n",
       "  0.8329607844352722,\n",
       "  0.8327058553695679,\n",
       "  0.8337255120277405,\n",
       "  0.8343725204467773,\n",
       "  0.8338431119918823,\n",
       "  0.8337059020996094,\n",
       "  0.8340980410575867,\n",
       "  0.8336862921714783,\n",
       "  0.8337647318840027,\n",
       "  0.8331568837165833,\n",
       "  0.834686279296875,\n",
       "  0.8345686197280884,\n",
       "  0.8336470723152161,\n",
       "  0.8353529572486877,\n",
       "  0.834490180015564,\n",
       "  0.8340196013450623,\n",
       "  0.8343333601951599,\n",
       "  0.8338235020637512,\n",
       "  0.8331961035728455,\n",
       "  0.8348235487937927,\n",
       "  0.8338823318481445,\n",
       "  0.8345882296562195,\n",
       "  0.8340392112731934,\n",
       "  0.8338235020637512,\n",
       "  0.8351764678955078,\n",
       "  0.8343725204467773,\n",
       "  0.8346274495124817,\n",
       "  0.8339999914169312,\n",
       "  0.8343333601951599,\n",
       "  0.8331961035728455,\n",
       "  0.8335098028182983,\n",
       "  0.8330196142196655,\n",
       "  0.8339019417762756,\n",
       "  0.8340784311294556]}"
      ]
     },
     "execution_count": 55,
     "metadata": {},
     "output_type": "execute_result"
    }
   ],
   "source": [
    "history.history"
   ]
  },
  {
   "cell_type": "code",
   "execution_count": 56,
   "id": "ac1ece51",
   "metadata": {},
   "outputs": [
    {
     "data": {
      "image/png": "[encoded data removed]",
      "text/plain": [
       "<Figure size 936x504 with 2 Axes>"
      ]
     },
     "metadata": {
      "needs_background": "light"
     },
     "output_type": "display_data"
    }
   ],
   "source": [
    "import matplotlib.pyplot as plt\n",
    "\n",
    "# 훈련 과정 시각화 (정확도)\n",
    "fig = plt.figure(figsize=(13, 7))\n",
    "plt.subplot(1,2,1)\n",
    "plt.plot(history.history['acc'])\n",
    "plt.plot(history.history['val_acc'])\n",
    "plt.title('Model accuracy')\n",
    "plt.xlabel('Epoch')\n",
    "plt.ylabel('Accuracy')\n",
    "plt.xlim(0, 20)\n",
    "plt.ylim(0, 2)\n",
    "plt.legend(['Train', 'Test' ], loc='lower right')\n",
    "#plt.show()\n",
    "\n",
    "# 훈련 과정 시각화 (손실)\n",
    "plt.subplot(1,2,2)\n",
    "plt.plot(history.history['loss'])\n",
    "plt.plot(history.history['val_loss'])\n",
    "plt.title('Model loss')\n",
    "plt.xlabel('Epoch')\n",
    "plt.ylabel('loss')\n",
    "plt.xlim(0, 20)\n",
    "plt.ylim(0, 2)\n",
    "plt.legend(['Train', 'Test' ], loc='upper right')\n",
    "plt.show()\n"
   ]
  },
  {
   "cell_type": "markdown",
   "id": "0268cc43",
   "metadata": {},
   "source": [
    "# 번역기 테스트\n",
    "    테스트 단계에서의 디코더의 동작 순서\n",
    "\n",
    "1. 인코더에 입력 문장을 넣어 마지막 time step(sequence)의 hidden, cell state를 얻는다.\n",
    "2. (sos) 토큰인 '<sos>'를 디코더에 입력한다.\n",
    "3. 이전 time step의 출력층의 예측 결과를 현재 time step의 입력으로 한다.\n",
    "4. 3을 반복하다가 (eos) 토큰인 '<eos>'이 예측되면 이를 중단한다."
   ]
  },
  {
   "cell_type": "code",
   "execution_count": 57,
   "id": "f3969330",
   "metadata": {},
   "outputs": [
    {
     "name": "stdout",
     "output_type": "stream",
     "text": [
      "Model: \"model_3\"\n",
      "_________________________________________________________________\n",
      "Layer (type)                 Output Shape              Param #   \n",
      "=================================================================\n",
      "input_1 (InputLayer)         [(None, None)]            0         \n",
      "_________________________________________________________________\n",
      "embedding (Embedding)        (None, None, 256)         1195776   \n",
      "_________________________________________________________________\n",
      "masking (Masking)            (None, None, 256)         0         \n",
      "_________________________________________________________________\n",
      "lstm (LSTM)                  [(None, 256), (None, 256) 525312    \n",
      "=================================================================\n",
      "Total params: 1,721,088\n",
      "Trainable params: 1,721,088\n",
      "Non-trainable params: 0\n",
      "_________________________________________________________________\n"
     ]
    }
   ],
   "source": [
    "#encoder_inputs와 encoder_states는 이미 정의한 것들을 재사용\n",
    "encoder_model = Model(inputs = encoder_inputs, outputs = encoder_states)\n",
    "encoder_model.summary()"
   ]
  },
  {
   "cell_type": "markdown",
   "id": "e3dc9680",
   "metadata": {},
   "source": [
    "## 디코더 입력층 설계"
   ]
  },
  {
   "cell_type": "code",
   "execution_count": 58,
   "id": "dede568f",
   "metadata": {},
   "outputs": [],
   "source": [
    "# 이전 time step의 hidden state를 저장하는 텐서\n",
    "decoder_state_input_h = Input(shape=(256,))\n",
    "# 이전 time step의 cell state를 저장하는 텐서\n",
    "decoder_state_input_c = Input(shape=(256,))\n",
    "# 이전 time step의 hidden state와 cell state를 하나의 변수에 저장\n",
    "decoder_states_inputs = [decoder_state_input_h, decoder_state_input_c]\n",
    "\n",
    "dec_emb2 = Embedding(fra_vocab_size, 256)(decoder_inputs)\n",
    "# decoder_states_inputs를 현재 time step의 초기 상태로 사용.\n",
    "# 구체적인 동작 자체는 def decode_sequence()에 구현.\n",
    "decoder_outputs2, state_h2, state_c2 = decoder_lstm(dec_emb2, initial_state = decoder_states_inputs)\n",
    "# 현재 time step의 hidden state와 cell state를 하나의 변수에 저장.\n",
    "decoder_states2 = [state_h2, state_c2]"
   ]
  },
  {
   "cell_type": "code",
   "execution_count": 59,
   "id": "f963ae12",
   "metadata": {},
   "outputs": [
    {
     "data": {
      "text/plain": [
       "<KerasTensor: shape=(None, None, 256) dtype=float32 (created by layer 'lstm_1')>"
      ]
     },
     "execution_count": 59,
     "metadata": {},
     "output_type": "execute_result"
    }
   ],
   "source": [
    "decoder_outputs2"
   ]
  },
  {
   "cell_type": "markdown",
   "id": "1c646866",
   "metadata": {},
   "source": [
    "## 디코더 출력층 재설계"
   ]
  },
  {
   "cell_type": "code",
   "execution_count": 60,
   "id": "32eda306",
   "metadata": {},
   "outputs": [
    {
     "name": "stdout",
     "output_type": "stream",
     "text": [
      "Model: \"model_4\"\n",
      "__________________________________________________________________________________________________\n",
      "Layer (type)                    Output Shape         Param #     Connected to                     \n",
      "==================================================================================================\n",
      "input_2 (InputLayer)            [(None, None)]       0                                            \n",
      "__________________________________________________________________________________________________\n",
      "embedding_3 (Embedding)         (None, None, 256)    1908480     input_2[0][0]                    \n",
      "__________________________________________________________________________________________________\n",
      "input_5 (InputLayer)            [(None, 256)]        0                                            \n",
      "__________________________________________________________________________________________________\n",
      "input_6 (InputLayer)            [(None, 256)]        0                                            \n",
      "__________________________________________________________________________________________________\n",
      "lstm_1 (LSTM)                   [(None, None, 256),  525312      embedding_3[0][0]                \n",
      "                                                                 input_5[0][0]                    \n",
      "                                                                 input_6[0][0]                    \n",
      "__________________________________________________________________________________________________\n",
      "dense (Dense)                   (None, None, 7455)   1915935     lstm_1[2][0]                     \n",
      "==================================================================================================\n",
      "Total params: 4,349,727\n",
      "Trainable params: 4,349,727\n",
      "Non-trainable params: 0\n",
      "__________________________________________________________________________________________________\n"
     ]
    }
   ],
   "source": [
    "decoder_outputs2 = decoder_softmax_layer(decoder_outputs2)\n",
    "decoder_model = Model(inputs=[decoder_inputs] + decoder_states_inputs, outputs=[decoder_outputs2] + decoder_states2)\n",
    "decoder_model.summary()"
   ]
  },
  {
   "cell_type": "markdown",
   "id": "59521b18",
   "metadata": {},
   "source": [
    "단어에서 정수로, 정수에서 단어로 바꾸는 사전(dictionary)"
   ]
  },
  {
   "cell_type": "markdown",
   "id": "5a175c50",
   "metadata": {},
   "source": [
    "## 디코더의결과를 넣을 사전 생성"
   ]
  },
  {
   "cell_type": "code",
   "execution_count": 61,
   "id": "24e045d9",
   "metadata": {},
   "outputs": [],
   "source": [
    "eng2idx = eng_tokenizer.word_index\n",
    "fra2idx = fra_tokenizer.word_index\n",
    "idx2eng = eng_tokenizer.index_word\n",
    "idx2fra = fra_tokenizer.index_word"
   ]
  },
  {
   "cell_type": "markdown",
   "id": "ce1b13e9",
   "metadata": {},
   "source": [
    "## 예측 과정을 위한 함수 decode_sequence()를 구현\n",
    "    입력: 번역하고자하는 문장의 정수 시퀀스\n",
    "    decode_sequence() 내부에는 인코더를 구현한 encoder_model이 있어서 이 모델에 번역하고자 하는 문장의 정수 시퀀스인 'input_seq'를 입력하면, encoder_model은 마지막 시점의 hidden state를 리턴"
   ]
  },
  {
   "cell_type": "code",
   "execution_count": 62,
   "id": "5322ccd8",
   "metadata": {},
   "outputs": [],
   "source": [
    "def decode_sequence(input_seq):\n",
    "    # 입력으로부터 인코더의 상태를 얻음\n",
    "    states_value = encoder_model.predict(input_seq)\n",
    "\n",
    "    # 에 해당하는 원-핫 벡터 생성\n",
    "    target_seq = np.zeros((1,1)) \n",
    "    target_seq[0, 0] = fra2idx['<sos>']\n",
    "    \n",
    "    stop_condition = False\n",
    "    decoded_sentence = \"\"\n",
    "\n",
    "    # stop_condition이 True가 될 때까지 루프 반복\n",
    "    while not stop_condition:\n",
    "        # 이점 시점의 상태 states_value를 현 시점의 초기 상태로 사용\n",
    "        output_tokens, h, c = decoder_model.predict([target_seq] + states_value)\n",
    "\n",
    "        # 예측 결과를 문자로 변환\n",
    "        # 각 문장별 (d0) 마지막행(d1)의 모든 열에서 max값 (벡터의 최고 유사도값)을 찾아 리턴\n",
    "        sampled_token_index = np.argmax(output_tokens[0, -1, :])\n",
    "        sampled_char = idx2fra[sampled_token_index]\n",
    "\n",
    "        # 현재 시점의 예측 문자를 예측 문장에 추가\n",
    "        decoded_sentence += ' '+sampled_char\n",
    "\n",
    "        # 에 도달하거나 최대 길이를 넘으면 중단.\n",
    "        if (sampled_char == '<eos>' or\n",
    "           len(decoded_sentence) > max_fra_seq_len):\n",
    "            stop_condition = True\n",
    "\n",
    "        # 현재 시점의 예측 결과를 다음 시점의 입력으로 사용하기 위해 저장     \n",
    "        target_seq = np.zeros((1, 1))\n",
    "        target_seq[0, 0] = sampled_token_index\n",
    "\n",
    "        # 현재 시점의 상태를 다음 시점의 상태로 사용하기 위해 저장\n",
    "        states_value = [h, c]\n",
    "\n",
    "    return decoded_sentence"
   ]
  },
  {
   "cell_type": "code",
   "execution_count": 63,
   "id": "9a40d213",
   "metadata": {},
   "outputs": [
    {
     "name": "stdout",
     "output_type": "stream",
     "text": [
      "<class 'dict'>\n",
      "7454\n"
     ]
    }
   ],
   "source": [
    "print(type(fra2idx))\n",
    "print(len(fra2idx))"
   ]
  },
  {
   "cell_type": "code",
   "execution_count": 64,
   "id": "4aed9fb1",
   "metadata": {},
   "outputs": [
    {
     "data": {
      "text/plain": [
       "7455"
      ]
     },
     "execution_count": 64,
     "metadata": {},
     "output_type": "execute_result"
    }
   ],
   "source": [
    "fra_vocab_size"
   ]
  },
  {
   "cell_type": "code",
   "execution_count": 65,
   "id": "790481ed",
   "metadata": {},
   "outputs": [
    {
     "data": {
      "text/plain": [
       "1"
      ]
     },
     "execution_count": 65,
     "metadata": {},
     "output_type": "execute_result"
    }
   ],
   "source": [
    "fra2idx['<sos>']"
   ]
  },
  {
   "cell_type": "code",
   "execution_count": 66,
   "id": "7263b302",
   "metadata": {
    "scrolled": true
   },
   "outputs": [
    {
     "data": {
      "text/plain": [
       "{'<sos>': 1,\n",
       " '<eos>': 2,\n",
       " '.': 3,\n",
       " 'je': 4,\n",
       " 'est': 5,\n",
       " '?': 6,\n",
       " 'tom': 7,\n",
       " '!': 8,\n",
       " 'a': 9,\n",
       " 'vous': 10,\n",
       " 'j': 11,\n",
       " 'pas': 12,\n",
       " 'il': 13,\n",
       " 'le': 14,\n",
       " 'ai': 15,\n",
       " 'de': 16,\n",
       " 'nous': 17,\n",
       " 'l': 18,\n",
       " 'c': 19,\n",
       " 'ne': 20,\n",
       " 'suis': 21,\n",
       " 'tu': 22,\n",
       " 'd': 23,\n",
       " 's': 24,\n",
       " 'un': 25,\n",
       " 't': 26,\n",
       " 'la': 27,\n",
       " 'en': 28,\n",
       " 'n': 29,\n",
       " 'ce': 30,\n",
       " 'me': 31,\n",
       " 'tes': 32,\n",
       " 'es': 33,\n",
       " 'une': 34,\n",
       " 'que': 35,\n",
       " 'les': 36,\n",
       " 'm': 37,\n",
       " 'e': 38,\n",
       " 'moi': 39,\n",
       " 'te': 40,\n",
       " 'elle': 41,\n",
       " ',': 42,\n",
       " 'tait': 43,\n",
       " 'sont': 44,\n",
       " 'ils': 45,\n",
       " 'y': 46,\n",
       " 'sommes': 47,\n",
       " 'fait': 48,\n",
       " 'r': 49,\n",
       " 'tout': 50,\n",
       " 'elles': 51,\n",
       " 'qui': 52,\n",
       " 'des': 53,\n",
       " 'mon': 54,\n",
       " 'aime': 55,\n",
       " 're': 56,\n",
       " 'toi': 57,\n",
       " 'bien': 58,\n",
       " 'as': 59,\n",
       " 'ici': 60,\n",
       " 'tr': 61,\n",
       " 'pr': 62,\n",
       " 'se': 63,\n",
       " 'arr': 64,\n",
       " 'du': 65,\n",
       " 'on': 66,\n",
       " 'besoin': 67,\n",
       " 'air': 68,\n",
       " 'faire': 69,\n",
       " 'avez': 70,\n",
       " 'peux': 71,\n",
       " 'avons': 72,\n",
       " 'ont': 73,\n",
       " 'cela': 74,\n",
       " 'personne': 75,\n",
       " 'va': 76,\n",
       " 'veux': 77,\n",
       " 'votre': 78,\n",
       " 'qu': 79,\n",
       " 'tais': 80,\n",
       " 'fais': 81,\n",
       " 'tre': 82,\n",
       " 'ma': 83,\n",
       " 'ton': 84,\n",
       " 'faut': 85,\n",
       " 'comment': 86,\n",
       " 'tous': 87,\n",
       " 'aller': 88,\n",
       " 'trop': 89,\n",
       " 'monde': 90,\n",
       " 'adore': 91,\n",
       " 'au': 92,\n",
       " 'maintenant': 93,\n",
       " 'pour': 94,\n",
       " 'train': 95,\n",
       " 'si': 96,\n",
       " 'bon': 97,\n",
       " 'o': 98,\n",
       " 'soyez': 99,\n",
       " 'mal': 100,\n",
       " 'cette': 101,\n",
       " 'dans': 102,\n",
       " 'lui': 103,\n",
       " 'ceci': 104,\n",
       " 'peut': 105,\n",
       " 'maison': 106,\n",
       " 'puis': 107,\n",
       " 'partir': 108,\n",
       " 'sois': 109,\n",
       " 'sens': 110,\n",
       " 'toutes': 111,\n",
       " 'voiture': 112,\n",
       " 'occup': 113,\n",
       " 'teste': 114,\n",
       " 'pla': 115,\n",
       " 'mes': 116,\n",
       " 'vu': 117,\n",
       " 'dois': 118,\n",
       " 'faites': 119,\n",
       " 'plus': 120,\n",
       " 'p': 121,\n",
       " 'avec': 122,\n",
       " 'v': 123,\n",
       " 'comme': 124,\n",
       " 'vais': 125,\n",
       " 'g': 126,\n",
       " 'jamais': 127,\n",
       " 'dit': 128,\n",
       " 'ta': 129,\n",
       " 'pourquoi': 130,\n",
       " 'laisse': 131,\n",
       " 'chien': 132,\n",
       " 'sur': 133,\n",
       " 'fort': 134,\n",
       " 'sais': 135,\n",
       " 'vraiment': 136,\n",
       " 'quelle': 137,\n",
       " 'encore': 138,\n",
       " 'aider': 139,\n",
       " 'quel': 140,\n",
       " 'voir': 141,\n",
       " 'juste': 142,\n",
       " 'beaucoup': 143,\n",
       " 'chez': 144,\n",
       " 'temps': 145,\n",
       " 'rien': 146,\n",
       " 'laissez': 147,\n",
       " 'viens': 148,\n",
       " 'deux': 149,\n",
       " 'seul': 150,\n",
       " 'aide': 151,\n",
       " 'reste': 152,\n",
       " 'son': 153,\n",
       " 'travail': 154,\n",
       " 'tez': 155,\n",
       " 'prends': 156,\n",
       " 'avait': 157,\n",
       " 'f': 158,\n",
       " 'porte': 159,\n",
       " 'bonne': 160,\n",
       " 'allez': 161,\n",
       " 'nouveau': 162,\n",
       " 'ais': 163,\n",
       " 'perdu': 164,\n",
       " 'prie': 165,\n",
       " 'par': 166,\n",
       " 'restez': 167,\n",
       " 'quelqu': 168,\n",
       " 'marie': 169,\n",
       " 'fran': 170,\n",
       " 'fatigu': 171,\n",
       " 'livre': 172,\n",
       " 'appr': 173,\n",
       " 'tellement': 174,\n",
       " 'heureux': 175,\n",
       " 'pouvez': 176,\n",
       " 'argent': 177,\n",
       " 'dis': 178,\n",
       " 'prenez': 179,\n",
       " 'semble': 180,\n",
       " 'peu': 181,\n",
       " 'eu': 182,\n",
       " 'agit': 183,\n",
       " 'quoi': 184,\n",
       " 'regarde': 185,\n",
       " 'id': 186,\n",
       " 'coup': 187,\n",
       " 'confiance': 188,\n",
       " 'assez': 189,\n",
       " 'pris': 190,\n",
       " 'all': 191,\n",
       " 'termin': 192,\n",
       " 'chose': 193,\n",
       " 'aujourd': 194,\n",
       " 'hui': 195,\n",
       " 'donne': 196,\n",
       " 'non': 197,\n",
       " 'pouvons': 198,\n",
       " 'allons': 199,\n",
       " 'grand': 200,\n",
       " 'b': 201,\n",
       " 'eau': 202,\n",
       " 've': 203,\n",
       " 'mort': 204,\n",
       " 'accord': 205,\n",
       " 'vie': 206,\n",
       " 'ci': 207,\n",
       " 'connais': 208,\n",
       " 'notre': 209,\n",
       " 'manger': 210,\n",
       " 'parle': 211,\n",
       " 'quelque': 212,\n",
       " 'fini': 213,\n",
       " 'bless': 214,\n",
       " 'vrai': 215,\n",
       " 'faim': 216,\n",
       " 'calme': 217,\n",
       " 'heure': 218,\n",
       " 'vite': 219,\n",
       " 'yeux': 220,\n",
       " 'trouv': 221,\n",
       " 'pense': 222,\n",
       " 'voici': 223,\n",
       " 'mieux': 224,\n",
       " 'malade': 225,\n",
       " 'lit': 226,\n",
       " 'parler': 227,\n",
       " 'arrive': 228,\n",
       " 'laiss': 229,\n",
       " 'h': 230,\n",
       " 'veuillez': 231,\n",
       " 'fut': 232,\n",
       " 'sait': 233,\n",
       " 'homme': 234,\n",
       " 'simplement': 235,\n",
       " 'sans': 236,\n",
       " 'gros': 237,\n",
       " 'curit': 238,\n",
       " 'avoir': 239,\n",
       " 'pi': 240,\n",
       " 'attention': 241,\n",
       " 'raison': 242,\n",
       " 'mauvais': 243,\n",
       " 'avais': 244,\n",
       " 'essaie': 245,\n",
       " 'entendu': 246,\n",
       " 'toujours': 247,\n",
       " 'froid': 248,\n",
       " 'ter': 249,\n",
       " 'boulot': 250,\n",
       " 'veill': 251,\n",
       " 'nager': 252,\n",
       " 'ge': 253,\n",
       " 'chercher': 254,\n",
       " 'aussi': 255,\n",
       " 'main': 256,\n",
       " 'essayer': 257,\n",
       " 'regardez': 258,\n",
       " 'cass': 259,\n",
       " 'senti': 260,\n",
       " 'cole': 261,\n",
       " 'tard': 262,\n",
       " 'ch': 263,\n",
       " 'col': 264,\n",
       " 'probl': 265,\n",
       " 'dire': 266,\n",
       " 'cie': 267,\n",
       " 'vos': 268,\n",
       " 'tranquille': 269,\n",
       " 'passe': 270,\n",
       " 'rieur': 271,\n",
       " 'triste': 272,\n",
       " 'go': 273,\n",
       " 'venir': 274,\n",
       " 'mary': 275,\n",
       " 'devrais': 276,\n",
       " 'pourrait': 277,\n",
       " 'gagn': 278,\n",
       " 'sol': 279,\n",
       " 'chat': 280,\n",
       " 'int': 281,\n",
       " 'peur': 282,\n",
       " 'tions': 283,\n",
       " 'tomber': 284,\n",
       " 'dites': 285,\n",
       " 'retard': 286,\n",
       " 'chance': 287,\n",
       " 'gar': 288,\n",
       " 'sa': 289,\n",
       " 'chambre': 290,\n",
       " 'vois': 291,\n",
       " 'et': 292,\n",
       " 'travaille': 293,\n",
       " 'cl': 294,\n",
       " 'dehors': 295,\n",
       " 'presque': 296,\n",
       " 'parti': 297,\n",
       " 'rent': 298,\n",
       " 'esp': 299,\n",
       " 'bi': 300,\n",
       " 'merci': 301,\n",
       " 'vas': 302,\n",
       " 'venez': 303,\n",
       " 'donnez': 304,\n",
       " 'trouve': 305,\n",
       " 'che': 306,\n",
       " 'venu': 307,\n",
       " 'mis': 308,\n",
       " 'seule': 309,\n",
       " 'fou': 310,\n",
       " 'chanter': 311,\n",
       " 'appel': 312,\n",
       " 'aux': 313,\n",
       " 'prendre': 314,\n",
       " 'facile': 315,\n",
       " 'vue': 316,\n",
       " 'mourir': 317,\n",
       " 'vin': 318,\n",
       " 'cr': 319,\n",
       " 'vient': 320,\n",
       " 'aimes': 321,\n",
       " 'vieux': 322,\n",
       " 'pass': 323,\n",
       " 'pleurer': 324,\n",
       " 'enfants': 325,\n",
       " 'entrer': 326,\n",
       " 'travailler': 327,\n",
       " 'idiot': 328,\n",
       " 'heureuse': 329,\n",
       " 'contrari': 330,\n",
       " 'dispose': 331,\n",
       " 'arriv': 332,\n",
       " 'veut': 333,\n",
       " 'arme': 334,\n",
       " 'femme': 335,\n",
       " 'mange': 336,\n",
       " 'aucun': 337,\n",
       " 'grande': 338,\n",
       " 'courir': 339,\n",
       " 'vis': 340,\n",
       " 'assis': 341,\n",
       " 'lire': 342,\n",
       " 'journ': 343,\n",
       " 'fils': 344,\n",
       " 'mang': 345,\n",
       " 'doit': 346,\n",
       " 'donn': 347,\n",
       " 'verre': 348,\n",
       " 'dormir': 349,\n",
       " 'rieux': 350,\n",
       " 'petit': 351,\n",
       " 'enfant': 352,\n",
       " 'gentil': 353,\n",
       " 'dessus': 354,\n",
       " 'place': 355,\n",
       " 'rester': 356,\n",
       " 'bus': 357,\n",
       " 'cheveux': 358,\n",
       " 'br': 359,\n",
       " 'chaud': 360,\n",
       " 'plan': 361,\n",
       " 'amour': 362,\n",
       " 'bas': 363,\n",
       " 'caf': 364,\n",
       " 'taient': 365,\n",
       " 'marche': 366,\n",
       " 'debout': 367,\n",
       " 'bras': 368,\n",
       " 'garde': 369,\n",
       " 'bizarre': 370,\n",
       " 'dr': 371,\n",
       " 'invit': 372,\n",
       " 'aucune': 373,\n",
       " 'irai': 374,\n",
       " 'continue': 375,\n",
       " 'chapeau': 376,\n",
       " 'ob': 377,\n",
       " 'dur': 378,\n",
       " 'tort': 379,\n",
       " 'marcher': 380,\n",
       " 'mari': 381,\n",
       " 'bois': 382,\n",
       " 'amis': 383,\n",
       " 'attends': 384,\n",
       " 'continuez': 385,\n",
       " 'tomb': 386,\n",
       " 'demande': 387,\n",
       " 'montre': 388,\n",
       " 'attendre': 389,\n",
       " 'serai': 390,\n",
       " 'ur': 391,\n",
       " 'res': 392,\n",
       " 'cher': 393,\n",
       " 'choix': 394,\n",
       " 'plut': 395,\n",
       " 'appelle': 396,\n",
       " 'joue': 397,\n",
       " 'aim': 398,\n",
       " 'ville': 399,\n",
       " 'sortir': 400,\n",
       " 'pourrais': 401,\n",
       " 'peuvent': 402,\n",
       " 'crois': 403,\n",
       " 'essayez': 404,\n",
       " 'riche': 405,\n",
       " 'voil': 406,\n",
       " 'sac': 407,\n",
       " 'difficile': 408,\n",
       " 'plein': 409,\n",
       " 'quiconque': 410,\n",
       " 'devenu': 411,\n",
       " 'rencontr': 412,\n",
       " 'nom': 413,\n",
       " 'fois': 414,\n",
       " 'rit': 415,\n",
       " 'filles': 416,\n",
       " 'demain': 417,\n",
       " 'continu': 418,\n",
       " 'libre': 419,\n",
       " 'chiens': 420,\n",
       " 'soit': 421,\n",
       " 'prudent': 422,\n",
       " 'gagner': 423,\n",
       " 'na': 424,\n",
       " 'jeuner': 425,\n",
       " 'ami': 426,\n",
       " 'quand': 427,\n",
       " 'partie': 428,\n",
       " 'sors': 429,\n",
       " 'essay': 430,\n",
       " 'ferme': 431,\n",
       " 'content': 432,\n",
       " 'apr': 433,\n",
       " 'crit': 434,\n",
       " 'payer': 435,\n",
       " 'musique': 436,\n",
       " 'boston': 437,\n",
       " 'voulez': 438,\n",
       " 'attendez': 439,\n",
       " 'avance': 440,\n",
       " 'carte': 441,\n",
       " 'oubli': 442,\n",
       " 'th': 443,\n",
       " 'davantage': 444,\n",
       " 'voulons': 445,\n",
       " 'sauv': 446,\n",
       " 'faisons': 447,\n",
       " 'tir': 448,\n",
       " 'importe': 449,\n",
       " 'rest': 450,\n",
       " 'prudente': 451,\n",
       " 'super': 452,\n",
       " 'ment': 453,\n",
       " 'mets': 454,\n",
       " 'heures': 455,\n",
       " 'compte': 456,\n",
       " 'ts': 457,\n",
       " 'achet': 458,\n",
       " 'sympa': 459,\n",
       " 'chemin': 460,\n",
       " 'cheval': 461,\n",
       " 'sera': 462,\n",
       " 'tiens': 463,\n",
       " 'autre': 464,\n",
       " 'parl': 465,\n",
       " 'amus': 466,\n",
       " 'march': 467,\n",
       " 'fille': 468,\n",
       " 'amusant': 469,\n",
       " 'devons': 470,\n",
       " 'galement': 471,\n",
       " 'chanson': 472,\n",
       " 'am': 473,\n",
       " 'point': 474,\n",
       " 'espoir': 475,\n",
       " 'manque': 476,\n",
       " 'ses': 477,\n",
       " 'trouver': 478,\n",
       " 'veulent': 479,\n",
       " 'ons': 480,\n",
       " 'pars': 481,\n",
       " 'timide': 482,\n",
       " 'pied': 483,\n",
       " 'parfait': 484,\n",
       " 'marrant': 485,\n",
       " 'blague': 486,\n",
       " 'nuit': 487,\n",
       " 'jeune': 488,\n",
       " 'savoir': 489,\n",
       " 'rire': 490,\n",
       " 'feu': 491,\n",
       " 'honn': 492,\n",
       " 'leur': 493,\n",
       " 'arriver': 494,\n",
       " 'mauvaise': 495,\n",
       " 'lentement': 496,\n",
       " 'decin': 497,\n",
       " 'ceux': 498,\n",
       " 'dormi': 499,\n",
       " 'tiez': 500,\n",
       " 'celui': 501,\n",
       " 'cet': 502,\n",
       " 'sormais': 503,\n",
       " 'menti': 504,\n",
       " 'sortez': 505,\n",
       " 'plait': 506,\n",
       " 'sent': 507,\n",
       " 'mien': 508,\n",
       " 'lait': 509,\n",
       " 'faute': 510,\n",
       " 'histoire': 511,\n",
       " 'lo': 512,\n",
       " 'route': 513,\n",
       " 'pay': 514,\n",
       " 'court': 515,\n",
       " 'ouvre': 516,\n",
       " 'bient': 517,\n",
       " 'regard': 518,\n",
       " 'rouge': 519,\n",
       " 'premier': 520,\n",
       " 'souvent': 521,\n",
       " 'chang': 522,\n",
       " 'coute': 523,\n",
       " 'asseoir': 524,\n",
       " 'vide': 525,\n",
       " 'aimez': 526,\n",
       " 'tenez': 527,\n",
       " 'avis': 528,\n",
       " 'haut': 529,\n",
       " 'ri': 530,\n",
       " 'nourriture': 531,\n",
       " 'lis': 532,\n",
       " 'chante': 533,\n",
       " 'plaisir': 534,\n",
       " 'faux': 535,\n",
       " 'seconde': 536,\n",
       " 'poisson': 537,\n",
       " 'chats': 538,\n",
       " 'commen': 539,\n",
       " 'tour': 540,\n",
       " 'moment': 541,\n",
       " 'parer': 542,\n",
       " 'manqu': 543,\n",
       " 'vol': 544,\n",
       " 'envoy': 545,\n",
       " 'entre': 546,\n",
       " 'signe': 547,\n",
       " 'beau': 548,\n",
       " 'parole': 549,\n",
       " 'ferai': 550,\n",
       " 'lev': 551,\n",
       " 'entra': 552,\n",
       " 'rendu': 553,\n",
       " 'nez': 554,\n",
       " 'ces': 555,\n",
       " 'stylo': 556,\n",
       " 'effray': 557,\n",
       " 'ner': 558,\n",
       " 'rapidement': 559,\n",
       " 'toute': 560,\n",
       " 'famille': 561,\n",
       " 'voyage': 562,\n",
       " 'fr': 563,\n",
       " 'bureau': 564,\n",
       " 'tendu': 565,\n",
       " 'rendre': 566,\n",
       " 'ainsi': 567,\n",
       " 'derri': 568,\n",
       " 'seuls': 569,\n",
       " 'vieille': 570,\n",
       " 'oui': 571,\n",
       " 'danger': 572,\n",
       " 'savez': 573,\n",
       " 'bo': 574,\n",
       " 'demand': 575,\n",
       " 'attrap': 576,\n",
       " 'faisait': 577,\n",
       " 'conna': 578,\n",
       " 'stupide': 579,\n",
       " 'ou': 580,\n",
       " 'regarder': 581,\n",
       " 'incroyable': 582,\n",
       " 'ensemble': 583,\n",
       " 'part': 584,\n",
       " 'vit': 585,\n",
       " 'photo': 586,\n",
       " 'ponse': 587,\n",
       " 'suffit': 588,\n",
       " 'gardez': 589,\n",
       " 'horrible': 590,\n",
       " 'folle': 591,\n",
       " 'seules': 592,\n",
       " 'normal': 593,\n",
       " 'danser': 594,\n",
       " 'honte': 595,\n",
       " 'nerveux': 596,\n",
       " 'entendre': 597,\n",
       " 'combien': 598,\n",
       " 'jouer': 599,\n",
       " 'prix': 600,\n",
       " 'jour': 601,\n",
       " 'mains': 602,\n",
       " 'terre': 603,\n",
       " 'essaye': 604,\n",
       " 'gentille': 605,\n",
       " 'fous': 606,\n",
       " 'touch': 607,\n",
       " 'mettez': 608,\n",
       " 'rapide': 609,\n",
       " 'paresseux': 610,\n",
       " 'parlez': 611,\n",
       " 'reviens': 612,\n",
       " 'oubliez': 613,\n",
       " 'emploi': 614,\n",
       " 'abandonn': 615,\n",
       " 'mienne': 616,\n",
       " 'ouvert': 617,\n",
       " 'rends': 618,\n",
       " 'envie': 619,\n",
       " 'sentis': 620,\n",
       " 'souviens': 621,\n",
       " 'commenc': 622,\n",
       " 'mit': 623,\n",
       " 'fl': 624,\n",
       " 'celles': 625,\n",
       " 'erreur': 626,\n",
       " 'boire': 627,\n",
       " 'aimerais': 628,\n",
       " 'note': 629,\n",
       " 'jusqu': 630,\n",
       " 'rer': 631,\n",
       " 'celle': 632,\n",
       " 'phone': 633,\n",
       " 'ans': 634,\n",
       " 'sinc': 635,\n",
       " 'ext': 636,\n",
       " 'aidez': 637,\n",
       " 'ouvrez': 638,\n",
       " 'belle': 639,\n",
       " 'fi': 640,\n",
       " 'faible': 641,\n",
       " 'nial': 642,\n",
       " 'oublie': 643,\n",
       " 'savais': 644,\n",
       " 'retraite': 645,\n",
       " 'vus': 646,\n",
       " 'arm': 647,\n",
       " 'sentie': 648,\n",
       " 'sommeil': 649,\n",
       " 'chant': 650,\n",
       " 'aimons': 651,\n",
       " 'horreur': 652,\n",
       " 'fis': 653,\n",
       " 'neige': 654,\n",
       " 'fit': 655,\n",
       " 'devrions': 656,\n",
       " 'sentait': 657,\n",
       " 'battre': 658,\n",
       " 'aise': 659,\n",
       " 'devez': 660,\n",
       " 'fermez': 661,\n",
       " 'dieu': 662,\n",
       " 'voulais': 663,\n",
       " 'cours': 664,\n",
       " 'vers': 665,\n",
       " 'venue': 666,\n",
       " 'tromp': 667,\n",
       " 'entends': 668,\n",
       " 'fus': 669,\n",
       " 'type': 670,\n",
       " 'pouvais': 671,\n",
       " 'livres': 672,\n",
       " 'patron': 673,\n",
       " 'cesse': 674,\n",
       " 'morts': 675,\n",
       " 'manteau': 676,\n",
       " 'appeler': 677,\n",
       " 'bonjour': 678,\n",
       " 'comprends': 679,\n",
       " 'entrez': 680,\n",
       " 'avant': 681,\n",
       " 'forme': 682,\n",
       " 'mignon': 683,\n",
       " 'aid': 684,\n",
       " 'morte': 685,\n",
       " 'touche': 686,\n",
       " 'nouvelle': 687,\n",
       " 'nerv': 688,\n",
       " 'propre': 689,\n",
       " 'saoul': 690,\n",
       " 'mentir': 691,\n",
       " 'nu': 692,\n",
       " 'petite': 693,\n",
       " 'rentrer': 694,\n",
       " 'cuisine': 695,\n",
       " 'ussi': 696,\n",
       " 'satisfait': 697,\n",
       " 'apporte': 698,\n",
       " 'intelligent': 699,\n",
       " 'important': 700,\n",
       " 'droite': 701,\n",
       " 'soif': 702,\n",
       " 'contente': 703,\n",
       " 'thomas': 704,\n",
       " 'courant': 705,\n",
       " 'chaussures': 706,\n",
       " 'impliqu': 707,\n",
       " 'flics': 708,\n",
       " 'poss': 709,\n",
       " 'bateau': 710,\n",
       " 'lumi': 711,\n",
       " 'surpris': 712,\n",
       " 'minute': 713,\n",
       " 'prenons': 714,\n",
       " 'portes': 715,\n",
       " 'continuait': 716,\n",
       " 'bouge': 717,\n",
       " 'commence': 718,\n",
       " 'appelez': 719,\n",
       " 'grosse': 720,\n",
       " 'assieds': 721,\n",
       " 'asseyez': 722,\n",
       " 'sombre': 723,\n",
       " 'simple': 724,\n",
       " 'rendez': 725,\n",
       " 'cuisiner': 726,\n",
       " 'confectionn': 727,\n",
       " 'ros': 728,\n",
       " 'perdre': 729,\n",
       " 'tudie': 730,\n",
       " 'guerre': 731,\n",
       " 'conduire': 732,\n",
       " 'service': 733,\n",
       " 'bourr': 734,\n",
       " 'embrass': 735,\n",
       " 'viande': 736,\n",
       " 'bonnes': 737,\n",
       " 'meilleur': 738,\n",
       " 'affaire': 739,\n",
       " 'noir': 740,\n",
       " 'sourire': 741,\n",
       " 'pieds': 742,\n",
       " 'vont': 743,\n",
       " 'teau': 744,\n",
       " 'addition': 745,\n",
       " 'impressionn': 746,\n",
       " 'motiv': 747,\n",
       " 'co': 748,\n",
       " 'bruit': 749,\n",
       " 'film': 750,\n",
       " 'salut': 751,\n",
       " 'sant': 752,\n",
       " 'monte': 753,\n",
       " 'camp': 754,\n",
       " 'pleur': 755,\n",
       " 'mouill': 756,\n",
       " 'quipe': 757,\n",
       " 'attrape': 758,\n",
       " 'sortie': 759,\n",
       " 'souri': 760,\n",
       " 'neuf': 761,\n",
       " 'cris': 762,\n",
       " 'frapp': 763,\n",
       " 'vues': 764,\n",
       " 'serais': 765,\n",
       " 'trois': 766,\n",
       " 'soin': 767,\n",
       " 'hommes': 768,\n",
       " 'quitt': 769,\n",
       " 'retour': 770,\n",
       " 'loup': 771,\n",
       " 'sp': 772,\n",
       " 'fil': 773,\n",
       " 'curieux': 774,\n",
       " 'vir': 775,\n",
       " 'ferais': 776,\n",
       " 'buvez': 777,\n",
       " 'taxi': 778,\n",
       " 'pizza': 779,\n",
       " 'loi': 780,\n",
       " 'contr': 781,\n",
       " 'lib': 782,\n",
       " 'disparu': 783,\n",
       " 'bu': 784,\n",
       " 'semaine': 785,\n",
       " 'voix': 786,\n",
       " 'paix': 787,\n",
       " 'devrait': 788,\n",
       " 'semblez': 789,\n",
       " 'cool': 790,\n",
       " 'ach': 791,\n",
       " 'mangez': 792,\n",
       " 'compris': 793,\n",
       " 'mani': 794,\n",
       " 'montrez': 795,\n",
       " 'veille': 796,\n",
       " 'demandez': 797,\n",
       " 'sentez': 798,\n",
       " 'cessez': 799,\n",
       " 'aveugle': 800,\n",
       " 'sale': 801,\n",
       " 'tourne': 802,\n",
       " 'chanceux': 803,\n",
       " 'loin': 804,\n",
       " 'ira': 805,\n",
       " 'command': 806,\n",
       " 'souci': 807,\n",
       " 'hais': 808,\n",
       " 'rappelle': 809,\n",
       " 'silencieux': 810,\n",
       " 'inqui': 811,\n",
       " 'emporter': 812,\n",
       " 'heureuses': 813,\n",
       " 'compter': 814,\n",
       " 'gagne': 815,\n",
       " 'choqu': 816,\n",
       " 'verrouill': 817,\n",
       " 'liste': 818,\n",
       " 'mille': 819,\n",
       " 'entr': 820,\n",
       " 'bain': 821,\n",
       " 'dingue': 822,\n",
       " 'imm': 823,\n",
       " 'diatement': 824,\n",
       " 'droit': 825,\n",
       " 'tage': 826,\n",
       " 'chatte': 827,\n",
       " 'amie': 828,\n",
       " 'cid': 829,\n",
       " 'crire': 830,\n",
       " 'attentivement': 831,\n",
       " 'nos': 832,\n",
       " 'hurler': 833,\n",
       " 'choses': 834,\n",
       " 'chef': 835,\n",
       " 'mesure': 836,\n",
       " 'tudiant': 837,\n",
       " 'diff': 838,\n",
       " 'prot': 839,\n",
       " 'cloche': 840,\n",
       " 'tasse': 841,\n",
       " 'gles': 842,\n",
       " 'trahi': 843,\n",
       " 'emport': 844,\n",
       " 'souris': 845,\n",
       " 'gage': 846,\n",
       " 'rentre': 847,\n",
       " 'conduis': 848,\n",
       " 'promis': 849,\n",
       " 'verrouille': 850,\n",
       " 'grave': 851,\n",
       " 'chou': 852,\n",
       " 'paie': 853,\n",
       " 'magnifique': 854,\n",
       " 'savait': 855,\n",
       " 'pleure': 856,\n",
       " 'suivez': 857,\n",
       " 'fonctionn': 858,\n",
       " 'trente': 859,\n",
       " 'arri': 860,\n",
       " 'idiote': 861,\n",
       " 'rieuse': 862,\n",
       " 'changer': 863,\n",
       " 'parviens': 864,\n",
       " 'nouvelles': 865,\n",
       " 'confus': 866,\n",
       " 'amoureux': 867,\n",
       " 'gal': 868,\n",
       " 'secret': 869,\n",
       " 'pommes': 870,\n",
       " 'refus': 871,\n",
       " 'ferm': 872,\n",
       " 'grossier': 873,\n",
       " 'actuellement': 874,\n",
       " 'tant': 875,\n",
       " 'drogu': 876,\n",
       " 'coupable': 877,\n",
       " 'avions': 878,\n",
       " 'but': 879,\n",
       " 'rhume': 880,\n",
       " 'pleut': 881,\n",
       " 'fen': 882,\n",
       " 'lequel': 883,\n",
       " 'embrasser': 884,\n",
       " 'endroit': 885,\n",
       " 'vision': 886,\n",
       " 'tres': 887,\n",
       " 'intention': 888,\n",
       " 'couteau': 889,\n",
       " 'dangereux': 890,\n",
       " 'attraper': 891,\n",
       " 'jours': 892,\n",
       " 'ouverte': 893,\n",
       " 'alors': 894,\n",
       " 'montez': 895,\n",
       " 'hors': 896,\n",
       " 'question': 897,\n",
       " 'fantastique': 898,\n",
       " 'quitte': 899,\n",
       " 'pue': 900,\n",
       " 'tent': 901,\n",
       " 'malheureux': 902,\n",
       " 'courageux': 903,\n",
       " 'chouette': 904,\n",
       " 'sorti': 905,\n",
       " 'clair': 906,\n",
       " 'fonctionne': 907,\n",
       " 'formidable': 908,\n",
       " 'choisis': 909,\n",
       " 'rentr': 910,\n",
       " 'cri': 911,\n",
       " 'ivre': 912,\n",
       " 'dure': 913,\n",
       " 'vot': 914,\n",
       " 'attendu': 915,\n",
       " 'engag': 916,\n",
       " 'doute': 917,\n",
       " 'u': 918,\n",
       " 'crev': 919,\n",
       " 'forte': 920,\n",
       " 'tien': 921,\n",
       " 'partons': 922,\n",
       " 'taille': 923,\n",
       " 'jetez': 924,\n",
       " 'liquide': 925,\n",
       " 'habite': 926,\n",
       " 'eux': 927,\n",
       " 'parie': 928,\n",
       " 'perplexe': 929,\n",
       " 'excit': 930,\n",
       " 'risque': 931,\n",
       " 'allum': 932,\n",
       " 'ro': 933,\n",
       " 'demander': 934,\n",
       " 'preuve': 935,\n",
       " 'bris': 936,\n",
       " 'cancer': 937,\n",
       " 'concentr': 938,\n",
       " 'lisez': 939,\n",
       " 'continuer': 940,\n",
       " 'douleur': 941,\n",
       " 'fumer': 942,\n",
       " 'aiment': 943,\n",
       " 'ver': 944,\n",
       " 'mortes': 945,\n",
       " 'lu': 946,\n",
       " 'professeur': 947,\n",
       " 'compl': 948,\n",
       " 'tement': 949,\n",
       " 'peine': 950,\n",
       " 'table': 951,\n",
       " 'douche': 952,\n",
       " 'arbre': 953,\n",
       " 'folles': 954,\n",
       " 'jeu': 955,\n",
       " 'amies': 956,\n",
       " 'sembles': 957,\n",
       " 'pleine': 958,\n",
       " 'balle': 959,\n",
       " 'apport': 960,\n",
       " 'soleil': 961,\n",
       " 'assit': 962,\n",
       " 'magasin': 963,\n",
       " 'soulag': 964,\n",
       " 'press': 965,\n",
       " 'froide': 966,\n",
       " 'ra': 967,\n",
       " 'coutez': 968,\n",
       " 'fiche': 969,\n",
       " 'doucement': 970,\n",
       " 'fume': 971,\n",
       " 'faits': 972,\n",
       " 'partez': 973,\n",
       " 'grossi': 974,\n",
       " 'repos': 975,\n",
       " 'utilise': 976,\n",
       " 'rez': 977,\n",
       " 'skier': 978,\n",
       " 'huit': 979,\n",
       " 'bouger': 980,\n",
       " 'sang': 981,\n",
       " 'prudents': 982,\n",
       " 'partis': 983,\n",
       " 'dedans': 984,\n",
       " 'patient': 985,\n",
       " 'apportez': 986,\n",
       " 'sentais': 987,\n",
       " 'sujet': 988,\n",
       " 'proximit': 989,\n",
       " 'conduit': 990,\n",
       " 'devint': 991,\n",
       " 'mec': 992,\n",
       " 'endormi': 993,\n",
       " 'prim': 994,\n",
       " 'ufs': 995,\n",
       " 'licenci': 996,\n",
       " 'lav': 997,\n",
       " 'nie': 998,\n",
       " 'plaisante': 999,\n",
       " 'malchanceux': 1000,\n",
       " ...}"
      ]
     },
     "execution_count": 66,
     "metadata": {},
     "output_type": "execute_result"
    }
   ],
   "source": [
    "fra2idx"
   ]
  },
  {
   "cell_type": "markdown",
   "id": "3db93613",
   "metadata": {},
   "source": [
    "## 출력결과 테스트"
   ]
  },
  {
   "cell_type": "code",
   "execution_count": 67,
   "id": "052d6460",
   "metadata": {},
   "outputs": [
    {
     "name": "stdout",
     "output_type": "stream",
     "text": [
      "-----------------------------------\n",
      "입력 문장: ['get', 'away', '!']\n",
      "정답 문장: ['criss', 'ton', 'camp', 'd', 'icit', '!']\n",
      "번역기가 번역한 문장:  d l ! ! ! . . . \n",
      "-----------------------------------\n",
      "입력 문장: ['hello', '!']\n",
      "정답 문장: ['bonjour', '!']\n",
      "번역기가 번역한 문장:  bonjour ! ! ! ! \n",
      "-----------------------------------\n",
      "입력 문장: ['bury', 'it', '.']\n",
      "정답 문장: ['enterre', 'le', '.']\n",
      "번역기가 번역한 문장:  riche riche . . \n",
      "-----------------------------------\n",
      "입력 문장: ['i', 'snore', '.']\n",
      "정답 문장: ['je', 'ronfle', '.']\n",
      "번역기가 번역한 문장:  je je . . . . . \n",
      "-----------------------------------\n",
      "입력 문장: ['here', 's', '.']\n",
      "정답 문장: ['voil', 'cinq', 'dollars', '.']\n",
      "번역기가 번역한 문장:  voici cinq est . \n"
     ]
    }
   ],
   "source": [
    "for seq_index in [500,50,200,330,1001]: # 입력 문장의 인덱스 (자유롭게 선택해 보세요)\n",
    "    input_seq = encoder_input[seq_index: seq_index + 1]\n",
    "    decoded_sentence = decode_sequence(input_seq)\n",
    "    print(35 * \"-\")\n",
    "    print('입력 문장:', lines.eng[seq_index])\n",
    "    print('정답 문장:', lines.fra[seq_index][1:len(lines.fra[seq_index])-1]) # '<sos>'와 '<eos> '을 빼고 출력\n",
    "    print('번역기가 번역한 문장:', decoded_sentence[:len(decoded_sentence)-1]) # '<eos>'을 빼고 출력"
   ]
  },
  {
   "cell_type": "code",
   "execution_count": null,
   "id": "c993c7f2",
   "metadata": {},
   "outputs": [],
   "source": []
  },
  {
   "cell_type": "markdown",
   "id": "6a47e942",
   "metadata": {},
   "source": [
    "# 회고\n",
    "\n",
    "    1. 단어수준의 번역기를 어렵게 수행은 하였으나 성능이 그다지 좋지 못하며,,, 생각거리를 많이줌 \n",
    "    2. 정규화이후 list형식으로 반환을 받아 <sos>, <eos>생성시 typeError가 발생, 정규화함수에 포함하여 같이 수행\n",
    "    3.  (batchsize= 256, epoch=30)모델 val_acc값이 줄어들다 epoch 10 이후부터  소폭 증가하고 있음, 그에 반해 acc는 train/test모두 일정수준을 유지함.\n",
    "    4.  (batchsize= 512, epoch=50)모델 val_loss값이 소폭 증가하는 추세로 바뀜.\n",
    "        \n",
    "       \n",
    "    (batchsize= 256, epoch=30)\n",
    "        -----------------------------------\n",
    "    입력 문장: ['get', 'away', '!']\n",
    "    정답 문장: ['criss', 'ton', 'camp', 'd', 'icit', '!']\n",
    "    번역기가 번역한 문장:  tez ci . . . tez te  / 한국어번역: 자, 자, 자, 자, 자, 자\n",
    "    -----------------------------------\n",
    "    입력 문장: ['hello', '!']\n",
    "    정답 문장: ['bonjour', '!']\n",
    "    번역기가 번역한 문장:  tez tez tez tez te / 한국어번역: 시험해 보세요.\n",
    "    -----------------------------------\n",
    "    입력 문장: ['bury', 'it', '.']\n",
    "    정답 문장: ['enterre', 'le', '.']\n",
    "    번역기가 번역한 문장:  tez boulot . . . / 한국어번역: 일거리\n",
    "    -----------------------------------\n",
    "    입력 문장: ['i', 'snore', '.']\n",
    "    정답 문장: ['je', 'ronfle', '.']\n",
    "    번역기가 번역한 문장:  tez au . partir parti / 한국어번역: 떠나다오\n",
    "    -----------------------------------\n",
    "    입력 문장: ['here', 's', '.']\n",
    "    정답 문장: ['voil', 'cinq', 'dollars', '.']\n",
    "    번역기가 번역한 문장:  ici ici allez jou /  한국어번역: 자, 자, 이리 와봐\n",
    "    \n",
    "    \n",
    "    (batchsize= 512, epoch=50)\n",
    "    -----------------------------------\n",
    "    입력 문장: ['get', 'away', '!']\n",
    "    정답 문장: ['criss', 'ton', 'camp', 'd', 'icit', '!']\n",
    "    번역기가 번역한 문장:  d l ! ! ! . . . \n",
    "    -----------------------------------\n",
    "    입력 문장: ['hello', '!']\n",
    "    정답 문장: ['bonjour', '!']\n",
    "    번역기가 번역한 문장:  bonjour ! ! ! !  / 안녕!\n",
    "    -----------------------------------\n",
    "    입력 문장: ['bury', 'it', '.']\n",
    "    정답 문장: ['enterre', 'le', '.']\n",
    "    번역기가 번역한 문장:  riche riche . .  /돈 많은 사람\n",
    "    -----------------------------------\n",
    "    입력 문장: ['i', 'snore', '.']\n",
    "    정답 문장: ['je', 'ronfle', '.']\n",
    "    번역기가 번역한 문장:  je je . . . . .  /나는...\n",
    "    -----------------------------------\n",
    "    입력 문장: ['here', 's', '.']\n",
    "    정답 문장: ['voil', 'cinq', 'dollars', '.']\n",
    "    번역기가 번역한 문장:  voici cinq est .  / 여기 동쪽이 다섯이다\n",
    "\n",
    "    "
   ]
  },
  {
   "cell_type": "code",
   "execution_count": null,
   "id": "d5023ba2",
   "metadata": {},
   "outputs": [],
   "source": []
  },
  {
   "cell_type": "code",
   "execution_count": null,
   "id": "78d03e5f",
   "metadata": {},
   "outputs": [],
   "source": []
  }
 ],
 "metadata": {
  "hide_input": false,
  "kernelspec": {
   "display_name": "Python 3 (ipykernel)",
   "language": "python",
   "name": "python3"
  },
  "language_info": {
   "codemirror_mode": {
    "name": "ipython",
    "version": 3
   },
   "file_extension": ".py",
   "mimetype": "text/x-python",
   "name": "python",
   "nbconvert_exporter": "python",
   "pygments_lexer": "ipython3",
   "version": "3.9.12"
  },
  "toc": {
   "base_numbering": 1,
   "nav_menu": {},
   "number_sections": true,
   "sideBar": true,
   "skip_h1_title": false,
   "title_cell": "Table of Contents",
   "title_sidebar": "Contents",
   "toc_cell": true,
   "toc_position": {
    "height": "670px",
    "left": "1338px",
    "top": "90px",
    "width": "241px"
   },
   "toc_section_display": true,
   "toc_window_display": true
  },
  "varInspector": {
   "cols": {
    "lenName": 16,
    "lenType": 16,
    "lenVar": 40
   },
   "kernels_config": {
    "python": {
     "delete_cmd_postfix": "",
     "delete_cmd_prefix": "del ",
     "library": "var_list.py",
     "varRefreshCmd": "print(var_dic_list())"
    },
    "r": {
     "delete_cmd_postfix": ") ",
     "delete_cmd_prefix": "rm(",
     "library": "var_list.r",
     "varRefreshCmd": "cat(var_dic_list()) "
    }
   },
   "position": {
    "height": "786.844px",
    "left": "1113px",
    "right": "20px",
    "top": "120px",
    "width": "547px"
   },
   "types_to_exclude": [
    "module",
    "function",
    "builtin_function_or_method",
    "instance",
    "_Feature"
   ],
   "window_display": false
  }
 },
 "nbformat": 4,
 "nbformat_minor": 5
}
