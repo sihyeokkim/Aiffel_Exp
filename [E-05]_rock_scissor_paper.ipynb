{
 "cells": [
  {
   "cell_type": "markdown",
   "id": "cd9c1dba",
   "metadata": {
    "toc": true
   },
   "source": [
    "<h1>Table of Contents<span class=\"tocSkip\"></span></h1>\n",
    "<div class=\"toc\"><ul class=\"toc-item\"><li><span><a href=\"#데이터준비\" data-toc-modified-id=\"데이터준비-1\"><span class=\"toc-item-num\">1&nbsp;&nbsp;</span>데이터준비</a></span><ul class=\"toc-item\"><li><span><a href=\"#Resize-images\" data-toc-modified-id=\"Resize-images-1.1\"><span class=\"toc-item-num\">1.1&nbsp;&nbsp;</span>Resize images</a></span></li><li><span><a href=\"#Data-loading-함수작성-load_data()\" data-toc-modified-id=\"Data-loading-함수작성-load_data()-1.2\"><span class=\"toc-item-num\">1.2&nbsp;&nbsp;</span>Data loading 함수작성 load_data()</a></span></li><li><span><a href=\"#Train-Data를-load하여-정규화\" data-toc-modified-id=\"Train-Data를-load하여-정규화-1.3\"><span class=\"toc-item-num\">1.3&nbsp;&nbsp;</span>Train Data를 load하여 정규화</a></span></li></ul></li><li><span><a href=\"#딥러닝-네트워크-설계하기\" data-toc-modified-id=\"딥러닝-네트워크-설계하기-2\"><span class=\"toc-item-num\">2&nbsp;&nbsp;</span>딥러닝 네트워크 설계하기</a></span></li><li><span><a href=\"#모델학습\" data-toc-modified-id=\"모델학습-3\"><span class=\"toc-item-num\">3&nbsp;&nbsp;</span>모델학습</a></span></li><li><span><a href=\"#Test-data로-확인\" data-toc-modified-id=\"Test-data로-확인-4\"><span class=\"toc-item-num\">4&nbsp;&nbsp;</span>Test data로 확인</a></span><ul class=\"toc-item\"><li><span><a href=\"#Resize-the-test-data\" data-toc-modified-id=\"Resize-the-test-data-4.1\"><span class=\"toc-item-num\">4.1&nbsp;&nbsp;</span>Resize the test data</a></span></li><li><span><a href=\"#Test-data-loading\" data-toc-modified-id=\"Test-data-loading-4.2\"><span class=\"toc-item-num\">4.2&nbsp;&nbsp;</span>Test data loading</a></span></li><li><span><a href=\"#정확도-확인\" data-toc-modified-id=\"정확도-확인-4.3\"><span class=\"toc-item-num\">4.3&nbsp;&nbsp;</span>정확도 확인</a></span></li></ul></li><li><span><a href=\"#하이퍼파라미터변경\" data-toc-modified-id=\"하이퍼파라미터변경-5\"><span class=\"toc-item-num\">5&nbsp;&nbsp;</span>하이퍼파라미터변경</a></span></li><li><span><a href=\"#시각화\" data-toc-modified-id=\"시각화-6\"><span class=\"toc-item-num\">6&nbsp;&nbsp;</span>시각화</a></span></li></ul></div>"
   ]
  },
  {
   "cell_type": "markdown",
   "id": "69d4c6c4",
   "metadata": {},
   "source": [
    "# 데이터준비"
   ]
  },
  {
   "cell_type": "code",
   "execution_count": 1,
   "id": "e1f333a7",
   "metadata": {
    "scrolled": false
   },
   "outputs": [
    {
     "name": "stdout",
     "output_type": "stream",
     "text": [
      "2.11.0\n",
      "1.21.5\n",
      "PIL 라이브러리 import 완료\n"
     ]
    }
   ],
   "source": [
    "import tensorflow as tf\n",
    "from tensorflow import keras\n",
    "import pandas as pd\n",
    "\n",
    "import numpy as np\n",
    "import matplotlib.pyplot as plt\n",
    "\n",
    "from PIL import Image\n",
    "import glob\n",
    "import os\n",
    "\n",
    "print(tf.__version__)   # Tensorflow의 버전을 출력\n",
    "print(np.__version__)\n",
    "print(\"PIL 라이브러리 import 완료\")"
   ]
  },
  {
   "cell_type": "code",
   "execution_count": 2,
   "id": "b9ccb093",
   "metadata": {},
   "outputs": [
    {
     "data": {
      "text/plain": [
       "'\\\\Users\\\\z002t5wz'"
      ]
     },
     "execution_count": 2,
     "metadata": {},
     "output_type": "execute_result"
    }
   ],
   "source": [
    "os.environ['homepath']"
   ]
  },
  {
   "cell_type": "markdown",
   "id": "433f2e3a",
   "metadata": {},
   "source": [
    "## Resize images"
   ]
  },
  {
   "cell_type": "code",
   "execution_count": 3,
   "id": "f5ed4d9f",
   "metadata": {},
   "outputs": [
    {
     "name": "stdout",
     "output_type": "stream",
     "text": [
      "2467  images to be resized.\n",
      "2467  images resized.\n",
      "가위 이미지 resize 완료!\n",
      "2504  images to be resized.\n",
      "2504  images resized.\n",
      "바위 이미지 resize 완료!\n",
      "2401  images to be resized.\n",
      "2401  images resized.\n",
      "보 이미지 resize 완료!\n"
     ]
    }
   ],
   "source": [
    "def resize_images(img_path):\n",
    "    images=glob.glob(img_path + \"/*.jpg\")  \n",
    "    \n",
    "    print(len(images), \" images to be resized.\")\n",
    "\n",
    "    # 파일마다 모두 28x28 사이즈로 바꾸어 저장.\n",
    "    target_size=(28,28)\n",
    "    for img in images:\n",
    "        old_img=Image.open(img)\n",
    "        new_img=old_img.resize(target_size,Image.ANTIALIAS)\n",
    "        new_img.save(img, \"JPEG\")\n",
    "    \n",
    "    print(len(images), \" images resized.\")\n",
    "\n",
    "# 가위 이미지가 저장된 디렉토리 아래의 모든 jpg 파일을 읽어들여서\n",
    "image_dir_path = os.getenv('homepath') + '/aiffel/rock_scissor_paper/train/scissor'\n",
    "resize_images(image_dir_path)\n",
    "print(\"가위 이미지 resize 완료!\")\n",
    "\n",
    "image_dir_path = os.getenv('homepath') + '/aiffel/rock_scissor_paper/train/rock'\n",
    "resize_images(image_dir_path)\n",
    "print(\"바위 이미지 resize 완료!\")\n",
    "\n",
    "image_dir_path = os.getenv('homepath') + '/aiffel/rock_scissor_paper/train/paper'\n",
    "resize_images(image_dir_path)\n",
    "print(\"보 이미지 resize 완료!\")\n"
   ]
  },
  {
   "cell_type": "markdown",
   "id": "c7e183b6",
   "metadata": {},
   "source": [
    "## Data loading 함수작성 load_data()"
   ]
  },
  {
   "cell_type": "code",
   "execution_count": 4,
   "id": "a0ced42a",
   "metadata": {},
   "outputs": [],
   "source": [
    "import numpy as np\n",
    "\n",
    "def load_data_train(img_path, number_of_data=7372):  # 가위바위보 이미지 개수 총합에 주의.\n",
    "    # 가위 : 0, 바위 : 1, 보 : 2\n",
    "    img_size=28\n",
    "    color=3\n",
    "    #이미지 데이터와 라벨(가위 : 0, 바위 : 1, 보 : 2) 데이터를 담을 행렬(matrix) 영역을 생성합니다.\n",
    "    imgs=np.zeros(number_of_data*img_size*img_size*color,dtype=np.int32).reshape(number_of_data,img_size,img_size,color)\n",
    "    labels=np.zeros(number_of_data,dtype=np.int32)\n",
    "\n",
    "    idx=0\n",
    "    for file in glob.iglob(img_path+'/scissor/*.jpg'):\n",
    "        img = np.array(Image.open(file),dtype=np.int32)\n",
    "        imgs[idx,:,:,:]=img    # 데이터 영역에 이미지 행렬을 복사\n",
    "        labels[idx]=0   # 가위 : 0\n",
    "        idx=idx+1\n",
    "\n",
    "    for file in glob.iglob(img_path+'/rock/*.jpg'):\n",
    "        img = np.array(Image.open(file),dtype=np.int32)\n",
    "        imgs[idx,:,:,:]=img    # 데이터 영역에 이미지 행렬을 복사\n",
    "        labels[idx]=1   # 바위 : 1\n",
    "        idx=idx+1  \n",
    "    \n",
    "    for file in glob.iglob(img_path+'/paper/*.jpg'):\n",
    "        img = np.array(Image.open(file),dtype=np.int32)\n",
    "        imgs[idx,:,:,:]=img    # 데이터 영역에 이미지 행렬을 복사\n",
    "        labels[idx]=2   # 보 : 2\n",
    "        idx=idx+1\n",
    "        \n",
    "    print(\"학습데이터(x_train)의 이미지 개수는\", idx,\"입니다.\")\n",
    "    return imgs, labels\n"
   ]
  },
  {
   "cell_type": "markdown",
   "id": "5c7259be",
   "metadata": {},
   "source": [
    "## Train Data를 load하여 정규화"
   ]
  },
  {
   "cell_type": "code",
   "execution_count": 5,
   "id": "dcba2a20",
   "metadata": {},
   "outputs": [
    {
     "name": "stdout",
     "output_type": "stream",
     "text": [
      "학습데이터(x_train)의 이미지 개수는 7372 입니다.\n",
      "x_train_norm shape: (7372, 28, 28, 3)\n",
      "y_train shape: (7372,)\n"
     ]
    }
   ],
   "source": [
    "# load_data_train()으로부터 데이터를 불러와 x_train(imgs), y_train(lables)에 할당\n",
    "image_dir_path = os.getenv(\"homepath\") + \"/aiffel/rock_scissor_paper/train\"\n",
    "(x_train, y_train)=load_data_train(image_dir_path)\n",
    "x_train_norm = x_train/255.0   # 입력은 0~1 사이의 값으로 정규화\n",
    "\n",
    "print(\"x_train_norm shape: {}\".format(x_train_norm.shape))\n",
    "print(\"y_train shape: {}\".format(y_train.shape))"
   ]
  },
  {
   "cell_type": "code",
   "execution_count": 6,
   "id": "75e30030",
   "metadata": {},
   "outputs": [
    {
     "name": "stderr",
     "output_type": "stream",
     "text": [
      "findfont: Font family ['NanumGothic'] not found. Falling back to DejaVu Sans.\n"
     ]
    },
    {
     "name": "stdout",
     "output_type": "stream",
     "text": [
      "라벨:  0\n"
     ]
    },
    {
     "data": {
      "image/png": "[encoded data removed]",
      "text/plain": [
       "<Figure size 432x288 with 1 Axes>"
      ]
     },
     "metadata": {
      "needs_background": "light"
     },
     "output_type": "display_data"
    }
   ],
   "source": [
    "plt.imshow(x_train_norm[0])\n",
    "print('라벨: ', y_train[0])"
   ]
  },
  {
   "cell_type": "markdown",
   "id": "d302d7f2",
   "metadata": {},
   "source": [
    "# 딥러닝 네트워크 설계하기"
   ]
  },
  {
   "cell_type": "code",
   "execution_count": 7,
   "id": "03520f3a",
   "metadata": {},
   "outputs": [
    {
     "name": "stdout",
     "output_type": "stream",
     "text": [
      "Model에 추가된 Layer 개수:  7\n",
      "Model: \"sequential\"\n",
      "_________________________________________________________________\n",
      " Layer (type)                Output Shape              Param #   \n",
      "=================================================================\n",
      " conv2d (Conv2D)             (None, 26, 26, 16)        448       \n",
      "                                                                 \n",
      " max_pooling2d (MaxPooling2D  (None, 13, 13, 16)       0         \n",
      " )                                                               \n",
      "                                                                 \n",
      " conv2d_1 (Conv2D)           (None, 11, 11, 32)        4640      \n",
      "                                                                 \n",
      " max_pooling2d_1 (MaxPooling  (None, 5, 5, 32)         0         \n",
      " 2D)                                                             \n",
      "                                                                 \n",
      " flatten (Flatten)           (None, 800)               0         \n",
      "                                                                 \n",
      " dense (Dense)               (None, 32)                25632     \n",
      "                                                                 \n",
      " dense_1 (Dense)             (None, 3)                 99        \n",
      "                                                                 \n",
      "=================================================================\n",
      "Total params: 30,819\n",
      "Trainable params: 30,819\n",
      "Non-trainable params: 0\n",
      "_________________________________________________________________\n",
      "(7372, 28, 28, 3)\n",
      "(7372,)\n"
     ]
    }
   ],
   "source": [
    "import tensorflow as tf\n",
    "from tensorflow import keras\n",
    "import numpy as np\n",
    "\n",
    "\n",
    "# 입력부(28, 28, 3:'rgb')\n",
    "# 출력부(3)\n",
    "model=keras.models.Sequential()\n",
    "model.add(keras.layers.Conv2D(16, (3,3), activation='relu', input_shape=(28,28,3)))   # 1st, 입력부(28, 28, 3:'rgb')\n",
    "model.add(keras.layers.MaxPool2D(2,2))                                                         # 2nd\n",
    "model.add(keras.layers.Conv2D(32, (3,3), activation='relu'))                                 # 3rd\n",
    "model.add(keras.layers.MaxPooling2D((2,2)))                                                   # 4th\n",
    "model.add(keras.layers.Flatten())                                                                  # 5th\n",
    "model.add(keras.layers.Dense(32, activation='relu'))                                          # 6th\n",
    "model.add(keras.layers.Dense(3, activation='softmax'))                                      # 7th, 출력부(3)\n",
    "\n",
    "print('Model에 추가된 Layer 개수: ', len(model.layers))\n",
    "model.summary()\n",
    "print(x_train_norm.shape)\n",
    "print(y_train.shape)\n",
    "\n"
   ]
  },
  {
   "cell_type": "markdown",
   "id": "290ee5cc",
   "metadata": {},
   "source": [
    "# 모델학습"
   ]
  },
  {
   "cell_type": "code",
   "execution_count": 8,
   "id": "63839da7",
   "metadata": {},
   "outputs": [
    {
     "name": "stdout",
     "output_type": "stream",
     "text": [
      "Epoch 1/10\n",
      "231/231 [==============================] - 2s 7ms/step - loss: 0.9481 - accuracy: 0.5319\n",
      "Epoch 2/10\n",
      "231/231 [==============================] - 1s 6ms/step - loss: 0.5820 - accuracy: 0.7636\n",
      "Epoch 3/10\n",
      "231/231 [==============================] - 2s 7ms/step - loss: 0.4104 - accuracy: 0.8386\n",
      "Epoch 4/10\n",
      "231/231 [==============================] - 1s 6ms/step - loss: 0.3022 - accuracy: 0.8791\n",
      "Epoch 5/10\n",
      "231/231 [==============================] - 2s 7ms/step - loss: 0.2373 - accuracy: 0.9116\n",
      "Epoch 6/10\n",
      "231/231 [==============================] - 1s 6ms/step - loss: 0.1754 - accuracy: 0.9371\n",
      "Epoch 7/10\n",
      "231/231 [==============================] - 2s 7ms/step - loss: 0.1440 - accuracy: 0.9497\n",
      "Epoch 8/10\n",
      "231/231 [==============================] - 2s 7ms/step - loss: 0.1106 - accuracy: 0.9607\n",
      "Epoch 9/10\n",
      "231/231 [==============================] - 2s 7ms/step - loss: 0.0986 - accuracy: 0.9641\n",
      "Epoch 10/10\n",
      "231/231 [==============================] - 1s 6ms/step - loss: 0.0774 - accuracy: 0.9710\n"
     ]
    }
   ],
   "source": [
    "# model을 학습\n",
    "# model.compile() - 학습의 환경설정 / model.fit() - 학습\n",
    "model.compile(optimizer='adam',\n",
    "             loss='sparse_categorical_crossentropy',\n",
    "             metrics=['accuracy']) # 분류에서는 accuracy, 회귀에서는 mse, rmse, r2, mae, mspe, mape, msle \n",
    "\n",
    "history = model.fit(x_train_norm, y_train, epochs=10)"
   ]
  },
  {
   "cell_type": "code",
   "execution_count": 9,
   "id": "ac5ba090",
   "metadata": {},
   "outputs": [
    {
     "data": {
      "text/plain": [
       "{'loss': [0.9480701684951782,\n",
       "  0.581983745098114,\n",
       "  0.41035783290863037,\n",
       "  0.30224940180778503,\n",
       "  0.23726259171962738,\n",
       "  0.17535364627838135,\n",
       "  0.1439920961856842,\n",
       "  0.11055662482976913,\n",
       "  0.09858005493879318,\n",
       "  0.07736556977033615],\n",
       " 'accuracy': [0.5318773984909058,\n",
       "  0.7635648250579834,\n",
       "  0.8385784029960632,\n",
       "  0.8791372776031494,\n",
       "  0.9115572571754456,\n",
       "  0.9370591640472412,\n",
       "  0.9496744275093079,\n",
       "  0.9606619477272034,\n",
       "  0.9640531539916992,\n",
       "  0.9709712266921997]}"
      ]
     },
     "execution_count": 9,
     "metadata": {},
     "output_type": "execute_result"
    }
   ],
   "source": [
    "history.history"
   ]
  },
  {
   "cell_type": "markdown",
   "id": "90632db7",
   "metadata": {},
   "source": [
    "# Test data로 확인"
   ]
  },
  {
   "cell_type": "markdown",
   "id": "61376a78",
   "metadata": {},
   "source": [
    "## Resize the test data"
   ]
  },
  {
   "cell_type": "code",
   "execution_count": 10,
   "id": "87ebf3c9",
   "metadata": {
    "scrolled": true
   },
   "outputs": [
    {
     "name": "stdout",
     "output_type": "stream",
     "text": [
      "100  images to be resized.\n",
      "100  images resized.\n",
      "100  images to be resized.\n",
      "100  images resized.\n",
      "100  images to be resized.\n",
      "100  images resized.\n"
     ]
    }
   ],
   "source": [
    "# x_test, y_test 데이터 가져오기\n",
    "\n",
    "image_dir_path = os.getenv(\"homepath\") + \"/aiffel/rock_scissor_paper/test/paper\"\n",
    "resize_images(image_dir_path)\n",
    "image_dir_path = os.getenv(\"homepath\") + \"/aiffel/rock_scissor_paper/test/rock\"\n",
    "resize_images(image_dir_path)\n",
    "image_dir_path = os.getenv(\"homepath\") + \"/aiffel/rock_scissor_paper/test/scissor\"\n",
    "resize_images(image_dir_path)\n",
    "\n"
   ]
  },
  {
   "cell_type": "markdown",
   "id": "e000aa0a",
   "metadata": {},
   "source": [
    "## Test data loading"
   ]
  },
  {
   "cell_type": "code",
   "execution_count": 11,
   "id": "ecbd31ca",
   "metadata": {},
   "outputs": [
    {
     "name": "stdout",
     "output_type": "stream",
     "text": [
      "학습데이터(x_test)의 이미지 개수는 300 입니다.\n",
      "(300, 28, 28, 3)\n",
      "(300,)\n"
     ]
    }
   ],
   "source": [
    "def load_data_test(img_path, number_of_data=300):  # 가위바위보 이미지 개수 총합에 주의\n",
    "    # 가위 : 0, 바위 : 1, 보 : 2\n",
    "    img_size=28\n",
    "    color=3\n",
    "    #이미지 데이터와 라벨(가위 : 0, 바위 : 1, 보 : 2) 데이터를 담을 행렬(matrix) 영역을 생성합니다.\n",
    "    imgs=np.zeros(number_of_data*img_size*img_size*color,dtype=np.int32).reshape(number_of_data,img_size,img_size,color)\n",
    "    labels=np.zeros(number_of_data,dtype=np.int32)\n",
    "\n",
    "    idx=0\n",
    "    for file in glob.iglob(img_path+'/scissor/*.jpg'):\n",
    "        img = np.array(Image.open(file),dtype=np.int32)\n",
    "        imgs[idx,:,:,:]=img    # 데이터 영역에 이미지 행렬을 복사\n",
    "        labels[idx]=0   # 가위 : 0\n",
    "        idx=idx+1\n",
    "\n",
    "    for file in glob.iglob(img_path+'/rock/*.jpg'):\n",
    "        img = np.array(Image.open(file),dtype=np.int32)\n",
    "        imgs[idx,:,:,:]=img    # 데이터 영역에 이미지 행렬을 복사\n",
    "        labels[idx]=1   # 바위 : 1\n",
    "        idx=idx+1  \n",
    "    \n",
    "    for file in glob.iglob(img_path+'/paper/*.jpg'):\n",
    "        img = np.array(Image.open(file),dtype=np.int32)\n",
    "        imgs[idx,:,:,:]=img    # 데이터 영역에 이미지 행렬을 복사\n",
    "        labels[idx]=2   # 보 : 2\n",
    "        idx=idx+1\n",
    "        \n",
    "    print(\"학습데이터(x_test)의 이미지 개수는\", idx,\"입니다.\")\n",
    "    return imgs, labels\n",
    "\n",
    "image_dir_path = os.getenv(\"homepath\") + \"/aiffel/rock_scissor_paper/test\"\n",
    "(x_test, y_test)=load_data_test(image_dir_path)\n",
    "\n",
    "print(x_test.shape)\n",
    "print(y_test.shape)\n",
    "x_test_norm = x_test/255.0   # 입력은 0~1 사이의 값으로 정규화"
   ]
  },
  {
   "cell_type": "code",
   "execution_count": 12,
   "id": "391d1c15",
   "metadata": {
    "scrolled": true
   },
   "outputs": [
    {
     "name": "stdout",
     "output_type": "stream",
     "text": [
      "라벨:  0\n"
     ]
    },
    {
     "data": {
      "image/png": "[encoded data removed]",
      "text/plain": [
       "<Figure size 432x288 with 1 Axes>"
      ]
     },
     "metadata": {
      "needs_background": "light"
     },
     "output_type": "display_data"
    }
   ],
   "source": [
    "plt.imshow(x_train_norm[150])\n",
    "print('라벨: ', y_train[150])"
   ]
  },
  {
   "cell_type": "markdown",
   "id": "8d1f9ccb",
   "metadata": {},
   "source": [
    "## 정확도 확인"
   ]
  },
  {
   "cell_type": "code",
   "execution_count": 13,
   "id": "8821e006",
   "metadata": {},
   "outputs": [
    {
     "name": "stdout",
     "output_type": "stream",
     "text": [
      "10/10 [==============================] - 0s 3ms/step - loss: 3.0689 - accuracy: 0.4333\n",
      "test_loss: 3.068885326385498 \n",
      "test_accuracy: 0.4333333373069763\n"
     ]
    }
   ],
   "source": [
    "test_loss, test_accuracy = model.evaluate(x_test_norm, y_test, verbose=1)\n",
    "print(f\"test_loss: {test_loss} \")\n",
    "print(f\"test_accuracy: {test_accuracy}\")"
   ]
  },
  {
   "cell_type": "markdown",
   "id": "0f24effa",
   "metadata": {},
   "source": [
    "# 하이퍼파라미터변경"
   ]
  },
  {
   "cell_type": "code",
   "execution_count": 15,
   "id": "13fc83da",
   "metadata": {
    "scrolled": false
   },
   "outputs": [
    {
     "name": "stdout",
     "output_type": "stream",
     "text": [
      "Model: \"sequential_1\"\n",
      "_________________________________________________________________\n",
      " Layer (type)                Output Shape              Param #   \n",
      "=================================================================\n",
      " conv2d_2 (Conv2D)           (None, 26, 26, 32)        896       \n",
      "                                                                 \n",
      " max_pooling2d_2 (MaxPooling  (None, 13, 13, 32)       0         \n",
      " 2D)                                                             \n",
      "                                                                 \n",
      " conv2d_3 (Conv2D)           (None, 11, 11, 32)        9248      \n",
      "                                                                 \n",
      " max_pooling2d_3 (MaxPooling  (None, 5, 5, 32)         0         \n",
      " 2D)                                                             \n",
      "                                                                 \n",
      " flatten_1 (Flatten)         (None, 800)               0         \n",
      "                                                                 \n",
      " dense_2 (Dense)             (None, 32)                25632     \n",
      "                                                                 \n",
      " dense_3 (Dense)             (None, 3)                 99        \n",
      "                                                                 \n",
      "=================================================================\n",
      "Total params: 35,875\n",
      "Trainable params: 35,875\n",
      "Non-trainable params: 0\n",
      "_________________________________________________________________\n",
      "Epoch 1/7\n",
      "10/10 [==============================] - 1s 9ms/step - loss: 1.0043 - accuracy: 0.5633\n",
      "Epoch 2/7\n",
      "10/10 [==============================] - 0s 9ms/step - loss: 0.6757 - accuracy: 0.8533\n",
      "Epoch 3/7\n",
      "10/10 [==============================] - 0s 9ms/step - loss: 0.3232 - accuracy: 0.9633\n",
      "Epoch 4/7\n",
      "10/10 [==============================] - 0s 9ms/step - loss: 0.1343 - accuracy: 0.9800\n",
      "Epoch 5/7\n",
      "10/10 [==============================] - 0s 11ms/step - loss: 0.0686 - accuracy: 0.9800\n",
      "Epoch 6/7\n",
      "10/10 [==============================] - 0s 11ms/step - loss: 0.0554 - accuracy: 0.9933\n",
      "Epoch 7/7\n",
      "10/10 [==============================] - 0s 10ms/step - loss: 0.0337 - accuracy: 0.9967\n"
     ]
    }
   ],
   "source": [
    "# 바꿔 볼 수 있는 하이퍼파라미터들\n",
    "n_channel_1=32\n",
    "n_channel_2=32\n",
    "n_dense=32\n",
    "n_test_epoch=7\n",
    "\n",
    "model=keras.models.Sequential()\n",
    "model.add(keras.layers.Conv2D(n_channel_1, (3,3), activation='relu', input_shape=(28,28,3)))\n",
    "model.add(keras.layers.MaxPool2D(2,2))\n",
    "# model.add(keras.layers.Dropout(0.3))\n",
    "model.add(keras.layers.Conv2D(n_channel_2, (3,3), activation='relu'))\n",
    "model.add(keras.layers.MaxPooling2D((2,2)))\n",
    "#model.add(keras.layers.Dropout(0.3))\n",
    "model.add(keras.layers.Flatten())\n",
    "model.add(keras.layers.Dense(n_dense, activation='relu'))\n",
    "model.add(keras.layers.Dense(3, activation='softmax'))\n",
    "\n",
    "model.summary()\n",
    "model.compile(optimizer='adam',\n",
    "             loss='sparse_categorical_crossentropy',\n",
    "             metrics=['accuracy'])\n",
    "\n",
    "# 모델 훈련\n",
    "hiper_history = model.fit(x_test_norm, y_test, \n",
    "                  epochs=n_test_epoch, \n",
    "                  verbose=1\n",
    "                 )"
   ]
  },
  {
   "cell_type": "code",
   "execution_count": 20,
   "id": "dc493c69",
   "metadata": {},
   "outputs": [
    {
     "data": {
      "text/plain": [
       "{'loss': [1.004341959953308,\n",
       "  0.6757344007492065,\n",
       "  0.32319384813308716,\n",
       "  0.13430020213127136,\n",
       "  0.06858076900243759,\n",
       "  0.05543602630496025,\n",
       "  0.03372802957892418],\n",
       " 'accuracy': [0.5633333325386047,\n",
       "  0.8533333539962769,\n",
       "  0.9633333086967468,\n",
       "  0.9800000190734863,\n",
       "  0.9800000190734863,\n",
       "  0.9933333396911621,\n",
       "  0.996666669845581]}"
      ]
     },
     "execution_count": 20,
     "metadata": {},
     "output_type": "execute_result"
    }
   ],
   "source": [
    "hiper_history.history"
   ]
  },
  {
   "cell_type": "code",
   "execution_count": 19,
   "id": "e719460a",
   "metadata": {},
   "outputs": [
    {
     "name": "stdout",
     "output_type": "stream",
     "text": [
      "10/10 [==============================] - 0s 3ms/step - loss: 0.0196 - accuracy: 0.9967\n",
      "test_loss: 0.019603051245212555 \n",
      "test_accuracy: 0.996666669845581\n"
     ]
    }
   ],
   "source": [
    "# 모델 시험\n",
    "test_loss, test_accuracy = model.evaluate(x_test_norm, y_test, verbose=1)\n",
    "print(f\"test_loss: {test_loss} \")\n",
    "print(f\"test_accuracy: {test_accuracy}\")"
   ]
  },
  {
   "cell_type": "markdown",
   "id": "65fa847a",
   "metadata": {},
   "source": [
    "# 시각화"
   ]
  },
  {
   "cell_type": "code",
   "execution_count": 17,
   "id": "6c265d1f",
   "metadata": {},
   "outputs": [
    {
     "name": "stderr",
     "output_type": "stream",
     "text": [
      "findfont: Font family ['NanumGothic'] not found. Falling back to DejaVu Sans.\n"
     ]
    },
    {
     "data": {
      "image/png": "[encoded data removed]",
      "text/plain": [
       "<Figure size 936x504 with 2 Axes>"
      ]
     },
     "metadata": {
      "needs_background": "light"
     },
     "output_type": "display_data"
    }
   ],
   "source": [
    "# 훈련 과정 시각화 (정확도)\n",
    "fig = plt.figure(figsize=(13, 7))\n",
    "plt.subplot(1,2,1)\n",
    "plt.plot(history.history['accuracy'])\n",
    "plt.plot(hiper_history.history['accuracy'])\n",
    "plt.title('Model accuracy')\n",
    "plt.xlabel('Epoch')\n",
    "plt.ylabel('Accuracy')\n",
    "plt.legend(['Train', 'Hiper'], loc='lower right')\n",
    "#plt.show()\n",
    "\n",
    "# 훈련 과정 시각화 (손실)\n",
    "plt.subplot(1,2,2)\n",
    "plt.plot(history.history['loss'])\n",
    "plt.plot(hiper_history.history['loss'])\n",
    "plt.title('Model loss')\n",
    "plt.xlabel('Epoch')\n",
    "plt.ylabel('loss')\n",
    "plt.legend(['Train', 'Hiper'], loc='upper right')\n",
    "plt.show()\n"
   ]
  },
  {
   "cell_type": "markdown",
   "id": "96ef9973",
   "metadata": {},
   "source": [
    "###### 회고\n",
    "\n",
    "        1st step: \n",
    "        training set 300 --> 7372개 후 정확도 33% --> 43% 증가      \n",
    "\n",
    "        2nd step: \n",
    "        하이퍼 파라미터 변경 후 99% 로 증가\n",
    "        - n_channel_1=32\n",
    "        \n",
    "        하이퍼파라미터 모델의 학습속도향상\n",
    "        \n",
    "        의문: 정확도가 너무 높아... 무언가 잘못된게 아닌가 의심스러움.. 하이퍼파라미터를 변경하지 않고 모델을 다시 수행했을때에도\n",
    "        정확도가 올라갔음....이유가 뭘까????"
   ]
  },
  {
   "cell_type": "code",
   "execution_count": null,
   "id": "9c363a97",
   "metadata": {},
   "outputs": [],
   "source": []
  },
  {
   "cell_type": "code",
   "execution_count": null,
   "id": "5f890f23",
   "metadata": {},
   "outputs": [],
   "source": []
  }
 ],
 "metadata": {
  "hide_input": false,
  "kernelspec": {
   "display_name": "Python 3 (ipykernel)",
   "language": "python",
   "name": "python3"
  },
  "language_info": {
   "codemirror_mode": {
    "name": "ipython",
    "version": 3
   },
   "file_extension": ".py",
   "mimetype": "text/x-python",
   "name": "python",
   "nbconvert_exporter": "python",
   "pygments_lexer": "ipython3",
   "version": "3.9.12"
  },
  "toc": {
   "base_numbering": 1,
   "nav_menu": {},
   "number_sections": true,
   "sideBar": true,
   "skip_h1_title": false,
   "title_cell": "Table of Contents",
   "title_sidebar": "Contents",
   "toc_cell": true,
   "toc_position": {
    "height": "calc(100% - 180px)",
    "left": "10px",
    "top": "150px",
    "width": "241.009px"
   },
   "toc_section_display": true,
   "toc_window_display": true
  },
  "varInspector": {
   "cols": {
    "lenName": 16,
    "lenType": 16,
    "lenVar": 40
   },
   "kernels_config": {
    "python": {
     "delete_cmd_postfix": "",
     "delete_cmd_prefix": "del ",
     "library": "var_list.py",
     "varRefreshCmd": "print(var_dic_list())"
    },
    "r": {
     "delete_cmd_postfix": ") ",
     "delete_cmd_prefix": "rm(",
     "library": "var_list.r",
     "varRefreshCmd": "cat(var_dic_list()) "
    }
   },
   "position": {
    "height": "735.844px",
    "left": "1068px",
    "right": "20px",
    "top": "121px",
    "width": "345px"
   },
   "types_to_exclude": [
    "module",
    "function",
    "builtin_function_or_method",
    "instance",
    "_Feature"
   ],
   "window_display": false
  }
 },
 "nbformat": 4,
 "nbformat_minor": 5
}
